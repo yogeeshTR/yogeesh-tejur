{
  "nbformat": 4,
  "nbformat_minor": 0,
  "metadata": {
    "colab": {
      "name": "Copy of US_Accidents EDA.ipynb",
      "provenance": [],
      "authorship_tag": "ABX9TyPc6oKFN9wgzZa+PXPsLAoR",
      "include_colab_link": true
    },
    "kernelspec": {
      "name": "python3",
      "display_name": "Python 3"
    },
    "language_info": {
      "name": "python"
    },
    "accelerator": "GPU"
  },
  "cells": [
    {
      "cell_type": "markdown",
      "metadata": {
        "id": "view-in-github",
        "colab_type": "text"
      },
      "source": [
        "<a href=\"https://colab.research.google.com/github/yogeeshTR/yogeesh-tejur/blob/master/Copy_of_US_Accidents_EDA.ipynb\" target=\"_parent\"><img src=\"https://colab.research.google.com/assets/colab-badge.svg\" alt=\"Open In Colab\"/></a>"
      ]
    },
    {
      "cell_type": "code",
      "metadata": {
        "id": "oGlc2TUgCdum"
      },
      "source": [
        ""
      ],
      "execution_count": null,
      "outputs": []
    },
    {
      "cell_type": "code",
      "metadata": {
        "id": "uCfe1_uqSJAb"
      },
      "source": [
        "pip install opendatasets --upgrade --quiet"
      ],
      "execution_count": null,
      "outputs": []
    },
    {
      "cell_type": "code",
      "metadata": {
        "colab": {
          "base_uri": "https://localhost:8080/"
        },
        "id": "-10av3VLSUd8",
        "outputId": "a99908c2-1c84-4b49-dda6-fa4cee4f6845"
      },
      "source": [
        "import opendatasets as od\n",
        "\n",
        "dataset_url = 'https://www.kaggle.com/sobhanmoosavi/us-accidents'\n",
        "od.download(dataset_url)"
      ],
      "execution_count": null,
      "outputs": [
        {
          "output_type": "stream",
          "text": [
            "Please provide your Kaggle credentials to download this dataset. Learn more: http://bit.ly/kaggle-creds\n",
            "Your Kaggle username: yogeeshtr\n",
            "Your Kaggle Key: ··········\n"
          ],
          "name": "stdout"
        },
        {
          "output_type": "stream",
          "text": [
            "\r  0%|          | 0.00/299M [00:00<?, ?B/s]"
          ],
          "name": "stderr"
        },
        {
          "output_type": "stream",
          "text": [
            "Downloading us-accidents.zip to ./us-accidents\n"
          ],
          "name": "stdout"
        },
        {
          "output_type": "stream",
          "text": [
            "100%|██████████| 299M/299M [00:10<00:00, 31.4MB/s]\n"
          ],
          "name": "stderr"
        },
        {
          "output_type": "stream",
          "text": [
            "\n"
          ],
          "name": "stdout"
        }
      ]
    },
    {
      "cell_type": "code",
      "metadata": {
        "id": "OLKvVMwTSxCY"
      },
      "source": [
        "data_filename='/content/us-accidents/US_Accidents_Dec20.csv'"
      ],
      "execution_count": null,
      "outputs": []
    },
    {
      "cell_type": "markdown",
      "metadata": {
        "id": "opRxE6m-YPp_"
      },
      "source": [
        "##Data Preparation and cleaning\n",
        "1.load the data set file using pandas.\n",
        "2.looking at some information about the data and the columns\n",
        "3.Fix any missing or incorrect values"
      ]
    },
    {
      "cell_type": "code",
      "metadata": {
        "id": "PjgxdiMvYob0"
      },
      "source": [
        "import pandas as pd\n"
      ],
      "execution_count": null,
      "outputs": []
    },
    {
      "cell_type": "code",
      "metadata": {
        "id": "unyPC-8BYttY"
      },
      "source": [
        "df=pd.read_csv(data_filename)"
      ],
      "execution_count": null,
      "outputs": []
    },
    {
      "cell_type": "code",
      "metadata": {
        "colab": {
          "base_uri": "https://localhost:8080/",
          "height": 332
        },
        "id": "eaoJHHNLY32A",
        "outputId": "3f08ff62-61ad-48a8-cb9c-522fc234babd"
      },
      "source": [
        "df.head(3)"
      ],
      "execution_count": null,
      "outputs": [
        {
          "output_type": "execute_result",
          "data": {
            "text/html": [
              "<div>\n",
              "<style scoped>\n",
              "    .dataframe tbody tr th:only-of-type {\n",
              "        vertical-align: middle;\n",
              "    }\n",
              "\n",
              "    .dataframe tbody tr th {\n",
              "        vertical-align: top;\n",
              "    }\n",
              "\n",
              "    .dataframe thead th {\n",
              "        text-align: right;\n",
              "    }\n",
              "</style>\n",
              "<table border=\"1\" class=\"dataframe\">\n",
              "  <thead>\n",
              "    <tr style=\"text-align: right;\">\n",
              "      <th></th>\n",
              "      <th>ID</th>\n",
              "      <th>Source</th>\n",
              "      <th>TMC</th>\n",
              "      <th>Severity</th>\n",
              "      <th>Start_Time</th>\n",
              "      <th>End_Time</th>\n",
              "      <th>Start_Lat</th>\n",
              "      <th>Start_Lng</th>\n",
              "      <th>End_Lat</th>\n",
              "      <th>End_Lng</th>\n",
              "      <th>Distance(mi)</th>\n",
              "      <th>Description</th>\n",
              "      <th>Number</th>\n",
              "      <th>Street</th>\n",
              "      <th>Side</th>\n",
              "      <th>City</th>\n",
              "      <th>County</th>\n",
              "      <th>State</th>\n",
              "      <th>Zipcode</th>\n",
              "      <th>Country</th>\n",
              "      <th>Timezone</th>\n",
              "      <th>Airport_Code</th>\n",
              "      <th>Weather_Timestamp</th>\n",
              "      <th>Temperature(F)</th>\n",
              "      <th>Wind_Chill(F)</th>\n",
              "      <th>Humidity(%)</th>\n",
              "      <th>Pressure(in)</th>\n",
              "      <th>Visibility(mi)</th>\n",
              "      <th>Wind_Direction</th>\n",
              "      <th>Wind_Speed(mph)</th>\n",
              "      <th>Precipitation(in)</th>\n",
              "      <th>Weather_Condition</th>\n",
              "      <th>Amenity</th>\n",
              "      <th>Bump</th>\n",
              "      <th>Crossing</th>\n",
              "      <th>Give_Way</th>\n",
              "      <th>Junction</th>\n",
              "      <th>No_Exit</th>\n",
              "      <th>Railway</th>\n",
              "      <th>Roundabout</th>\n",
              "      <th>Station</th>\n",
              "      <th>Stop</th>\n",
              "      <th>Traffic_Calming</th>\n",
              "      <th>Traffic_Signal</th>\n",
              "      <th>Turning_Loop</th>\n",
              "      <th>Sunrise_Sunset</th>\n",
              "      <th>Civil_Twilight</th>\n",
              "      <th>Nautical_Twilight</th>\n",
              "      <th>Astronomical_Twilight</th>\n",
              "    </tr>\n",
              "  </thead>\n",
              "  <tbody>\n",
              "    <tr>\n",
              "      <th>0</th>\n",
              "      <td>A-1</td>\n",
              "      <td>MapQuest</td>\n",
              "      <td>201.0</td>\n",
              "      <td>3</td>\n",
              "      <td>2016-02-08 05:46:00</td>\n",
              "      <td>2016-02-08 11:00:00</td>\n",
              "      <td>39.865147</td>\n",
              "      <td>-84.058723</td>\n",
              "      <td>NaN</td>\n",
              "      <td>NaN</td>\n",
              "      <td>0.01</td>\n",
              "      <td>Right lane blocked due to accident on I-70 Eas...</td>\n",
              "      <td>NaN</td>\n",
              "      <td>I-70 E</td>\n",
              "      <td>R</td>\n",
              "      <td>Dayton</td>\n",
              "      <td>Montgomery</td>\n",
              "      <td>OH</td>\n",
              "      <td>45424</td>\n",
              "      <td>US</td>\n",
              "      <td>US/Eastern</td>\n",
              "      <td>KFFO</td>\n",
              "      <td>2016-02-08 05:58:00</td>\n",
              "      <td>36.9</td>\n",
              "      <td>NaN</td>\n",
              "      <td>91.0</td>\n",
              "      <td>29.68</td>\n",
              "      <td>10.0</td>\n",
              "      <td>Calm</td>\n",
              "      <td>NaN</td>\n",
              "      <td>0.02</td>\n",
              "      <td>Light Rain</td>\n",
              "      <td>False</td>\n",
              "      <td>False</td>\n",
              "      <td>False</td>\n",
              "      <td>False</td>\n",
              "      <td>False</td>\n",
              "      <td>False</td>\n",
              "      <td>False</td>\n",
              "      <td>False</td>\n",
              "      <td>False</td>\n",
              "      <td>False</td>\n",
              "      <td>False</td>\n",
              "      <td>False</td>\n",
              "      <td>False</td>\n",
              "      <td>Night</td>\n",
              "      <td>Night</td>\n",
              "      <td>Night</td>\n",
              "      <td>Night</td>\n",
              "    </tr>\n",
              "    <tr>\n",
              "      <th>1</th>\n",
              "      <td>A-2</td>\n",
              "      <td>MapQuest</td>\n",
              "      <td>201.0</td>\n",
              "      <td>2</td>\n",
              "      <td>2016-02-08 06:07:59</td>\n",
              "      <td>2016-02-08 06:37:59</td>\n",
              "      <td>39.928059</td>\n",
              "      <td>-82.831184</td>\n",
              "      <td>NaN</td>\n",
              "      <td>NaN</td>\n",
              "      <td>0.01</td>\n",
              "      <td>Accident on Brice Rd at Tussing Rd. Expect del...</td>\n",
              "      <td>2584.0</td>\n",
              "      <td>Brice Rd</td>\n",
              "      <td>L</td>\n",
              "      <td>Reynoldsburg</td>\n",
              "      <td>Franklin</td>\n",
              "      <td>OH</td>\n",
              "      <td>43068-3402</td>\n",
              "      <td>US</td>\n",
              "      <td>US/Eastern</td>\n",
              "      <td>KCMH</td>\n",
              "      <td>2016-02-08 05:51:00</td>\n",
              "      <td>37.9</td>\n",
              "      <td>NaN</td>\n",
              "      <td>100.0</td>\n",
              "      <td>29.65</td>\n",
              "      <td>10.0</td>\n",
              "      <td>Calm</td>\n",
              "      <td>NaN</td>\n",
              "      <td>0.00</td>\n",
              "      <td>Light Rain</td>\n",
              "      <td>False</td>\n",
              "      <td>False</td>\n",
              "      <td>False</td>\n",
              "      <td>False</td>\n",
              "      <td>False</td>\n",
              "      <td>False</td>\n",
              "      <td>False</td>\n",
              "      <td>False</td>\n",
              "      <td>False</td>\n",
              "      <td>False</td>\n",
              "      <td>False</td>\n",
              "      <td>False</td>\n",
              "      <td>False</td>\n",
              "      <td>Night</td>\n",
              "      <td>Night</td>\n",
              "      <td>Night</td>\n",
              "      <td>Day</td>\n",
              "    </tr>\n",
              "    <tr>\n",
              "      <th>2</th>\n",
              "      <td>A-3</td>\n",
              "      <td>MapQuest</td>\n",
              "      <td>201.0</td>\n",
              "      <td>2</td>\n",
              "      <td>2016-02-08 06:49:27</td>\n",
              "      <td>2016-02-08 07:19:27</td>\n",
              "      <td>39.063148</td>\n",
              "      <td>-84.032608</td>\n",
              "      <td>NaN</td>\n",
              "      <td>NaN</td>\n",
              "      <td>0.01</td>\n",
              "      <td>Accident on OH-32 State Route 32 Westbound at ...</td>\n",
              "      <td>NaN</td>\n",
              "      <td>State Route 32</td>\n",
              "      <td>R</td>\n",
              "      <td>Williamsburg</td>\n",
              "      <td>Clermont</td>\n",
              "      <td>OH</td>\n",
              "      <td>45176</td>\n",
              "      <td>US</td>\n",
              "      <td>US/Eastern</td>\n",
              "      <td>KI69</td>\n",
              "      <td>2016-02-08 06:56:00</td>\n",
              "      <td>36.0</td>\n",
              "      <td>33.3</td>\n",
              "      <td>100.0</td>\n",
              "      <td>29.67</td>\n",
              "      <td>10.0</td>\n",
              "      <td>SW</td>\n",
              "      <td>3.5</td>\n",
              "      <td>NaN</td>\n",
              "      <td>Overcast</td>\n",
              "      <td>False</td>\n",
              "      <td>False</td>\n",
              "      <td>False</td>\n",
              "      <td>False</td>\n",
              "      <td>False</td>\n",
              "      <td>False</td>\n",
              "      <td>False</td>\n",
              "      <td>False</td>\n",
              "      <td>False</td>\n",
              "      <td>False</td>\n",
              "      <td>False</td>\n",
              "      <td>True</td>\n",
              "      <td>False</td>\n",
              "      <td>Night</td>\n",
              "      <td>Night</td>\n",
              "      <td>Day</td>\n",
              "      <td>Day</td>\n",
              "    </tr>\n",
              "  </tbody>\n",
              "</table>\n",
              "</div>"
            ],
            "text/plain": [
              "    ID    Source    TMC  ...  Civil_Twilight Nautical_Twilight Astronomical_Twilight\n",
              "0  A-1  MapQuest  201.0  ...           Night             Night                 Night\n",
              "1  A-2  MapQuest  201.0  ...           Night             Night                   Day\n",
              "2  A-3  MapQuest  201.0  ...           Night               Day                   Day\n",
              "\n",
              "[3 rows x 49 columns]"
            ]
          },
          "metadata": {
            "tags": []
          },
          "execution_count": 8
        }
      ]
    },
    {
      "cell_type": "code",
      "metadata": {
        "colab": {
          "base_uri": "https://localhost:8080/"
        },
        "id": "6uozCDeiZrGp",
        "outputId": "0df714e2-fa43-4859-bffc-3c456ffbfb21"
      },
      "source": [
        "df.columns"
      ],
      "execution_count": null,
      "outputs": [
        {
          "output_type": "execute_result",
          "data": {
            "text/plain": [
              "Index(['ID', 'Source', 'TMC', 'Severity', 'Start_Time', 'End_Time',\n",
              "       'Start_Lat', 'Start_Lng', 'End_Lat', 'End_Lng', 'Distance(mi)',\n",
              "       'Description', 'Number', 'Street', 'Side', 'City', 'County', 'State',\n",
              "       'Zipcode', 'Country', 'Timezone', 'Airport_Code', 'Weather_Timestamp',\n",
              "       'Temperature(F)', 'Wind_Chill(F)', 'Humidity(%)', 'Pressure(in)',\n",
              "       'Visibility(mi)', 'Wind_Direction', 'Wind_Speed(mph)',\n",
              "       'Precipitation(in)', 'Weather_Condition', 'Amenity', 'Bump', 'Crossing',\n",
              "       'Give_Way', 'Junction', 'No_Exit', 'Railway', 'Roundabout', 'Station',\n",
              "       'Stop', 'Traffic_Calming', 'Traffic_Signal', 'Turning_Loop',\n",
              "       'Sunrise_Sunset', 'Civil_Twilight', 'Nautical_Twilight',\n",
              "       'Astronomical_Twilight'],\n",
              "      dtype='object')"
            ]
          },
          "metadata": {
            "tags": []
          },
          "execution_count": 9
        }
      ]
    },
    {
      "cell_type": "code",
      "metadata": {
        "colab": {
          "base_uri": "https://localhost:8080/"
        },
        "id": "LH-tgU7UZo5m",
        "outputId": "f7057368-0f81-47ef-9f13-84a940e8cedd"
      },
      "source": [
        "len(df)"
      ],
      "execution_count": null,
      "outputs": [
        {
          "output_type": "execute_result",
          "data": {
            "text/plain": [
              "4232541"
            ]
          },
          "metadata": {
            "tags": []
          },
          "execution_count": 13
        }
      ]
    },
    {
      "cell_type": "code",
      "metadata": {
        "colab": {
          "base_uri": "https://localhost:8080/"
        },
        "id": "e8eELUPqZ7yL",
        "outputId": "9a71d0c0-a65b-44c8-bc0a-4499927d3b92"
      },
      "source": [
        "df.info()"
      ],
      "execution_count": null,
      "outputs": [
        {
          "output_type": "stream",
          "text": [
            "<class 'pandas.core.frame.DataFrame'>\n",
            "RangeIndex: 4232541 entries, 0 to 4232540\n",
            "Data columns (total 49 columns):\n",
            " #   Column                 Dtype  \n",
            "---  ------                 -----  \n",
            " 0   ID                     object \n",
            " 1   Source                 object \n",
            " 2   TMC                    float64\n",
            " 3   Severity               int64  \n",
            " 4   Start_Time             object \n",
            " 5   End_Time               object \n",
            " 6   Start_Lat              float64\n",
            " 7   Start_Lng              float64\n",
            " 8   End_Lat                float64\n",
            " 9   End_Lng                float64\n",
            " 10  Distance(mi)           float64\n",
            " 11  Description            object \n",
            " 12  Number                 float64\n",
            " 13  Street                 object \n",
            " 14  Side                   object \n",
            " 15  City                   object \n",
            " 16  County                 object \n",
            " 17  State                  object \n",
            " 18  Zipcode                object \n",
            " 19  Country                object \n",
            " 20  Timezone               object \n",
            " 21  Airport_Code           object \n",
            " 22  Weather_Timestamp      object \n",
            " 23  Temperature(F)         float64\n",
            " 24  Wind_Chill(F)          float64\n",
            " 25  Humidity(%)            float64\n",
            " 26  Pressure(in)           float64\n",
            " 27  Visibility(mi)         float64\n",
            " 28  Wind_Direction         object \n",
            " 29  Wind_Speed(mph)        float64\n",
            " 30  Precipitation(in)      float64\n",
            " 31  Weather_Condition      object \n",
            " 32  Amenity                bool   \n",
            " 33  Bump                   bool   \n",
            " 34  Crossing               bool   \n",
            " 35  Give_Way               bool   \n",
            " 36  Junction               bool   \n",
            " 37  No_Exit                bool   \n",
            " 38  Railway                bool   \n",
            " 39  Roundabout             bool   \n",
            " 40  Station                bool   \n",
            " 41  Stop                   bool   \n",
            " 42  Traffic_Calming        bool   \n",
            " 43  Traffic_Signal         bool   \n",
            " 44  Turning_Loop           bool   \n",
            " 45  Sunrise_Sunset         object \n",
            " 46  Civil_Twilight         object \n",
            " 47  Nautical_Twilight      object \n",
            " 48  Astronomical_Twilight  object \n",
            "dtypes: bool(13), float64(14), int64(1), object(21)\n",
            "memory usage: 1.2+ GB\n"
          ],
          "name": "stdout"
        }
      ]
    },
    {
      "cell_type": "code",
      "metadata": {
        "colab": {
          "base_uri": "https://localhost:8080/",
          "height": 317
        },
        "id": "KRVBITeHZKr4",
        "outputId": "65812dbb-c0f6-412c-cd4c-03b76a27f5f9"
      },
      "source": [
        "df.describe()"
      ],
      "execution_count": null,
      "outputs": [
        {
          "output_type": "execute_result",
          "data": {
            "text/html": [
              "<div>\n",
              "<style scoped>\n",
              "    .dataframe tbody tr th:only-of-type {\n",
              "        vertical-align: middle;\n",
              "    }\n",
              "\n",
              "    .dataframe tbody tr th {\n",
              "        vertical-align: top;\n",
              "    }\n",
              "\n",
              "    .dataframe thead th {\n",
              "        text-align: right;\n",
              "    }\n",
              "</style>\n",
              "<table border=\"1\" class=\"dataframe\">\n",
              "  <thead>\n",
              "    <tr style=\"text-align: right;\">\n",
              "      <th></th>\n",
              "      <th>TMC</th>\n",
              "      <th>Severity</th>\n",
              "      <th>Start_Lat</th>\n",
              "      <th>Start_Lng</th>\n",
              "      <th>End_Lat</th>\n",
              "      <th>End_Lng</th>\n",
              "      <th>Distance(mi)</th>\n",
              "      <th>Number</th>\n",
              "      <th>Temperature(F)</th>\n",
              "      <th>Wind_Chill(F)</th>\n",
              "      <th>Humidity(%)</th>\n",
              "      <th>Pressure(in)</th>\n",
              "      <th>Visibility(mi)</th>\n",
              "      <th>Wind_Speed(mph)</th>\n",
              "      <th>Precipitation(in)</th>\n",
              "    </tr>\n",
              "  </thead>\n",
              "  <tbody>\n",
              "    <tr>\n",
              "      <th>count</th>\n",
              "      <td>2.716477e+06</td>\n",
              "      <td>4.232541e+06</td>\n",
              "      <td>4.232541e+06</td>\n",
              "      <td>4.232541e+06</td>\n",
              "      <td>1.516064e+06</td>\n",
              "      <td>1.516064e+06</td>\n",
              "      <td>4.232541e+06</td>\n",
              "      <td>1.544592e+06</td>\n",
              "      <td>4.142641e+06</td>\n",
              "      <td>2.336540e+06</td>\n",
              "      <td>4.137074e+06</td>\n",
              "      <td>4.156157e+06</td>\n",
              "      <td>4.133873e+06</td>\n",
              "      <td>3.753215e+06</td>\n",
              "      <td>2.166952e+06</td>\n",
              "    </tr>\n",
              "    <tr>\n",
              "      <th>mean</th>\n",
              "      <td>2.083517e+02</td>\n",
              "      <td>2.305035e+00</td>\n",
              "      <td>3.639782e+01</td>\n",
              "      <td>-9.546420e+01</td>\n",
              "      <td>3.690061e+01</td>\n",
              "      <td>-9.859901e+01</td>\n",
              "      <td>3.357021e-01</td>\n",
              "      <td>6.141507e+03</td>\n",
              "      <td>6.147799e+01</td>\n",
              "      <td>5.489319e+01</td>\n",
              "      <td>6.567422e+01</td>\n",
              "      <td>2.969371e+01</td>\n",
              "      <td>9.111991e+00</td>\n",
              "      <td>7.903433e+00</td>\n",
              "      <td>1.244719e-02</td>\n",
              "    </tr>\n",
              "    <tr>\n",
              "      <th>std</th>\n",
              "      <td>2.124413e+01</td>\n",
              "      <td>5.332261e-01</td>\n",
              "      <td>4.964404e+00</td>\n",
              "      <td>1.735319e+01</td>\n",
              "      <td>5.165629e+00</td>\n",
              "      <td>1.849590e+01</td>\n",
              "      <td>1.602143e+00</td>\n",
              "      <td>1.492268e+04</td>\n",
              "      <td>1.852586e+01</td>\n",
              "      <td>2.272355e+01</td>\n",
              "      <td>2.272342e+01</td>\n",
              "      <td>8.639260e-01</td>\n",
              "      <td>2.817582e+00</td>\n",
              "      <td>5.330998e+00</td>\n",
              "      <td>1.637154e-01</td>\n",
              "    </tr>\n",
              "    <tr>\n",
              "      <th>min</th>\n",
              "      <td>2.000000e+02</td>\n",
              "      <td>1.000000e+00</td>\n",
              "      <td>2.455527e+01</td>\n",
              "      <td>-1.246238e+02</td>\n",
              "      <td>2.457011e+01</td>\n",
              "      <td>-1.244978e+02</td>\n",
              "      <td>0.000000e+00</td>\n",
              "      <td>0.000000e+00</td>\n",
              "      <td>-8.900000e+01</td>\n",
              "      <td>-8.900000e+01</td>\n",
              "      <td>1.000000e+00</td>\n",
              "      <td>0.000000e+00</td>\n",
              "      <td>0.000000e+00</td>\n",
              "      <td>0.000000e+00</td>\n",
              "      <td>0.000000e+00</td>\n",
              "    </tr>\n",
              "    <tr>\n",
              "      <th>25%</th>\n",
              "      <td>2.010000e+02</td>\n",
              "      <td>2.000000e+00</td>\n",
              "      <td>3.352058e+01</td>\n",
              "      <td>-1.173570e+02</td>\n",
              "      <td>3.385420e+01</td>\n",
              "      <td>-1.182077e+02</td>\n",
              "      <td>0.000000e+00</td>\n",
              "      <td>8.980000e+02</td>\n",
              "      <td>4.900000e+01</td>\n",
              "      <td>3.800000e+01</td>\n",
              "      <td>4.900000e+01</td>\n",
              "      <td>2.964000e+01</td>\n",
              "      <td>1.000000e+01</td>\n",
              "      <td>4.600000e+00</td>\n",
              "      <td>0.000000e+00</td>\n",
              "    </tr>\n",
              "    <tr>\n",
              "      <th>50%</th>\n",
              "      <td>2.010000e+02</td>\n",
              "      <td>2.000000e+00</td>\n",
              "      <td>3.582542e+01</td>\n",
              "      <td>-9.002078e+01</td>\n",
              "      <td>3.735134e+01</td>\n",
              "      <td>-9.437987e+01</td>\n",
              "      <td>0.000000e+00</td>\n",
              "      <td>2.890000e+03</td>\n",
              "      <td>6.300000e+01</td>\n",
              "      <td>5.800000e+01</td>\n",
              "      <td>6.800000e+01</td>\n",
              "      <td>2.993000e+01</td>\n",
              "      <td>1.000000e+01</td>\n",
              "      <td>7.000000e+00</td>\n",
              "      <td>0.000000e+00</td>\n",
              "    </tr>\n",
              "    <tr>\n",
              "      <th>75%</th>\n",
              "      <td>2.010000e+02</td>\n",
              "      <td>3.000000e+00</td>\n",
              "      <td>4.018313e+01</td>\n",
              "      <td>-8.084682e+01</td>\n",
              "      <td>4.072593e+01</td>\n",
              "      <td>-8.087449e+01</td>\n",
              "      <td>8.900000e-02</td>\n",
              "      <td>7.330000e+03</td>\n",
              "      <td>7.520000e+01</td>\n",
              "      <td>7.300000e+01</td>\n",
              "      <td>8.500000e+01</td>\n",
              "      <td>3.008000e+01</td>\n",
              "      <td>1.000000e+01</td>\n",
              "      <td>1.040000e+01</td>\n",
              "      <td>0.000000e+00</td>\n",
              "    </tr>\n",
              "    <tr>\n",
              "      <th>max</th>\n",
              "      <td>4.060000e+02</td>\n",
              "      <td>4.000000e+00</td>\n",
              "      <td>4.900220e+01</td>\n",
              "      <td>-6.711317e+01</td>\n",
              "      <td>4.907500e+01</td>\n",
              "      <td>-6.710924e+01</td>\n",
              "      <td>4.417500e+02</td>\n",
              "      <td>9.999997e+06</td>\n",
              "      <td>2.030000e+02</td>\n",
              "      <td>1.890000e+02</td>\n",
              "      <td>1.000000e+02</td>\n",
              "      <td>5.804000e+01</td>\n",
              "      <td>1.400000e+02</td>\n",
              "      <td>9.840000e+02</td>\n",
              "      <td>2.500000e+01</td>\n",
              "    </tr>\n",
              "  </tbody>\n",
              "</table>\n",
              "</div>"
            ],
            "text/plain": [
              "                TMC      Severity  ...  Wind_Speed(mph)  Precipitation(in)\n",
              "count  2.716477e+06  4.232541e+06  ...     3.753215e+06       2.166952e+06\n",
              "mean   2.083517e+02  2.305035e+00  ...     7.903433e+00       1.244719e-02\n",
              "std    2.124413e+01  5.332261e-01  ...     5.330998e+00       1.637154e-01\n",
              "min    2.000000e+02  1.000000e+00  ...     0.000000e+00       0.000000e+00\n",
              "25%    2.010000e+02  2.000000e+00  ...     4.600000e+00       0.000000e+00\n",
              "50%    2.010000e+02  2.000000e+00  ...     7.000000e+00       0.000000e+00\n",
              "75%    2.010000e+02  3.000000e+00  ...     1.040000e+01       0.000000e+00\n",
              "max    4.060000e+02  4.000000e+00  ...     9.840000e+02       2.500000e+01\n",
              "\n",
              "[8 rows x 15 columns]"
            ]
          },
          "metadata": {
            "tags": []
          },
          "execution_count": 14
        }
      ]
    },
    {
      "cell_type": "code",
      "metadata": {
        "id": "6dLDElY1aIhE"
      },
      "source": [
        ""
      ],
      "execution_count": null,
      "outputs": []
    },
    {
      "cell_type": "markdown",
      "metadata": {
        "id": "Onyb9RredAq3"
      },
      "source": [
        "## Ask and answer Question\n",
        "1. Are there more accidents in warmer or colder area?\n",
        "2. which state has the highest number of highest accidents.? How about Per capita?  "
      ]
    },
    {
      "cell_type": "code",
      "metadata": {
        "colab": {
          "base_uri": "https://localhost:8080/"
        },
        "id": "jk1roFPyeX0c",
        "outputId": "9a1a59b3-dcd5-44fb-b0ec-c64e7ee17675"
      },
      "source": [
        "numerics = ['int16', 'int32', 'int64', 'float16', 'float32', 'float64']\n",
        "\n",
        "numeric_df = df.select_dtypes(include=numerics)\n",
        "len(numeric_df.columns)"
      ],
      "execution_count": null,
      "outputs": [
        {
          "output_type": "execute_result",
          "data": {
            "text/plain": [
              "15"
            ]
          },
          "metadata": {
            "tags": []
          },
          "execution_count": 15
        }
      ]
    },
    {
      "cell_type": "code",
      "metadata": {
        "colab": {
          "base_uri": "https://localhost:8080/",
          "height": 439
        },
        "id": "_jXw2lGMeJwe",
        "outputId": "74e0a4b5-2bf4-4a39-8e56-5c8b271b1565"
      },
      "source": [
        "numeric_df"
      ],
      "execution_count": null,
      "outputs": [
        {
          "output_type": "execute_result",
          "data": {
            "text/html": [
              "<div>\n",
              "<style scoped>\n",
              "    .dataframe tbody tr th:only-of-type {\n",
              "        vertical-align: middle;\n",
              "    }\n",
              "\n",
              "    .dataframe tbody tr th {\n",
              "        vertical-align: top;\n",
              "    }\n",
              "\n",
              "    .dataframe thead th {\n",
              "        text-align: right;\n",
              "    }\n",
              "</style>\n",
              "<table border=\"1\" class=\"dataframe\">\n",
              "  <thead>\n",
              "    <tr style=\"text-align: right;\">\n",
              "      <th></th>\n",
              "      <th>TMC</th>\n",
              "      <th>Severity</th>\n",
              "      <th>Start_Lat</th>\n",
              "      <th>Start_Lng</th>\n",
              "      <th>End_Lat</th>\n",
              "      <th>End_Lng</th>\n",
              "      <th>Distance(mi)</th>\n",
              "      <th>Number</th>\n",
              "      <th>Temperature(F)</th>\n",
              "      <th>Wind_Chill(F)</th>\n",
              "      <th>Humidity(%)</th>\n",
              "      <th>Pressure(in)</th>\n",
              "      <th>Visibility(mi)</th>\n",
              "      <th>Wind_Speed(mph)</th>\n",
              "      <th>Precipitation(in)</th>\n",
              "    </tr>\n",
              "  </thead>\n",
              "  <tbody>\n",
              "    <tr>\n",
              "      <th>0</th>\n",
              "      <td>201.0</td>\n",
              "      <td>3</td>\n",
              "      <td>39.865147</td>\n",
              "      <td>-84.058723</td>\n",
              "      <td>NaN</td>\n",
              "      <td>NaN</td>\n",
              "      <td>0.010</td>\n",
              "      <td>NaN</td>\n",
              "      <td>36.9</td>\n",
              "      <td>NaN</td>\n",
              "      <td>91.0</td>\n",
              "      <td>29.68</td>\n",
              "      <td>10.0</td>\n",
              "      <td>NaN</td>\n",
              "      <td>0.02</td>\n",
              "    </tr>\n",
              "    <tr>\n",
              "      <th>1</th>\n",
              "      <td>201.0</td>\n",
              "      <td>2</td>\n",
              "      <td>39.928059</td>\n",
              "      <td>-82.831184</td>\n",
              "      <td>NaN</td>\n",
              "      <td>NaN</td>\n",
              "      <td>0.010</td>\n",
              "      <td>2584.0</td>\n",
              "      <td>37.9</td>\n",
              "      <td>NaN</td>\n",
              "      <td>100.0</td>\n",
              "      <td>29.65</td>\n",
              "      <td>10.0</td>\n",
              "      <td>NaN</td>\n",
              "      <td>0.00</td>\n",
              "    </tr>\n",
              "    <tr>\n",
              "      <th>2</th>\n",
              "      <td>201.0</td>\n",
              "      <td>2</td>\n",
              "      <td>39.063148</td>\n",
              "      <td>-84.032608</td>\n",
              "      <td>NaN</td>\n",
              "      <td>NaN</td>\n",
              "      <td>0.010</td>\n",
              "      <td>NaN</td>\n",
              "      <td>36.0</td>\n",
              "      <td>33.3</td>\n",
              "      <td>100.0</td>\n",
              "      <td>29.67</td>\n",
              "      <td>10.0</td>\n",
              "      <td>3.5</td>\n",
              "      <td>NaN</td>\n",
              "    </tr>\n",
              "    <tr>\n",
              "      <th>3</th>\n",
              "      <td>201.0</td>\n",
              "      <td>3</td>\n",
              "      <td>39.747753</td>\n",
              "      <td>-84.205582</td>\n",
              "      <td>NaN</td>\n",
              "      <td>NaN</td>\n",
              "      <td>0.010</td>\n",
              "      <td>NaN</td>\n",
              "      <td>35.1</td>\n",
              "      <td>31.0</td>\n",
              "      <td>96.0</td>\n",
              "      <td>29.64</td>\n",
              "      <td>9.0</td>\n",
              "      <td>4.6</td>\n",
              "      <td>NaN</td>\n",
              "    </tr>\n",
              "    <tr>\n",
              "      <th>4</th>\n",
              "      <td>201.0</td>\n",
              "      <td>2</td>\n",
              "      <td>39.627781</td>\n",
              "      <td>-84.188354</td>\n",
              "      <td>NaN</td>\n",
              "      <td>NaN</td>\n",
              "      <td>0.010</td>\n",
              "      <td>NaN</td>\n",
              "      <td>36.0</td>\n",
              "      <td>33.3</td>\n",
              "      <td>89.0</td>\n",
              "      <td>29.65</td>\n",
              "      <td>6.0</td>\n",
              "      <td>3.5</td>\n",
              "      <td>NaN</td>\n",
              "    </tr>\n",
              "    <tr>\n",
              "      <th>...</th>\n",
              "      <td>...</td>\n",
              "      <td>...</td>\n",
              "      <td>...</td>\n",
              "      <td>...</td>\n",
              "      <td>...</td>\n",
              "      <td>...</td>\n",
              "      <td>...</td>\n",
              "      <td>...</td>\n",
              "      <td>...</td>\n",
              "      <td>...</td>\n",
              "      <td>...</td>\n",
              "      <td>...</td>\n",
              "      <td>...</td>\n",
              "      <td>...</td>\n",
              "      <td>...</td>\n",
              "    </tr>\n",
              "    <tr>\n",
              "      <th>4232536</th>\n",
              "      <td>NaN</td>\n",
              "      <td>2</td>\n",
              "      <td>34.002480</td>\n",
              "      <td>-117.379360</td>\n",
              "      <td>33.99888</td>\n",
              "      <td>-117.37094</td>\n",
              "      <td>0.543</td>\n",
              "      <td>NaN</td>\n",
              "      <td>86.0</td>\n",
              "      <td>86.0</td>\n",
              "      <td>40.0</td>\n",
              "      <td>28.92</td>\n",
              "      <td>10.0</td>\n",
              "      <td>13.0</td>\n",
              "      <td>0.00</td>\n",
              "    </tr>\n",
              "    <tr>\n",
              "      <th>4232537</th>\n",
              "      <td>NaN</td>\n",
              "      <td>2</td>\n",
              "      <td>32.766960</td>\n",
              "      <td>-117.148060</td>\n",
              "      <td>32.76555</td>\n",
              "      <td>-117.15363</td>\n",
              "      <td>0.338</td>\n",
              "      <td>NaN</td>\n",
              "      <td>70.0</td>\n",
              "      <td>70.0</td>\n",
              "      <td>73.0</td>\n",
              "      <td>29.39</td>\n",
              "      <td>10.0</td>\n",
              "      <td>6.0</td>\n",
              "      <td>0.00</td>\n",
              "    </tr>\n",
              "    <tr>\n",
              "      <th>4232538</th>\n",
              "      <td>NaN</td>\n",
              "      <td>2</td>\n",
              "      <td>33.775450</td>\n",
              "      <td>-117.847790</td>\n",
              "      <td>33.77740</td>\n",
              "      <td>-117.85727</td>\n",
              "      <td>0.561</td>\n",
              "      <td>NaN</td>\n",
              "      <td>73.0</td>\n",
              "      <td>73.0</td>\n",
              "      <td>64.0</td>\n",
              "      <td>29.74</td>\n",
              "      <td>10.0</td>\n",
              "      <td>10.0</td>\n",
              "      <td>0.00</td>\n",
              "    </tr>\n",
              "    <tr>\n",
              "      <th>4232539</th>\n",
              "      <td>NaN</td>\n",
              "      <td>2</td>\n",
              "      <td>33.992460</td>\n",
              "      <td>-118.403020</td>\n",
              "      <td>33.98311</td>\n",
              "      <td>-118.39565</td>\n",
              "      <td>0.772</td>\n",
              "      <td>NaN</td>\n",
              "      <td>71.0</td>\n",
              "      <td>71.0</td>\n",
              "      <td>81.0</td>\n",
              "      <td>29.62</td>\n",
              "      <td>10.0</td>\n",
              "      <td>8.0</td>\n",
              "      <td>0.00</td>\n",
              "    </tr>\n",
              "    <tr>\n",
              "      <th>4232540</th>\n",
              "      <td>NaN</td>\n",
              "      <td>2</td>\n",
              "      <td>34.133930</td>\n",
              "      <td>-117.230920</td>\n",
              "      <td>34.13736</td>\n",
              "      <td>-117.23934</td>\n",
              "      <td>0.537</td>\n",
              "      <td>NaN</td>\n",
              "      <td>79.0</td>\n",
              "      <td>79.0</td>\n",
              "      <td>47.0</td>\n",
              "      <td>28.63</td>\n",
              "      <td>7.0</td>\n",
              "      <td>7.0</td>\n",
              "      <td>0.00</td>\n",
              "    </tr>\n",
              "  </tbody>\n",
              "</table>\n",
              "<p>4232541 rows × 15 columns</p>\n",
              "</div>"
            ],
            "text/plain": [
              "           TMC  Severity  ...  Wind_Speed(mph)  Precipitation(in)\n",
              "0        201.0         3  ...              NaN               0.02\n",
              "1        201.0         2  ...              NaN               0.00\n",
              "2        201.0         2  ...              3.5                NaN\n",
              "3        201.0         3  ...              4.6                NaN\n",
              "4        201.0         2  ...              3.5                NaN\n",
              "...        ...       ...  ...              ...                ...\n",
              "4232536    NaN         2  ...             13.0               0.00\n",
              "4232537    NaN         2  ...              6.0               0.00\n",
              "4232538    NaN         2  ...             10.0               0.00\n",
              "4232539    NaN         2  ...              8.0               0.00\n",
              "4232540    NaN         2  ...              7.0               0.00\n",
              "\n",
              "[4232541 rows x 15 columns]"
            ]
          },
          "metadata": {
            "tags": []
          },
          "execution_count": 16
        }
      ]
    },
    {
      "cell_type": "code",
      "metadata": {
        "colab": {
          "base_uri": "https://localhost:8080/"
        },
        "id": "3nteaGD9ejnO",
        "outputId": "0d0edd9c-9255-445e-ff84-2f1b04f19a34"
      },
      "source": [
        "numeric_df.info()"
      ],
      "execution_count": null,
      "outputs": [
        {
          "output_type": "stream",
          "text": [
            "<class 'pandas.core.frame.DataFrame'>\n",
            "RangeIndex: 4232541 entries, 0 to 4232540\n",
            "Data columns (total 15 columns):\n",
            " #   Column             Dtype  \n",
            "---  ------             -----  \n",
            " 0   TMC                float64\n",
            " 1   Severity           int64  \n",
            " 2   Start_Lat          float64\n",
            " 3   Start_Lng          float64\n",
            " 4   End_Lat            float64\n",
            " 5   End_Lng            float64\n",
            " 6   Distance(mi)       float64\n",
            " 7   Number             float64\n",
            " 8   Temperature(F)     float64\n",
            " 9   Wind_Chill(F)      float64\n",
            " 10  Humidity(%)        float64\n",
            " 11  Pressure(in)       float64\n",
            " 12  Visibility(mi)     float64\n",
            " 13  Wind_Speed(mph)    float64\n",
            " 14  Precipitation(in)  float64\n",
            "dtypes: float64(14), int64(1)\n",
            "memory usage: 484.4 MB\n"
          ],
          "name": "stdout"
        }
      ]
    },
    {
      "cell_type": "code",
      "metadata": {
        "colab": {
          "base_uri": "https://localhost:8080/"
        },
        "id": "GOkVB6IZfubJ",
        "outputId": "c3a53495-055e-4d6f-9177-e6b250a3748f"
      },
      "source": [
        "df.isna( ).sum().sort_values(ascending=False)"
      ],
      "execution_count": null,
      "outputs": [
        {
          "output_type": "execute_result",
          "data": {
            "text/plain": [
              "End_Lat                  2716477\n",
              "End_Lng                  2716477\n",
              "Number                   2687949\n",
              "Precipitation(in)        2065589\n",
              "Wind_Chill(F)            1896001\n",
              "TMC                      1516064\n",
              "Wind_Speed(mph)           479326\n",
              "Visibility(mi)             98668\n",
              "Weather_Condition          98383\n",
              "Humidity(%)                95467\n",
              "Temperature(F)             89900\n",
              "Wind_Direction             83611\n",
              "Pressure(in)               76384\n",
              "Weather_Timestamp          62644\n",
              "Airport_Code                8973\n",
              "Timezone                    4615\n",
              "Zipcode                     1292\n",
              "Nautical_Twilight            141\n",
              "Astronomical_Twilight        141\n",
              "Civil_Twilight               141\n",
              "Sunrise_Sunset               141\n",
              "City                         137\n",
              "Description                    2\n",
              "Amenity                        0\n",
              "Street                         0\n",
              "Source                         0\n",
              "Severity                       0\n",
              "Start_Time                     0\n",
              "End_Time                       0\n",
              "Start_Lat                      0\n",
              "Start_Lng                      0\n",
              "Turning_Loop                   0\n",
              "Distance(mi)                   0\n",
              "Traffic_Signal                 0\n",
              "Side                           0\n",
              "Bump                           0\n",
              "County                         0\n",
              "State                          0\n",
              "Traffic_Calming                0\n",
              "Country                        0\n",
              "Stop                           0\n",
              "Station                        0\n",
              "Roundabout                     0\n",
              "Railway                        0\n",
              "No_Exit                        0\n",
              "Junction                       0\n",
              "Give_Way                       0\n",
              "Crossing                       0\n",
              "ID                             0\n",
              "dtype: int64"
            ]
          },
          "metadata": {
            "tags": []
          },
          "execution_count": 17
        }
      ]
    },
    {
      "cell_type": "code",
      "metadata": {
        "colab": {
          "base_uri": "https://localhost:8080/"
        },
        "id": "KBplWBfefTI_",
        "outputId": "e182b8f2-2f1f-4486-fd14-4a8e28f1ad10"
      },
      "source": [
        "missing_percentage=df.isna( ).sum().sort_values(ascending=False)/len(df)\n",
        "missing_percentage"
      ],
      "execution_count": null,
      "outputs": [
        {
          "output_type": "execute_result",
          "data": {
            "text/plain": [
              "End_Lat                  6.418076e-01\n",
              "End_Lng                  6.418076e-01\n",
              "Number                   6.350674e-01\n",
              "Precipitation(in)        4.880258e-01\n",
              "Wind_Chill(F)            4.479581e-01\n",
              "TMC                      3.581924e-01\n",
              "Wind_Speed(mph)          1.132478e-01\n",
              "Visibility(mi)           2.331176e-02\n",
              "Weather_Condition        2.324443e-02\n",
              "Humidity(%)              2.255548e-02\n",
              "Temperature(F)           2.124020e-02\n",
              "Wind_Direction           1.975433e-02\n",
              "Pressure(in)             1.804684e-02\n",
              "Weather_Timestamp        1.480057e-02\n",
              "Airport_Code             2.120003e-03\n",
              "Timezone                 1.090362e-03\n",
              "Zipcode                  3.052540e-04\n",
              "Nautical_Twilight        3.331332e-05\n",
              "Astronomical_Twilight    3.331332e-05\n",
              "Civil_Twilight           3.331332e-05\n",
              "Sunrise_Sunset           3.331332e-05\n",
              "City                     3.236826e-05\n",
              "Description              4.725294e-07\n",
              "Amenity                  0.000000e+00\n",
              "Street                   0.000000e+00\n",
              "Source                   0.000000e+00\n",
              "Severity                 0.000000e+00\n",
              "Start_Time               0.000000e+00\n",
              "End_Time                 0.000000e+00\n",
              "Start_Lat                0.000000e+00\n",
              "Start_Lng                0.000000e+00\n",
              "Turning_Loop             0.000000e+00\n",
              "Distance(mi)             0.000000e+00\n",
              "Traffic_Signal           0.000000e+00\n",
              "Side                     0.000000e+00\n",
              "Bump                     0.000000e+00\n",
              "County                   0.000000e+00\n",
              "State                    0.000000e+00\n",
              "Traffic_Calming          0.000000e+00\n",
              "Country                  0.000000e+00\n",
              "Stop                     0.000000e+00\n",
              "Station                  0.000000e+00\n",
              "Roundabout               0.000000e+00\n",
              "Railway                  0.000000e+00\n",
              "No_Exit                  0.000000e+00\n",
              "Junction                 0.000000e+00\n",
              "Give_Way                 0.000000e+00\n",
              "Crossing                 0.000000e+00\n",
              "ID                       0.000000e+00\n",
              "dtype: float64"
            ]
          },
          "metadata": {
            "tags": []
          },
          "execution_count": 18
        }
      ]
    },
    {
      "cell_type": "code",
      "metadata": {
        "colab": {
          "base_uri": "https://localhost:8080/",
          "height": 282
        },
        "id": "QbyMP5fycL8Y",
        "outputId": "c55924d5-634b-4a8e-8c7f-4bbdbfcc8990"
      },
      "source": [
        "missing_percentage[missing_percentage!=0].plot(kind='barh')"
      ],
      "execution_count": null,
      "outputs": [
        {
          "output_type": "execute_result",
          "data": {
            "text/plain": [
              "<matplotlib.axes._subplots.AxesSubplot at 0x7fc3bec7f490>"
            ]
          },
          "metadata": {
            "tags": []
          },
          "execution_count": 19
        },
        {
          "output_type": "display_data",
          "data": {
            "image/png": "[encoded data removed]",
            "text/plain": [
              "<Figure size 432x288 with 1 Axes>"
            ]
          },
          "metadata": {
            "tags": [],
            "needs_background": "light"
          }
        }
      ]
    },
    {
      "cell_type": "code",
      "metadata": {
        "colab": {
          "base_uri": "https://localhost:8080/",
          "height": 282
        },
        "id": "xVWFH8fDduzM",
        "outputId": "8a62e9c2-1e3b-462b-b66e-d83f8c5e4b3c"
      },
      "source": [
        "missing_percentage[missing_percentage!=0].plot(kind='barh')"
      ],
      "execution_count": null,
      "outputs": [
        {
          "output_type": "execute_result",
          "data": {
            "text/plain": [
              "<matplotlib.axes._subplots.AxesSubplot at 0x7f82cd3ee7d0>"
            ]
          },
          "metadata": {
            "tags": []
          },
          "execution_count": 19
        },
        {
          "output_type": "display_data",
          "data": {
            "image/png": "[encoded data removed]",
            "text/plain": [
              "<Figure size 432x288 with 1 Axes>"
            ]
          },
          "metadata": {
            "tags": [],
            "needs_background": "light"
          }
        }
      ]
    },
    {
      "cell_type": "code",
      "metadata": {
        "id": "NvTpXDS-dWbT"
      },
      "source": [
        "import seaborn as sns\n",
        "\n"
      ],
      "execution_count": null,
      "outputs": []
    },
    {
      "cell_type": "code",
      "metadata": {
        "id": "UMYBAeqseP7o"
      },
      "source": [
        ""
      ],
      "execution_count": null,
      "outputs": []
    },
    {
      "cell_type": "markdown",
      "metadata": {
        "id": "A25YAr3MiU9c"
      },
      "source": [
        "Exploratory analysis and Vizualization\n",
        "\n",
        "Her we analyze some columns\n",
        "1.city\n",
        "2.start_lat,start_lng\n",
        "3.temperature\n",
        "4.weather condition\n",
        "5.eventhough the new york had heigest population why it does not showing in list\n"
      ]
    },
    {
      "cell_type": "code",
      "metadata": {
        "colab": {
          "base_uri": "https://localhost:8080/"
        },
        "id": "DZEYwzh2ibfq",
        "outputId": "969e4310-36c4-428a-bdca-5f9bbf959efa"
      },
      "source": [
        "df.columns"
      ],
      "execution_count": null,
      "outputs": [
        {
          "output_type": "execute_result",
          "data": {
            "text/plain": [
              "Index(['ID', 'Source', 'TMC', 'Severity', 'Start_Time', 'End_Time',\n",
              "       'Start_Lat', 'Start_Lng', 'End_Lat', 'End_Lng', 'Distance(mi)',\n",
              "       'Description', 'Number', 'Street', 'Side', 'City', 'County', 'State',\n",
              "       'Zipcode', 'Country', 'Timezone', 'Airport_Code', 'Weather_Timestamp',\n",
              "       'Temperature(F)', 'Wind_Chill(F)', 'Humidity(%)', 'Pressure(in)',\n",
              "       'Visibility(mi)', 'Wind_Direction', 'Wind_Speed(mph)',\n",
              "       'Precipitation(in)', 'Weather_Condition', 'Amenity', 'Bump', 'Crossing',\n",
              "       'Give_Way', 'Junction', 'No_Exit', 'Railway', 'Roundabout', 'Station',\n",
              "       'Stop', 'Traffic_Calming', 'Traffic_Signal', 'Turning_Loop',\n",
              "       'Sunrise_Sunset', 'Civil_Twilight', 'Nautical_Twilight',\n",
              "       'Astronomical_Twilight'],\n",
              "      dtype='object')"
            ]
          },
          "metadata": {
            "tags": []
          },
          "execution_count": 21
        }
      ]
    },
    {
      "cell_type": "code",
      "metadata": {
        "colab": {
          "base_uri": "https://localhost:8080/"
        },
        "id": "wBKPzcrDjTST",
        "outputId": "69b92e9c-a488-47c6-d3dc-85b60a9a8c79"
      },
      "source": [
        "len((df.City.unique()))"
      ],
      "execution_count": null,
      "outputs": [
        {
          "output_type": "execute_result",
          "data": {
            "text/plain": [
              "12251"
            ]
          },
          "metadata": {
            "tags": []
          },
          "execution_count": 22
        }
      ]
    },
    {
      "cell_type": "code",
      "metadata": {
        "colab": {
          "base_uri": "https://localhost:8080/"
        },
        "id": "r_Ya2R1qjZok",
        "outputId": "31a08a80-178b-415b-ea87-d5233f87bec3"
      },
      "source": [
        "cities_by_accidents=df.City.value_counts()\n",
        "cities_by_accidents[:20]"
      ],
      "execution_count": null,
      "outputs": [
        {
          "output_type": "execute_result",
          "data": {
            "text/plain": [
              "Houston          114905\n",
              "Los Angeles       92701\n",
              "Charlotte         88887\n",
              "Dallas            77303\n",
              "Austin            70538\n",
              "Miami             63162\n",
              "Raleigh           52876\n",
              "Atlanta           46328\n",
              "Baton Rouge       42814\n",
              "Nashville         41850\n",
              "Orlando           39561\n",
              "Oklahoma City     39484\n",
              "Sacramento        38061\n",
              "Phoenix           32805\n",
              "Minneapolis       31781\n",
              "San Diego         29416\n",
              "Seattle           28004\n",
              "Richmond          27907\n",
              "San Antonio       27516\n",
              "Jacksonville      24009\n",
              "Name: City, dtype: int64"
            ]
          },
          "metadata": {
            "tags": []
          },
          "execution_count": 27
        }
      ]
    },
    {
      "cell_type": "code",
      "metadata": {
        "colab": {
          "base_uri": "https://localhost:8080/"
        },
        "id": "Vix8J6WXmlP2",
        "outputId": "b23462fa-f8d6-4283-812b-8194c0cce161"
      },
      "source": [
        "df.State.value_counts()"
      ],
      "execution_count": null,
      "outputs": [
        {
          "output_type": "execute_result",
          "data": {
            "text/plain": [
              "CA    972585\n",
              "TX    376445\n",
              "FL    370131\n",
              "SC    212712\n",
              "NC    193457\n",
              "NY    189513\n",
              "PA    136049\n",
              "VA    127949\n",
              "IL    111712\n",
              "OR    108352\n",
              "GA    107116\n",
              "MI    105772\n",
              "MN    105497\n",
              "AZ     93103\n",
              "TN     88495\n",
              "LA     80560\n",
              "WA     74705\n",
              "OH     73161\n",
              "MD     69958\n",
              "NJ     69167\n",
              "OK     64871\n",
              "UT     58010\n",
              "AL     57017\n",
              "CO     54035\n",
              "MA     44115\n",
              "MO     40153\n",
              "IN     38114\n",
              "CT     32520\n",
              "NE     25006\n",
              "KY     24713\n",
              "WI     21519\n",
              "IA     14205\n",
              "RI     12911\n",
              "NV     12023\n",
              "KS      9738\n",
              "NH      8559\n",
              "MS      8055\n",
              "DE      6908\n",
              "DC      6511\n",
              "NM      6462\n",
              "AR      5105\n",
              "ID      4251\n",
              "WV      3617\n",
              "MT      3357\n",
              "ME      2346\n",
              "VT       771\n",
              "WY       521\n",
              "ND       469\n",
              "SD       220\n",
              "Name: State, dtype: int64"
            ]
          },
          "metadata": {
            "tags": []
          },
          "execution_count": 23
        }
      ]
    },
    {
      "cell_type": "code",
      "metadata": {
        "colab": {
          "base_uri": "https://localhost:8080/"
        },
        "id": "BKVLIr-Ym9eK",
        "outputId": "eff146bc-af5a-4d5a-9734-5397d71e4a99"
      },
      "source": [
        "df.State.unique()"
      ],
      "execution_count": null,
      "outputs": [
        {
          "output_type": "execute_result",
          "data": {
            "text/plain": [
              "array(['OH', 'WV', 'CA', 'FL', 'GA', 'SC', 'NE', 'IA', 'IL', 'MO', 'WI',\n",
              "       'IN', 'MI', 'NJ', 'NY', 'CT', 'MA', 'RI', 'NH', 'PA', 'KY', 'MD',\n",
              "       'VA', 'DC', 'DE', 'TX', 'WA', 'OR', 'AL', 'ME', 'VT', 'TN', 'NC',\n",
              "       'KS', 'MN', 'LA', 'OK', 'AR', 'UT', 'CO', 'AZ', 'NM', 'NV', 'MS',\n",
              "       'ID', 'WY', 'MT', 'ND', 'SD'], dtype=object)"
            ]
          },
          "metadata": {
            "tags": []
          },
          "execution_count": 24
        }
      ]
    },
    {
      "cell_type": "code",
      "metadata": {
        "colab": {
          "base_uri": "https://localhost:8080/",
          "height": 282
        },
        "id": "2yMUAliFoL8z",
        "outputId": "3195dfab-a36b-4be1-b4b6-e817bd3a5dbc"
      },
      "source": [
        "cities_by_accidents[:20].plot(kind=\"barh\")"
      ],
      "execution_count": null,
      "outputs": [
        {
          "output_type": "execute_result",
          "data": {
            "text/plain": [
              "<matplotlib.axes._subplots.AxesSubplot at 0x7fc3afe9e910>"
            ]
          },
          "metadata": {
            "tags": []
          },
          "execution_count": 28
        },
        {
          "output_type": "display_data",
          "data": {
            "image/png": "[encoded data removed]",
            "text/plain": [
              "<Figure size 432x288 with 1 Axes>"
            ]
          },
          "metadata": {
            "tags": [],
            "needs_background": "light"
          }
        }
      ]
    },
    {
      "cell_type": "code",
      "metadata": {
        "id": "PT7UPQIGpUu8"
      },
      "source": [
        "sns.set_style(\"darkgrid\")"
      ],
      "execution_count": null,
      "outputs": []
    },
    {
      "cell_type": "code",
      "metadata": {
        "colab": {
          "base_uri": "https://localhost:8080/",
          "height": 350
        },
        "id": "WGse256bqlTh",
        "outputId": "7b414bd7-a7a7-4d1d-fd3d-0df1565aaa2c"
      },
      "source": [
        "sns.distplot(cities_by_accidents)"
      ],
      "execution_count": null,
      "outputs": [
        {
          "output_type": "stream",
          "text": [
            "/usr/local/lib/python3.7/dist-packages/seaborn/distributions.py:2557: FutureWarning: `distplot` is a deprecated function and will be removed in a future version. Please adapt your code to use either `displot` (a figure-level function with similar flexibility) or `histplot` (an axes-level function for histograms).\n",
            "  warnings.warn(msg, FutureWarning)\n"
          ],
          "name": "stderr"
        },
        {
          "output_type": "execute_result",
          "data": {
            "text/plain": [
              "<matplotlib.axes._subplots.AxesSubplot at 0x7fc3afd46610>"
            ]
          },
          "metadata": {
            "tags": []
          },
          "execution_count": 30
        },
        {
          "output_type": "display_data",
          "data": {
            "image/png": "[encoded data removed]",
            "text/plain": [
              "<Figure size 432x288 with 1 Axes>"
            ]
          },
          "metadata": {
            "tags": []
          }
        }
      ]
    },
    {
      "cell_type": "code",
      "metadata": {
        "colab": {
          "base_uri": "https://localhost:8080/"
        },
        "id": "4k7v2VnLvOkN",
        "outputId": "a181c679-74d8-4fcf-b177-c83dbef6b650"
      },
      "source": [
        "high_accidents_cities=cities_by_accidents[cities_by_accidents>=1000]\n",
        "len(high_accidents_cities)\n"
      ],
      "execution_count": null,
      "outputs": [
        {
          "output_type": "execute_result",
          "data": {
            "text/plain": [
              "704"
            ]
          },
          "metadata": {
            "tags": []
          },
          "execution_count": 31
        }
      ]
    },
    {
      "cell_type": "code",
      "metadata": {
        "colab": {
          "base_uri": "https://localhost:8080/"
        },
        "id": "dPbeaP76wAVU",
        "outputId": "e32f1146-cd02-4aa2-ded7-4fba4831d3c6"
      },
      "source": [
        "low_accidents_cities=cities_by_accidents[cities_by_accidents<1000]\n",
        "len(low_accidents_cities)"
      ],
      "execution_count": null,
      "outputs": [
        {
          "output_type": "execute_result",
          "data": {
            "text/plain": [
              "11546"
            ]
          },
          "metadata": {
            "tags": []
          },
          "execution_count": 32
        }
      ]
    },
    {
      "cell_type": "code",
      "metadata": {
        "colab": {
          "base_uri": "https://localhost:8080/"
        },
        "id": "kNy7h2-Txnui",
        "outputId": "6f087a95-5ec5-451b-c2f4-db89260fb3b8"
      },
      "source": [
        "len(high_accidents_cities)/ len(cities_by_accidents)*100"
      ],
      "execution_count": null,
      "outputs": [
        {
          "output_type": "execute_result",
          "data": {
            "text/plain": [
              "5.746938775510204"
            ]
          },
          "metadata": {
            "tags": []
          },
          "execution_count": 33
        }
      ]
    },
    {
      "cell_type": "code",
      "metadata": {
        "colab": {
          "base_uri": "https://localhost:8080/"
        },
        "id": "PFsq3jD5x32u",
        "outputId": "a281d6c9-5595-41fb-e0cb-2283d3acb7f6"
      },
      "source": [
        "len(cities_by_accidents)"
      ],
      "execution_count": null,
      "outputs": [
        {
          "output_type": "execute_result",
          "data": {
            "text/plain": [
              "12250"
            ]
          },
          "metadata": {
            "tags": []
          },
          "execution_count": 34
        }
      ]
    },
    {
      "cell_type": "code",
      "metadata": {
        "colab": {
          "base_uri": "https://localhost:8080/"
        },
        "id": "JsOnclnNyGr3",
        "outputId": "c684f73b-9383-42aa-ec03-d216a1745e71"
      },
      "source": [
        "df.Start_Time=pd.to_datetime(df.Start_Time)\n",
        "df.Start_Time[0]"
      ],
      "execution_count": null,
      "outputs": [
        {
          "output_type": "execute_result",
          "data": {
            "text/plain": [
              "Timestamp('2016-02-08 05:46:00')"
            ]
          },
          "metadata": {
            "tags": []
          },
          "execution_count": 35
        }
      ]
    },
    {
      "cell_type": "code",
      "metadata": {
        "colab": {
          "base_uri": "https://localhost:8080/",
          "height": 297
        },
        "id": "zroFKci24hwZ",
        "outputId": "698980c5-dd37-4aeb-d388-4f74b58aa0a5"
      },
      "source": [
        "sns.histplot(df.Start_Time.dt.hour,bins=24)"
      ],
      "execution_count": null,
      "outputs": [
        {
          "output_type": "execute_result",
          "data": {
            "text/plain": [
              "<matplotlib.axes._subplots.AxesSubplot at 0x7fc3a5441290>"
            ]
          },
          "metadata": {
            "tags": []
          },
          "execution_count": 36
        },
        {
          "output_type": "display_data",
          "data": {
            "image/png": "[encoded data removed]",
            "text/plain": [
              "<Figure size 432x288 with 1 Axes>"
            ]
          },
          "metadata": {
            "tags": []
          }
        }
      ]
    },
    {
      "cell_type": "code",
      "metadata": {
        "id": "KHD-9P-e4iC8"
      },
      "source": [
        ""
      ],
      "execution_count": null,
      "outputs": []
    },
    {
      "cell_type": "code",
      "metadata": {
        "colab": {
          "base_uri": "https://localhost:8080/",
          "height": 351
        },
        "id": "1XqZPCtV85iq",
        "outputId": "996dd39f-5b53-488b-a8ef-63d508ba10f9"
      },
      "source": [
        "sns.distplot(df.Start_Time.dt.dayofweek,bins=7,norm_hist=True)"
      ],
      "execution_count": null,
      "outputs": [
        {
          "output_type": "stream",
          "text": [
            "/usr/local/lib/python3.7/dist-packages/seaborn/distributions.py:2557: FutureWarning: `distplot` is a deprecated function and will be removed in a future version. Please adapt your code to use either `displot` (a figure-level function with similar flexibility) or `histplot` (an axes-level function for histograms).\n",
            "  warnings.warn(msg, FutureWarning)\n"
          ],
          "name": "stderr"
        },
        {
          "output_type": "execute_result",
          "data": {
            "text/plain": [
              "<matplotlib.axes._subplots.AxesSubplot at 0x7fc3a5441910>"
            ]
          },
          "metadata": {
            "tags": []
          },
          "execution_count": 37
        },
        {
          "output_type": "display_data",
          "data": {
            "image/png": "[encoded data removed]",
            "text/plain": [
              "<Figure size 432x288 with 1 Axes>"
            ]
          },
          "metadata": {
            "tags": []
          }
        }
      ]
    },
    {
      "cell_type": "code",
      "metadata": {
        "id": "T8BAgtkw85mf"
      },
      "source": [
        ""
      ],
      "execution_count": null,
      "outputs": []
    },
    {
      "cell_type": "code",
      "metadata": {
        "id": "CZ9E02Rn85rZ"
      },
      "source": [
        ""
      ],
      "execution_count": null,
      "outputs": []
    },
    {
      "cell_type": "markdown",
      "metadata": {
        "id": "qnhhbN1D5-Fc"
      },
      "source": [
        "* From above analysis we conclude that accidents are happening in between 7 to 10 am (propabaly people are in hurry ).\n",
        "* next highest accidents happende in 3 to 7 pm."
      ]
    },
    {
      "cell_type": "markdown",
      "metadata": {
        "id": "7YwvWQS39YlW"
      },
      "source": [
        ""
      ]
    },
    {
      "cell_type": "code",
      "metadata": {
        "id": "Cxc4OF9H4iF5"
      },
      "source": [
        "#is the distribution of accidents by hour the same on weekends as on weekdays"
      ],
      "execution_count": null,
      "outputs": []
    },
    {
      "cell_type": "code",
      "metadata": {
        "id": "ZtOx_UMP4iND",
        "colab": {
          "base_uri": "https://localhost:8080/",
          "height": 332
        },
        "outputId": "54ee1f1c-f32c-4626-c801-8c6f13a42193"
      },
      "source": [
        "df.head(3)"
      ],
      "execution_count": null,
      "outputs": [
        {
          "output_type": "execute_result",
          "data": {
            "text/html": [
              "<div>\n",
              "<style scoped>\n",
              "    .dataframe tbody tr th:only-of-type {\n",
              "        vertical-align: middle;\n",
              "    }\n",
              "\n",
              "    .dataframe tbody tr th {\n",
              "        vertical-align: top;\n",
              "    }\n",
              "\n",
              "    .dataframe thead th {\n",
              "        text-align: right;\n",
              "    }\n",
              "</style>\n",
              "<table border=\"1\" class=\"dataframe\">\n",
              "  <thead>\n",
              "    <tr style=\"text-align: right;\">\n",
              "      <th></th>\n",
              "      <th>ID</th>\n",
              "      <th>Source</th>\n",
              "      <th>TMC</th>\n",
              "      <th>Severity</th>\n",
              "      <th>Start_Time</th>\n",
              "      <th>End_Time</th>\n",
              "      <th>Start_Lat</th>\n",
              "      <th>Start_Lng</th>\n",
              "      <th>End_Lat</th>\n",
              "      <th>End_Lng</th>\n",
              "      <th>Distance(mi)</th>\n",
              "      <th>Description</th>\n",
              "      <th>Number</th>\n",
              "      <th>Street</th>\n",
              "      <th>Side</th>\n",
              "      <th>City</th>\n",
              "      <th>County</th>\n",
              "      <th>State</th>\n",
              "      <th>Zipcode</th>\n",
              "      <th>Country</th>\n",
              "      <th>Timezone</th>\n",
              "      <th>Airport_Code</th>\n",
              "      <th>Weather_Timestamp</th>\n",
              "      <th>Temperature(F)</th>\n",
              "      <th>Wind_Chill(F)</th>\n",
              "      <th>Humidity(%)</th>\n",
              "      <th>Pressure(in)</th>\n",
              "      <th>Visibility(mi)</th>\n",
              "      <th>Wind_Direction</th>\n",
              "      <th>Wind_Speed(mph)</th>\n",
              "      <th>Precipitation(in)</th>\n",
              "      <th>Weather_Condition</th>\n",
              "      <th>Amenity</th>\n",
              "      <th>Bump</th>\n",
              "      <th>Crossing</th>\n",
              "      <th>Give_Way</th>\n",
              "      <th>Junction</th>\n",
              "      <th>No_Exit</th>\n",
              "      <th>Railway</th>\n",
              "      <th>Roundabout</th>\n",
              "      <th>Station</th>\n",
              "      <th>Stop</th>\n",
              "      <th>Traffic_Calming</th>\n",
              "      <th>Traffic_Signal</th>\n",
              "      <th>Turning_Loop</th>\n",
              "      <th>Sunrise_Sunset</th>\n",
              "      <th>Civil_Twilight</th>\n",
              "      <th>Nautical_Twilight</th>\n",
              "      <th>Astronomical_Twilight</th>\n",
              "    </tr>\n",
              "  </thead>\n",
              "  <tbody>\n",
              "    <tr>\n",
              "      <th>0</th>\n",
              "      <td>A-1</td>\n",
              "      <td>MapQuest</td>\n",
              "      <td>201.0</td>\n",
              "      <td>3</td>\n",
              "      <td>2016-02-08 05:46:00</td>\n",
              "      <td>2016-02-08 11:00:00</td>\n",
              "      <td>39.865147</td>\n",
              "      <td>-84.058723</td>\n",
              "      <td>NaN</td>\n",
              "      <td>NaN</td>\n",
              "      <td>0.01</td>\n",
              "      <td>Right lane blocked due to accident on I-70 Eas...</td>\n",
              "      <td>NaN</td>\n",
              "      <td>I-70 E</td>\n",
              "      <td>R</td>\n",
              "      <td>Dayton</td>\n",
              "      <td>Montgomery</td>\n",
              "      <td>OH</td>\n",
              "      <td>45424</td>\n",
              "      <td>US</td>\n",
              "      <td>US/Eastern</td>\n",
              "      <td>KFFO</td>\n",
              "      <td>2016-02-08 05:58:00</td>\n",
              "      <td>36.9</td>\n",
              "      <td>NaN</td>\n",
              "      <td>91.0</td>\n",
              "      <td>29.68</td>\n",
              "      <td>10.0</td>\n",
              "      <td>Calm</td>\n",
              "      <td>NaN</td>\n",
              "      <td>0.02</td>\n",
              "      <td>Light Rain</td>\n",
              "      <td>False</td>\n",
              "      <td>False</td>\n",
              "      <td>False</td>\n",
              "      <td>False</td>\n",
              "      <td>False</td>\n",
              "      <td>False</td>\n",
              "      <td>False</td>\n",
              "      <td>False</td>\n",
              "      <td>False</td>\n",
              "      <td>False</td>\n",
              "      <td>False</td>\n",
              "      <td>False</td>\n",
              "      <td>False</td>\n",
              "      <td>Night</td>\n",
              "      <td>Night</td>\n",
              "      <td>Night</td>\n",
              "      <td>Night</td>\n",
              "    </tr>\n",
              "    <tr>\n",
              "      <th>1</th>\n",
              "      <td>A-2</td>\n",
              "      <td>MapQuest</td>\n",
              "      <td>201.0</td>\n",
              "      <td>2</td>\n",
              "      <td>2016-02-08 06:07:59</td>\n",
              "      <td>2016-02-08 06:37:59</td>\n",
              "      <td>39.928059</td>\n",
              "      <td>-82.831184</td>\n",
              "      <td>NaN</td>\n",
              "      <td>NaN</td>\n",
              "      <td>0.01</td>\n",
              "      <td>Accident on Brice Rd at Tussing Rd. Expect del...</td>\n",
              "      <td>2584.0</td>\n",
              "      <td>Brice Rd</td>\n",
              "      <td>L</td>\n",
              "      <td>Reynoldsburg</td>\n",
              "      <td>Franklin</td>\n",
              "      <td>OH</td>\n",
              "      <td>43068-3402</td>\n",
              "      <td>US</td>\n",
              "      <td>US/Eastern</td>\n",
              "      <td>KCMH</td>\n",
              "      <td>2016-02-08 05:51:00</td>\n",
              "      <td>37.9</td>\n",
              "      <td>NaN</td>\n",
              "      <td>100.0</td>\n",
              "      <td>29.65</td>\n",
              "      <td>10.0</td>\n",
              "      <td>Calm</td>\n",
              "      <td>NaN</td>\n",
              "      <td>0.00</td>\n",
              "      <td>Light Rain</td>\n",
              "      <td>False</td>\n",
              "      <td>False</td>\n",
              "      <td>False</td>\n",
              "      <td>False</td>\n",
              "      <td>False</td>\n",
              "      <td>False</td>\n",
              "      <td>False</td>\n",
              "      <td>False</td>\n",
              "      <td>False</td>\n",
              "      <td>False</td>\n",
              "      <td>False</td>\n",
              "      <td>False</td>\n",
              "      <td>False</td>\n",
              "      <td>Night</td>\n",
              "      <td>Night</td>\n",
              "      <td>Night</td>\n",
              "      <td>Day</td>\n",
              "    </tr>\n",
              "    <tr>\n",
              "      <th>2</th>\n",
              "      <td>A-3</td>\n",
              "      <td>MapQuest</td>\n",
              "      <td>201.0</td>\n",
              "      <td>2</td>\n",
              "      <td>2016-02-08 06:49:27</td>\n",
              "      <td>2016-02-08 07:19:27</td>\n",
              "      <td>39.063148</td>\n",
              "      <td>-84.032608</td>\n",
              "      <td>NaN</td>\n",
              "      <td>NaN</td>\n",
              "      <td>0.01</td>\n",
              "      <td>Accident on OH-32 State Route 32 Westbound at ...</td>\n",
              "      <td>NaN</td>\n",
              "      <td>State Route 32</td>\n",
              "      <td>R</td>\n",
              "      <td>Williamsburg</td>\n",
              "      <td>Clermont</td>\n",
              "      <td>OH</td>\n",
              "      <td>45176</td>\n",
              "      <td>US</td>\n",
              "      <td>US/Eastern</td>\n",
              "      <td>KI69</td>\n",
              "      <td>2016-02-08 06:56:00</td>\n",
              "      <td>36.0</td>\n",
              "      <td>33.3</td>\n",
              "      <td>100.0</td>\n",
              "      <td>29.67</td>\n",
              "      <td>10.0</td>\n",
              "      <td>SW</td>\n",
              "      <td>3.5</td>\n",
              "      <td>NaN</td>\n",
              "      <td>Overcast</td>\n",
              "      <td>False</td>\n",
              "      <td>False</td>\n",
              "      <td>False</td>\n",
              "      <td>False</td>\n",
              "      <td>False</td>\n",
              "      <td>False</td>\n",
              "      <td>False</td>\n",
              "      <td>False</td>\n",
              "      <td>False</td>\n",
              "      <td>False</td>\n",
              "      <td>False</td>\n",
              "      <td>True</td>\n",
              "      <td>False</td>\n",
              "      <td>Night</td>\n",
              "      <td>Night</td>\n",
              "      <td>Day</td>\n",
              "      <td>Day</td>\n",
              "    </tr>\n",
              "  </tbody>\n",
              "</table>\n",
              "</div>"
            ],
            "text/plain": [
              "    ID    Source    TMC  ...  Civil_Twilight Nautical_Twilight Astronomical_Twilight\n",
              "0  A-1  MapQuest  201.0  ...           Night             Night                 Night\n",
              "1  A-2  MapQuest  201.0  ...           Night             Night                   Day\n",
              "2  A-3  MapQuest  201.0  ...           Night               Day                   Day\n",
              "\n",
              "[3 rows x 49 columns]"
            ]
          },
          "metadata": {
            "tags": []
          },
          "execution_count": 39
        }
      ]
    },
    {
      "cell_type": "code",
      "metadata": {
        "id": "YTchOEEi4iP9",
        "colab": {
          "base_uri": "https://localhost:8080/"
        },
        "outputId": "147fae4a-c130-4925-8db9-ccba2396e4d0"
      },
      "source": [
        "df.Start_Time[df['Start_Time'].dt.dayofweek==6] "
      ],
      "execution_count": null,
      "outputs": [
        {
          "output_type": "execute_result",
          "data": {
            "text/plain": [
              "135       2016-02-14 10:13:00\n",
              "136       2016-02-14 10:49:23\n",
              "137       2016-02-14 10:41:57\n",
              "138       2016-02-14 18:15:23\n",
              "139       2016-02-14 19:17:01\n",
              "                  ...        \n",
              "4230287   2019-08-18 22:48:14\n",
              "4230288   2019-08-18 23:24:10\n",
              "4230402   2019-08-18 22:56:56\n",
              "4230403   2019-08-18 22:56:56\n",
              "4230442   2019-08-18 22:54:41\n",
              "Name: Start_Time, Length: 255920, dtype: datetime64[ns]"
            ]
          },
          "metadata": {
            "tags": []
          },
          "execution_count": 40
        }
      ]
    },
    {
      "cell_type": "code",
      "metadata": {
        "colab": {
          "base_uri": "https://localhost:8080/",
          "height": 297
        },
        "id": "5GJ1iAFvEPIM",
        "outputId": "c9f6a0ef-4e37-4b03-a8ca-e2ec6536cd51"
      },
      "source": [
        "sns.histplot(df.Start_Time[df['Start_Time'].dt.dayofweek==6] .dt.hour,bins=24)"
      ],
      "execution_count": null,
      "outputs": [
        {
          "output_type": "execute_result",
          "data": {
            "text/plain": [
              "<matplotlib.axes._subplots.AxesSubplot at 0x7fc3a5311350>"
            ]
          },
          "metadata": {
            "tags": []
          },
          "execution_count": 41
        },
        {
          "output_type": "display_data",
          "data": {
            "image/png": "[encoded data removed]",
            "text/plain": [
              "<Figure size 432x288 with 1 Axes>"
            ]
          },
          "metadata": {
            "tags": []
          }
        }
      ]
    },
    {
      "cell_type": "code",
      "metadata": {
        "colab": {
          "base_uri": "https://localhost:8080/",
          "height": 297
        },
        "id": "DR0SVzEeEkZr",
        "outputId": "9ab3c69a-c3c2-48ed-ae83-950abb198b4f"
      },
      "source": [
        "# comparison with monday data set\n",
        "sns.histplot(df.Start_Time[df['Start_Time'].dt.dayofweek==0] .dt.hour,bins=24)"
      ],
      "execution_count": null,
      "outputs": [
        {
          "output_type": "execute_result",
          "data": {
            "text/plain": [
              "<matplotlib.axes._subplots.AxesSubplot at 0x7fcba905d710>"
            ]
          },
          "metadata": {
            "tags": []
          },
          "execution_count": 50
        },
        {
          "output_type": "display_data",
          "data": {
            "image/png": "[encoded data removed]",
            "text/plain": [
              "<Figure size 432x288 with 1 Axes>"
            ]
          },
          "metadata": {
            "tags": []
          }
        }
      ]
    },
    {
      "cell_type": "code",
      "metadata": {
        "colab": {
          "base_uri": "https://localhost:8080/",
          "height": 351
        },
        "id": "f0AgTSnHEkhG",
        "outputId": "b88fa334-81cf-4243-da9e-8a3003740ce8"
      },
      "source": [
        "monday_start_time=df.Start_Time[df.Start_Time.dt.dayofweek==0]\n",
        "sns.distplot(monday_start_time.dt.month,bins=12, kde=False, norm_hist=True)"
      ],
      "execution_count": null,
      "outputs": [
        {
          "output_type": "stream",
          "text": [
            "/usr/local/lib/python3.7/dist-packages/seaborn/distributions.py:2557: FutureWarning: `distplot` is a deprecated function and will be removed in a future version. Please adapt your code to use either `displot` (a figure-level function with similar flexibility) or `histplot` (an axes-level function for histograms).\n",
            "  warnings.warn(msg, FutureWarning)\n"
          ],
          "name": "stderr"
        },
        {
          "output_type": "execute_result",
          "data": {
            "text/plain": [
              "<matplotlib.axes._subplots.AxesSubplot at 0x7fc3a50cfe10>"
            ]
          },
          "metadata": {
            "tags": []
          },
          "execution_count": 43
        },
        {
          "output_type": "display_data",
          "data": {
            "image/png": "[encoded data removed]",
            "text/plain": [
              "<Figure size 432x288 with 1 Axes>"
            ]
          },
          "metadata": {
            "tags": []
          }
        }
      ]
    },
    {
      "cell_type": "code",
      "metadata": {
        "id": "jLpnuyDcEkj9"
      },
      "source": [
        "#can you explain the month -wise trend of accidents?\n",
        "#_Much data is missing for 2016. May be even in 2017\n",
        "#There seems to be some issue with the Bing data "
      ],
      "execution_count": null,
      "outputs": []
    },
    {
      "cell_type": "code",
      "metadata": {
        "colab": {
          "base_uri": "https://localhost:8080/",
          "height": 385
        },
        "id": "L1WYAHeqEkmf",
        "outputId": "251344ac-fbb5-4145-ad33-b645aae71f87"
      },
      "source": [
        "df_2019=df[df.Start_Time.dt.year ==2019]\n",
        "df_2019_Bing =df_2019[df.Source ==\"MapQuest-Bing\"]\n",
        "sns.distplot(df_2019.Start_Time.dt.month, bins=12 ,kde=False, norm_hist=True)"
      ],
      "execution_count": null,
      "outputs": [
        {
          "output_type": "stream",
          "text": [
            "/usr/local/lib/python3.7/dist-packages/ipykernel_launcher.py:2: UserWarning: Boolean Series key will be reindexed to match DataFrame index.\n",
            "  \n",
            "/usr/local/lib/python3.7/dist-packages/seaborn/distributions.py:2557: FutureWarning: `distplot` is a deprecated function and will be removed in a future version. Please adapt your code to use either `displot` (a figure-level function with similar flexibility) or `histplot` (an axes-level function for histograms).\n",
            "  warnings.warn(msg, FutureWarning)\n"
          ],
          "name": "stderr"
        },
        {
          "output_type": "execute_result",
          "data": {
            "text/plain": [
              "<matplotlib.axes._subplots.AxesSubplot at 0x7fc3a0771a10>"
            ]
          },
          "metadata": {
            "tags": []
          },
          "execution_count": 53
        },
        {
          "output_type": "display_data",
          "data": {
            "image/png": "[encoded data removed]",
            "text/plain": [
              "<Figure size 432x288 with 1 Axes>"
            ]
          },
          "metadata": {
            "tags": []
          }
        }
      ]
    },
    {
      "cell_type": "code",
      "metadata": {
        "colab": {
          "base_uri": "https://localhost:8080/"
        },
        "id": "jK1ezMk0jwpz",
        "outputId": "44a4f515-05d5-468b-d088-c94de706f7f6"
      },
      "source": [
        "df[\"Source\"].unique()"
      ],
      "execution_count": null,
      "outputs": [
        {
          "output_type": "execute_result",
          "data": {
            "text/plain": [
              "array(['MapQuest', 'MapQuest-Bing', 'Bing'], dtype=object)"
            ]
          },
          "metadata": {
            "tags": []
          },
          "execution_count": 50
        }
      ]
    },
    {
      "cell_type": "code",
      "metadata": {
        "colab": {
          "base_uri": "https://localhost:8080/",
          "height": 265
        },
        "id": "ufNgGfYcliPR",
        "outputId": "8c13bf27-4931-4725-f78b-dbccccd26845"
      },
      "source": [
        "df.Source.value_counts().plot(kind=\"pie\")"
      ],
      "execution_count": null,
      "outputs": [
        {
          "output_type": "execute_result",
          "data": {
            "text/plain": [
              "<matplotlib.axes._subplots.AxesSubplot at 0x7fc3a07e2250>"
            ]
          },
          "metadata": {
            "tags": []
          },
          "execution_count": 55
        },
        {
          "output_type": "display_data",
          "data": {
            "image/png": "[encoded data removed]",
            "text/plain": [
              "<Figure size 432x288 with 1 Axes>"
            ]
          },
          "metadata": {
            "tags": []
          }
        }
      ]
    },
    {
      "cell_type": "markdown",
      "metadata": {
        "id": "ycGb9ujgmCAp"
      },
      "source": [
        "consider excluding bing data tha thave some issue"
      ]
    },
    {
      "cell_type": "markdown",
      "metadata": {
        "id": "NanGdi9smUWO"
      },
      "source": [
        "start lattitude and longitude \n"
      ]
    },
    {
      "cell_type": "code",
      "metadata": {
        "colab": {
          "base_uri": "https://localhost:8080/"
        },
        "id": "LiKKt-D6lidA",
        "outputId": "37b024e5-ef95-4e6d-c820-5612a7b3ba51"
      },
      "source": [
        "df.Start_Lat"
      ],
      "execution_count": null,
      "outputs": [
        {
          "output_type": "execute_result",
          "data": {
            "text/plain": [
              "0          39.865147\n",
              "1          39.928059\n",
              "2          39.063148\n",
              "3          39.747753\n",
              "4          39.627781\n",
              "             ...    \n",
              "4232536    34.002480\n",
              "4232537    32.766960\n",
              "4232538    33.775450\n",
              "4232539    33.992460\n",
              "4232540    34.133930\n",
              "Name: Start_Lat, Length: 4232541, dtype: float64"
            ]
          },
          "metadata": {
            "tags": []
          },
          "execution_count": 56
        }
      ]
    },
    {
      "cell_type": "code",
      "metadata": {
        "colab": {
          "base_uri": "https://localhost:8080/"
        },
        "id": "VWhdmSrMmxkC",
        "outputId": "cc7e4a3d-918f-41b6-bbdd-ef6336bf81ed"
      },
      "source": [
        "df.Start_Lng"
      ],
      "execution_count": null,
      "outputs": [
        {
          "output_type": "execute_result",
          "data": {
            "text/plain": [
              "0          -84.058723\n",
              "1          -82.831184\n",
              "2          -84.032608\n",
              "3          -84.205582\n",
              "4          -84.188354\n",
              "              ...    \n",
              "4232536   -117.379360\n",
              "4232537   -117.148060\n",
              "4232538   -117.847790\n",
              "4232539   -118.403020\n",
              "4232540   -117.230920\n",
              "Name: Start_Lng, Length: 4232541, dtype: float64"
            ]
          },
          "metadata": {
            "tags": []
          },
          "execution_count": 57
        }
      ]
    },
    {
      "cell_type": "code",
      "metadata": {
        "colab": {
          "base_uri": "https://localhost:8080/",
          "height": 299
        },
        "id": "H5OHUaSwjn4h",
        "outputId": "ebf449a9-34bd-48af-deb2-434e32d4b3b6"
      },
      "source": [
        "sample_df=df.sample(int(0.1*len(df)))\n",
        "\n",
        "sns.scatterplot(x= sample_df.Start_Lng, y=sample_df.Start_Lat, size=0.001)"
      ],
      "execution_count": null,
      "outputs": [
        {
          "output_type": "execute_result",
          "data": {
            "text/plain": [
              "<matplotlib.axes._subplots.AxesSubplot at 0x7fc3925fadd0>"
            ]
          },
          "metadata": {
            "tags": []
          },
          "execution_count": 62
        },
        {
          "output_type": "display_data",
          "data": {
            "image/png": "[encoded data removed]",
            "text/plain": [
              "<Figure size 432x288 with 1 Axes>"
            ]
          },
          "metadata": {
            "tags": []
          }
        }
      ]
    },
    {
      "cell_type": "code",
      "metadata": {
        "id": "g30UzR_SjoEV"
      },
      "source": [
        "import folium"
      ],
      "execution_count": null,
      "outputs": []
    },
    {
      "cell_type": "code",
      "metadata": {
        "colab": {
          "base_uri": "https://localhost:8080/",
          "height": 394
        },
        "id": "e8m7LCNTjoG3",
        "outputId": "41b03ae8-7ce7-465b-e6f9-c7f124c7adad"
      },
      "source": [
        "folium.Map()"
      ],
      "execution_count": null,
      "outputs": [
        {
          "output_type": "execute_result",
          "data": {
            "text/html": [
              "<div style=\"width:100%;\"><div style=\"position:relative;width:100%;height:0;padding-bottom:60%;\"><span style=\"color:#565656\">Make this Notebook Trusted to load map: File -> Trust Notebook</span><iframe src=\"about:blank\" style=\"position:absolute;width:100%;height:100%;left:0;top:0;border:none !important;\" data-html=%3C%21DOCTYPE%20html%3E%0A%3Chead%3E%20%20%20%20%0A%20%20%20%20%3Cmeta%20http-equiv%3D%22content-type%22%20content%3D%22text/html%3B%20charset%3DUTF-8%22%20/%3E%0A%20%20%20%20%3Cscript%3EL_PREFER_CANVAS%3Dfalse%3B%20L_NO_TOUCH%3Dfalse%3B%20L_DISABLE_3D%3Dfalse%3B%3C/script%3E%0A%20%20%20%20%3Cscript%20src%3D%22https%3A//cdn.jsdelivr.net/npm/leaflet%401.4.0/dist/leaflet.js%22%3E%3C/script%3E%0A%20%20%20%20%3Cscript%20src%3D%22https%3A//code.jquery.com/jquery-1.12.4.min.js%22%3E%3C/script%3E%0A%20%20%20%20%3Cscript%20src%3D%22https%3A//maxcdn.bootstrapcdn.com/bootstrap/3.2.0/js/bootstrap.min.js%22%3E%3C/script%3E%0A%20%20%20%20%3Cscript%20src%3D%22https%3A//cdnjs.cloudflare.com/ajax/libs/Leaflet.awesome-markers/2.0.2/leaflet.awesome-markers.js%22%3E%3C/script%3E%0A%20%20%20%20%3Clink%20rel%3D%22stylesheet%22%20href%3D%22https%3A//cdn.jsdelivr.net/npm/leaflet%401.4.0/dist/leaflet.css%22/%3E%0A%20%20%20%20%3Clink%20rel%3D%22stylesheet%22%20href%3D%22https%3A//maxcdn.bootstrapcdn.com/bootstrap/3.2.0/css/bootstrap.min.css%22/%3E%0A%20%20%20%20%3Clink%20rel%3D%22stylesheet%22%20href%3D%22https%3A//maxcdn.bootstrapcdn.com/bootstrap/3.2.0/css/bootstrap-theme.min.css%22/%3E%0A%20%20%20%20%3Clink%20rel%3D%22stylesheet%22%20href%3D%22https%3A//maxcdn.bootstrapcdn.com/font-awesome/4.6.3/css/font-awesome.min.css%22/%3E%0A%20%20%20%20%3Clink%20rel%3D%22stylesheet%22%20href%3D%22https%3A//cdnjs.cloudflare.com/ajax/libs/Leaflet.awesome-markers/2.0.2/leaflet.awesome-markers.css%22/%3E%0A%20%20%20%20%3Clink%20rel%3D%22stylesheet%22%20href%3D%22https%3A//rawcdn.githack.com/python-visualization/folium/master/folium/templates/leaflet.awesome.rotate.css%22/%3E%0A%20%20%20%20%3Cstyle%3Ehtml%2C%20body%20%7Bwidth%3A%20100%25%3Bheight%3A%20100%25%3Bmargin%3A%200%3Bpadding%3A%200%3B%7D%3C/style%3E%0A%20%20%20%20%3Cstyle%3E%23map%20%7Bposition%3Aabsolute%3Btop%3A0%3Bbottom%3A0%3Bright%3A0%3Bleft%3A0%3B%7D%3C/style%3E%0A%20%20%20%20%0A%20%20%20%20%3Cmeta%20name%3D%22viewport%22%20content%3D%22width%3Ddevice-width%2C%0A%20%20%20%20%20%20%20%20initial-scale%3D1.0%2C%20maximum-scale%3D1.0%2C%20user-scalable%3Dno%22%20/%3E%0A%20%20%20%20%3Cstyle%3E%23map_ac4b4cbdb63f4a20a2d0d4a7e609c6c0%20%7B%0A%20%20%20%20%20%20%20%20position%3A%20relative%3B%0A%20%20%20%20%20%20%20%20width%3A%20100.0%25%3B%0A%20%20%20%20%20%20%20%20height%3A%20100.0%25%3B%0A%20%20%20%20%20%20%20%20left%3A%200.0%25%3B%0A%20%20%20%20%20%20%20%20top%3A%200.0%25%3B%0A%20%20%20%20%20%20%20%20%7D%0A%20%20%20%20%3C/style%3E%0A%3C/head%3E%0A%3Cbody%3E%20%20%20%20%0A%20%20%20%20%0A%20%20%20%20%3Cdiv%20class%3D%22folium-map%22%20id%3D%22map_ac4b4cbdb63f4a20a2d0d4a7e609c6c0%22%20%3E%3C/div%3E%0A%3C/body%3E%0A%3Cscript%3E%20%20%20%20%0A%20%20%20%20%0A%20%20%20%20%0A%20%20%20%20%20%20%20%20var%20bounds%20%3D%20null%3B%0A%20%20%20%20%0A%0A%20%20%20%20var%20map_ac4b4cbdb63f4a20a2d0d4a7e609c6c0%20%3D%20L.map%28%0A%20%20%20%20%20%20%20%20%27map_ac4b4cbdb63f4a20a2d0d4a7e609c6c0%27%2C%20%7B%0A%20%20%20%20%20%20%20%20center%3A%20%5B0%2C%200%5D%2C%0A%20%20%20%20%20%20%20%20zoom%3A%201%2C%0A%20%20%20%20%20%20%20%20maxBounds%3A%20bounds%2C%0A%20%20%20%20%20%20%20%20layers%3A%20%5B%5D%2C%0A%20%20%20%20%20%20%20%20worldCopyJump%3A%20false%2C%0A%20%20%20%20%20%20%20%20crs%3A%20L.CRS.EPSG3857%2C%0A%20%20%20%20%20%20%20%20zoomControl%3A%20true%2C%0A%20%20%20%20%20%20%20%20%7D%29%3B%0A%0A%0A%20%20%20%20%0A%20%20%20%20var%20tile_layer_1c36efb1a8534071b8a05b1cf696cafd%20%3D%20L.tileLayer%28%0A%20%20%20%20%20%20%20%20%27https%3A//%7Bs%7D.tile.openstreetmap.org/%7Bz%7D/%7Bx%7D/%7By%7D.png%27%2C%0A%20%20%20%20%20%20%20%20%7B%0A%20%20%20%20%20%20%20%20%22attribution%22%3A%20null%2C%0A%20%20%20%20%20%20%20%20%22detectRetina%22%3A%20false%2C%0A%20%20%20%20%20%20%20%20%22maxNativeZoom%22%3A%2018%2C%0A%20%20%20%20%20%20%20%20%22maxZoom%22%3A%2018%2C%0A%20%20%20%20%20%20%20%20%22minZoom%22%3A%200%2C%0A%20%20%20%20%20%20%20%20%22noWrap%22%3A%20false%2C%0A%20%20%20%20%20%20%20%20%22opacity%22%3A%201%2C%0A%20%20%20%20%20%20%20%20%22subdomains%22%3A%20%22abc%22%2C%0A%20%20%20%20%20%20%20%20%22tms%22%3A%20false%0A%7D%29.addTo%28map_ac4b4cbdb63f4a20a2d0d4a7e609c6c0%29%3B%0A%3C/script%3E onload=\"this.contentDocument.open();this.contentDocument.write(    decodeURIComponent(this.getAttribute('data-html')));this.contentDocument.close();\" allowfullscreen webkitallowfullscreen mozallowfullscreen></iframe></div></div>"
            ],
            "text/plain": [
              "<folium.folium.Map at 0x7fc3920aff90>"
            ]
          },
          "metadata": {
            "tags": []
          },
          "execution_count": 65
        }
      ]
    },
    {
      "cell_type": "code",
      "metadata": {
        "colab": {
          "base_uri": "https://localhost:8080/"
        },
        "id": "W4T2Dvx-joLZ",
        "outputId": "4cfe7e6d-4f24-427b-d5e8-9f3a38ca05d7"
      },
      "source": [
        "HeatMap(list(zip(df.Start_Lat, df.Start_Lng))).add_to(map)"
      ],
      "execution_count": null,
      "outputs": [
        {
          "output_type": "execute_result",
          "data": {
            "text/plain": [
              "[(39.865147, -84.058723),\n",
              " (39.928059000000005, -82.831184),\n",
              " (39.063148, -84.032608),\n",
              " (39.747753, -84.20558199999999),\n",
              " (39.627781, -84.188354),\n",
              " (40.100590000000004, -82.92519399999999),\n",
              " (39.758274, -84.23050699999999),\n",
              " (39.770382, -84.194901),\n",
              " (39.778061, -84.172005),\n",
              " (40.100590000000004, -82.92519399999999),\n",
              " (39.952812, -83.119293),\n",
              " (39.932709, -82.83091),\n",
              " (39.737633, -84.14993299999999),\n",
              " (39.79076, -84.241547),\n",
              " (39.972038, -82.913521),\n",
              " (39.745888, -84.17041),\n",
              " (39.748329, -84.224007),\n",
              " (39.752174, -84.239952),\n",
              " (39.740669, -84.184135),\n",
              " (39.790703, -84.244461),\n",
              " (40.052509, -82.88233199999999),\n",
              " (39.773346000000004, -84.224686),\n",
              " (39.628288, -84.226151),\n",
              " (40.023487, -82.994888),\n",
              " (39.761379, -84.25921600000001),\n",
              " (40.158024, -82.641762),\n",
              " (39.733219, -84.159653),\n",
              " (39.775303, -84.200523),\n",
              " (39.789322, -84.23910500000001),\n",
              " (39.758720000000004, -84.183762),\n",
              " (40.081459, -83.122398),\n",
              " (39.83321, -84.112946),\n",
              " (40.042725, -82.99730699999999),\n",
              " (39.974415, -82.848854),\n",
              " (39.994766, -83.02449),\n",
              " (40.006477000000004, -83.030991),\n",
              " (39.742062, -84.186996),\n",
              " (39.843521, -82.78157),\n",
              " (39.782578, -84.178688),\n",
              " (40.007626, -82.912155),\n",
              " (39.447502, -84.19120799999999),\n",
              " (39.787731, -84.173439),\n",
              " (39.426277, -83.624611),\n",
              " (39.978305999999996, -82.852554),\n",
              " (39.84182, -84.18960600000001),\n",
              " (39.953625, -82.958954),\n",
              " (40.053082, -83.049644),\n",
              " (39.936873999999996, -82.878723),\n",
              " (39.780643, -84.16349),\n",
              " (39.773193, -84.187454),\n",
              " (39.77858, -84.20468100000001),\n",
              " (39.792988, -84.20607),\n",
              " (39.770382, -84.194901),\n",
              " (39.976397999999996, -83.119225),\n",
              " (39.6395, -84.23136099999999),\n",
              " (39.232578000000004, -84.159286),\n",
              " (39.746593, -84.23912),\n",
              " (39.742783, -84.182472),\n",
              " (39.75452, -84.159279),\n",
              " (39.749916, -84.139359),\n",
              " (40.100903, -82.98410799999999),\n",
              " (39.772808000000005, -84.201851),\n",
              " (39.492484999999995, -84.131798),\n",
              " (39.570904, -84.251724),\n",
              " (39.834282, -82.74382),\n",
              " (39.622787, -84.229858),\n",
              " (39.429871, -84.079666),\n",
              " (41.407391, -81.64676700000001),\n",
              " (41.424403999999996, -81.57867399999999),\n",
              " (39.89217, -83.039169),\n",
              " (41.022358000000004, -83.650345),\n",
              " (39.206806, -84.053253),\n",
              " (39.973797, -83.022285),\n",
              " (40.048008, -82.86421999999999),\n",
              " (39.814526, -84.021744),\n",
              " (40.151196, -84.22003199999999),\n",
              " (39.954617, -82.844238),\n",
              " (38.990551, -84.207497),\n",
              " (40.008995, -83.002678),\n",
              " (39.077332, -84.225014),\n",
              " (39.955452, -82.795845),\n",
              " (40.224585999999995, -82.929085),\n",
              " (39.976397999999996, -83.119225),\n",
              " (39.985603000000005, -82.939247),\n",
              " (41.040714, -81.61314399999999),\n",
              " (41.083679, -81.579002),\n",
              " (40.766890999999994, -82.42411),\n",
              " (41.422199, -81.843018),\n",
              " (41.063995, -81.57294499999999),\n",
              " (39.747753, -84.20558199999999),\n",
              " (38.99408, -84.142021),\n",
              " (41.420818, -81.694008),\n",
              " (40.030342, -83.030197),\n",
              " (39.858089, -82.827904),\n",
              " (41.112324, -81.60992399999999),\n",
              " (39.994061, -82.729416),\n",
              " (41.355396, -81.81926700000001),\n",
              " (39.687389, -84.23796800000001),\n",
              " (39.751038, -84.214325),\n",
              " (39.749916, -84.139359),\n",
              " (39.97509, -82.88460500000001),\n",
              " (40.11195, -83.016663),\n",
              " (41.424313, -81.57914),\n",
              " (39.691864, -84.211166),\n",
              " (39.769172999999995, -84.20728299999999),\n",
              " (39.75452, -84.159279),\n",
              " (39.874947, -83.003937),\n",
              " (39.769596, -84.176964),\n",
              " (39.776416999999995, -84.23026999999999),\n",
              " (39.64185, -84.227455),\n",
              " (39.760284000000006, -84.196434),\n",
              " (39.802528, -84.220093),\n",
              " (39.828781, -84.19839499999999),\n",
              " (39.733337, -84.180359),\n",
              " (39.759426, -84.138367),\n",
              " (39.783615000000005, -84.227531),\n",
              " (39.74004, -84.194923),\n",
              " (39.735199, -84.204948),\n",
              " (39.749035, -84.20474200000001),\n",
              " (39.969223, -82.984131),\n",
              " (39.995369000000004, -82.985085),\n",
              " (39.744873, -84.205025),\n",
              " (39.749786, -84.199493),\n",
              " (39.780331, -84.195076),\n",
              " (40.109928000000004, -82.97820300000001),\n",
              " (40.11195, -83.016663),\n",
              " (40.112156, -83.035072),\n",
              " (39.871761, -82.933449),\n",
              " (39.934517, -82.86065699999999),\n",
              " (40.02404, -82.99479699999999),\n",
              " (41.014015, -81.932777),\n",
              " (40.575069, -82.528145),\n",
              " (39.996578, -84.21680500000001),\n",
              " (39.986323999999996, -82.985458),\n",
              " (40.013062, -82.90213),\n",
              " (39.981709, -82.98436),\n",
              " (39.953022, -82.99889399999999),\n",
              " (39.973812, -82.983162),\n",
              " (39.978305999999996, -82.852554),\n",
              " (39.917412, -83.014236),\n",
              " (39.469582, -83.712799),\n",
              " (39.63958, -84.234818),\n",
              " (39.975986, -82.996307),\n",
              " (39.951401000000004, -83.040161),\n",
              " (39.96888, -83.022263),\n",
              " (39.804295, -84.178917),\n",
              " (39.831444, -84.097267),\n",
              " (39.890587, -83.03538499999999),\n",
              " (39.770977, -84.183914),\n",
              " (39.808121, -84.173477),\n",
              " (41.410461, -81.725853),\n",
              " (39.747753, -84.20558199999999),\n",
              " (39.6395, -84.23136099999999),\n",
              " (39.945370000000004, -82.88744399999999),\n",
              " (39.79813, -84.24479699999999),\n",
              " (40.081715, -82.89576),\n",
              " (41.111031, -81.550728),\n",
              " (40.082015999999996, -82.937119),\n",
              " (39.763363, -84.15535),\n",
              " (39.740063, -84.191833),\n",
              " (39.99876, -82.625221),\n",
              " (39.740063, -84.191833),\n",
              " (39.99519, -82.86859100000001),\n",
              " (41.395804999999996, -81.935562),\n",
              " (39.887058, -82.883263),\n",
              " (39.824703, -83.141228),\n",
              " (40.977515999999994, -82.790749),\n",
              " (40.11195, -83.016663),\n",
              " (41.150993, -81.631393),\n",
              " (39.824703, -83.141228),\n",
              " (39.885872, -82.806198),\n",
              " (40.11195, -83.016663),\n",
              " (40.099171000000005, -83.134499),\n",
              " (40.012828999999996, -83.109131),\n",
              " (40.048183, -82.945183),\n",
              " (39.77792, -84.246872),\n",
              " (39.917412, -83.014236),\n",
              " (41.313235999999996, -81.810959),\n",
              " (39.691998, -84.043655),\n",
              " (39.852416999999996, -82.93860600000001),\n",
              " (39.956909, -83.044914),\n",
              " (39.602947, -82.951836),\n",
              " (39.891884000000005, -83.087547),\n",
              " (39.785084000000005, -84.210564),\n",
              " (40.1105, -82.977524),\n",
              " (40.757088, -82.50975),\n",
              " (41.063995, -81.57294499999999),\n",
              " (40.004749, -82.867638),\n",
              " (40.033955, -83.000862),\n",
              " (38.929512, -83.495262),\n",
              " (39.973419, -83.081558),\n",
              " (39.797958, -84.255135),\n",
              " (40.057369, -82.903717),\n",
              " (39.847927, -82.848274),\n",
              " (40.051949, -83.03280600000001),\n",
              " (40.051949, -83.03280600000001),\n",
              " (39.772822999999995, -84.135612),\n",
              " (39.673203, -84.221886),\n",
              " (39.762440000000005, -84.20506999999999),\n",
              " (39.79166, -84.169342),\n",
              " (39.72757, -84.13549),\n",
              " (40.099171000000005, -83.134499),\n",
              " (38.455898, -81.93562299999999),\n",
              " (39.764778, -84.177193),\n",
              " (40.016014, -82.903442),\n",
              " (39.686901, -83.911812),\n",
              " (39.74403, -84.214638),\n",
              " (39.955738000000004, -83.002953),\n",
              " (38.98587, -84.052551),\n",
              " (41.12336, -81.652626),\n",
              " (41.403664, -82.13942),\n",
              " (39.719009, -84.21461500000001),\n",
              " (41.063995, -81.57294499999999),\n",
              " (39.741764, -84.209923),\n",
              " (39.933803999999995, -82.78944399999999),\n",
              " (39.673203, -84.221886),\n",
              " (38.997852, -84.043739),\n",
              " (40.080402, -82.87745699999999),\n",
              " (41.04023, -81.608711),\n",
              " (39.749664, -84.201012),\n",
              " (39.749916, -84.139359),\n",
              " (41.039204, -81.631744),\n",
              " (40.993484, -82.03600300000001),\n",
              " (41.407391, -81.64676700000001),\n",
              " (39.732440999999994, -84.224243),\n",
              " (39.773193, -84.187454),\n",
              " (39.792931, -84.215195),\n",
              " (39.948299, -82.047081),\n",
              " (39.67263, -84.216522),\n",
              " (41.172302, -83.64917),\n",
              " (39.615208, -84.22731800000001),\n",
              " (39.790603999999995, -84.25140400000001),\n",
              " (39.968788, -83.003754),\n",
              " (39.905334, -82.968689),\n",
              " (39.855103, -84.183678),\n",
              " (41.414131, -81.632141),\n",
              " (39.933803999999995, -82.78944399999999),\n",
              " (41.063995, -81.57294499999999),\n",
              " (39.75782, -83.303154),\n",
              " (41.42181, -81.734482),\n",
              " (41.422199, -81.843018),\n",
              " (39.819839, -84.189087),\n",
              " (39.745734999999996, -84.120644),\n",
              " (40.004749, -82.867638),\n",
              " (39.626396, -84.20768699999999),\n",
              " (39.761005, -84.15855400000001),\n",
              " (39.765377, -84.155914),\n",
              " (39.936871000000004, -82.936317),\n",
              " (41.420666, -81.81644399999999),\n",
              " (39.607605, -84.15598299999999),\n",
              " (39.819809, -84.18710300000001),\n",
              " (41.371895, -81.820786),\n",
              " (39.999187, -83.075813),\n",
              " (39.741695, -84.163101),\n",
              " (39.917412, -83.014236),\n",
              " (41.423275, -81.76001),\n",
              " (39.993843, -82.985054),\n",
              " (41.36974, -81.821457),\n",
              " (41.420506, -81.816078),\n",
              " (41.407391, -81.64676700000001),\n",
              " (39.869960999999996, -84.137642),\n",
              " (39.75782, -83.303154),\n",
              " (39.84182, -84.18960600000001),\n",
              " (39.695045, -84.10419499999999),\n",
              " (39.754222999999996, -84.224075),\n",
              " (39.759544, -84.191811),\n",
              " (39.755565999999995, -84.180534),\n",
              " (39.960938, -84.189583),\n",
              " (39.609039, -84.155869),\n",
              " (39.953472, -82.960274),\n",
              " (40.106297, -83.036079),\n",
              " (39.812687, -84.22734799999999),\n",
              " (39.724258, -84.213142),\n",
              " (39.929553999999996, -82.995773),\n",
              " (39.976397999999996, -83.119225),\n",
              " (39.915928, -82.98246800000001),\n",
              " (39.009884, -84.173073),\n",
              " (39.737701, -84.134987),\n",
              " (39.974284999999995, -82.961174),\n",
              " (40.152611, -82.686996),\n",
              " (39.786629, -84.18869000000001),\n",
              " (40.016937, -83.156601),\n",
              " (40.003746, -83.15389300000001),\n",
              " (39.736061, -84.093002),\n",
              " (41.375961, -83.647453),\n",
              " (39.953648, -82.960373),\n",
              " (39.767757, -84.231712),\n",
              " (39.800312, -84.218811),\n",
              " (39.754055, -84.17588),\n",
              " (39.712257, -84.201782),\n",
              " (39.759201000000004, -84.149101),\n",
              " (39.759471999999995, -84.243698),\n",
              " (39.797668, -84.217506),\n",
              " (39.763664, -84.193298),\n",
              " (39.758121, -84.191414),\n",
              " (40.266498999999996, -82.927544),\n",
              " (40.099384, -83.155396),\n",
              " (39.981926, -83.046265),\n",
              " (39.786633, -84.170837),\n",
              " (39.765259, -84.13780200000001),\n",
              " (40.10564, -82.949692),\n",
              " (39.762531, -84.1427),\n",
              " (41.428753, -83.61036700000001),\n",
              " (39.985336, -82.78984100000001),\n",
              " (39.955517, -82.87687700000001),\n",
              " (39.858089, -82.827904),\n",
              " (39.763615, -84.142586),\n",
              " (39.933803999999995, -82.78944399999999),\n",
              " (40.136345, -83.00573),\n",
              " (39.765159999999995, -84.157234),\n",
              " (39.772438, -84.14218100000001),\n",
              " (39.981968, -83.008698),\n",
              " (39.232101, -84.16014100000001),\n",
              " (40.061661, -82.99807),\n",
              " (40.082397, -82.906921),\n",
              " (39.317173, -84.220894),\n",
              " (39.690781, -84.205147),\n",
              " (39.803726, -84.18514300000001),\n",
              " (39.838778999999995, -84.25831600000001),\n",
              " (39.76144, -84.167038),\n",
              " (39.740906, -84.182121),\n",
              " (39.81963, -84.198273),\n",
              " (39.799690000000005, -84.186996),\n",
              " (39.72364, -84.1418),\n",
              " (39.754055, -84.13889300000001),\n",
              " (39.831996999999994, -84.223694),\n",
              " (41.403744, -82.282776),\n",
              " (39.754055, -84.17588),\n",
              " (39.630444, -84.19626600000001),\n",
              " (39.801601, -84.194542),\n",
              " (39.752646999999996, -84.189774),\n",
              " (39.933803999999995, -82.78944399999999),\n",
              " (39.571163, -84.202606),\n",
              " (39.175053000000005, -84.236313),\n",
              " (39.977321999999994, -83.02109499999999),\n",
              " (39.175728, -84.180763),\n",
              " (39.688652000000005, -84.127998),\n",
              " (39.628288, -84.226151),\n",
              " (39.96764, -83.06081400000001),\n",
              " (39.797958, -84.255135),\n",
              " (39.783669, -84.155045),\n",
              " (39.989044, -83.049088),\n",
              " (39.819721, -84.191528),\n",
              " (39.783089000000004, -84.188911),\n",
              " (39.590527, -84.17076899999999),\n",
              " (41.40274, -81.817856),\n",
              " (40.039909, -82.99683399999999),\n",
              " (39.972336, -82.983917),\n",
              " (40.00164, -82.923073),\n",
              " (39.902088, -82.898178),\n",
              " (39.833824, -83.100853),\n",
              " (39.713467, -84.216095),\n",
              " (39.640202, -84.235283),\n",
              " (39.733723, -84.204971),\n",
              " (41.351006, -83.622826),\n",
              " (39.845287, -83.993217),\n",
              " (39.607788, -84.228088),\n",
              " (39.873238, -84.13720699999999),\n",
              " (40.058132, -82.922752),\n",
              " (41.420975, -81.689758),\n",
              " (39.788414, -84.183693),\n",
              " (39.836643, -84.060753),\n",
              " (41.039829, -81.662872),\n",
              " (38.581139, -82.00456199999999),\n",
              " (39.754055, -84.17588),\n",
              " (39.929844, -83.116486),\n",
              " (39.962146999999995, -83.092667),\n",
              " (39.697266, -84.218781),\n",
              " (40.993092, -81.662689),\n",
              " (39.845287, -83.993217),\n",
              " (41.041447, -81.565163),\n",
              " (41.407391, -81.64676700000001),\n",
              " (41.037265999999995, -81.583786),\n",
              " (39.598721000000005, -84.161491),\n",
              " (40.018669, -81.565704),\n",
              " (39.724251, -84.21315799999999),\n",
              " (39.758556, -84.177246),\n",
              " (39.790565, -84.25914),\n",
              " (39.753105, -84.15158100000001),\n",
              " (40.301411, -83.06575),\n",
              " (39.732566999999996, -84.15900400000001),\n",
              " (39.800358, -82.708252),\n",
              " (41.351006, -83.622826),\n",
              " (39.790565, -84.25914),\n",
              " (39.753105, -84.15158100000001),\n",
              " (40.11195, -83.016663),\n",
              " (38.892097, -84.208702),\n",
              " (39.981602, -82.885704),\n",
              " (41.337879, -82.216049),\n",
              " (39.747112, -84.163826),\n",
              " (40.087536, -82.98741899999999),\n",
              " (39.782368, -84.203339),\n",
              " (39.878578000000005, -83.049774),\n",
              " (39.669388, -84.22225999999999),\n",
              " (39.626953, -84.212288),\n",
              " (39.812687, -84.22734799999999),\n",
              " (39.819839, -84.189087),\n",
              " (39.953262, -83.01795200000001),\n",
              " (39.739319, -84.157219),\n",
              " (39.91468, -83.01690699999999),\n",
              " (41.037647, -81.584183),\n",
              " (39.798611, -84.207466),\n",
              " (40.083206, -82.90679899999999),\n",
              " (39.749916, -84.139359),\n",
              " (39.752734999999994, -84.145386),\n",
              " (39.689021999999994, -84.220665),\n",
              " (39.778011, -84.20049300000001),\n",
              " (41.399147, -81.565674),\n",
              " (39.596703000000005, -84.238388),\n",
              " (39.973015000000004, -83.014801),\n",
              " (39.777355, -84.19957),\n",
              " (41.139114, -81.597305),\n",
              " (39.647240000000004, -84.224319),\n",
              " (39.745487, -84.16544300000001),\n",
              " (39.732552, -84.12197900000001),\n",
              " (39.778011, -84.20049300000001),\n",
              " (40.002552, -83.11835500000001),\n",
              " (39.780014, -84.162888),\n",
              " (39.643101, -84.209923),\n",
              " (39.767769, -84.17716999999999),\n",
              " (39.812687, -84.22734799999999),\n",
              " (39.986323999999996, -82.985458),\n",
              " (40.109913, -84.223648),\n",
              " (39.83847, -84.246307),\n",
              " (39.627990999999994, -84.17021899999999),\n",
              " (39.945834999999995, -83.061295),\n",
              " (39.591389, -84.229485),\n",
              " (39.790302000000004, -84.21390500000001),\n",
              " (39.927440999999995, -83.056198),\n",
              " (39.946892, -82.91548900000001),\n",
              " (40.002552, -83.11835500000001),\n",
              " (39.79031, -84.029114),\n",
              " (39.087887, -84.236076),\n",
              " (39.188583, -84.258705),\n",
              " (39.012833, -83.797585),\n",
              " (40.151196, -84.22003199999999),\n",
              " (40.033405, -82.910225),\n",
              " (39.591389, -84.229485),\n",
              " (40.080338, -82.880074),\n",
              " (40.200333, -83.027435),\n",
              " (40.025040000000004, -82.904129),\n",
              " (40.013062, -82.90213),\n",
              " (40.065559, -82.906418),\n",
              " (39.588413, -84.229774),\n",
              " (39.902195, -83.084763),\n",
              " (41.370506, -83.616997),\n",
              " (39.945427, -82.846558),\n",
              " (39.945751, -82.846252),\n",
              " (41.316475, -81.649101),\n",
              " (39.786633, -84.170837),\n",
              " (39.768337, -84.194244),\n",
              " (39.797005, -84.154556),\n",
              " (40.005947, -82.858887),\n",
              " (39.355782, -83.268311),\n",
              " (40.030914, -82.994598),\n",
              " (39.746147, -84.183167),\n",
              " (39.771233, -84.1763),\n",
              " (39.976397999999996, -83.119225),\n",
              " (39.948391, -82.943558),\n",
              " (39.321606, -84.070908),\n",
              " (39.085529, -84.178314),\n",
              " (39.758556, -84.177246),\n",
              " (39.939571, -83.009911),\n",
              " (39.747753, -84.20558199999999),\n",
              " (39.815628000000004, -84.093338),\n",
              " (39.635357, -84.216339),\n",
              " (39.757317, -84.151299),\n",
              " (39.768837, -84.20156899999999),\n",
              " (39.749916, -84.139359),\n",
              " (39.685413, -84.220871),\n",
              " (39.919437, -82.775238),\n",
              " (39.972076, -83.09818299999999),\n",
              " (39.791206, -84.206223),\n",
              " (39.778645000000004, -84.20476500000001),\n",
              " (39.749916, -84.139359),\n",
              " (39.934155, -82.852524),\n",
              " (39.755344, -84.203598),\n",
              " (40.045821999999994, -83.033424),\n",
              " (40.051949, -83.03280600000001),\n",
              " (39.943745, -83.073151),\n",
              " (39.89217, -83.039169),\n",
              " (41.113785, -81.611633),\n",
              " (39.948158, -83.036201),\n",
              " (39.819839, -84.189087),\n",
              " (39.788414, -84.183693),\n",
              " (39.747406, -84.239487),\n",
              " (39.747753, -84.20558199999999),\n",
              " (39.788414, -84.183693),\n",
              " (41.351006, -83.622826),\n",
              " (39.756203, -84.25322),\n",
              " (39.943653000000005, -83.060631),\n",
              " (39.985336, -82.78984100000001),\n",
              " (40.077419, -82.907898),\n",
              " (39.739036999999996, -84.152107),\n",
              " (40.083298, -84.117058),\n",
              " (40.089439, -83.036194),\n",
              " (39.735844, -84.121658),\n",
              " (39.764576, -84.187706),\n",
              " (39.747974, -84.215065),\n",
              " (39.747753, -84.20558199999999),\n",
              " (39.95232, -83.03761300000001),\n",
              " (40.01757, -82.928978),\n",
              " (39.956528000000006, -83.018555),\n",
              " (39.939571, -83.009911),\n",
              " (39.749916, -84.139359),\n",
              " (41.137856, -83.65884399999999),\n",
              " (41.112324, -81.60992399999999),\n",
              " (40.109077, -83.091064),\n",
              " (39.779266, -84.23465),\n",
              " (41.420975, -81.689758),\n",
              " (39.596703000000005, -84.238388),\n",
              " (39.772822999999995, -84.135612),\n",
              " (40.109497, -83.090813),\n",
              " (40.080402, -82.87745699999999),\n",
              " (39.741417, -84.18055),\n",
              " (39.760406, -84.195686),\n",
              " (39.627781, -84.188354),\n",
              " (39.706184, -84.217506),\n",
              " (39.812687, -84.22734799999999),\n",
              " (39.767471, -84.15786700000001),\n",
              " (39.902088, -82.898178),\n",
              " (40.699065999999995, -84.089935),\n",
              " (39.811291, -84.235176),\n",
              " (39.811291, -84.235176),\n",
              " (39.872375, -84.055153),\n",
              " (39.916484999999994, -82.897026),\n",
              " (39.019779, -84.20581800000001),\n",
              " (39.096835999999996, -84.253273),\n",
              " (40.006477000000004, -83.030991),\n",
              " (40.080402, -82.87745699999999),\n",
              " (39.748081, -84.13945799999999),\n",
              " (40.003059, -82.862289),\n",
              " (41.36795, -81.821655),\n",
              " (39.757771000000005, -84.142036),\n",
              " (39.749916, -84.139359),\n",
              " (39.106014, -84.147224),\n",
              " (39.603619, -84.228577),\n",
              " (39.636219, -84.21775799999999),\n",
              " (39.790596, -84.253807),\n",
              " (39.786629, -84.18869000000001),\n",
              " (40.112133, -83.016998),\n",
              " (39.753288, -84.191978),\n",
              " (39.770718, -84.211449),\n",
              " (39.995968, -83.024574),\n",
              " (40.131283, -83.089745),\n",
              " (40.103794, -83.13369),\n",
              " (40.047691, -82.997086),\n",
              " (39.93639, -82.881676),\n",
              " (40.827763, -83.975716),\n",
              " (39.671558000000005, -84.252678),\n",
              " (40.028641, -83.01509899999999),\n",
              " (40.02404, -82.99479699999999),\n",
              " (40.11182, -82.901276),\n",
              " (40.099171000000005, -83.134499),\n",
              " (40.059711, -82.419037),\n",
              " (39.801685, -84.253998),\n",
              " (39.798016, -84.25018299999999),\n",
              " (39.995106, -83.025337),\n",
              " (39.740906, -84.182121),\n",
              " (39.757221, -84.205894),\n",
              " (39.745384, -84.183006),\n",
              " (39.658932, -84.157677),\n",
              " (39.780712, -84.18723299999999),\n",
              " (39.754055, -84.17588),\n",
              " (39.828781, -84.19839499999999),\n",
              " (39.805809, -84.222435),\n",
              " (39.896893, -83.723129),\n",
              " (39.715988, -84.219238),\n",
              " (39.896893, -83.723129),\n",
              " (39.715988, -84.219238),\n",
              " (39.933803999999995, -82.78944399999999),\n",
              " (39.668198, -84.147636),\n",
              " (39.781203999999995, -84.20558199999999),\n",
              " (39.901142, -84.18789699999999),\n",
              " (39.903053, -83.162949),\n",
              " (39.783173, -84.117981),\n",
              " (39.085529, -84.178314),\n",
              " (40.111134, -82.992203),\n",
              " (39.948391, -82.943558),\n",
              " (39.786411, -84.25376899999999),\n",
              " (39.782368, -84.203339),\n",
              " (39.74688, -84.15986600000001),\n",
              " (39.596725, -84.231667),\n",
              " (39.784584, -84.15226700000001),\n",
              " (39.769596, -84.176964),\n",
              " (39.696461, -83.456673),\n",
              " (39.978477000000005, -83.119835),\n",
              " (39.773762, -84.14045),\n",
              " (39.956909, -83.044914),\n",
              " (39.788414, -84.183693),\n",
              " (38.843636, -82.216187),\n",
              " (39.741505, -84.16555),\n",
              " (39.978668, -82.974152),\n",
              " (39.596703000000005, -84.238388),\n",
              " (39.919376, -82.936417),\n",
              " (39.788647, -84.18390699999999),\n",
              " (39.858292, -83.003548),\n",
              " (39.832066, -83.000374),\n",
              " (39.965687, -83.009842),\n",
              " (39.974940999999994, -83.10006),\n",
              " (41.403664, -82.13942),\n",
              " (41.323063, -82.616463),\n",
              " (41.420448, -81.828468),\n",
              " (39.816311, -84.130341),\n",
              " (39.798302, -84.235229),\n",
              " (39.767513, -84.194016),\n",
              " (39.671932, -84.210815),\n",
              " (39.781044, -84.242554),\n",
              " (39.774738, -84.174683),\n",
              " (39.767204, -84.162796),\n",
              " (39.95166, -83.017601),\n",
              " (39.950317, -83.01724200000001),\n",
              " (39.732437, -84.20874),\n",
              " (39.253136, -84.135544),\n",
              " (39.790283, -84.190063),\n",
              " (39.946922, -83.031151),\n",
              " (39.956466999999996, -83.045815),\n",
              " (39.641197, -84.157799),\n",
              " (41.425308, -81.897865),\n",
              " (39.917412, -83.014236),\n",
              " (39.981674, -82.984566),\n",
              " (39.994205, -83.024689),\n",
              " (40.004406, -82.918137),\n",
              " (40.084126, -83.137772),\n",
              " (39.959778, -82.997467),\n",
              " (40.008327, -82.986023),\n",
              " (39.977394, -83.150467),\n",
              " (40.025917, -82.994576),\n",
              " (41.40752, -81.64746099999999),\n",
              " (41.060379, -81.554153),\n",
              " (40.10564, -82.949692),\n",
              " (39.732307, -84.240646),\n",
              " (38.892097, -84.208702),\n",
              " (39.536186, -84.235069),\n",
              " (39.805882000000004, -84.21578199999999),\n",
              " (39.944817, -82.877861),\n",
              " (39.370232, -84.249039),\n",
              " (39.734035, -84.14502),\n",
              " (39.808914, -83.97833299999999),\n",
              " (39.735283, -84.161659),\n",
              " (39.820873, -84.237328),\n",
              " (40.105621, -83.091125),\n",
              " (39.050854, -84.07486),\n",
              " (39.751579, -84.239983),\n",
              " (41.404495000000004, -82.116928),\n",
              " (39.625694, -84.200005),\n",
              " (41.383537, -83.641235),\n",
              " (39.769259999999996, -84.236465),\n",
              " (39.592564, -84.155518),\n",
              " (39.788414, -84.183693),\n",
              " (39.800083, -84.21869699999999),\n",
              " (39.733723, -84.204971),\n",
              " (39.738392, -84.140419),\n",
              " (39.645313, -84.232414),\n",
              " (39.651726000000004, -84.233627),\n",
              " (39.945254999999996, -82.600075),\n",
              " (39.783660999999995, -84.166382),\n",
              " (40.082298, -82.896858),\n",
              " (39.751259000000005, -84.167778),\n",
              " (39.748081, -84.13945799999999),\n",
              " (39.943745, -83.073151),\n",
              " (41.407391, -81.64676700000001),\n",
              " (39.802471000000004, -84.235107),\n",
              " (39.787209000000004, -84.205185),\n",
              " (39.731812, -84.15831),\n",
              " (39.733723, -84.204971),\n",
              " (39.812775, -84.220001),\n",
              " (39.794266, -84.215851),\n",
              " (39.764576, -84.187706),\n",
              " (39.819523, -84.20468100000001),\n",
              " (39.788414, -84.183693),\n",
              " (39.980274, -82.83625),\n",
              " (39.773193, -84.187454),\n",
              " (39.941711, -83.978874),\n",
              " (39.737404, -84.185776),\n",
              " (40.082397, -82.906921),\n",
              " (39.184589, -84.235176),\n",
              " (39.923038, -82.784538),\n",
              " (39.745384, -84.183006),\n",
              " (39.870964, -82.855354),\n",
              " (39.981812, -83.118767),\n",
              " (39.997391, -83.118156),\n",
              " (39.632637, -84.20303299999999),\n",
              " (39.9767, -83.045517),\n",
              " (39.72419, -84.152336),\n",
              " (39.770382, -84.194901),\n",
              " (40.266563, -82.928535),\n",
              " (41.422028000000005, -81.877464),\n",
              " (39.820084, -84.16755699999999),\n",
              " (39.754055, -84.17588),\n",
              " (39.122822, -84.135796),\n",
              " (39.803738, -84.22461700000001),\n",
              " (39.596882, -84.117653),\n",
              " (39.615669, -84.135452),\n",
              " (39.973015000000004, -83.014801),\n",
              " (39.949711, -82.970123),\n",
              " (39.949711, -82.970123),\n",
              " (39.733723, -84.204971),\n",
              " (39.74773, -84.172325),\n",
              " (39.740417, -84.186539),\n",
              " (39.625694, -84.200005),\n",
              " (39.785046, -84.236137),\n",
              " (39.749626, -84.178291),\n",
              " (39.783344, -84.253738),\n",
              " (39.820084, -84.16755699999999),\n",
              " (39.739201, -84.230324),\n",
              " (39.790915999999996, -84.235085),\n",
              " (39.809329999999996, -84.235146),\n",
              " (39.904540999999995, -83.02684),\n",
              " (39.982506, -82.98451999999999),\n",
              " (39.757771000000005, -84.142036),\n",
              " (39.736004, -84.14344799999999),\n",
              " (39.598721000000005, -84.161491),\n",
              " (39.74004, -84.194923),\n",
              " (39.77626, -84.243752),\n",
              " (39.623940000000005, -84.194153),\n",
              " (39.732327000000005, -84.163055),\n",
              " (39.772064, -84.253517),\n",
              " (39.772064, -84.253517),\n",
              " (40.263664, -82.927452),\n",
              " (39.658939000000004, -84.223244),\n",
              " (39.67889, -84.221413),\n",
              " (39.749786, -84.199493),\n",
              " (39.745384, -84.183006),\n",
              " (39.625694, -84.200005),\n",
              " (40.120651, -82.973045),\n",
              " (41.128685, -81.652153),\n",
              " (39.959804999999996, -83.370483),\n",
              " (38.0853, -122.23301699999999),\n",
              " (37.631813, -122.084167),\n",
              " (37.896564, -122.07071699999999),\n",
              " (37.334255, -122.032471),\n",
              " (37.250729, -121.91071299999999),\n",
              " (37.701584000000004, -121.906929),\n",
              " (37.328312, -121.87181100000001),\n",
              " (37.719162, -122.448273),\n",
              " (37.868114, -122.19593),\n",
              " (37.700951, -121.80175),\n",
              " (38.321342, -122.713707),\n",
              " (38.005134999999996, -122.03744499999999),\n",
              " (37.700714000000005, -121.773895),\n",
              " (37.395771, -122.012772),\n",
              " (37.701576, -121.87217700000001),\n",
              " (38.481682, -121.408768),\n",
              " (38.682713, -121.33628799999998),\n",
              " (37.391258, -121.99589499999999),\n",
              " (37.775215, -122.220863),\n",
              " (37.418728, -121.970436),\n",
              " (37.38237, -121.904358),\n",
              " (37.701363, -121.84953300000001),\n",
              " (37.131519, -121.63330800000001),\n",
              " (38.303768, -122.708183),\n",
              " (38.026699, -122.11378500000001),\n",
              " (38.220692, -122.60753600000001),\n",
              " (37.613815, -122.396652),\n",
              " (38.646683, -121.376694),\n",
              " (37.66637, -122.107491),\n",
              " (37.700714000000005, -121.773895),\n",
              " (38.54702, -122.808311),\n",
              " (37.856171, -122.02990700000001),\n",
              " (37.119289, -121.62611399999999),\n",
              " (37.088932, -121.59921999999999),\n",
              " (38.601768, -122.86498300000001),\n",
              " (37.701060999999996, -122.393188),\n",
              " (37.448879, -122.12313799999998),\n",
              " (37.732746, -122.40493799999999),\n",
              " (37.749485, -122.403236),\n",
              " (37.454246999999995, -121.923073),\n",
              " (37.401531, -121.908859),\n",
              " (38.563538, -121.63746599999999),\n",
              " (37.825396999999995, -122.304802),\n",
              " (37.8009, -122.22876699999999),\n",
              " (37.31665, -121.94538899999999),\n",
              " (38.364796000000005, -121.350449),\n",
              " (38.551689, -121.69951599999999),\n",
              " (38.618010999999996, -121.401459),\n",
              " (37.49221, -122.38609299999999),\n",
              " (37.468765000000005, -122.15520500000001),\n",
              " (38.452553, -121.37175),\n",
              " (37.741356, -121.580826),\n",
              " (38.668053, -121.31208000000001),\n",
              " (37.78735, -122.247955),\n",
              " (38.781418, -121.145889),\n",
              " (37.608707, -122.068192),\n",
              " (38.547523, -121.717918),\n",
              " (37.977779, -122.06575),\n",
              " (37.339455, -121.852043),\n",
              " (37.553684000000004, -122.29625700000001),\n",
              " (37.731983, -122.41541299999999),\n",
              " (37.854485, -122.219765),\n",
              " (37.992588, -122.039635),\n",
              " (38.58997, -121.26548000000001),\n",
              " (39.328635999999996, -121.11116000000001),\n",
              " (38.481689, -121.396133),\n",
              " (37.462418, -122.144402),\n",
              " (38.404911, -121.91246799999999),\n",
              " (38.744423, -121.24709299999999),\n",
              " (38.203734999999995, -121.556808),\n",
              " (38.671062, -121.591881),\n",
              " (38.566139, -121.33629599999999),\n",
              " (38.846264, -121.299644),\n",
              " (38.564201000000004, -121.513878),\n",
              " (38.682323, -120.847435),\n",
              " (37.923491999999996, -122.513168),\n",
              " (37.692444, -122.14016699999999),\n",
              " (37.804386, -121.98973799999999),\n",
              " (37.252171000000004, -121.95821399999998),\n",
              " (37.701648999999996, -121.911278),\n",
              " (37.807072, -122.47561599999999),\n",
              " (37.690559, -122.074669),\n",
              " (37.766987, -121.335495),\n",
              " (37.700043, -121.779655),\n",
              " (37.933292, -121.296669),\n",
              " (39.411289000000004, -123.354477),\n",
              " (38.556145, -121.443192),\n",
              " (38.740089000000005, -121.273468),\n",
              " (38.740089000000005, -121.273468),\n",
              " (38.743984000000005, -121.226074),\n",
              " (38.477348, -122.73213999999999),\n",
              " (37.364136, -122.124481),\n",
              " (37.314921999999996, -121.910576),\n",
              " (37.955566, -122.370888),\n",
              " (38.501938, -121.789146),\n",
              " (38.714298, -121.540237),\n",
              " (37.69278, -122.101685),\n",
              " (39.267353, -121.02877),\n",
              " (39.098984, -122.80431399999999),\n",
              " (37.785709000000004, -122.244514),\n",
              " (37.996063, -121.78519399999999),\n",
              " (38.558533000000004, -122.447746),\n",
              " (37.926357, -122.060768),\n",
              " (37.352432, -121.837746),\n",
              " (37.301517, -121.876823),\n",
              " (37.808498, -122.36685200000001),\n",
              " (37.674477, -122.10066200000001),\n",
              " (37.549904, -122.025429),\n",
              " (38.176636, -122.594177),\n",
              " (37.590557000000004, -122.36186200000002),\n",
              " (38.606235999999996, -121.50806399999999),\n",
              " (37.57436, -121.88523899999998),\n",
              " (38.692122999999995, -120.886917),\n",
              " (38.242306, -122.08653999999999),\n",
              " (37.036915, -122.04236599999999),\n",
              " (37.708939, -121.72368600000001),\n",
              " (38.094425, -120.944992),\n",
              " (37.359665, -121.99598700000001),\n",
              " (37.986759, -122.31488),\n",
              " (37.997124, -122.286018),\n",
              " (37.488846, -122.212852),\n",
              " (38.578747, -121.307381),\n",
              " (37.598789000000004, -122.060852),\n",
              " (38.005134999999996, -122.03744499999999),\n",
              " (37.701225, -121.92246999999999),\n",
              " (38.686363, -121.33287),\n",
              " (37.506924, -122.341293),\n",
              " (36.666835999999996, -121.684853),\n",
              " (37.798454, -122.274803),\n",
              " (38.522472, -121.521584),\n",
              " (38.069008000000004, -122.53876499999998),\n",
              " (38.149895, -122.451241),\n",
              " (37.910786, -122.31713899999998),\n",
              " (37.861332, -122.21024299999999),\n",
              " (36.992775, -121.957268),\n",
              " (36.609657, -121.898407),\n",
              " (37.700855, -121.81778),\n",
              " (36.676228, -121.70174399999999),\n",
              " (38.100746, -122.22985800000001),\n",
              " (37.495384, -121.923294),\n",
              " (37.434715000000004, -121.88816100000001),\n",
              " (37.588905, -121.870926),\n",
              " (38.022526, -122.262299),\n",
              " (37.740906, -122.196472),\n",
              " (38.025459000000005, -122.11223600000001),\n",
              " (37.605614, -121.872658),\n",
              " (36.624297999999996, -121.841774),\n",
              " (37.318287, -121.831551),\n",
              " (38.510151, -121.45970200000001),\n",
              " (38.644184, -121.38831299999998),\n",
              " (38.559532, -121.373085),\n",
              " (37.740559000000005, -121.58578500000002),\n",
              " (37.997124, -122.286018),\n",
              " (37.337513, -122.05978400000001),\n",
              " (37.276817, -122.00723300000001),\n",
              " (38.494873, -121.45028700000002),\n",
              " (38.409306, -121.35331000000001),\n",
              " (37.89658, -122.071281),\n",
              " (37.955479, -121.32481399999999),\n",
              " (38.022526, -122.262299),\n",
              " (37.687484999999995, -122.13348400000001),\n",
              " (37.334255, -122.032471),\n",
              " (37.381865999999995, -121.963829),\n",
              " (37.704407, -122.394241),\n",
              " (38.169338, -122.199928),\n",
              " (37.795124, -122.266594),\n",
              " (37.276817, -122.00723300000001),\n",
              " (37.756107, -122.39246399999999),\n",
              " (37.793484, -122.26399199999999),\n",
              " (37.877388, -122.18415800000001),\n",
              " (38.478896999999996, -121.421066),\n",
              " (37.54932, -122.292496),\n",
              " (38.588772, -121.40425900000001),\n",
              " (37.763290000000005, -122.216171),\n",
              " (37.994178999999995, -122.07428700000001),\n",
              " (38.641265999999995, -121.47375500000001),\n",
              " (38.631653, -121.397972),\n",
              " (37.560719, -122.03563700000001),\n",
              " (38.343533, -121.335594),\n",
              " (38.546046999999994, -121.509056),\n",
              " (38.026489, -121.960167),\n",
              " (39.202377, -121.06201200000001),\n",
              " (36.988647, -121.982933),\n",
              " (37.539642, -121.92385900000001),\n",
              " (38.116135, -121.395554),\n",
              " (38.23616, -122.461472),\n",
              " (38.676525, -121.35961200000001),\n",
              " (37.784884999999996, -122.39267),\n",
              " (37.351471000000004, -121.91433700000002),\n",
              " (38.937412, -121.095352),\n",
              " (38.772587, -121.253479),\n",
              " (39.300751, -121.02988400000001),\n",
              " (37.410072, -121.87921899999999),\n",
              " (38.675251, -121.35243200000001),\n",
              " (38.667656, -121.33843999999999),\n",
              " (38.678546999999995, -121.23500800000001),\n",
              " (39.143547, -121.061333),\n",
              " (38.552616, -121.69381000000001),\n",
              " (37.570854, -122.032478),\n",
              " (38.945254999999996, -121.046089),\n",
              " (38.929756, -121.08866100000002),\n",
              " (37.316528000000005, -121.91185800000001),\n",
              " (37.315025, -121.90907299999999),\n",
              " (37.830669, -122.293343),\n",
              " (37.641117, -122.406021),\n",
              " (37.693236999999996, -122.052116),\n",
              " (37.852394, -122.02908300000001),\n",
              " (38.373032, -121.35848200000001),\n",
              " (38.643409999999996, -121.434265),\n",
              " (38.537040999999995, -121.73906699999999),\n",
              " (38.559505, -121.467201),\n",
              " (38.546028, -121.50931499999999),\n",
              " (38.942398, -121.09426100000002),\n",
              " (38.618365999999995, -121.52941100000001),\n",
              " (37.779552, -121.31451399999999),\n",
              " (37.851658, -121.282875),\n",
              " (38.64315, -121.43467700000001),\n",
              " (38.658169, -120.969086),\n",
              " (37.638011999999996, -121.324409),\n",
              " (37.31638, -121.95153799999999),\n",
              " (38.767025, -121.253128),\n",
              " (39.233013, -121.03894),\n",
              " (38.651775, -121.38294199999999),\n",
              " (37.634174, -122.414825),\n",
              " (37.581238, -122.04904199999999),\n",
              " (38.601833, -121.38290400000001),\n",
              " (38.236176, -122.461472),\n",
              " (37.785542, -122.39138),\n",
              " (37.62746, -120.99706299999998),\n",
              " (38.761790999999995, -120.91541299999999),\n",
              " (38.229401, -122.116844),\n",
              " (37.327498999999996, -121.878082),\n",
              " (37.750488, -121.37998200000001),\n",
              " (37.37682, -121.94153600000001),\n",
              " (37.389652000000005, -122.163582),\n",
              " (37.70306, -122.07856000000001),\n",
              " (37.323593, -121.940826),\n",
              " (37.690514, -121.918709),\n",
              " (37.656653999999996, -121.90158799999999),\n",
              " (37.753693, -122.151398),\n",
              " (38.227737, -122.12053700000001),\n",
              " (37.769375, -122.405533),\n",
              " (37.696819, -122.07186899999999),\n",
              " (37.8745, -122.30603799999999),\n",
              " (37.752502, -122.40300800000001),\n",
              " (37.7883, -121.300407),\n",
              " (38.860706, -121.300247),\n",
              " (37.863659000000006, -121.218956),\n",
              " (37.54723, -122.37265),\n",
              " (37.334427000000005, -121.936485),\n",
              " (36.950603, -121.523094),\n",
              " (38.660831, -121.33728799999999),\n",
              " (38.222747999999996, -122.12883000000001),\n",
              " (37.343258, -121.84628300000001),\n",
              " (37.777836, -121.317451),\n",
              " (38.722091999999996, -121.22583799999998),\n",
              " (38.246796, -122.627808),\n",
              " (38.661053, -121.359779),\n",
              " (37.813274, -121.034325),\n",
              " (37.731277, -122.43521899999999),\n",
              " (37.315239, -121.914902),\n",
              " (37.328579, -121.871277),\n",
              " (37.882003999999995, -121.641479),\n",
              " (38.835583, -121.16853300000001),\n",
              " (37.933201000000004, -122.046196),\n",
              " (37.657973999999996, -121.90295400000001),\n",
              " (38.562939, -121.641922),\n",
              " (38.022778, -121.965698),\n",
              " (37.656653999999996, -121.90158799999999),\n",
              " (38.690273, -121.39213600000001),\n",
              " (38.68111, -121.333244),\n",
              " (38.653061, -121.07054099999999),\n",
              " ...]"
            ]
          },
          "metadata": {
            "tags": []
          },
          "execution_count": 67
        }
      ]
    },
    {
      "cell_type": "code",
      "metadata": {
        "id": "-IF5U44MjoNx"
      },
      "source": [
        "from folium.plugins import HeatMap"
      ],
      "execution_count": null,
      "outputs": []
    },
    {
      "cell_type": "code",
      "metadata": {
        "id": "K94M8H4zsxwu"
      },
      "source": [
        "sample_df=df.sample(int(0.001* len(df)))\n",
        "lat_lon_pairs=list(zip(sample_df.Start_Lat, sample_df.Start_Lng))"
      ],
      "execution_count": null,
      "outputs": []
    },
    {
      "cell_type": "code",
      "metadata": {
        "colab": {
          "base_uri": "https://localhost:8080/",
          "height": 394
        },
        "id": "-thUhQyNjoJL",
        "outputId": "271e198a-359c-439f-834f-bb4678f733c2"
      },
      "source": [
        "map=folium.Map()\n",
        "HeatMap(lat_lon_pairs).add_to(map)\n",
        "map"
      ],
      "execution_count": null,
      "outputs": [
        {
          "output_type": "execute_result",
          "data": {
            "text/html": [
              "<div style=\"width:100%;\"><div style=\"position:relative;width:100%;height:0;padding-bottom:60%;\"><span style=\"color:#565656\">Make this Notebook Trusted to load map: File -> Trust Notebook</span><iframe src=\"about:blank\" style=\"position:absolute;width:100%;height:100%;left:0;top:0;border:none !important;\" data-html=%3C%21DOCTYPE%20html%3E%0A%3Chead%3E%20%20%20%20%0A%20%20%20%20%3Cmeta%20http-equiv%3D%22content-type%22%20content%3D%22text/html%3B%20charset%3DUTF-8%22%20/%3E%0A%20%20%20%20%3Cscript%3EL_PREFER_CANVAS%3Dfalse%3B%20L_NO_TOUCH%3Dfalse%3B%20L_DISABLE_3D%3Dfalse%3B%3C/script%3E%0A%20%20%20%20%3Cscript%20src%3D%22https%3A//cdn.jsdelivr.net/npm/leaflet%401.4.0/dist/leaflet.js%22%3E%3C/script%3E%0A%20%20%20%20%3Cscript%20src%3D%22https%3A//code.jquery.com/jquery-1.12.4.min.js%22%3E%3C/script%3E%0A%20%20%20%20%3Cscript%20src%3D%22https%3A//maxcdn.bootstrapcdn.com/bootstrap/3.2.0/js/bootstrap.min.js%22%3E%3C/script%3E%0A%20%20%20%20%3Cscript%20src%3D%22https%3A//cdnjs.cloudflare.com/ajax/libs/Leaflet.awesome-markers/2.0.2/leaflet.awesome-markers.js%22%3E%3C/script%3E%0A%20%20%20%20%3Clink%20rel%3D%22stylesheet%22%20href%3D%22https%3A//cdn.jsdelivr.net/npm/leaflet%401.4.0/dist/leaflet.css%22/%3E%0A%20%20%20%20%3Clink%20rel%3D%22stylesheet%22%20href%3D%22https%3A//maxcdn.bootstrapcdn.com/bootstrap/3.2.0/css/bootstrap.min.css%22/%3E%0A%20%20%20%20%3Clink%20rel%3D%22stylesheet%22%20href%3D%22https%3A//maxcdn.bootstrapcdn.com/bootstrap/3.2.0/css/bootstrap-theme.min.css%22/%3E%0A%20%20%20%20%3Clink%20rel%3D%22stylesheet%22%20href%3D%22https%3A//maxcdn.bootstrapcdn.com/font-awesome/4.6.3/css/font-awesome.min.css%22/%3E%0A%20%20%20%20%3Clink%20rel%3D%22stylesheet%22%20href%3D%22https%3A//cdnjs.cloudflare.com/ajax/libs/Leaflet.awesome-markers/2.0.2/leaflet.awesome-markers.css%22/%3E%0A%20%20%20%20%3Clink%20rel%3D%22stylesheet%22%20href%3D%22https%3A//rawcdn.githack.com/python-visualization/folium/master/folium/templates/leaflet.awesome.rotate.css%22/%3E%0A%20%20%20%20%3Cstyle%3Ehtml%2C%20body%20%7Bwidth%3A%20100%25%3Bheight%3A%20100%25%3Bmargin%3A%200%3Bpadding%3A%200%3B%7D%3C/style%3E%0A%20%20%20%20%3Cstyle%3E%23map%20%7Bposition%3Aabsolute%3Btop%3A0%3Bbottom%3A0%3Bright%3A0%3Bleft%3A0%3B%7D%3C/style%3E%0A%20%20%20%20%0A%20%20%20%20%3Cmeta%20name%3D%22viewport%22%20content%3D%22width%3Ddevice-width%2C%0A%20%20%20%20%20%20%20%20initial-scale%3D1.0%2C%20maximum-scale%3D1.0%2C%20user-scalable%3Dno%22%20/%3E%0A%20%20%20%20%3Cstyle%3E%23map_b8ca2085ca674aba8707a0ae6fe9740f%20%7B%0A%20%20%20%20%20%20%20%20position%3A%20relative%3B%0A%20%20%20%20%20%20%20%20width%3A%20100.0%25%3B%0A%20%20%20%20%20%20%20%20height%3A%20100.0%25%3B%0A%20%20%20%20%20%20%20%20left%3A%200.0%25%3B%0A%20%20%20%20%20%20%20%20top%3A%200.0%25%3B%0A%20%20%20%20%20%20%20%20%7D%0A%20%20%20%20%3C/style%3E%0A%20%20%20%20%3Cscript%20src%3D%22https%3A//leaflet.github.io/Leaflet.heat/dist/leaflet-heat.js%22%3E%3C/script%3E%0A%3C/head%3E%0A%3Cbody%3E%20%20%20%20%0A%20%20%20%20%0A%20%20%20%20%3Cdiv%20class%3D%22folium-map%22%20id%3D%22map_b8ca2085ca674aba8707a0ae6fe9740f%22%20%3E%3C/div%3E%0A%3C/body%3E%0A%3Cscript%3E%20%20%20%20%0A%20%20%20%20%0A%20%20%20%20%0A%20%20%20%20%20%20%20%20var%20bounds%20%3D%20null%3B%0A%20%20%20%20%0A%0A%20%20%20%20var%20map_b8ca2085ca674aba8707a0ae6fe9740f%20%3D%20L.map%28%0A%20%20%20%20%20%20%20%20%27map_b8ca2085ca674aba8707a0ae6fe9740f%27%2C%20%7B%0A%20%20%20%20%20%20%20%20center%3A%20%5B0%2C%200%5D%2C%0A%20%20%20%20%20%20%20%20zoom%3A%201%2C%0A%20%20%20%20%20%20%20%20maxBounds%3A%20bounds%2C%0A%20%20%20%20%20%20%20%20layers%3A%20%5B%5D%2C%0A%20%20%20%20%20%20%20%20worldCopyJump%3A%20false%2C%0A%20%20%20%20%20%20%20%20crs%3A%20L.CRS.EPSG3857%2C%0A%20%20%20%20%20%20%20%20zoomControl%3A%20true%2C%0A%20%20%20%20%20%20%20%20%7D%29%3B%0A%0A%0A%20%20%20%20%0A%20%20%20%20var%20tile_layer_c728ade61e1047d0a0d9f7760e13812f%20%3D%20L.tileLayer%28%0A%20%20%20%20%20%20%20%20%27https%3A//%7Bs%7D.tile.openstreetmap.org/%7Bz%7D/%7Bx%7D/%7By%7D.png%27%2C%0A%20%20%20%20%20%20%20%20%7B%0A%20%20%20%20%20%20%20%20%22attribution%22%3A%20null%2C%0A%20%20%20%20%20%20%20%20%22detectRetina%22%3A%20false%2C%0A%20%20%20%20%20%20%20%20%22maxNativeZoom%22%3A%2018%2C%0A%20%20%20%20%20%20%20%20%22maxZoom%22%3A%2018%2C%0A%20%20%20%20%20%20%20%20%22minZoom%22%3A%200%2C%0A%20%20%20%20%20%20%20%20%22noWrap%22%3A%20false%2C%0A%20%20%20%20%20%20%20%20%22opacity%22%3A%201%2C%0A%20%20%20%20%20%20%20%20%22subdomains%22%3A%20%22abc%22%2C%0A%20%20%20%20%20%20%20%20%22tms%22%3A%20false%0A%7D%29.addTo%28map_b8ca2085ca674aba8707a0ae6fe9740f%29%3B%0A%20%20%20%20%0A%20%20%20%20%20%20%20%20%20%20%20%20var%20heat_map_4c0b1c387677426f86006584548a7e8f%20%3D%20L.heatLayer%28%0A%20%20%20%20%20%20%20%20%20%20%20%20%20%20%20%20%5B%5B34.036968%2C%20-118.300362%5D%2C%20%5B34.641087%2C%20-117.22055800000001%5D%2C%20%5B29.695460999999998%2C%20-95.367783%5D%2C%20%5B26.017611%2C%20-80.16739%5D%2C%20%5B41.768966999999996%2C%20-72.659882%5D%2C%20%5B41.509865000000005%2C%20-74.074226%5D%2C%20%5B34.889755%2C%20-82.416733%5D%2C%20%5B34.091316%2C%20-117.30171200000001%5D%2C%20%5B44.970352%2C%20-93.351013%5D%2C%20%5B40.818017%2C%20-73.289827%5D%2C%20%5B30.308978999999997%2C%20-97.75747700000001%5D%2C%20%5B41.539413%2C%20-81.630196%5D%2C%20%5B33.774204%2C%20-118.051476%5D%2C%20%5B40.642059%2C%20-74.358192%5D%2C%20%5B33.794525%2C%20-84.393196%5D%2C%20%5B32.707951%2C%20-97.096252%5D%2C%20%5B28.087792999999998%2C%20-82.454803%5D%2C%20%5B43.089104%2C%20-88.057823%5D%2C%20%5B37.751523%2C%20-122.402726%5D%2C%20%5B36.83947%2C%20-76.28671999999999%5D%2C%20%5B45.067108000000005%2C%20-93.44754%5D%2C%20%5B37.726044%2C%20-121.10331000000001%5D%2C%20%5B36.06088%2C%20-79.85523%5D%2C%20%5B29.439197999999998%2C%20-98.488342%5D%2C%20%5B29.940535999999998%2C%20-95.415504%5D%2C%20%5B33.821548%2C%20-84.359383%5D%2C%20%5B40.275368%2C%20-111.71880300000001%5D%2C%20%5B40.24395%2C%20-76.885361%5D%2C%20%5B35.36331%2C%20-97.54085%5D%2C%20%5B34.273621%2C%20-79.851563%5D%2C%20%5B40.30191%2C%20-109.86796499999998%5D%2C%20%5B35.608821999999996%2C%20-97.582901%5D%2C%20%5B32.756023%2C%20-97.31938199999999%5D%2C%20%5B32.411982%2C%20-84.01979%5D%2C%20%5B26.10146%2C%20-80.16875999999999%5D%2C%20%5B40.590286%2C%20-75.554245%5D%2C%20%5B39.831802%2C%20-86.03546899999999%5D%2C%20%5B41.421181%2C%20-88.36455500000001%5D%2C%20%5B37.719856%2C%20-121.65810400000001%5D%2C%20%5B32.421455%2C%20-86.230385%5D%2C%20%5B36.113873%2C%20-86.8099%5D%2C%20%5B29.642428999999996%2C%20-95.216164%5D%2C%20%5B30.164765999999997%2C%20-92.039864%5D%2C%20%5B33.751141%2C%20-84.730896%5D%2C%20%5B28.596753000000003%2C%20-81.307144%5D%2C%20%5B39.70639%2C%20-111.81876000000001%5D%2C%20%5B34.329266%2C%20-118.119781%5D%2C%20%5B33.657754%2C%20-117.77771200000001%5D%2C%20%5B34.089901%2C%20-80.92733%5D%2C%20%5B38.903778%2C%20-77.216645%5D%2C%20%5B30.0522%2C%20-95.69776%5D%2C%20%5B32.782059000000004%2C%20-96.836777%5D%2C%20%5B28.193903000000002%2C%20-82.595467%5D%2C%20%5B40.554131%2C%20-123.18128200000001%5D%2C%20%5B33.978249%2C%20-81.195084%5D%2C%20%5B29.936815000000003%2C%20-95.516129%5D%2C%20%5B39.158901%2C%20-94.497437%5D%2C%20%5B36.141171%2C%20-86.731422%5D%2C%20%5B35.123283%2C%20-78.75398299999999%5D%2C%20%5B40.610584%2C%20-74.032516%5D%2C%20%5B30.445749%2C%20-91.169128%5D%2C%20%5B33.92729%2C%20-118.26005%5D%2C%20%5B38.109653%2C%20-122.218674%5D%2C%20%5B29.68576%2C%20-95.277153%5D%2C%20%5B34.117512%2C%20-117.846321%5D%2C%20%5B45.216694%2C%20-93.593491%5D%2C%20%5B30.423964%2C%20-91.156609%5D%2C%20%5B42.385448%2C%20-83.25574499999999%5D%2C%20%5B37.041641%2C%20-76.38855%5D%2C%20%5B34.073112%2C%20-118.269287%5D%2C%20%5B38.724659%2C%20-104.73317%5D%2C%20%5B33.02792%2C%20-96.829269%5D%2C%20%5B25.625487%2C%20-80.479574%5D%2C%20%5B39.027328000000004%2C%20-84.611626%5D%2C%20%5B40.765611%2C%20-111.95063%5D%2C%20%5B36.20687%2C%20-77.679989%5D%2C%20%5B37.703838%2C%20-122.393822%5D%2C%20%5B38.430026%2C%20-106.098992%5D%2C%20%5B44.96656%2C%20-93.34231%5D%2C%20%5B25.98481%2C%20-80.16605%5D%2C%20%5B44.266937%2C%20-92.65171099999999%5D%2C%20%5B39.78112%2C%20-84.253723%5D%2C%20%5B35.78783%2C%20-78.63602%5D%2C%20%5B32.718281%2C%20-117.108543%5D%2C%20%5B35.419703000000005%2C%20-119.01284799999999%5D%2C%20%5B35.827313000000004%2C%20-78.620388%5D%2C%20%5B42.213857%2C%20-121.743448%5D%2C%20%5B37.512005%2C%20-122.349594%5D%2C%20%5B42.48975%2C%20-83.28475999999999%5D%2C%20%5B45.53334%2C%20-122.579048%5D%2C%20%5B42.279976%2C%20-71.0886%5D%2C%20%5B33.872040000000005%2C%20-118.28478999999999%5D%2C%20%5B29.821858000000002%2C%20-95.36564200000001%5D%2C%20%5B37.414408%2C%20-77.61346800000001%5D%2C%20%5B44.135376%2C%20-122.54646899999999%5D%2C%20%5B35.190308%2C%20-80.701515%5D%2C%20%5B29.833240000000004%2C%20-95.48366%5D%2C%20%5B42.246226%2C%20-123.632203%5D%2C%20%5B37.531162%2C%20-121.941162%5D%2C%20%5B40.218666%2C%20-75.245491%5D%2C%20%5B32.720264%2C%20-96.810879%5D%2C%20%5B39.18362%2C%20-94.591881%5D%2C%20%5B42.37173%2C%20-88.089781%5D%2C%20%5B37.785542%2C%20-122.39138%5D%2C%20%5B30.620620000000002%2C%20-86.95735%5D%2C%20%5B43.026161%2C%20-83.73082%5D%2C%20%5B33.581749%2C%20-112.06511699999999%5D%2C%20%5B28.482891%2C%20-81.45884699999999%5D%2C%20%5B41.33083%2C%20-112.02391999999999%5D%2C%20%5B33.912231%2C%20-118.07341799999999%5D%2C%20%5B42.385408%2C%20-83.147334%5D%2C%20%5B41.882647999999996%2C%20-88.116867%5D%2C%20%5B40.734882%2C%20-74.123688%5D%2C%20%5B30.416315%2C%20-91.143417%5D%2C%20%5B34.975753999999995%2C%20-81.983696%5D%2C%20%5B39.9292%2C%20-86.17559%5D%2C%20%5B33.949721999999994%2C%20-118.091853%5D%2C%20%5B33.90359%2C%20-117.46193000000001%5D%2C%20%5B41.311690000000006%2C%20-112.02613000000001%5D%2C%20%5B43.986921%2C%20-123.00743%5D%2C%20%5B29.606901%2C%20-95.250069%5D%2C%20%5B41.813354%2C%20-88.27948%5D%2C%20%5B38.956971%2C%20-77.200386%5D%2C%20%5B36.187805%2C%20-86.737831%5D%2C%20%5B37.42564%2C%20-122.09844199999999%5D%2C%20%5B34.172134%2C%20-118.37901299999999%5D%2C%20%5B40.296219%2C%20-110.59441399999999%5D%2C%20%5B41.163486%2C%20-96.138885%5D%2C%20%5B42.202339%2C%20-87.93318199999999%5D%2C%20%5B34.935699%2C%20-82.001648%5D%2C%20%5B29.403831%2C%20-98.54834699999999%5D%2C%20%5B34.148990999999995%2C%20-118.05021699999999%5D%2C%20%5B26.702059999999996%2C%20-80.07269000000001%5D%2C%20%5B38.963516%2C%20-76.210988%5D%2C%20%5B39.624771%2C%20-122.25356299999999%5D%2C%20%5B35.118694%2C%20-81.083313%5D%2C%20%5B39.775501%2C%20-84.168152%5D%2C%20%5B42.843605%2C%20-78.754272%5D%2C%20%5B28.029940000000003%2C%20-80.65299%5D%2C%20%5B41.345135%2C%20-95.72672299999999%5D%2C%20%5B38.557151%2C%20-121.472922%5D%2C%20%5B29.759251000000003%2C%20-95.644577%5D%2C%20%5B38.863202%2C%20-76.999922%5D%2C%20%5B39.696568%2C%20-75.553825%5D%2C%20%5B27.996071%2C%20-82.45359%5D%2C%20%5B40.038773%2C%20-76.145035%5D%2C%20%5B34.060547%2C%20-118.21516399999999%5D%2C%20%5B34.068695%2C%20-117.83951599999999%5D%2C%20%5B29.444347999999998%2C%20-98.514978%5D%2C%20%5B34.04567%2C%20-117.954361%5D%2C%20%5B31.150009000000004%2C%20-89.407143%5D%2C%20%5B45.288841%2C%20-92.98584%5D%2C%20%5B34.235577%2C%20-118.47296100000001%5D%2C%20%5B40.68716%2C%20-74.27345%5D%2C%20%5B32.893539000000004%2C%20-97.099327%5D%2C%20%5B39.983771999999995%2C%20-76.73496999999999%5D%2C%20%5B47.625702000000004%2C%20-122.35801699999999%5D%2C%20%5B35.50778%2C%20-97.53425%5D%2C%20%5B45.150343%2C%20-122.79358%5D%2C%20%5B40.142117%2C%20-75.29632600000001%5D%2C%20%5B33.566059%2C%20-112.26378600000001%5D%2C%20%5B30.20154%2C%20-92.053627%5D%2C%20%5B45.57082%2C%20-117.90661999999999%5D%2C%20%5B29.767509000000004%2C%20-95.410561%5D%2C%20%5B34.028175%2C%20-118.449205%5D%2C%20%5B34.978522999999996%2C%20-80.988197%5D%2C%20%5B42.465237%2C%20-87.94651800000001%5D%2C%20%5B26.676284999999996%2C%20-80.069511%5D%2C%20%5B44.951640000000005%2C%20-93.13388%5D%2C%20%5B35.965794%2C%20-80.229924%5D%2C%20%5B34.061467%2C%20-118.247941%5D%2C%20%5B39.448151%2C%20-77.45384200000001%5D%2C%20%5B27.699369%2C%20-80.896622%5D%2C%20%5B30.63645%2C%20-84.95116999999999%5D%2C%20%5B37.41932%2C%20-121.9441%5D%2C%20%5B32.91976%2C%20-84.77015%5D%2C%20%5B30.688747999999997%2C%20-88.040508%5D%2C%20%5B33.996838000000004%2C%20-117.93103%5D%2C%20%5B32.298801%2C%20-80.94709%5D%2C%20%5B39.086868%2C%20-77.489082%5D%2C%20%5B36.59446%2C%20-121.86831699999999%5D%2C%20%5B29.740099%2C%20-95.47069499999999%5D%2C%20%5B43.008724%2C%20-89.02243%5D%2C%20%5B37.569992%2C%20-77.432846%5D%2C%20%5B34.059792%2C%20-117.972939%5D%2C%20%5B26.75934%2C%20-80.09135400000001%5D%2C%20%5B30.247760999999997%2C%20-92.005989%5D%2C%20%5B30.480459000000003%2C%20-97.674126%5D%2C%20%5B41.484390000000005%2C%20-81.691948%5D%2C%20%5B33.200245%2C%20-117.371674%5D%2C%20%5B37.2495%2C%20-121.95963300000001%5D%2C%20%5B47.04142%2C%20-122.85143300000001%5D%2C%20%5B35.210190000000004%2C%20-80.874985%5D%2C%20%5B39.952451%2C%20-76.731975%5D%2C%20%5B33.760985999999995%2C%20-84.387535%5D%2C%20%5B42.962879%2C%20-87.934433%5D%2C%20%5B32.863995%2C%20-96.661392%5D%2C%20%5B34.172154%2C%20-118.390492%5D%2C%20%5B33.995209%2C%20-80.958382%5D%2C%20%5B39.606106%2C%20-77.769165%5D%2C%20%5B36.987590000000004%2C%20-76.43166%5D%2C%20%5B38.878147%2C%20-121.125748%5D%2C%20%5B41.66835%2C%20-71.48738900000001%5D%2C%20%5B34.071325%2C%20-118.13448400000001%5D%2C%20%5B35.214290000000005%2C%20-80.68726%5D%2C%20%5B30.369559000000002%2C%20-91.10255699999999%5D%2C%20%5B40.259071%2C%20-75.312904%5D%2C%20%5B41.226055%2C%20-95.966309%5D%2C%20%5B32.879996999999996%2C%20-96.770279%5D%2C%20%5B41.86497%2C%20-88.3399%5D%2C%20%5B40.790005%2C%20-74.406593%5D%2C%20%5B28.595701000000002%2C%20-81.382713%5D%2C%20%5B39.357121%2C%20-77.56121800000001%5D%2C%20%5B30.427137%2C%20-91.16861%5D%2C%20%5B35.533844%2C%20-97.583435%5D%2C%20%5B32.77235%2C%20-96.79950699999999%5D%2C%20%5B44.968317%2C%20-93.088585%5D%2C%20%5B45.54548%2C%20-122.70321000000001%5D%2C%20%5B37.451510999999996%2C%20-76.471611%5D%2C%20%5B40.685340000000004%2C%20-84.12454%5D%2C%20%5B38.946389%2C%20-121.101991%5D%2C%20%5B40.133747%2C%20-75.205505%5D%2C%20%5B27.96078%2C%20-82.77497%5D%2C%20%5B33.596115999999995%2C%20-117.674034%5D%2C%20%5B38.041264%2C%20-122.123512%5D%2C%20%5B30.471667999999998%2C%20-91.12291%5D%2C%20%5B34.06654%2C%20-117.24382800000001%5D%2C%20%5B33.818371%2C%20-118.290213%5D%2C%20%5B40.790295%2C%20-73.246841%5D%2C%20%5B28.065973%2C%20-82.56749%5D%2C%20%5B32.809074%2C%20-117.15287%5D%2C%20%5B38.69287%2C%20-121.35160800000001%5D%2C%20%5B45.448952%2C%20-94.520973%5D%2C%20%5B47.734066%2C%20-122.324997%5D%2C%20%5B43.489619%2C%20-72.407569%5D%2C%20%5B33.963062%2C%20-80.941872%5D%2C%20%5B38.189518%2C%20-85.72558599999999%5D%2C%20%5B32.925369%2C%20-96.78614%5D%2C%20%5B26.304209000000004%2C%20-98.181412%5D%2C%20%5B33.698639%2C%20-117.86163300000001%5D%2C%20%5B28.495958%2C%20-81.396924%5D%2C%20%5B38.348461%2C%20-119.452176%5D%2C%20%5B33.969147%2C%20-80.042091%5D%2C%20%5B30.052288%2C%20-95.431602%5D%2C%20%5B40.07184%2C%20-76.2872%5D%2C%20%5B39.534451000000004%2C%20-119.817108%5D%2C%20%5B40.052135%2C%20-76.396179%5D%2C%20%5B32.802971%2C%20-116.94009399999999%5D%2C%20%5B39.954617%2C%20-82.844238%5D%2C%20%5B26.55694%2C%20-81.888733%5D%2C%20%5B32.957062%2C%20-117.244881%5D%2C%20%5B44.234241%2C%20-121.201099%5D%2C%20%5B40.945969%2C%20-77.7155%5D%2C%20%5B38.601059%2C%20-90.231987%5D%2C%20%5B28.220449%2C%20-81.44019300000001%5D%2C%20%5B33.973125%2C%20-117.332555%5D%2C%20%5B30.449178999999997%2C%20-97.725655%5D%2C%20%5B46.994789000000004%2C%20-122.35826100000001%5D%2C%20%5B42.790496999999995%2C%20-74.015869%5D%2C%20%5B46.13476%2C%20-95.924665%5D%2C%20%5B39.783344%2C%20-105.00456499999999%5D%2C%20%5B33.965745%2C%20-118.37051899999999%5D%2C%20%5B44.935066%2C%20-93.397125%5D%2C%20%5B38.55335%2C%20-121.43661999999999%5D%2C%20%5B42.969952%2C%20-85.617729%5D%2C%20%5B40.05748%2C%20-80.7212%5D%2C%20%5B25.861698999999998%2C%20-80.22185%5D%2C%20%5B34.561886%2C%20-82.585335%5D%2C%20%5B41.475291999999996%2C%20-81.716484%5D%2C%20%5B41.838287%2C%20-87.631058%5D%2C%20%5B44.180378000000005%2C%20-122.120851%5D%2C%20%5B36.142821999999995%2C%20-86.800034%5D%2C%20%5B37.6996%2C%20-121.92803%5D%2C%20%5B32.752438%2C%20-86.887878%5D%2C%20%5B34.422278999999996%2C%20-119.63634499999999%5D%2C%20%5B36.051577%2C%20-119.04401499999999%5D%2C%20%5B45.644737%2C%20-120.985753%5D%2C%20%5B34.253128000000004%2C%20-118.43106100000001%5D%2C%20%5B41.10687%2C%20-73.4137%5D%2C%20%5B33.928162%2C%20-118.238976%5D%2C%20%5B45.597081%2C%20-117.751485%5D%2C%20%5B42.638603%2C%20-71.332291%5D%2C%20%5B42.879856%2C%20-78.878235%5D%2C%20%5B37.628273%2C%20-122.120956%5D%2C%20%5B39.097012%2C%20-94.573647%5D%2C%20%5B36.13581%2C%20-86.724971%5D%2C%20%5B34.011095000000005%2C%20-118.27895600000001%5D%2C%20%5B33.753634999999996%2C%20-84.495628%5D%2C%20%5B39.05296%2C%20-94.4971%5D%2C%20%5B44.760448%2C%20-93.217606%5D%2C%20%5B40.976921000000004%2C%20-73.698959%5D%2C%20%5B28.890524%2C%20-81.278389%5D%2C%20%5B33.854214%2C%20-117.941666%5D%2C%20%5B40.075127%2C%20-74.108423%5D%2C%20%5B45.58112%2C%20-122.6613%5D%2C%20%5B34.615631%2C%20-80.855293%5D%2C%20%5B36.178871%2C%20-95.886726%5D%2C%20%5B32.668293%2C%20-97.23880799999999%5D%2C%20%5B37.34033%2C%20-121.89953%5D%2C%20%5B39.335758%2C%20-76.49227900000001%5D%2C%20%5B34.162582%2C%20-82.407944%5D%2C%20%5B33.904509999999995%2C%20-117.45988999999999%5D%2C%20%5B25.78879%2C%20-80.32136%5D%2C%20%5B33.996262%2C%20-117.36411299999999%5D%2C%20%5B43.012153999999995%2C%20-83.654434%5D%2C%20%5B40.653042%2C%20-112.024635%5D%2C%20%5B40.734058000000005%2C%20-73.86451%5D%2C%20%5B39.188095000000004%2C%20-104.850433%5D%2C%20%5B30.212431%2C%20-92.008614%5D%2C%20%5B42.9893%2C%20-85.65718100000001%5D%2C%20%5B35.767857%2C%20-78.574066%5D%2C%20%5B40.476248999999996%2C%20-104.99205%5D%2C%20%5B34.014862%2C%20-118.485901%5D%2C%20%5B39.205090000000006%2C%20-94.49691%5D%2C%20%5B29.674845%2C%20-95.560448%5D%2C%20%5B33.521969%2C%20-86.668243%5D%2C%20%5B47.590288%2C%20-122.3342%5D%2C%20%5B37.791589%2C%20-122.18111%5D%2C%20%5B36.785790000000006%2C%20-76.4166%5D%2C%20%5B33.739596999999996%2C%20-117.83371000000001%5D%2C%20%5B39.17538%2C%20-94.56108%5D%2C%20%5B30.185301000000003%2C%20-81.55629%5D%2C%20%5B39.181216%2C%20-77.26231%5D%2C%20%5B34.031195000000004%2C%20-118.009294%5D%2C%20%5B32.372139000000004%2C%20-112.859352%5D%2C%20%5B42.65424%2C%20-82.834923%5D%2C%20%5B35.53688%2C%20-97.590248%5D%2C%20%5B33.702604%2C%20-84.100178%5D%2C%20%5B33.598759%2C%20-117.677524%5D%2C%20%5B34.034958%2C%20-118.281136%5D%2C%20%5B39.758121%2C%20-84.244843%5D%2C%20%5B34.158142%2C%20-118.46829199999999%5D%2C%20%5B35.887871000000004%2C%20-78.84522199999999%5D%2C%20%5B43.63732%2C%20-95.36542%5D%2C%20%5B45.96334%2C%20-118.38723%5D%2C%20%5B41.097534%2C%20-74.040215%5D%2C%20%5B40.085651%2C%20-111.70201899999999%5D%2C%20%5B42.350253%2C%20-83.21625999999999%5D%2C%20%5B28.421163%2C%20-81.40672099999999%5D%2C%20%5B33.687298%2C%20-117.89048799999999%5D%2C%20%5B29.677519%2C%20-95.289314%5D%2C%20%5B34.54294%2C%20-117.96253999999999%5D%2C%20%5B39.017482%2C%20-76.926709%5D%2C%20%5B44.84075%2C%20-93.29819%5D%2C%20%5B34.084824%2C%20-117.20875500000001%5D%2C%20%5B33.449554%2C%20-86.82040400000001%5D%2C%20%5B30.419163%2C%20-91.086845%5D%2C%20%5B37.634426%2C%20-77.544823%5D%2C%20%5B28.027621999999997%2C%20-82.22103100000001%5D%2C%20%5B41.843140000000005%2C%20-88.06302600000001%5D%2C%20%5B38.562298%2C%20-81.63647399999999%5D%2C%20%5B40.734933000000005%2C%20-111.90456999999999%5D%2C%20%5B32.868752%2C%20-96.81103%5D%2C%20%5B42.53457%2C%20-70.94998000000001%5D%2C%20%5B33.968792%2C%20-117.32824699999999%5D%2C%20%5B33.78989%2C%20-84.49068%5D%2C%20%5B34.102637%2C%20-117.30203200000001%5D%2C%20%5B32.627102%2C%20-80.72847%5D%2C%20%5B36.092503%2C%20-80.230995%5D%2C%20%5B33.045196999999995%2C%20-80.11502800000001%5D%2C%20%5B29.867205%2C%20-95.569221%5D%2C%20%5B37.71305%2C%20-122.17053%5D%2C%20%5B30.190649%2C%20-97.770912%5D%2C%20%5B34.060646000000006%2C%20-84.721939%5D%2C%20%5B29.494156%2C%20-98.554794%5D%2C%20%5B28.59732%2C%20-81.304542%5D%2C%20%5B35.977953%2C%20-78.879997%5D%2C%20%5B34.439144%2C%20-118.62248999999998%5D%2C%20%5B42.39197%2C%20-83.0042%5D%2C%20%5B33.856789%2C%20-79.056221%5D%2C%20%5B32.766399%2C%20-96.732979%5D%2C%20%5B38.12213%2C%20-122.275709%5D%2C%20%5B27.444073%2C%20-82.575417%5D%2C%20%5B27.263321%2C%20-80.283928%5D%2C%20%5B34.519379%2C%20-82.69178000000001%5D%2C%20%5B28.493181%2C%20-81.433258%5D%2C%20%5B32.862381%2C%20-96.893829%5D%2C%20%5B41.769859000000004%2C%20-72.675003%5D%2C%20%5B41.125152%2C%20-122.32471699999999%5D%2C%20%5B30.245157%2C%20-97.734571%5D%2C%20%5B33.88596%2C%20-117.407669%5D%2C%20%5B32.79293%2C%20-96.79281%5D%2C%20%5B27.0497%2C%20-82.357804%5D%2C%20%5B39.825371000000004%2C%20-84.295914%5D%2C%20%5B35.477051%2C%20-97.74249300000001%5D%2C%20%5B37.77799%2C%20-122.16751000000001%5D%2C%20%5B39.41368%2C%20-76.59633000000001%5D%2C%20%5B40.641262%2C%20-74.20565%5D%2C%20%5B35.146460999999995%2C%20-80.83183299999999%5D%2C%20%5B34.366721999999996%2C%20-80.100052%5D%2C%20%5B42.301311%2C%20-71.049141%5D%2C%20%5B33.743266999999996%2C%20-84.368134%5D%2C%20%5B39.1551%2C%20-75.65205%5D%2C%20%5B33.138554%2C%20-117.141144%5D%2C%20%5B37.962944%2C%20-122.05435200000001%5D%2C%20%5B34.071346000000005%2C%20-118.235413%5D%2C%20%5B42.845188%2C%20-73.472427%5D%2C%20%5B40.71826%2C%20-112.07263400000001%5D%2C%20%5B42.496212%2C%20-83.358414%5D%2C%20%5B34.119888%2C%20-117.814178%5D%2C%20%5B39.43439%2C%20-119.76173%5D%2C%20%5B42.944214%2C%20-83.692116%5D%2C%20%5B40.087158%2C%20-76.191261%5D%2C%20%5B41.9003%2C%20-87.91969%5D%2C%20%5B34.267026%2C%20-82.73573499999999%5D%2C%20%5B29.465469%2C%20-98.473682%5D%2C%20%5B28.146589000000002%2C%20-81.59030899999999%5D%2C%20%5B34.709697999999996%2C%20-82.499489%5D%2C%20%5B27.338848%2C%20-82.463854%5D%2C%20%5B35.477264%2C%20-97.5243%5D%2C%20%5B34.167427%2C%20-118.158134%5D%2C%20%5B38.969471%2C%20-76.119232%5D%2C%20%5B37.552776%2C%20-77.443588%5D%2C%20%5B40.526779%2C%20-111.890976%5D%2C%20%5B40.479347%2C%20-104.99203500000002%5D%2C%20%5B33.813431%2C%20-118.167686%5D%2C%20%5B28.53528%2C%20-81.39333%5D%2C%20%5B41.133739%2C%20-73.45654300000001%5D%2C%20%5B40.808921999999995%2C%20-73.55796099999999%5D%2C%20%5B45.009555999999996%2C%20-93.076752%5D%2C%20%5B33.955078%2C%20-78.71186800000001%5D%2C%20%5B38.678543%2C%20-121.22773000000001%5D%2C%20%5B34.148651%2C%20-118.05017099999999%5D%2C%20%5B42.963249%2C%20-85.673447%5D%2C%20%5B38.816299%2C%20-104.830048%5D%2C%20%5B32.924208%2C%20-96.78329000000001%5D%2C%20%5B40.071329999999996%2C%20-74.95785%5D%2C%20%5B27.352372999999996%2C%20-82.505676%5D%2C%20%5B40.50351%2C%20-80.13716099999999%5D%2C%20%5B32.679649%2C%20-117.08606%5D%2C%20%5B32.759766%2C%20-96.872978%5D%2C%20%5B34.4925%2C%20-118.19505%5D%2C%20%5B32.701382%2C%20-96.635696%5D%2C%20%5B33.482552%2C%20-112.263481%5D%2C%20%5B41.037663%2C%20-81.56549100000001%5D%2C%20%5B33.987497999999995%2C%20-118.137547%5D%2C%20%5B41.315777000000004%2C%20-95.967323%5D%2C%20%5B34.242508%2C%20-80.671844%5D%2C%20%5B32.782634%2C%20-96.812585%5D%2C%20%5B33.89127%2C%20-84.45908399999999%5D%2C%20%5B34.724427%2C%20-82.29350699999999%5D%2C%20%5B38.568871%2C%20-121.512001%5D%2C%20%5B36.988407%2C%20-121.953369%5D%2C%20%5B30.396320000000003%2C%20-91.11174799999999%5D%2C%20%5B36.949059999999996%2C%20-76.24304000000001%5D%2C%20%5B29.776999999999997%2C%20-95.27188100000001%5D%2C%20%5B30.725361%2C%20-88.194069%5D%2C%20%5B33.676792%2C%20-111.964554%5D%2C%20%5B36.840672%2C%20-121.53362299999999%5D%2C%20%5B25.964095999999998%2C%20-80.16555799999999%5D%2C%20%5B29.795446000000002%2C%20-95.45066800000001%5D%2C%20%5B42.689890000000005%2C%20-123.39355%5D%2C%20%5B29.674463%2C%20-95.574486%5D%2C%20%5B41.34721%2C%20-73.650063%5D%2C%20%5B41.4306%2C%20-72.12348%5D%2C%20%5B30.435336%2C%20-91.177242%5D%2C%20%5B34.218678000000004%2C%20-82.203186%5D%2C%20%5B30.464239000000003%2C%20-91.165161%5D%2C%20%5B42.151108%2C%20-71.857155%5D%2C%20%5B41.80849%2C%20-88.16736999999999%5D%2C%20%5B34.064575%2C%20-118.000208%5D%2C%20%5B27.995240999999996%2C%20-82.326233%5D%2C%20%5B37.432683000000004%2C%20-121.92194099999999%5D%2C%20%5B39.13815%2C%20-85.95793%5D%2C%20%5B40.635021%2C%20-111.90543400000001%5D%2C%20%5B43.152088%2C%20-77.572327%5D%2C%20%5B33.743266999999996%2C%20-84.368134%5D%2C%20%5B43.562269%2C%20-121.96172%5D%2C%20%5B40.421017%2C%20-80.046379%5D%2C%20%5B43.161598%2C%20-77.60746%5D%2C%20%5B29.490479999999998%2C%20-98.48345%5D%2C%20%5B43.009518%2C%20-83.69062%5D%2C%20%5B33.867645%2C%20-98.48284100000001%5D%2C%20%5B33.170446999999996%2C%20-83.812253%5D%2C%20%5B43.251991%2C%20-75.596611%5D%2C%20%5B34.021369%2C%20-117.10364399999999%5D%2C%20%5B28.036003000000004%2C%20-80.58332800000001%5D%2C%20%5B36.988758000000004%2C%20-121.97917199999999%5D%2C%20%5B43.65283%2C%20-70.33100999999999%5D%2C%20%5B28.551491%2C%20-81.550278%5D%2C%20%5B29.80978%2C%20-95.34205%5D%2C%20%5B33.773842%2C%20-84.35249300000001%5D%2C%20%5B39.053034000000004%2C%20-76.002126%5D%2C%20%5B35.2075%2C%20-80.760338%5D%2C%20%5B38.77126%2C%20-90.28435999999999%5D%2C%20%5B40.813572%2C%20-96.69236%5D%2C%20%5B34.06743%2C%20-117.5799%5D%2C%20%5B41.257668%2C%20-95.950356%5D%2C%20%5B44.609722999999995%2C%20-71.218763%5D%2C%20%5B39.11598%2C%20-86.97861%5D%2C%20%5B38.79834%2C%20-90.591133%5D%2C%20%5B29.683081%2C%20-95.365723%5D%2C%20%5B30.457644000000002%2C%20-91.06514%5D%2C%20%5B33.777%2C%20-84.605583%5D%2C%20%5B34.929619%2C%20-91.10691800000001%5D%2C%20%5B36.276726000000004%2C%20-86.799301%5D%2C%20%5B32.988265000000006%2C%20-117.255265%5D%2C%20%5B40.068748%2C%20-75.341988%5D%2C%20%5B30.54085%2C%20-97.69239%5D%2C%20%5B34.168301%2C%20-80.93148000000001%5D%2C%20%5B35.259411%2C%20-80.832764%5D%2C%20%5B35.701313%2C%20-78.640388%5D%2C%20%5B40.594749%2C%20-74.232185%5D%2C%20%5B37.865199%2C%20-121.667654%5D%2C%20%5B39.056324%2C%20-77.15448%5D%2C%20%5B29.813523999999997%2C%20-95.317184%5D%2C%20%5B33.479759%2C%20-80.904503%5D%2C%20%5B41.540894%2C%20-72.97393000000001%5D%2C%20%5B32.924946000000006%2C%20-96.998802%5D%2C%20%5B34.083560999999996%2C%20-118.298447%5D%2C%20%5B26.08234%2C%20-80.172348%5D%2C%20%5B40.222401%2C%20-74.643961%5D%2C%20%5B39.103522999999996%2C%20-84.506119%5D%2C%20%5B29.7299%2C%20-95.4273%5D%2C%20%5B41.912354%2C%20-83.364761%5D%2C%20%5B32.124748%2C%20-110.87521399999999%5D%2C%20%5B41.84682%2C%20-87.952004%5D%2C%20%5B38.6209%2C%20-77.8005%5D%2C%20%5B35.609009%2C%20-97.602913%5D%2C%20%5B34.566691999999996%2C%20-119.94088700000002%5D%2C%20%5B42.386359000000006%2C%20-87.94935%5D%2C%20%5B42.360845%2C%20-83.054226%5D%2C%20%5B34.621922%2C%20-80.613449%5D%2C%20%5B33.043915999999996%2C%20-117.285735%5D%2C%20%5B33.21901%2C%20-111.80651%5D%2C%20%5B39.749916%2C%20-84.139359%5D%2C%20%5B29.768108%2C%20-95.355995%5D%2C%20%5B36.082648999999996%2C%20-79.830048%5D%2C%20%5B44.915659999999995%2C%20-93.27464%5D%2C%20%5B28.184425%2C%20-82.46672099999999%5D%2C%20%5B35.283879999999996%2C%20-80.7764%5D%2C%20%5B35.766506%2C%20-78.73536700000001%5D%2C%20%5B29.731840000000002%2C%20-95.38915300000001%5D%2C%20%5B34.823883%2C%20-82.291893%5D%2C%20%5B35.464008%2C%20-97.71127299999999%5D%2C%20%5B35.10556%2C%20-106.62921100000001%5D%2C%20%5B42.472122%2C%20-88.37458000000001%5D%2C%20%5B30.399054%2C%20-97.66885400000001%5D%2C%20%5B38.590702%2C%20-121.41073600000001%5D%2C%20%5B37.997547%2C%20-78.337585%5D%2C%20%5B40.19775%2C%20-75.11601999999999%5D%2C%20%5B33.88366%2C%20-118.10408000000001%5D%2C%20%5B34.660404%2C%20-118.154785%5D%2C%20%5B39.282965000000004%2C%20-120.96808899999999%5D%2C%20%5B43.019512%2C%20-83.555817%5D%2C%20%5B34.005253%2C%20-117.964825%5D%2C%20%5B30.305103000000003%2C%20-97.825356%5D%2C%20%5B32.776066%2C%20-96.81321700000001%5D%2C%20%5B37.55187%2C%20-77.47331%5D%2C%20%5B35.949697%2C%20-119.04947%5D%2C%20%5B39.936115%2C%20-75.047783%5D%2C%20%5B34.53743%2C%20-81.95018%5D%2C%20%5B38.810139%2C%20-90.874176%5D%2C%20%5B40.794456%2C%20-73.4869%5D%2C%20%5B30.678095000000003%2C%20-87.98732%5D%2C%20%5B34.019707000000004%2C%20-117.542351%5D%2C%20%5B33.136955%2C%20-80.31037099999999%5D%2C%20%5B38.301196999999995%2C%20-122.70603200000001%5D%2C%20%5B47.849758%2C%20-122.257248%5D%2C%20%5B25.98899%2C%20-80.16585%5D%2C%20%5B36.674201000000004%2C%20-119.73671999999999%5D%2C%20%5B33.99855%2C%20-118.176147%5D%2C%20%5B29.697559000000002%2C%20-95.39295200000001%5D%2C%20%5B38.507690000000004%2C%20-122.71991000000001%5D%2C%20%5B44.567035%2C%20-123.258365%5D%2C%20%5B37.309345%2C%20-120.600952%5D%2C%20%5B34.0201%2C%20-118.18944499999999%5D%2C%20%5B37.469959%2C%20-77.471786%5D%2C%20%5B37.620403%2C%20-122.425995%5D%2C%20%5B30.284715999999996%2C%20-97.659798%5D%2C%20%5B41.180588%2C%20-73.75823199999999%5D%2C%20%5B27.102520000000002%2C%20-80.25785%5D%2C%20%5B40.819302%2C%20-73.930626%5D%2C%20%5B40.59225%2C%20-74.23628000000001%5D%2C%20%5B42.353297999999995%2C%20-83.08899699999999%5D%2C%20%5B38.843868%2C%20-94.529579%5D%2C%20%5B30.26009%2C%20-97.730202%5D%2C%20%5B34.733201%2C%20-114.54923899999999%5D%2C%20%5B35.171261%2C%20-80.808266%5D%2C%20%5B39.753215999999995%2C%20-75.504723%5D%2C%20%5B29.942589%2C%20-95.414673%5D%2C%20%5B41.660538%2C%20-87.588875%5D%2C%20%5B24.569963%2C%20-81.752251%5D%2C%20%5B26.051899%2C%20-80.16188199999999%5D%2C%20%5B33.960091%2C%20-118.280327%5D%2C%20%5B33.881840000000004%2C%20-118.19171000000001%5D%2C%20%5B36.141949%2C%20-86.674263%5D%2C%20%5B36.263081%2C%20-86.690498%5D%2C%20%5B39.69852%2C%20-86.14438%5D%2C%20%5B27.162691%2C%20-80.305571%5D%2C%20%5B33.882678999999996%2C%20-117.64364599999999%5D%2C%20%5B36.142971%2C%20-95.967003%5D%2C%20%5B45.69637%2C%20-121.82941000000001%5D%2C%20%5B36.779503000000005%2C%20-119.73634299999999%5D%2C%20%5B34.00016%2C%20-117.35262%5D%2C%20%5B33.596951000000004%2C%20-117.46404299999999%5D%2C%20%5B38.93528%2C%20-94.723518%5D%2C%20%5B34.07168%2C%20-117.87071999999999%5D%2C%20%5B41.276901%2C%20-73.930977%5D%2C%20%5B39.018985%2C%20-76.976448%5D%2C%20%5B40.60154%2C%20-74.060994%5D%2C%20%5B41.586909000000006%2C%20-73.907896%5D%2C%20%5B28.049122999999998%2C%20-82.709325%5D%2C%20%5B37.939346%2C%20-122.51638899999999%5D%2C%20%5B38.574112%2C%20-90.233994%5D%2C%20%5B37.215744%2C%20-80.465958%5D%2C%20%5B32.477947%2C%20-80.981628%5D%2C%20%5B42.912518%2C%20-85.583443%5D%2C%20%5B35.511359999999996%2C%20-97.599007%5D%2C%20%5B35.531059%2C%20-97.578911%5D%2C%20%5B28.535378%2C%20-81.376961%5D%2C%20%5B30.456015%2C%20-97.666321%5D%2C%20%5B28.39188%2C%20-81.497005%5D%2C%20%5B25.590042999999998%2C%20-80.340261%5D%2C%20%5B40.533859%2C%20-74.33453399999999%5D%2C%20%5B39.03398%2C%20-94.30249%5D%2C%20%5B39.881145000000004%2C%20-86.269463%5D%2C%20%5B40.726397999999996%2C%20-73.838135%5D%2C%20%5B37.82262%2C%20-122.26136000000001%5D%2C%20%5B33.319781%2C%20-111.976096%5D%2C%20%5B26.170862%2C%20-80.856262%5D%2C%20%5B41.521725%2C%20-88.18885%5D%2C%20%5B33.821548%2C%20-84.359383%5D%2C%20%5B33.615438%2C%20-117.306624%5D%2C%20%5B39.714642%2C%20-121.611427%5D%2C%20%5B35.332138%2C%20-80.74408000000001%5D%2C%20%5B37.843344%2C%20-120.508025%5D%2C%20%5B41.806538%2C%20-88.167191%5D%2C%20%5B32.348095%2C%20-106.769829%5D%2C%20%5B36.154083%2C%20-95.995651%5D%2C%20%5B35.411113%2C%20-119.053398%5D%2C%20%5B30.359059999999996%2C%20-91.008698%5D%2C%20%5B35.152977%2C%20-80.87784599999999%5D%2C%20%5B29.748953000000004%2C%20-95.36996500000001%5D%2C%20%5B38.38588%2C%20-90.952409%5D%2C%20%5B35.026984999999996%2C%20-82.4067%5D%2C%20%5B42.79211%2C%20-73.762105%5D%2C%20%5B37.642342%2C%20-77.49398000000001%5D%2C%20%5B34.303432%2C%20-118.47955300000001%5D%2C%20%5B43.21183%2C%20-77.93961999999999%5D%2C%20%5B32.461758%2C%20-111.216675%5D%2C%20%5B41.565360999999996%2C%20-87.743607%5D%2C%20%5B38.676351000000004%2C%20-112.592689%5D%2C%20%5B42.453663%2C%20-83.095192%5D%2C%20%5B30.128940999999998%2C%20-97.755821%5D%2C%20%5B34.154522%2C%20-118.396576%5D%2C%20%5B40.745472%2C%20-111.83042900000001%5D%2C%20%5B35.740990000000004%2C%20-78.817337%5D%2C%20%5B36.116558000000005%2C%20-95.813805%5D%2C%20%5B30.481869%2C%20-91.078378%5D%2C%20%5B37.600109%2C%20-122.376884%5D%2C%20%5B33.77813%2C%20-84.240189%5D%2C%20%5B40.812241%2C%20-73.40969100000001%5D%2C%20%5B34.031715999999996%2C%20-118.41694%5D%2C%20%5B30.773846000000002%2C%20-97.626602%5D%2C%20%5B30.478968%2C%20-90.41409300000001%5D%2C%20%5B47.806359%2C%20-122.30688%5D%2C%20%5B43.325548%2C%20-122.99912900000001%5D%2C%20%5B28.078809999999997%2C%20-80.705894%5D%2C%20%5B33.917393%2C%20-118.30233%5D%2C%20%5B34.024828%2C%20-118.204374%5D%2C%20%5B35.394397%2C%20-119.04453600000001%5D%2C%20%5B33.931521999999994%2C%20-117.28908500000001%5D%2C%20%5B33.899223%2C%20-118.186958%5D%2C%20%5B30.387328000000004%2C%20-87.08296800000001%5D%2C%20%5B36.153545%2C%20-86.848648%5D%2C%20%5B39.025742%2C%20-84.593674%5D%2C%20%5B41.220698999999996%2C%20-81.626793%5D%2C%20%5B40.133495%2C%20-75.45159100000001%5D%2C%20%5B43.004146999999996%2C%20-83.624702%5D%2C%20%5B37.878184999999995%2C%20-122.307175%5D%2C%20%5B30.197559000000002%2C%20-93.18089300000001%5D%2C%20%5B33.678185%2C%20-117.881142%5D%2C%20%5B32.337292%2C%20-111.01274099999999%5D%2C%20%5B25.9258%2C%20-80.208801%5D%2C%20%5B35.581314%2C%20-97.691734%5D%2C%20%5B39.887116999999996%2C%20-105.071725%5D%2C%20%5B38.972233%2C%20-76.773567%5D%2C%20%5B34.487085%2C%20-92.717875%5D%2C%20%5B47.673512%2C%20-117.46761299999999%5D%2C%20%5B29.87203%2C%20-95.40890999999999%5D%2C%20%5B40.215869%2C%20-74.75753%5D%2C%20%5B34.2146%2C%20-118.35163999999999%5D%2C%20%5B32.7603%2C%20-97.1623%5D%2C%20%5B35.795921%2C%20-78.61099200000001%5D%2C%20%5B42.921658%2C%20-83.501869%5D%2C%20%5B38.756557%2C%20-111.43886599999999%5D%2C%20%5B35.235664%2C%20-80.635048%5D%2C%20%5B36.086037%2C%20-86.699966%5D%2C%20%5B44.989109%2C%20-93.28843499999999%5D%2C%20%5B33.870428000000004%2C%20-117.746431%5D%2C%20%5B34.315994%2C%20-118.960968%5D%2C%20%5B37.437129999999996%2C%20-77.60059%5D%2C%20%5B37.364002%2C%20-121.843475%5D%2C%20%5B37.572165999999996%2C%20-121.888672%5D%2C%20%5B38.308842%2C%20-90.250107%5D%2C%20%5B42.196479%2C%20-88.057877%5D%2C%20%5B42.713905%2C%20-84.50558000000001%5D%2C%20%5B32.70783%2C%20-117.09745%5D%2C%20%5B35.63855%2C%20-97.56719%5D%2C%20%5B41.547149%2C%20-87.31110600000001%5D%2C%20%5B38.358131%2C%20-122.769623%5D%2C%20%5B34.027603000000006%2C%20-118.211845%5D%2C%20%5B33.456408%2C%20-81.929358%5D%2C%20%5B42.913799%2C%20-85.678085%5D%2C%20%5B43.029381%2C%20-76.14119000000001%5D%2C%20%5B40.149029999999996%2C%20-87.06841999999999%5D%2C%20%5B37.596436%2C%20-77.486954%5D%2C%20%5B42.15379%2C%20-88.02806%5D%2C%20%5B39.281316%2C%20-120.99037%5D%2C%20%5B38.206103999999996%2C%20-121.874977%5D%2C%20%5B33.4717%2C%20-111.47712%5D%2C%20%5B30.433969%2C%20-91.115288%5D%2C%20%5B33.960011%2C%20-80.921646%5D%2C%20%5B30.318502000000002%2C%20-97.702209%5D%2C%20%5B32.359852000000004%2C%20-86.215271%5D%2C%20%5B32.894501%2C%20-96.700378%5D%2C%20%5B34.065483%2C%20-117.997932%5D%2C%20%5B32.797958%2C%20-96.807327%5D%2C%20%5B44.96999%2C%20-93.32937%5D%2C%20%5B40.311337%2C%20-76.89924599999999%5D%2C%20%5B29.720352000000002%2C%20-95.535324%5D%2C%20%5B36.060885999999996%2C%20-95.85508%5D%2C%20%5B37.54932%2C%20-122.292496%5D%2C%20%5B36.08744%2C%20-86.692177%5D%2C%20%5B35.867676%2C%20-78.514404%5D%2C%20%5B32.763531%2C%20-96.73597%5D%2C%20%5B33.88945%2C%20-98.549767%5D%2C%20%5B34.223025%2C%20-118.248799%5D%2C%20%5B41.353584000000005%2C%20-95.900215%5D%2C%20%5B33.93582%2C%20-118.09293999999998%5D%2C%20%5B38.207623%2C%20-85.347763%5D%2C%20%5B33.68206%2C%20-79.00128199999999%5D%2C%20%5B33.950661%2C%20-84.35793000000001%5D%2C%20%5B40.760639000000005%2C%20-73.95651600000001%5D%2C%20%5B29.870509999999996%2C%20-95.41281%5D%2C%20%5B41.171459999999996%2C%20-112.00695%5D%2C%20%5B29.58025%2C%20-95.15784000000001%5D%2C%20%5B29.687072999999998%2C%20-95.290413%5D%2C%20%5B34.132560999999995%2C%20-117.950829%5D%2C%20%5B29.497003999999997%2C%20-82.294739%5D%2C%20%5B42.353966%2C%20-88.09335300000001%5D%2C%20%5B45.350788%2C%20-122.76553100000001%5D%2C%20%5B42.281620000000004%2C%20-83.19888%5D%2C%20%5B32.397339%2C%20-80.76519%5D%2C%20%5B34.152390000000004%2C%20-118.09931%5D%2C%20%5B32.133781%2C%20-111.008178%5D%2C%20%5B29.607349%2C%20-98.468826%5D%2C%20%5B30.390265000000003%2C%20-91.078613%5D%2C%20%5B36.308689%2C%20-82.35363000000001%5D%2C%20%5B28.387446%2C%20-81.371481%5D%2C%20%5B33.77871%2C%20-117.89506000000002%5D%2C%20%5B35.694656%2C%20-78.575439%5D%2C%20%5B34.66029%2C%20-117.21202%5D%2C%20%5B35.300419%2C%20-80.801643%5D%2C%20%5B25.785839000000003%2C%20-80.262939%5D%2C%20%5B36.025397999999996%2C%20-95.922066%5D%2C%20%5B32.76173%2C%20-93.974701%5D%2C%20%5B34.034646%2C%20-118.029953%5D%2C%20%5B43.194590000000005%2C%20-89.3467%5D%2C%20%5B40.773239000000004%2C%20-74.041748%5D%2C%20%5B38.555431%2C%20-121.440926%5D%2C%20%5B46.125477000000004%2C%20-67.841858%5D%2C%20%5B38.365547%2C%20-120.794952%5D%2C%20%5B40.665764%2C%20-111.86473799999999%5D%2C%20%5B40.426049%2C%20-77.010584%5D%2C%20%5B37.430254999999995%2C%20-120.541701%5D%2C%20%5B42.920967%2C%20-83.62181899999999%5D%2C%20%5B41.335709%2C%20-96.03337900000001%5D%2C%20%5B30.458009999999998%2C%20-91.16863000000001%5D%2C%20%5B43.005051%2C%20-96.06397199999999%5D%2C%20%5B35.162613%2C%20-80.739471%5D%2C%20%5B39.397869%2C%20-75.684517%5D%2C%20%5B34.422298%2C%20-118.584747%5D%2C%20%5B38.421303%2C%20-77.421898%5D%2C%20%5B33.490133%2C%20-117.143929%5D%2C%20%5B39.398008000000004%2C%20-77.419162%5D%2C%20%5B33.639998999999996%2C%20-117.08479299999999%5D%2C%20%5B36.03183%2C%20-95.90819499999999%5D%2C%20%5B32.903925%2C%20-97.31731500000001%5D%2C%20%5B34.034202%2C%20-117.324648%5D%2C%20%5B32.797668%2C%20-97.21209%5D%2C%20%5B38.069117999999996%2C%20-122.182999%5D%2C%20%5B33.928517%2C%20-118.288954%5D%2C%20%5B28.438854%2C%20-81.426277%5D%2C%20%5B44.862252000000005%2C%20-93.247007%5D%2C%20%5B25.83548%2C%20-80.20618%5D%2C%20%5B41.147312%2C%20-96.138885%5D%2C%20%5B40.40266%2C%20-104.99322%5D%2C%20%5B35.635548%2C%20-78.71444699999999%5D%2C%20%5B36.807983%2C%20-121.64916200000002%5D%2C%20%5B37.40014%2C%20-120.74328%5D%2C%20%5B34.096053999999995%2C%20-80.936584%5D%2C%20%5B37.339667999999996%2C%20-121.99576599999999%5D%2C%20%5B25.864798%2C%20-80.208626%5D%2C%20%5B33.914577%2C%20-118.37029299999999%5D%2C%20%5B39.952511%2C%20-76.770889%5D%2C%20%5B35.171906%2C%20-80.73679399999999%5D%2C%20%5B33.560322%2C%20-112.11695900000001%5D%2C%20%5B40.78241%2C%20-111.8997%5D%2C%20%5B42.622243%2C%20-79.005442%5D%2C%20%5B36.319676%2C%20-86.702851%5D%2C%20%5B29.723641999999998%2C%20-95.490814%5D%2C%20%5B34.142799%2C%20-80.750381%5D%2C%20%5B43.29687%2C%20-123.35078%5D%2C%20%5B41.564809000000004%2C%20-73.05784799999999%5D%2C%20%5B35.045755%2C%20-81.95830600000001%5D%2C%20%5B33.77678%2C%20-84.60206%5D%2C%20%5B44.98341%2C%20-93.460014%5D%2C%20%5B43.002045%2C%20-83.767914%5D%2C%20%5B42.371201%2C%20-72.498482%5D%2C%20%5B34.12037%2C%20-117.73986599999999%5D%2C%20%5B36.616865999999995%2C%20-119.28701299999999%5D%2C%20%5B40.007789%2C%20-111.76254099999998%5D%2C%20%5B36.821135999999996%2C%20-121.630447%5D%2C%20%5B34.683997999999995%2C%20-120.156502%5D%2C%20%5B40.943897%2C%20-72.300301%5D%2C%20%5B41.579941%2C%20-70.58473199999999%5D%2C%20%5B37.490210999999995%2C%20-122.21661399999999%5D%2C%20%5B38.345871%2C%20-81.63427800000001%5D%2C%20%5B46.811626000000004%2C%20-95.871246%5D%2C%20%5B44.943279%2C%20-93.07717%5D%2C%20%5B35.317643%2C%20-119.003101%5D%2C%20%5B38.37624%2C%20-122.741409%5D%2C%20%5B33.966946%2C%20-118.082169%5D%2C%20%5B34.119559%2C%20-118.79392800000001%5D%2C%20%5B38.84839%2C%20-77.13391%5D%2C%20%5B33.681020000000004%2C%20-117.85278000000001%5D%2C%20%5B28.035601%2C%20-80.656441%5D%2C%20%5B37.566158%2C%20-77.46674300000001%5D%2C%20%5B41.00715%2C%20-84.84435%5D%2C%20%5B29.749567%2C%20-95.374611%5D%2C%20%5B43.17058%2C%20-77.59779%5D%2C%20%5B34.38262%2C%20-118.48812%5D%2C%20%5B33.429386%2C%20-112.09362%5D%2C%20%5B34.259844%2C%20-118.330101%5D%2C%20%5B25.927807%2C%20-80.20663499999999%5D%2C%20%5B38.566292%2C%20-121.50988799999999%5D%2C%20%5B39.965641%2C%20-82.530617%5D%2C%20%5B40.569275%2C%20-89.650711%5D%2C%20%5B42.27551%2C%20-83.16015%5D%2C%20%5B38.77718%2C%20-121.26670800000001%5D%2C%20%5B40.758171000000004%2C%20-74.166489%5D%2C%20%5B44.889603%2C%20-93.350197%5D%2C%20%5B34.208439%2C%20-82.17536199999999%5D%2C%20%5B25.883983999999998%2C%20-80.32373%5D%2C%20%5B40.607085999999995%2C%20-75.56472%5D%2C%20%5B33.589481%2C%20-117.59924299999999%5D%2C%20%5B44.12365%2C%20-95.74369%5D%2C%20%5B35.13644%2C%20-80.977837%5D%2C%20%5B41.702408%2C%20-72.64421800000001%5D%2C%20%5B30.422909000000004%2C%20-91.139572%5D%2C%20%5B33.546387%2C%20-86.659973%5D%2C%20%5B25.78439%2C%20-80.29283000000001%5D%2C%20%5B33.386475%2C%20-112.05081200000001%5D%2C%20%5B38.703621000000005%2C%20-120.860134%5D%2C%20%5B34.749641%2C%20-86.63459%5D%2C%20%5B40.925259000000004%2C%20-72.69676199999999%5D%2C%20%5B32.939797%2C%20-96.821936%5D%2C%20%5B36.1526%2C%20-86.78730999999999%5D%2C%20%5B34.17057%2C%20-118.60516000000001%5D%2C%20%5B33.182043%2C%20-117.23085800000001%5D%2C%20%5B39.63584%2C%20-84.22537%5D%2C%20%5B39.85256%2C%20-75.36102%5D%2C%20%5B32.721573%2C%20-116.875244%5D%2C%20%5B33.220698999999996%2C%20-87.579109%5D%2C%20%5B45.082161%2C%20-93.287842%5D%2C%20%5B44.036%2C%20-92.55243%5D%2C%20%5B37.866753%2C%20-122.303642%5D%2C%20%5B37.481063%2C%20-122.208505%5D%2C%20%5B39.859478%2C%20-104.98748%5D%2C%20%5B32.811035%2C%20-96.849632%5D%2C%20%5B35.2533%2C%20-82.21889%5D%2C%20%5B43.598781%2C%20-116.549438%5D%2C%20%5B41.833012%2C%20-88.102859%5D%2C%20%5B37.559982%2C%20-122.034523%5D%2C%20%5B35.10595%2C%20-106.6086%5D%2C%20%5B39.557534000000004%2C%20-105.099492%5D%2C%20%5B35.016594%2C%20-85.280693%5D%2C%20%5B45.812979999999996%2C%20-122.853453%5D%2C%20%5B29.825771000000003%2C%20-95.49369%5D%2C%20%5B39.845827%2C%20-75.183035%5D%2C%20%5B45.122074%2C%20-93.04956800000001%5D%2C%20%5B35.076640999999995%2C%20-89.973712%5D%2C%20%5B39.74367%2C%20-104.82821%5D%2C%20%5B34.028252%2C%20-118.229256%5D%2C%20%5B26.017120000000002%2C%20-80.16734%5D%2C%20%5B45.979459999999996%2C%20-94.86479%5D%2C%20%5B35.864288%2C%20-78.620071%5D%2C%20%5B42.003378999999995%2C%20-88.126688%5D%2C%20%5B34.779476%2C%20-81.700867%5D%2C%20%5B41.468521%2C%20-81.790024%5D%2C%20%5B33.736412%2C%20-117.994476%5D%2C%20%5B33.98982%2C%20-117.35002%5D%2C%20%5B33.6468%2C%20-114.3393%5D%2C%20%5B34.766940999999996%2C%20-80.311279%5D%2C%20%5B34.152029999999996%2C%20-118.14376000000001%5D%2C%20%5B39.713902000000004%2C%20-78.188461%5D%2C%20%5B32.725406%2C%20-117.07403500000001%5D%2C%20%5B34.056166%2C%20-118.255995%5D%2C%20%5B34.613232%2C%20-86.567123%5D%2C%20%5B36.43707%2C%20-118.90576499999999%5D%2C%20%5B36.04335%2C%20-86.6408%5D%2C%20%5B38.709957%2C%20-111.892784%5D%2C%20%5B37.524052000000005%2C%20-77.428154%5D%2C%20%5B41.71787%2C%20-87.85189%5D%2C%20%5B37.956357000000004%2C%20-121.26395900000001%5D%2C%20%5B33.92284%2C%20-84.485298%5D%2C%20%5B35.73205%2C%20-118.54628000000001%5D%2C%20%5B33.927409999999995%2C%20-117.2886%5D%2C%20%5B41.228687%2C%20-112.025604%5D%2C%20%5B34.169212%2C%20-79.813278%5D%2C%20%5B33.876956%2C%20-118.156236%5D%2C%20%5B36.040001000000004%2C%20-86.743492%5D%2C%20%5B38.162620000000004%2C%20-79.01382%5D%2C%20%5B42.518986%2C%20-83.616135%5D%2C%20%5B39.806217%2C%20-86.064476%5D%2C%20%5B39.324729999999995%2C%20-76.63428499999999%5D%2C%20%5B33.78487%2C%20-84.24601%5D%2C%20%5B42.038132%2C%20-88.238472%5D%2C%20%5B32.695187%2C%20-117.13386499999999%5D%2C%20%5B32.811058%2C%20-96.849602%5D%2C%20%5B42.55923%2C%20-70.92766999999999%5D%2C%20%5B42.145286999999996%2C%20-87.832314%5D%2C%20%5B40.6988%2C%20-112.25968%5D%2C%20%5B40.130897999999995%2C%20-76.21704100000001%5D%2C%20%5B34.063038%2C%20-81.04613499999999%5D%2C%20%5B44.919659%2C%20-93.482414%5D%2C%20%5B30.274031%2C%20-81.639717%5D%2C%20%5B42.97433%2C%20-83.676438%5D%2C%20%5B33.778175%2C%20-117.866875%5D%2C%20%5B27.995990000000003%2C%20-82.36847%5D%2C%20%5B34.044216%2C%20-118.169853%5D%2C%20%5B30.049976%2C%20-95.184563%5D%2C%20%5B35.144923999999996%2C%20-80.788155%5D%2C%20%5B25.984855%2C%20-80.16552%5D%2C%20%5B32.789482%2C%20-96.802153%5D%2C%20%5B45.30534%2C%20-121.81617%5D%2C%20%5B36.097111%2C%20-95.81532299999999%5D%2C%20%5B29.77135%2C%20-95.32992%5D%2C%20%5B33.928833000000004%2C%20-118.294027%5D%2C%20%5B37.473061%2C%20-122.15516699999999%5D%2C%20%5B37.368396000000004%2C%20-120.468519%5D%2C%20%5B30.448154%2C%20-97.792633%5D%2C%20%5B41.769535%2C%20-72.668213%5D%2C%20%5B29.992815000000004%2C%20-90.048869%5D%2C%20%5B38.87968%2C%20-77.22116%5D%2C%20%5B32.74023%2C%20-117.05255%5D%2C%20%5B29.663459999999997%2C%20-95.38519000000001%5D%2C%20%5B32.152164%2C%20-110.917703%5D%2C%20%5B33.92713%2C%20-117.41951%5D%2C%20%5B40.515366%2C%20-80.052757%5D%2C%20%5B39.77652%2C%20-104.87606000000001%5D%2C%20%5B33.900723%2C%20-84.625038%5D%2C%20%5B35.290653000000006%2C%20-80.756989%5D%2C%20%5B37.561617%2C%20-122.276377%5D%2C%20%5B35.84988%2C%20-78.580528%5D%2C%20%5B39.86805%2C%20-77.038185%5D%2C%20%5B25.781242000000002%2C%20-80.336578%5D%2C%20%5B38.901939%2C%20-121.07294499999999%5D%2C%20%5B39.61871%2C%20-75.69462%5D%2C%20%5B30.012909000000004%2C%20-95.13170600000001%5D%2C%20%5B32.472775%2C%20-93.837624%5D%2C%20%5B36.115826%2C%20-86.77379599999999%5D%2C%20%5B44.874519%2C%20-93.064636%5D%2C%20%5B44.8885%2C%20-93.3255%5D%2C%20%5B37.715199%2C%20-122.17263799999999%5D%2C%20%5B27.746349%2C%20-82.651161%5D%2C%20%5B30.236679%2C%20-97.686317%5D%2C%20%5B30.308603%2C%20-85.472806%5D%2C%20%5B35.320339000000004%2C%20-97.513702%5D%2C%20%5B41.58109%2C%20-88.17188%5D%2C%20%5B34.082127%2C%20-118.704552%5D%2C%20%5B44.096709999999995%2C%20-123.10973%5D%2C%20%5B36.140842%2C%20-86.719818%5D%2C%20%5B32.072826%2C%20-81.086327%5D%2C%20%5B40.727695000000004%2C%20-73.929199%5D%2C%20%5B34.826681%2C%20-82.293037%5D%2C%20%5B30.430248%2C%20-81.65619699999999%5D%2C%20%5B30.347440999999996%2C%20-97.712982%5D%2C%20%5B45.529899%2C%20-122.64487700000001%5D%2C%20%5B37.528809%2C%20-122.003813%5D%2C%20%5B33.84598%2C%20-118.0923%5D%2C%20%5B42.478367%2C%20-83.428123%5D%2C%20%5B41.213051%2C%20-95.934464%5D%2C%20%5B42.343361%2C%20-71.085709%5D%2C%20%5B44.94296%2C%20-93.27486%5D%2C%20%5B35.861092%2C%20-86.846878%5D%2C%20%5B41.410975%2C%20-73.786465%5D%2C%20%5B34.488316%2C%20-82.668762%5D%2C%20%5B30.21175%2C%20-97.806099%5D%2C%20%5B34.829202%2C%20-92.149854%5D%2C%20%5B34.191609%2C%20-82.16082800000001%5D%2C%20%5B39.756203%2C%20-84.194511%5D%2C%20%5B37.052282%2C%20-120.64143700000001%5D%2C%20%5B33.525059000000006%2C%20-82.040001%5D%2C%20%5B40.696609%2C%20-111.98082%5D%2C%20%5B42.32824%2C%20-83.44366%5D%2C%20%5B33.890293%2C%20-84.460991%5D%2C%20%5B44.948846%2C%20-92.924688%5D%2C%20%5B33.620757%2C%20-117.42451799999999%5D%2C%20%5B37.683193%2C%20-77.668533%5D%2C%20%5B37.804072999999995%2C%20-122.302742%5D%2C%20%5B33.912457%2C%20-118.17946599999999%5D%2C%20%5B41.746117%2C%20-87.939026%5D%2C%20%5B41.23083%2C%20-111.94792%5D%2C%20%5B33.72991%2C%20-78.95015%5D%2C%20%5B34.303253000000005%2C%20-118.479774%5D%2C%20%5B29.744659000000002%2C%20-95.391281%5D%2C%20%5B34.16713%2C%20-118.30017%5D%2C%20%5B34.157711%2C%20-118.379654%5D%2C%20%5B41.569342999999996%2C%20-87.357388%5D%2C%20%5B32.720341%2C%20-96.891441%5D%2C%20%5B37.742622%2C%20-121.53238700000001%5D%2C%20%5B32.683478%2C%20-97.407327%5D%2C%20%5B38.24427%2C%20-85.75256%5D%2C%20%5B33.876289%2C%20-118.102577%5D%2C%20%5B25.947483%2C%20-80.148705%5D%2C%20%5B34.110690999999996%2C%20-80.84626%5D%2C%20%5B38.453196999999996%2C%20-120.917969%5D%2C%20%5B33.386292%2C%20-111.754005%5D%2C%20%5B44.383959000000004%2C%20-123.06147%5D%2C%20%5B29.608478%2C%20-98.267652%5D%2C%20%5B26.461716%2C%20-80.088387%5D%2C%20%5B34.049938%2C%20-81.105637%5D%2C%20%5B33.903568%2C%20-81.485252%5D%2C%20%5B37.3172%2C%20-121.93203000000001%5D%2C%20%5B39.040040000000005%2C%20-84.61006%5D%2C%20%5B36.761826%2C%20-119.749466%5D%2C%20%5B33.048378%2C%20-117.287079%5D%2C%20%5B41.03971%2C%20-81.64792800000001%5D%2C%20%5B34.031334%2C%20-118.43366999999999%5D%2C%20%5B32.315956%2C%20-86.21635400000001%5D%2C%20%5B36.952632%2C%20-81.05460699999999%5D%2C%20%5B30.573819%2C%20-87.291954%5D%2C%20%5B39.987567%2C%20-75.972868%5D%2C%20%5B33.82195%2C%20-118.20705%5D%2C%20%5B47.580238%2C%20-122.17433899999999%5D%2C%20%5B42.48172%2C%20-73.670097%5D%2C%20%5B34.033033%2C%20-118.13001200000001%5D%2C%20%5B33.8643%2C%20-79.813751%5D%2C%20%5B38.660866%2C%20-121.346825%5D%2C%20%5B32.849298%2C%20-96.909301%5D%2C%20%5B37.548862%2C%20-77.447342%5D%2C%20%5B36.844864%2C%20-76.27935%5D%2C%20%5B33.861309000000006%2C%20-78.65735600000001%5D%2C%20%5B36.152836%2C%20-86.68335%5D%2C%20%5B39.798798%2C%20-84.189705%5D%2C%20%5B35.229721000000005%2C%20-80.926041%5D%2C%20%5B35.824928%2C%20-78.374825%5D%2C%20%5B34.008869%2C%20-80.489822%5D%2C%20%5B25.996241%2C%20-80.16617600000001%5D%2C%20%5B29.722170000000002%2C%20-95.354973%5D%2C%20%5B39.863021999999994%2C%20-105.056%5D%2C%20%5B45.453540000000004%2C%20-122.72174299999999%5D%2C%20%5B36.147971999999996%2C%20-86.777496%5D%2C%20%5B34.414660999999995%2C%20-117.224747%5D%2C%20%5B30.31496%2C%20-81.78023%5D%2C%20%5B39.013597%2C%20-77.05278%5D%2C%20%5B33.33514%2C%20-111.876427%5D%2C%20%5B35.609295%2C%20-97.638512%5D%2C%20%5B33.773709999999994%2C%20-118.00601%5D%2C%20%5B37.786991%2C%20-122.389854%5D%2C%20%5B34.272331%2C%20-118.556831%5D%2C%20%5B35.556923%2C%20-82.519966%5D%2C%20%5B30.597811%2C%20-91.18409%5D%2C%20%5B34.03337%2C%20-118.15275%5D%2C%20%5B32.830459999999995%2C%20-96.917046%5D%2C%20%5B42.924839%2C%20-74.61405400000001%5D%2C%20%5B36.005688%2C%20-80.039268%5D%2C%20%5B37.813351000000004%2C%20-122.25089299999999%5D%2C%20%5B36.176536999999996%2C%20-86.771652%5D%2C%20%5B36.705979%2C%20-119.970055%5D%2C%20%5B38.519602%2C%20-122.47049299999999%5D%2C%20%5B29.580717%2C%20-98.53984100000001%5D%2C%20%5B37.60369%2C%20-122.20007%5D%2C%20%5B41.154359%2C%20-112.0251%5D%2C%20%5B41.942982%2C%20-87.88746%5D%2C%20%5B40.685909%2C%20-73.726196%5D%2C%20%5B33.971001%2C%20-112.727753%5D%2C%20%5B29.730321999999997%2C%20-95.594963%5D%2C%20%5B33.386517%2C%20-111.771133%5D%2C%20%5B36.075409%2C%20-96.04026800000001%5D%2C%20%5B34.041218%2C%20-118.064255%5D%2C%20%5B41.846123%2C%20-87.97776800000001%5D%2C%20%5B45.371501%2C%20-122.744796%5D%2C%20%5B34.101715000000006%2C%20-81.223557%5D%2C%20%5B40.006477000000004%2C%20-83.030991%5D%2C%20%5B39.90299%2C%20-75.11623%5D%2C%20%5B25.952439000000002%2C%20-80.334783%5D%2C%20%5B37.32481%2C%20-77.742774%5D%2C%20%5B37.851349%2C%20-122.02898400000001%5D%2C%20%5B40.513081%2C%20-89.784607%5D%2C%20%5B34.791053999999995%2C%20-82.416634%5D%2C%20%5B38.02787%2C%20-122.115509%5D%2C%20%5B27.879357000000002%2C%20-82.326678%5D%2C%20%5B28.756857%2C%20-81.55980699999999%5D%2C%20%5B33.788253999999995%2C%20-84.377464%5D%2C%20%5B34.803101%2C%20-82.374191%5D%2C%20%5B29.687445%2C%20-82.445038%5D%2C%20%5B37.680004%2C%20-121.04932600000001%5D%2C%20%5B45.54823%2C%20-122.67877%5D%2C%20%5B35.829929%2C%20-78.666878%5D%2C%20%5B32.6692%2C%20-97.31168000000001%5D%2C%20%5B34.858371999999996%2C%20-82.341751%5D%2C%20%5B33.92631%2C%20-118.21353%5D%2C%20%5B38.698006%2C%20-121.421806%5D%2C%20%5B34.070129%2C%20-117.86458600000002%5D%2C%20%5B47.726459999999996%2C%20-122.290947%5D%2C%20%5B33.872124%2C%20-117.665306%5D%2C%20%5B38.618590000000005%2C%20-121.419315%5D%2C%20%5B32.845581%2C%20-96.773827%5D%2C%20%5B28.348029999999998%2C%20-81.55246700000001%5D%2C%20%5B33.78957%2C%20-118.089188%5D%2C%20%5B36.140671000000005%2C%20-95.904572%5D%2C%20%5B33.426338%2C%20-82.090645%5D%2C%20%5B40.025295%2C%20-75.228973%5D%2C%20%5B40.317009000000006%2C%20-75.92533900000001%5D%2C%20%5B28.240803000000003%2C%20-81.638153%5D%2C%20%5B45.079212%2C%20-93.185745%5D%2C%20%5B34.12019%2C%20-117.73288000000001%5D%2C%20%5B47.711956%2C%20-122.290649%5D%2C%20%5B35.56987%2C%20-82.957314%5D%2C%20%5B39.86855%2C%20-82.89474%5D%2C%20%5B37.57721%2C%20-112.8675%5D%2C%20%5B38.70697%2C%20-77.223%5D%2C%20%5B40.118088%2C%20-85.568962%5D%2C%20%5B34.068366999999995%2C%20-117.60340900000001%5D%2C%20%5B33.523842%2C%20-112.20300300000001%5D%2C%20%5B34.318214000000005%2C%20-119.10844399999999%5D%2C%20%5B45.0917%2C%20-93.44227%5D%2C%20%5B33.512642%2C%20-86.874114%5D%2C%20%5B25.898338%2C%20-80.20976999999999%5D%2C%20%5B33.811%2C%20-84.37305%5D%2C%20%5B33.673512%2C%20-78.976997%5D%2C%20%5B34.559792%2C%20-118.13233899999999%5D%2C%20%5B42.028046%2C%20-87.985107%5D%2C%20%5B32.484322%2C%20-110.92244%5D%2C%20%5B40.721790000000006%2C%20-73.98465%5D%2C%20%5B39.222189%2C%20-123.085659%5D%2C%20%5B38.099985%2C%20-122.229644%5D%2C%20%5B30.19114%2C%20-81.69181999999999%5D%2C%20%5B33.64888%2C%20-112.11483%5D%2C%20%5B45.316185%2C%20-94.899872%5D%2C%20%5B40.85968%2C%20-73.419388%5D%2C%20%5B45.44502%2C%20-122.736852%5D%2C%20%5B39.019264%2C%20-76.976738%5D%2C%20%5B30.193731%2C%20-92.058693%5D%2C%20%5B29.870131%2C%20-95.32991%5D%2C%20%5B25.926455999999998%2C%20-80.24453000000001%5D%2C%20%5B39.00161%2C%20-94.55561800000001%5D%2C%20%5B37.778081%2C%20-122.40116499999999%5D%2C%20%5B37.68544%2C%20-77.542007%5D%2C%20%5B38.067219%2C%20-122.53744499999999%5D%2C%20%5B34.819996%2C%20-82.444725%5D%2C%20%5B41.805679999999995%2C%20-71.44088%5D%2C%20%5B30.310034%2C%20-81.649635%5D%2C%20%5B40.69986%2C%20-111.83406799999999%5D%2C%20%5B34.135681%2C%20-118.360832%5D%2C%20%5B45.38139%2C%20-122.75278%5D%2C%20%5B33.99263%2C%20-80.406021%5D%2C%20%5B36.098763%2C%20-86.772064%5D%2C%20%5B36.040440000000004%2C%20-83.43597%5D%2C%20%5B34.274044%2C%20-118.426915%5D%2C%20%5B35.436240999999995%2C%20-97.536827%5D%2C%20%5B39.01847%2C%20-76.990263%5D%2C%20%5B36.874746%2C%20-76.197475%5D%2C%20%5B40.820557%2C%20-75.23790699999999%5D%2C%20%5B33.445741%2C%20-84.879898%5D%2C%20%5B42.532106%2C%20-84.71804499999999%5D%2C%20%5B34.27357%2C%20-118.56963999999999%5D%2C%20%5B35.260979%2C%20-80.83689100000001%5D%2C%20%5B41.982853000000006%2C%20-88.102554%5D%2C%20%5B40.714432%2C%20-73.914253%5D%2C%20%5B35.986908%2C%20-78.685787%5D%2C%20%5B39.934418%2C%20-74.965683%5D%2C%20%5B25.732333999999998%2C%20-80.367752%5D%2C%20%5B34.888401%2C%20-82.29843100000001%5D%2C%20%5B38.141289%2C%20-122.22703600000001%5D%2C%20%5B33.63178%2C%20-112.0308%5D%2C%20%5B39.506378000000005%2C%20-74.518883%5D%2C%20%5B37.778090999999996%2C%20-122.401176%5D%2C%20%5B29.777586%2C%20-95.29181700000001%5D%2C%20%5B42.607234999999996%2C%20-71.325478%5D%2C%20%5B34.145634%2C%20-117.28944399999999%5D%2C%20%5B33.192127%2C%20-85.136162%5D%2C%20%5B35.841625%2C%20-78.642967%5D%2C%20%5B41.774433%2C%20-87.946579%5D%2C%20%5B37.395883000000005%2C%20-92.898105%5D%2C%20%5B32.647372999999995%2C%20-96.780441%5D%2C%20%5B37.66896%2C%20-122.1094%5D%2C%20%5B37.878899%2C%20-121.278297%5D%2C%20%5B33.968340000000005%2C%20-118.169556%5D%2C%20%5B39.778296000000005%2C%20-83.08109%5D%2C%20%5B25.925341%2C%20-80.153943%5D%2C%20%5B38.195324%2C%20-85.707924%5D%2C%20%5B37.333946000000005%2C%20-122.04914099999999%5D%2C%20%5B43.14225%2C%20-77.65099000000001%5D%2C%20%5B33.331463%2C%20-117.159081%5D%2C%20%5B32.91901%2C%20-97.01535%5D%2C%20%5B33.88876%2C%20-117.51288600000001%5D%2C%20%5B42.052521%2C%20-87.709198%5D%2C%20%5B33.197196000000005%2C%20-87.565037%5D%2C%20%5B27.554990999999998%2C%20-82.453506%5D%2C%20%5B33.553207%2C%20-112.11248799999998%5D%2C%20%5B33.854009000000005%2C%20-117.941667%5D%2C%20%5B30.43542%2C%20-91.17755%5D%2C%20%5B31.701471%2C%20-106.28463%5D%2C%20%5B40.042858%2C%20-76.359009%5D%2C%20%5B38.48093%2C%20-120.93170900000001%5D%2C%20%5B40.689908%2C%20-111.95199%5D%2C%20%5B42.255119%2C%20-88.001442%5D%2C%20%5B39.89217%2C%20-83.039169%5D%2C%20%5B37.588539000000004%2C%20-121.87087199999999%5D%2C%20%5B45.034264%2C%20-92.984695%5D%2C%20%5B30.31267%2C%20-97.677269%5D%2C%20%5B47.756004%2C%20-122.32968899999999%5D%2C%20%5B33.552104%2C%20-117.717774%5D%2C%20%5B34.068718%2C%20-117.839487%5D%2C%20%5B30.391937%2C%20-91.090851%5D%2C%20%5B40.110546%2C%20-74.89119000000001%5D%2C%20%5B37.141605%2C%20-120.274429%5D%2C%20%5B33.765919%2C%20-117.93926200000001%5D%2C%20%5B38.878479999999996%2C%20-104.83565%5D%2C%20%5B29.937820000000002%2C%20-95.44847%5D%2C%20%5B40.817947%2C%20-73.961731%5D%2C%20%5B40.703102%2C%20-73.964455%5D%2C%20%5B37.70154%2C%20-121.86729%5D%2C%20%5B40.804939000000005%2C%20-72.760933%5D%2C%20%5B34.054317%2C%20-81.058617%5D%2C%20%5B39.013489%2C%20-77.042068%5D%2C%20%5B43.05879%2C%20-76.09929%5D%2C%20%5B35.460552%2C%20-97.635773%5D%2C%20%5B38.644131%2C%20-121.112679%5D%2C%20%5B33.910990000000005%2C%20-84.21488000000001%5D%2C%20%5B34.159187%2C%20-118.501457%5D%2C%20%5B40.980587%2C%20-111.901436%5D%2C%20%5B39.018341%2C%20-76.96986%5D%2C%20%5B28.188078000000004%2C%20-82.723526%5D%2C%20%5B28.392401%2C%20-81.367561%5D%2C%20%5B38.854557%2C%20-94.677353%5D%2C%20%5B45.069481%2C%20-93.286163%5D%2C%20%5B28.811001%2C%20-81.461449%5D%2C%20%5B43.060307%2C%20-83.80274200000001%5D%2C%20%5B30.4205%2C%20-97.753342%5D%2C%20%5B29.889193%2C%20-95.420036%5D%2C%20%5B28.04601%2C%20-82.35189%5D%2C%20%5B33.891825%2C%20-117.55578999999999%5D%2C%20%5B40.202453999999996%2C%20-74.75919300000001%5D%2C%20%5B39.015128999999995%2C%20-76.90836800000001%5D%2C%20%5B32.855678999999995%2C%20-117.11388400000001%5D%2C%20%5B41.873112%2C%20-71.39057199999999%5D%2C%20%5B33.775402%2C%20-117.848274%5D%2C%20%5B34.074936%2C%20-117.13408100000001%5D%2C%20%5B38.669708%2C%20-77.259114%5D%2C%20%5B25.59613%2C%20-80.356802%5D%2C%20%5B43.028911%2C%20-88.146838%5D%2C%20%5B32.31197%2C%20-86.251198%5D%2C%20%5B40.431934000000005%2C%20-111.891319%5D%2C%20%5B44.179929%2C%20-123.31231899999999%5D%2C%20%5B34.000702000000004%2C%20-117.84483300000001%5D%2C%20%5B36.694325%2C%20-121.662522%5D%2C%20%5B25.926081%2C%20-80.26153599999999%5D%2C%20%5B35.207321%2C%20-80.89363900000001%5D%2C%20%5B44.78415%2C%20-123.03877%5D%2C%20%5B34.154633000000004%2C%20-118.272263%5D%2C%20%5B33.712540000000004%2C%20-112.16541299999999%5D%2C%20%5B36.103813%2C%20-95.91100300000001%5D%2C%20%5B37.700935%2C%20-121.92211200000001%5D%2C%20%5B39.1127%2C%20-77.6571%5D%2C%20%5B25.603519%2C%20-80.354416%5D%2C%20%5B39.92514%2C%20-75.048063%5D%2C%20%5B28.552291999999998%2C%20-81.459389%5D%2C%20%5B41.565609%2C%20-81.582741%5D%2C%20%5B33.779006%2C%20-118.28009499999999%5D%2C%20%5B34.170712%2C%20-118.502769%5D%2C%20%5B34.053593%2C%20-118.25790400000001%5D%2C%20%5B38.481401%2C%20-121.40876000000002%5D%2C%20%5B30.586522%2C%20-84.36020500000001%5D%2C%20%5B33.9561%2C%20-118.10945%5D%2C%20%5B38.220718%2C%20-122.607628%5D%2C%20%5B35.83062%2C%20-78.76639%5D%2C%20%5B29.938971000000002%2C%20-95.356262%5D%2C%20%5B40.73761%2C%20-73.60775%5D%2C%20%5B29.696806%2C%20-95.30953199999999%5D%2C%20%5B38.015452%2C%20-120.396344%5D%2C%20%5B39.27029%2C%20-84.440086%5D%2C%20%5B38.581982%2C%20-121.463081%5D%2C%20%5B29.511721%2C%20-98.535202%5D%2C%20%5B41.244926%2C%20-112.025352%5D%2C%20%5B42.838245%2C%20-74.01280200000001%5D%2C%20%5B35.493202000000004%2C%20-97.547676%5D%2C%20%5B35.050238%2C%20-80.938822%5D%2C%20%5B34.00547%2C%20-117.550499%5D%2C%20%5B25.477401999999998%2C%20-80.43950699999999%5D%2C%20%5B37.10907%2C%20-76.47689799999999%5D%2C%20%5B34.134365%2C%20-117.957603%5D%2C%20%5B38.849255%2C%20-77.418198%5D%2C%20%5B45.335538%2C%20-122.76956000000001%5D%2C%20%5B38.736540000000005%2C%20-77.19247%5D%2C%20%5B32.715149%2C%20-97.320236%5D%2C%20%5B42.48892%2C%20-83.08129%5D%2C%20%5B36.735814000000005%2C%20-119.70501200000001%5D%2C%20%5B30.375346999999998%2C%20-97.668076%5D%2C%20%5B30.29593%2C%20-97.82914%5D%2C%20%5B35.260838%2C%20-80.894661%5D%2C%20%5B41.290915999999996%2C%20-73.834923%5D%2C%20%5B44.968815%2C%20-93.252876%5D%2C%20%5B38.663584%2C%20-121.29234199999999%5D%2C%20%5B32.327103%2C%20-86.2447%5D%2C%20%5B38.117228999999995%2C%20-121.133232%5D%2C%20%5B33.877155%2C%20-117.88021100000002%5D%2C%20%5B30.952271000000003%2C%20-88.303474%5D%2C%20%5B38.829933000000004%2C%20-77.11350999999999%5D%2C%20%5B29.859674%2C%20-95.39765899999999%5D%2C%20%5B38.244251%2C%20-122.082718%5D%2C%20%5B34.018902000000004%2C%20-118.17326399999999%5D%2C%20%5B33.892578%2C%20-118.285866%5D%2C%20%5B29.866597%2C%20-95.539986%5D%2C%20%5B40.057809999999996%2C%20-82.99834%5D%2C%20%5B37.70281%2C%20-122.01736000000001%5D%2C%20%5B37.58822%2C%20-122.35755%5D%2C%20%5B44.598136%2C%20-121.967152%5D%2C%20%5B42.992129999999996%2C%20-83.71045%5D%2C%20%5B36.513096000000004%2C%20-121.43379399999999%5D%2C%20%5B40.01835%2C%20-75.30473%5D%2C%20%5B35.874862%2C%20-78.72290799999999%5D%2C%20%5B42.977589%2C%20-85.63002%5D%2C%20%5B47.658653%2C%20-122.34733600000001%5D%2C%20%5B32.860946999999996%2C%20-96.855164%5D%2C%20%5B37.722958%2C%20-121.100586%5D%2C%20%5B35.347836%2C%20-80.845535%5D%2C%20%5B39.081203%2C%20-76.959011%5D%2C%20%5B33.235806%2C%20-87.610313%5D%2C%20%5B38.049145%2C%20-78.441989%5D%2C%20%5B35.767899%2C%20-78.574081%5D%2C%20%5B35.493140999999994%2C%20-97.48335300000001%5D%2C%20%5B35.84726%2C%20-78.673378%5D%2C%20%5B33.883026%2C%20-117.541319%5D%2C%20%5B34.060608%2C%20-118.17348500000001%5D%2C%20%5B32.352726000000004%2C%20-86.219223%5D%2C%20%5B30.247633%2C%20-97.772858%5D%2C%20%5B33.06686%2C%20-80.147903%5D%2C%20%5B42.005389%2C%20-88.14471999999999%5D%2C%20%5B39.696540999999996%2C%20-104.833572%5D%2C%20%5B34.324444%2C%20-117.48207099999999%5D%2C%20%5B44.861343%2C%20-93.279106%5D%2C%20%5B40.891933%2C%20-111.89580500000001%5D%2C%20%5B32.925533%2C%20-96.803505%5D%2C%20%5B38.247211%2C%20-85.61998%5D%2C%20%5B38.568247%2C%20-121.510798%5D%2C%20%5B37.762577%2C%20-121.957108%5D%2C%20%5B32.647166999999996%2C%20-96.942856%5D%2C%20%5B34.135574%2C%20-118.00088500000001%5D%2C%20%5B34.228375%2C%20-117.414552%5D%2C%20%5B37.652142%2C%20-122.098717%5D%2C%20%5B29.509970000000003%2C%20-98.55213%5D%2C%20%5B40.126999999999995%2C%20-79.96009000000001%5D%2C%20%5B29.736364000000002%2C%20-95.592575%5D%2C%20%5B34.148109000000005%2C%20-80.758041%5D%2C%20%5B35.34663%2C%20-80.841515%5D%2C%20%5B42.139148999999996%2C%20-88.175117%5D%2C%20%5B39.960922%2C%20-76.759956%5D%2C%20%5B41.793673999999996%2C%20-87.683533%5D%2C%20%5B45.453625%2C%20-122.72106200000002%5D%2C%20%5B41.415932%2C%20-73.7267%5D%2C%20%5B39.170418%2C%20-76.73085%5D%2C%20%5B32.702%2C%20-96.61963%5D%2C%20%5B35.301766%2C%20-80.730548%5D%2C%20%5B33.509169%2C%20-84.235038%5D%2C%20%5B45.76375%2C%20-93.61872%5D%2C%20%5B42.198221000000004%2C%20-121.79455%5D%2C%20%5B33.925789%2C%20-118.308976%5D%2C%20%5B25.883753%2C%20-80.208977%5D%2C%20%5B32.854079999999996%2C%20-96.650948%5D%2C%20%5B29.488152000000003%2C%20-98.49928299999999%5D%2C%20%5B28.436211%2C%20-81.36751600000001%5D%2C%20%5B33.890293%2C%20-84.460991%5D%2C%20%5B40.843702%2C%20-73.895577%5D%2C%20%5B37.701012%2C%20-121.808296%5D%2C%20%5B28.240509999999997%2C%20-82.31255999999999%5D%2C%20%5B40.729541999999995%2C%20-74.22330500000001%5D%2C%20%5B38.34053%2C%20-77.4911%5D%2C%20%5B29.449013%2C%20-95.077072%5D%2C%20%5B44.86224%2C%20-93.268158%5D%2C%20%5B36.502047999999995%2C%20-121.937149%5D%2C%20%5B40.845141999999996%2C%20-73.92654399999999%5D%2C%20%5B35.240639%2C%20-80.897087%5D%2C%20%5B38.222590999999994%2C%20-122.25325%5D%2C%20%5B40.16547%2C%20-82.995102%5D%2C%20%5B38.260448%2C%20-85.73921999999999%5D%2C%20%5B40.230028000000004%2C%20-75.313864%5D%2C%20%5B35.123409%2C%20-81.239586%5D%2C%20%5B28.10618%2C%20-82.249352%5D%2C%20%5B37.777733000000005%2C%20-122.16741200000001%5D%2C%20%5B34.807671%2C%20-82.440422%5D%2C%20%5B34.14925%2C%20-118.80426999999999%5D%2C%20%5B35.74559%2C%20-78.648949%5D%2C%20%5B38.987438%2C%20-77.026649%5D%2C%20%5B33.878391%2C%20-117.657677%5D%2C%20%5B33.816292%2C%20-81.452164%5D%2C%20%5B33.524178000000006%2C%20-112.112373%5D%2C%20%5B35.073055%2C%20-90.01042199999999%5D%2C%20%5B34.820202%2C%20-82.264503%5D%2C%20%5B37.809841%2C%20-122.246544%5D%2C%20%5B37.050968%2C%20-78.00488299999999%5D%2C%20%5B36.13997%2C%20-86.72442%5D%2C%20%5B40.493522999999996%2C%20-79.941917%5D%2C%20%5B38.811268%2C%20-77.214218%5D%2C%20%5B38.13694%2C%20-120.457656%5D%2C%20%5B47.57445%2C%20-122.17557%5D%2C%20%5B46.369096%2C%20-94.904505%5D%2C%20%5B34.70528%2C%20-82.301048%5D%2C%20%5B39.661339%2C%20-75.65258%5D%2C%20%5B42.3756%2C%20-88.1698%5D%2C%20%5B33.364292%2C%20-117.06658200000001%5D%2C%20%5B39.017021%2C%20-77.100723%5D%2C%20%5B42.39197%2C%20-87.85528000000001%5D%2C%20%5B32.236107000000004%2C%20-110.860176%5D%2C%20%5B30.347561%2C%20-98.054276%5D%2C%20%5B39.526416%2C%20-76.354347%5D%2C%20%5B37.716171%2C%20-121.31489599999999%5D%2C%20%5B35.334209%2C%20-97.529884%5D%2C%20%5B25.786917000000003%2C%20-80.200462%5D%2C%20%5B27.521812%2C%20-80.45089%5D%2C%20%5B39.75527%2C%20-84.22452%5D%2C%20%5B35.005951%2C%20-89.901512%5D%2C%20%5B33.873173%2C%20-118.266052%5D%2C%20%5B39.760731%2C%20-86.224609%5D%2C%20%5B33.91294%2C%20-118.13128%5D%2C%20%5B41.730247%2C%20-77.390109%5D%2C%20%5B41.77925%2C%20-87.68365%5D%2C%20%5B33.767616%2C%20-117.920525%5D%2C%20%5B34.15285%2C%20-118.12131799999999%5D%2C%20%5B27.902821000000003%2C%20-82.700546%5D%2C%20%5B35.856171%2C%20-78.641243%5D%2C%20%5B41.335564%2C%20-96.15843199999999%5D%2C%20%5B34.893726%2C%20-82.43199200000001%5D%2C%20%5B47.674984%2C%20-122.31565900000001%5D%2C%20%5B34.998211%2C%20-80.976173%5D%2C%20%5B33.29488%2C%20-111.95931999999999%5D%2C%20%5B42.033169%2C%20-88.31189%5D%2C%20%5B30.342871000000002%2C%20-97.703537%5D%2C%20%5B42.271989000000005%2C%20-84.411767%5D%2C%20%5B32.768944%2C%20-96.622589%5D%2C%20%5B35.595397999999996%2C%20-82.41442099999999%5D%2C%20%5B43.054789%2C%20-88.370861%5D%2C%20%5B25.584318%2C%20-80.364297%5D%2C%20%5B38.530844%2C%20-90.34491700000001%5D%2C%20%5B35.316897999999995%2C%20-120.83107%5D%2C%20%5B35.695038000000004%2C%20-78.575058%5D%2C%20%5B28.049084000000004%2C%20-82.709305%5D%2C%20%5B38.505177%2C%20-90.586929%5D%2C%20%5B34.049313%2C%20-117.305252%5D%2C%20%5B37.099987%2C%20-121.976646%5D%2C%20%5B39.884762%2C%20-86.209793%5D%2C%20%5B31.7785%2C%20-106.392723%5D%2C%20%5B38.387159999999994%2C%20-121.37143%5D%2C%20%5B44.77805%2C%20-93.55639000000001%5D%2C%20%5B38.496395%2C%20-121.446463%5D%2C%20%5B34.148659%2C%20-118.050179%5D%2C%20%5B32.865604%2C%20-96.770363%5D%2C%20%5B45.06597%2C%20-93.28617%5D%2C%20%5B40.652819%2C%20-122.62306699999999%5D%2C%20%5B32.832409000000006%2C%20-117.232643%5D%2C%20%5B34.498509999999996%2C%20-117.74025%5D%2C%20%5B37.553684000000004%2C%20-122.29625700000001%5D%2C%20%5B35.871990000000004%2C%20-78.70100000000001%5D%2C%20%5B33.952374%2C%20-81.23350500000001%5D%2C%20%5B35.39314%2C%20-97.2656%5D%2C%20%5B29.577251%2C%20-98.644936%5D%2C%20%5B40.596115000000005%2C%20-74.000641%5D%2C%20%5B37.547849%2C%20-120.90573799999999%5D%2C%20%5B39.758176%2C%20-84.238827%5D%2C%20%5B32.661308%2C%20-117.076996%5D%2C%20%5B33.974722%2C%20-118.23679299999999%5D%2C%20%5B35.44215%2C%20-80.86547%5D%2C%20%5B37.358383%2C%20-121.906975%5D%2C%20%5B39.29332%2C%20-84.48519%5D%2C%20%5B40.607925%2C%20-74.77561999999999%5D%2C%20%5B30.199961%2C%20-92.072632%5D%2C%20%5B38.882191%2C%20-77.121864%5D%2C%20%5B38.75399%2C%20-121.26442%5D%2C%20%5B25.990616%2C%20-80.16565899999999%5D%2C%20%5B25.499651%2C%20-80.40666%5D%2C%20%5B43.321248%2C%20-122.812374%5D%2C%20%5B30.551270000000002%2C%20-91.043999%5D%2C%20%5B42.634289%2C%20-71.31076%5D%2C%20%5B40.413761%2C%20-76.583458%5D%2C%20%5B33.656029%2C%20-117.084496%5D%2C%20%5B30.004922999999998%2C%20-90.025986%5D%2C%20%5B34.23135%2C%20-118.26743%5D%2C%20%5B33.567268%2C%20-112.199249%5D%2C%20%5B42.739002%2C%20-73.782211%5D%2C%20%5B34.185707%2C%20-118.159706%5D%2C%20%5B42.242687%2C%20-83.195633%5D%2C%20%5B35.325569%2C%20-118.799149%5D%2C%20%5B32.755913%2C%20-117.235399%5D%2C%20%5B37.824290999999995%2C%20-122.267967%5D%2C%20%5B33.748676%2C%20-84.38630699999999%5D%2C%20%5B34.071999999999996%2C%20-118.108098%5D%2C%20%5B41.205177%2C%20-96.115639%5D%2C%20%5B34.32274%2C%20-117.39838%5D%2C%20%5B37.397171%2C%20-122.042686%5D%2C%20%5B40.76795%2C%20-73.90446%5D%2C%20%5B33.638882%2C%20-112.43483%5D%2C%20%5B38.660579999999996%2C%20-121.327454%5D%2C%20%5B36.069247999999995%2C%20-86.68943%5D%2C%20%5B33.760529%2C%20-84.49356800000001%5D%2C%20%5B39.79694%2C%20-85.990532%5D%2C%20%5B41.285%2C%20-95.956581%5D%2C%20%5B35.724762%2C%20-78.651421%5D%2C%20%5B42.981472%2C%20-83.685242%5D%2C%20%5B34.62722%2C%20-82.390648%5D%2C%20%5B37.700489000000005%2C%20-122.09191899999999%5D%2C%20%5B34.07029%2C%20-80.95121%5D%2C%20%5B30.005046999999998%2C%20-90.208946%5D%2C%20%5B35.041527%2C%20-81.274117%5D%2C%20%5B34.159119%2C%20-118.63793899999999%5D%2C%20%5B34.123051000000004%2C%20-80.87445799999999%5D%2C%20%5B42.461308%2C%20-83.106026%5D%2C%20%5B28.660916999999998%2C%20-81.388118%5D%2C%20%5B34.272812%2C%20-118.556404%5D%2C%20%5B35.307957%2C%20-120.68087%5D%2C%20%5B34.466685999999996%2C%20-118.329811%5D%2C%20%5B27.946295000000003%2C%20-82.534355%5D%2C%20%5B38.67705%2C%20-90.44958000000001%5D%2C%20%5B39.467095%2C%20-77.143366%5D%2C%20%5B37.518278%2C%20-79.347398%5D%2C%20%5B34.006485%2C%20-118.28088400000001%5D%2C%20%5B26.656124%2C%20-81.79943100000001%5D%2C%20%5B28.120440999999996%2C%20-80.705803%5D%2C%20%5B41.13731%2C%20-96.02375%5D%2C%20%5B41.011928999999995%2C%20-73.702141%5D%2C%20%5B33.932842%2C%20-81.076897%5D%2C%20%5B28.03257%2C%20-82.356438%5D%2C%20%5B38.829041%2C%20-77.73214399999999%5D%2C%20%5B33.911038%2C%20-84.35745899999999%5D%2C%20%5B42.67822%2C%20-84.42721999999999%5D%2C%20%5B37.60905%2C%20-77.45111%5D%2C%20%5B36.157188%2C%20-86.824104%5D%2C%20%5B41.78014%2C%20-71.425667%5D%2C%20%5B36.684666%2C%20-121.674728%5D%2C%20%5B41.387988%2C%20-83.041825%5D%2C%20%5B37.842611%2C%20-122.297583%5D%2C%20%5B43.14891%2C%20-123.36498999999999%5D%2C%20%5B32.720676%2C%20-83.53166999999999%5D%2C%20%5B32.510952%2C%20-93.744499%5D%2C%20%5B34.065979%2C%20-118.2164%5D%2C%20%5B43.133396000000005%2C%20-77.725792%5D%2C%20%5B28.093618%2C%20-82.738731%5D%2C%20%5B34.019601%2C%20-117.61089399999999%5D%2C%20%5B34.172081%2C%20-118.46756%5D%2C%20%5B39.928069%2C%20-86.261341%5D%2C%20%5B42.883804%2C%20-85.64563000000001%5D%2C%20%5B34.154522%2C%20-118.39638400000001%5D%2C%20%5B43.087029%2C%20-77.592751%5D%2C%20%5B33.891815%2C%20-118.361351%5D%2C%20%5B38.960949%2C%20-119.77863300000001%5D%2C%20%5B38.416053999999995%2C%20-121.22976499999999%5D%2C%20%5B39.769016%2C%20-84.090347%5D%2C%20%5B30.291228999999998%2C%20-97.62799100000001%5D%2C%20%5B37.46991%2C%20-79.809593%5D%2C%20%5B37.517471%2C%20-77.44959300000001%5D%2C%20%5B32.771378000000006%2C%20-96.758339%5D%2C%20%5B43.176829999999995%2C%20-77.54274000000001%5D%2C%20%5B28.600003000000005%2C%20-81.299103%5D%2C%20%5B36.15416%2C%20-86.77018699999999%5D%2C%20%5B33.127865%2C%20-87.54903399999999%5D%2C%20%5B30.406945%2C%20-91.14933%5D%2C%20%5B32.749664%2C%20-96.891335%5D%2C%20%5B32.195229%2C%20-110.891228%5D%2C%20%5B36.02548%2C%20-86.713039%5D%2C%20%5B28.450289%2C%20-81.40432%5D%2C%20%5B47.640958000000005%2C%20-122.259675%5D%2C%20%5B41.210331%2C%20-111.97921000000001%5D%2C%20%5B39.778304999999996%2C%20-104.902596%5D%2C%20%5B28.52425%2C%20-81.331032%5D%2C%20%5B32.864906%2C%20-96.86239599999999%5D%2C%20%5B29.685095%2C%20-95.27716099999999%5D%2C%20%5B34.155666%2C%20-118.445297%5D%2C%20%5B40.808935999999996%2C%20-73.002424%5D%2C%20%5B39.93268%2C%20-74.96864000000001%5D%2C%20%5B40.585143%2C%20-122.35843200000001%5D%2C%20%5B39.332451%2C%20-76.487877%5D%2C%20%5B36.087703999999995%2C%20-79.76664%5D%2C%20%5B41.858792%2C%20-88.10583100000001%5D%2C%20%5B35.158791%2C%20-80.989616%5D%2C%20%5B41.857624%2C%20-88.14265400000001%5D%2C%20%5B36.095306%2C%20-95.850998%5D%2C%20%5B42.4101%2C%20-87.854915%5D%2C%20%5B32.879417%2C%20-80.71623199999999%5D%2C%20%5B34.70438%2C%20-82.239479%5D%2C%20%5B44.969871999999995%2C%20-93.308975%5D%2C%20%5B42.814751%2C%20-83.78228%5D%2C%20%5B40.412079999999996%2C%20-80.00702%5D%2C%20%5B32.907478999999995%2C%20-96.89811800000001%5D%2C%20%5B36.720638%2C%20-82.443512%5D%2C%20%5B38.435753000000005%2C%20-122.672142%5D%2C%20%5B37.480377000000004%2C%20-122.25244099999999%5D%2C%20%5B33.652893%2C%20-81.159685%5D%2C%20%5B44.828540000000004%2C%20-93.60239%5D%2C%20%5B27.885436%2C%20-82.670005%5D%2C%20%5B44.35824%2C%20-121.99471000000001%5D%2C%20%5B38.935452000000005%2C%20-94.70436099999999%5D%2C%20%5B35.147636%2C%20-80.724655%5D%2C%20%5B43.075157%2C%20-87.957375%5D%2C%20%5B44.951828000000006%2C%20-93.12529%5D%2C%20%5B40.729279999999996%2C%20-73.83365%5D%2C%20%5B41.47464%2C%20-81.711823%5D%2C%20%5B31.704984999999997%2C%20-106.280876%5D%2C%20%5B33.56749%2C%20-112.16900600000001%5D%2C%20%5B42.385591%2C%20-83.25528%5D%2C%20%5B38.141284999999996%2C%20-122.22460900000002%5D%2C%20%5B44.81345%2C%20-117.81418000000001%5D%2C%20%5B34.072540000000004%2C%20-117.786728%5D%2C%20%5B34.199013%2C%20-118.337799%5D%2C%20%5B33.970535%2C%20-118.37521399999999%5D%2C%20%5B28.665917999999998%2C%20-80.869781%5D%2C%20%5B33.752243%2C%20-81.10060899999999%5D%2C%20%5B36.333968%2C%20-119.47541799999999%5D%2C%20%5B34.087246%2C%20-83.993576%5D%2C%20%5B37.648759999999996%2C%20-122.09683999999999%5D%2C%20%5B32.805439%2C%20-97.054001%5D%2C%20%5B33.846298%2C%20-118.286125%5D%2C%20%5B42.69235%2C%20-78.8567%5D%2C%20%5B40.602837%2C%20-111.90423100000001%5D%2C%20%5B37.698351%2C%20-122.118798%5D%2C%20%5B34.20519%2C%20-118.47346999999999%5D%2C%20%5B40.555668%2C%20-74.318985%5D%2C%20%5B29.672404999999998%2C%20-95.27712199999999%5D%2C%20%5B43.01939%2C%20-83.713638%5D%2C%20%5B40.732459999999996%2C%20-74.221352%5D%2C%20%5B38.837128%2C%20-77.447281%5D%2C%20%5B41.070595000000004%2C%20-74.053658%5D%2C%20%5B33.731288%2C%20-84.231382%5D%2C%20%5B33.49844%2C%20-80.840591%5D%2C%20%5B32.438339%2C%20-111.01673899999999%5D%2C%20%5B33.941364%2C%20-118.09663400000001%5D%2C%20%5B25.93659%2C%20-80.194672%5D%2C%20%5B34.272232%2C%20-118.353249%5D%2C%20%5B30.224569%2C%20-92.01033000000001%5D%2C%20%5B45.121359999999996%2C%20-93.04958%5D%2C%20%5B32.784595%2C%20-96.791374%5D%2C%20%5B30.451959999999996%2C%20-91.180756%5D%2C%20%5B44.966118%2C%20-93.26992%5D%2C%20%5B35.159447%2C%20-80.970688%5D%2C%20%5B44.81494%2C%20-120.93173999999999%5D%2C%20%5B39.0369%2C%20-86.68587%5D%2C%20%5B37.20863%2C%20-119.71221200000001%5D%2C%20%5B33.823929%2C%20-84.15276300000001%5D%2C%20%5B33.732815%2C%20-117.989278%5D%2C%20%5B42.44492%2C%20-83.203613%5D%2C%20%5B33.87303%2C%20-118.1988%5D%2C%20%5B34.043037%2C%20-118.21723899999999%5D%2C%20%5B30.468234999999996%2C%20-81.64711%5D%2C%20%5B37.466046%2C%20-77.53617%5D%2C%20%5B34.084365999999996%2C%20-117.691902%5D%2C%20%5B32.803528%2C%20-96.71183%5D%2C%20%5B29.582874%2C%20-98.307602%5D%2C%20%5B32.691429%2C%20-96.63252299999999%5D%2C%20%5B34.628403000000006%2C%20-86.933037%5D%2C%20%5B29.777279999999998%2C%20-95.42233%5D%2C%20%5B45.52711%2C%20-122.66537%5D%2C%20%5B45.28866%2C%20-93.75708%5D%2C%20%5B36.84597%2C%20-76.243065%5D%2C%20%5B38.785902%2C%20-121.225576%5D%2C%20%5B27.46238%2C%20-82.58761%5D%2C%20%5B34.021053%2C%20-118.195251%5D%2C%20%5B41.855342%2C%20-78.448769%5D%2C%20%5B39.673203%2C%20-84.221886%5D%2C%20%5B33.446999%2C%20-112.100098%5D%2C%20%5B35.125111%2C%20-80.871811%5D%2C%20%5B32.839893%2C%20-97.185509%5D%2C%20%5B28.157902000000004%2C%20-81.63988%5D%2C%20%5B44.16138%2C%20-94.01951%5D%2C%20%5B37.99194%2C%20-122.12588999999998%5D%2C%20%5B35.094840999999995%2C%20-80.936226%5D%2C%20%5B38.714543%2C%20-78.659867%5D%2C%20%5B47.636317%2C%20-122.23358%5D%2C%20%5B29.737653%2C%20-95.50506999999999%5D%2C%20%5B30.438365%2C%20-87.271282%5D%2C%20%5B38.978565%2C%20-88.160675%5D%2C%20%5B45.055529%2C%20-123.492675%5D%2C%20%5B40.705383000000005%2C%20-74.245613%5D%2C%20%5B40.767899%2C%20-74.22686800000001%5D%2C%20%5B33.824261%2C%20-118.20688600000001%5D%2C%20%5B40.545165999999995%2C%20-111.89113600000002%5D%2C%20%5B41.10229%2C%20-73.99709%5D%2C%20%5B40.833102000000004%2C%20-73.931754%5D%2C%20%5B34.167235999999995%2C%20-114.37709299999999%5D%2C%20%5B34.034027%2C%20-118.265892%5D%2C%20%5B34.187434%2C%20-118.321832%5D%2C%20%5B33.928146000000005%2C%20-118.239166%5D%2C%20%5B36.098427%2C%20-95.859985%5D%2C%20%5B29.834011%2C%20-95.46687299999999%5D%2C%20%5B39.881359%2C%20-75.253517%5D%2C%20%5B40.840641%2C%20-77.678886%5D%2C%20%5B37.900031%2C%20-121.22109499999999%5D%2C%20%5B29.865614%2C%20-95.4804%5D%2C%20%5B42.6848%2C%20-124.4272%5D%2C%20%5B36.743171999999994%2C%20-119.722839%5D%2C%20%5B33.992619%2C%20-117.947635%5D%2C%20%5B32.481825%2C%20-90.100927%5D%2C%20%5B32.916962%2C%20-96.743477%5D%2C%20%5B35.432635999999995%2C%20-80.906677%5D%2C%20%5B25.88976%2C%20-80.32377%5D%2C%20%5B33.791977%2C%20-84.39241%5D%2C%20%5B44.898548%2C%20-93.199974%5D%2C%20%5B33.439098%2C%20-79.13430799999999%5D%2C%20%5B34.932964%2C%20-78.938744%5D%2C%20%5B43.64963%2C%20-123.89876000000001%5D%2C%20%5B40.71816%2C%20-111.87593999999999%5D%2C%20%5B34.135208%2C%20-80.963585%5D%2C%20%5B37.68378%2C%20-122.12778%5D%2C%20%5B28.292135%2C%20-81.664665%5D%2C%20%5B41.205284000000006%2C%20-96.023705%5D%2C%20%5B37.692806%2C%20-122.140854%5D%2C%20%5B44.86267%2C%20-93.2098%5D%2C%20%5B42.377323%2C%20-87.90434300000001%5D%2C%20%5B39.411064%2C%20-76.790688%5D%2C%20%5B33.426479%2C%20-86.955391%5D%2C%20%5B40.305064%2C%20-121.143129%5D%2C%20%5B35.203033000000005%2C%20-80.72425799999999%5D%2C%20%5B33.876642%2C%20-118.157854%5D%2C%20%5B37.166996000000005%2C%20-113.45005%5D%2C%20%5B28.022495000000003%2C%20-82.455688%5D%2C%20%5B43.29596%2C%20-124.21618000000001%5D%2C%20%5B40.072906%2C%20-74.962891%5D%2C%20%5B39.03845%2C%20-94.67954%5D%2C%20%5B34.230767%2C%20-118.40946699999999%5D%2C%20%5B41.679251%2C%20-87.775251%5D%2C%20%5B27.514788%2C%20-81.494224%5D%2C%20%5B40.565359%2C%20-74.324079%5D%2C%20%5B34.028681%2C%20-118.22764199999999%5D%2C%20%5B42.952721000000004%2C%20-78.909248%5D%2C%20%5B34.153896%2C%20-118.27548200000001%5D%2C%20%5B41.52956%2C%20-87.31411999999999%5D%2C%20%5B38.77248%2C%20-90.308105%5D%2C%20%5B35.852654%2C%20-78.56551400000001%5D%2C%20%5B34.25074%2C%20-119.14261599999999%5D%2C%20%5B32.691254%2C%20-96.880348%5D%2C%20%5B39.168758000000004%2C%20-121.75347099999999%5D%2C%20%5B41.277176000000004%2C%20-111.969254%5D%2C%20%5B47.12014%2C%20-122.230499%5D%2C%20%5B41.2239%2C%20-96.023987%5D%2C%20%5B40.52045%2C%20-74.29468%5D%2C%20%5B44.95179%2C%20-93.16005%5D%2C%20%5B30.455067%2C%20-97.665581%5D%2C%20%5B39.055592%2C%20-77.149406%5D%2C%20%5B39.013905%2C%20-77.055133%5D%2C%20%5B33.941178%2C%20-118.09671100000001%5D%2C%20%5B25.760892000000002%2C%20-80.398847%5D%2C%20%5B34.048092%2C%20-117.925629%5D%2C%20%5B43.14233%2C%20-77.63282%5D%2C%20%5B47.83894%2C%20-122.01619%5D%2C%20%5B29.737403999999998%2C%20-95.379097%5D%2C%20%5B34.392394%2C%20-118.47247800000001%5D%2C%20%5B39.64528%2C%20-104.91378%5D%2C%20%5B40.811370000000004%2C%20-79.55484%5D%2C%20%5B32.74194%2C%20-117.01635%5D%2C%20%5B41.128235%2C%20-95.904251%5D%2C%20%5B42.97099%2C%20-73.79278000000001%5D%2C%20%5B39.914055%2C%20-76.655388%5D%2C%20%5B42.988365%2C%20-82.5839%5D%2C%20%5B44.951359000000004%2C%20-93.02459%5D%2C%20%5B27.441442%2C%20-82.459602%5D%2C%20%5B37.682895%2C%20-122.10259199999999%5D%2C%20%5B35.220321999999996%2C%20-80.812241%5D%2C%20%5B33.1318%2C%20-87.14408900000001%5D%2C%20%5B43.598828999999995%2C%20-116.519526%5D%2C%20%5B33.964283%2C%20-118.120224%5D%2C%20%5B40.9835%2C%20-111.89818000000001%5D%2C%20%5B41.062709999999996%2C%20-73.86224399999999%5D%2C%20%5B38.624790000000004%2C%20-121.51718899999999%5D%2C%20%5B39.790915999999996%2C%20-84.235085%5D%2C%20%5B40.672503999999996%2C%20-73.377495%5D%2C%20%5B40.082977%2C%20-75.289864%5D%2C%20%5B33.872784%2C%20-118.34201000000002%5D%2C%20%5B30.521433000000002%2C%20-91.145409%5D%2C%20%5B46.476768%2C%20-93.272217%5D%2C%20%5B41.794269%2C%20-83.462351%5D%2C%20%5B45.476875%2C%20-122.396942%5D%2C%20%5B40.038219%2C%20-75.63209499999999%5D%2C%20%5B48.457442%2C%20-122.38111799999999%5D%2C%20%5B34.071490000000004%2C%20-117.9488%5D%2C%20%5B38.346699%2C%20-121.99663500000001%5D%2C%20%5B33.72773%2C%20-84.393288%5D%2C%20%5B26.323366999999998%2C%20-81.805314%5D%2C%20%5B40.732353%2C%20-73.869759%5D%2C%20%5B33.79248%2C%20-118.1018%5D%2C%20%5B33.720420000000004%2C%20-78.93005%5D%2C%20%5B40.85306%2C%20-73.96011%5D%2C%20%5B39.83875%2C%20-86.27617%5D%2C%20%5B34.724109999999996%2C%20-82.293312%5D%2C%20%5B30.360003000000003%2C%20-97.72983599999999%5D%2C%20%5B34.874741%2C%20-82.404404%5D%2C%20%5B32.771378000000006%2C%20-96.758339%5D%2C%20%5B34.01593%2C%20-118.173027%5D%2C%20%5B26.67115%2C%20-80.07025%5D%2C%20%5B33.97432%2C%20-118.12411999999999%5D%2C%20%5B42.036388%2C%20-88.287178%5D%2C%20%5B40.630745000000005%2C%20-75.470192%5D%2C%20%5B41.670840999999996%2C%20-72.822869%5D%2C%20%5B43.094306%2C%20-73.560077%5D%2C%20%5B30.169989%2C%20-90.878341%5D%2C%20%5B47.309402%2C%20-122.248322%5D%2C%20%5B34.077746999999995%2C%20-118.28008899999999%5D%2C%20%5B35.441315%2C%20-119.05248300000001%5D%2C%20%5B41.081303000000005%2C%20-95.928032%5D%2C%20%5B42.239979999999996%2C%20-123.11295%5D%2C%20%5B33.907211%2C%20-86.729897%5D%2C%20%5B40.258446%2C%20-76.992424%5D%2C%20%5B35.261210999999996%2C%20-80.877121%5D%2C%20%5B45.568474%2C%20-122.60926200000002%5D%2C%20%5B34.872032%2C%20-82.224571%5D%2C%20%5B34.030609999999996%2C%20-117.62383%5D%2C%20%5B34.102928000000006%2C%20-118.195045%5D%2C%20%5B33.876453000000005%2C%20-118.124176%5D%2C%20%5B26.558081%2C%20-81.909966%5D%2C%20%5B35.435223%2C%20-97.37078100000001%5D%2C%20%5B41.241825%2C%20-111.945305%5D%2C%20%5B38.11918%2C%20-79.04234%5D%2C%20%5B33.556564%2C%20-81.80145999999999%5D%2C%20%5B35.875278%2C%20-78.623232%5D%2C%20%5B38.660756%2C%20-121.33128799999999%5D%2C%20%5B37.704217%2C%20-121.735528%5D%2C%20%5B33.595954%2C%20-117.67425300000001%5D%2C%20%5B39.767323%2C%20-86.130638%5D%2C%20%5B25.670803%2C%20-80.365776%5D%2C%20%5B39.302172999999996%2C%20-83.40841%5D%2C%20%5B37.639755%2C%20-120.95719199999999%5D%2C%20%5B40.712891%2C%20-111.30019399999999%5D%2C%20%5B36.151768%2C%20-86.768204%5D%2C%20%5B39.782742%2C%20-86.158424%5D%2C%20%5B42.263220000000004%2C%20-71.57216%5D%2C%20%5B38.25824%2C%20-85.74101999999999%5D%2C%20%5B42.061209999999996%2C%20-87.86792%5D%2C%20%5B40.822365000000005%2C%20-73.887215%5D%2C%20%5B34.135208%2C%20-80.963585%5D%2C%20%5B40.19189%2C%20-75.22417%5D%2C%20%5B34.300509999999996%2C%20-119.302139%5D%2C%20%5B42.566769%2C%20-70.933357%5D%2C%20%5B32.198597%2C%20-110.956123%5D%2C%20%5B34.737922999999995%2C%20-82.27194200000001%5D%2C%20%5B38.22811%2C%20-85.7514%5D%2C%20%5B34.057957%2C%20-118.255257%5D%2C%20%5B34.035534000000006%2C%20-118.16989099999999%5D%2C%20%5B33.856064%2C%20-118.01509899999999%5D%2C%20%5B32.757603%2C%20-97.06349200000001%5D%2C%20%5B40.169709999999995%2C%20-110.32066%5D%2C%20%5B41.28695%2C%20-73.04208%5D%2C%20%5B40.83083%2C%20-81.36135999999999%5D%2C%20%5B43.010345%2C%20-83.67938199999999%5D%2C%20%5B39.67844%2C%20-104.912811%5D%2C%20%5B39.798008%2C%20-84.18937700000001%5D%2C%20%5B30.23173%2C%20-97.74189%5D%2C%20%5B43.92822%2C%20-121.35271999999999%5D%2C%20%5B38.926128000000006%2C%20-104.71965%5D%2C%20%5B38.6433%2C%20-90.18838000000001%5D%2C%20%5B35.733849%2C%20-78.65029100000001%5D%2C%20%5B34.121286%2C%20-118.27143899999999%5D%2C%20%5B30.516562%2C%20-87.272033%5D%2C%20%5B33.776635999999996%2C%20-117.90080900000001%5D%2C%20%5B37.824055%2C%20-122.26693700000001%5D%2C%20%5B30.403807%2C%20-87.24234%5D%2C%20%5B33.448502000000005%2C%20-112.108299%5D%2C%20%5B28.535090000000004%2C%20-81.40001%5D%2C%20%5B37.444340000000004%2C%20-122.269379%5D%2C%20%5B35.154675%2C%20-80.94753299999999%5D%2C%20%5B39.974940999999994%2C%20-83.10006%5D%2C%20%5B29.748619%2C%20-95.363899%5D%2C%20%5B41.539153999999996%2C%20-73.771378%5D%2C%20%5B29.746429%2C%20-95.369423%5D%2C%20%5B42.659286%2C%20-71.201027%5D%2C%20%5B34.220814000000004%2C%20-81.41194200000001%5D%2C%20%5B33.053864000000004%2C%20-80.16555%5D%2C%20%5B42.499309999999994%2C%20-71.47296999999999%5D%2C%20%5B42.195043%2C%20-120.34703%5D%2C%20%5B34.027473%2C%20-81.10296600000001%5D%2C%20%5B35.776852000000005%2C%20-78.63665%5D%2C%20%5B41.222282%2C%20-73.078796%5D%2C%20%5B37.327991%2C%20-121.940903%5D%2C%20%5B36.793919%2C%20-119.80628200000001%5D%2C%20%5B40.21244%2C%20-110.840511%5D%2C%20%5B34.916721%2C%20-82.004387%5D%2C%20%5B35.38993%2C%20-119.04444%5D%2C%20%5B38.243263%2C%20-85.752708%5D%2C%20%5B34.039307%2C%20-81.11162%5D%2C%20%5B47.622108000000004%2C%20-122.356728%5D%2C%20%5B35.740448%2C%20-78.630516%5D%2C%20%5B34.244803999999995%2C%20-118.422394%5D%2C%20%5B32.724277%2C%20-96.762245%5D%2C%20%5B47.406267%2C%20-122.039023%5D%2C%20%5B37.994461%2C%20-122.06988500000001%5D%2C%20%5B38.528276%2C%20-121.51901799999999%5D%2C%20%5B37.257206%2C%20-121.795624%5D%2C%20%5B38.468146999999995%2C%20-121.49696399999999%5D%2C%20%5B38.05611%2C%20-121.37251299999998%5D%2C%20%5B32.74828%2C%20-96.76929%5D%2C%20%5B28.396829999999998%2C%20-81.331726%5D%2C%20%5B41.974959999999996%2C%20-88.20707%5D%2C%20%5B45.017559000000006%2C%20-92.779442%5D%2C%20%5B34.643661%2C%20-82.465843%5D%2C%20%5B37.516602%2C%20-77.44873%5D%2C%20%5B38.846703000000005%2C%20-77.43220500000001%5D%2C%20%5B30.46517%2C%20-91.16265899999999%5D%2C%20%5B38.328520000000005%2C%20-81.5789%5D%2C%20%5B36.153545%2C%20-86.848648%5D%2C%20%5B33.863414%2C%20-118.32229199999999%5D%2C%20%5B33.941182%2C%20-118.096502%5D%2C%20%5B25.810879999999997%2C%20-80.18234%5D%2C%20%5B38.571678000000006%2C%20-121.592964%5D%2C%20%5B33.480499%2C%20-112.13436899999999%5D%2C%20%5B37.70225%2C%20-121.7446%5D%2C%20%5B30.440748%2C%20-97.66776999999999%5D%2C%20%5B42.3927%2C%20-87.90438%5D%2C%20%5B36.131747999999995%2C%20-86.778976%5D%2C%20%5B37.491524%2C%20-122.219604%5D%2C%20%5B39.102695000000004%2C%20-94.674545%5D%2C%20%5B35.44154%2C%20-97.530136%5D%2C%20%5B38.67136%2C%20-121.591324%5D%2C%20%5B35.2244%2C%20-80.865578%5D%2C%20%5B42.916969%2C%20-83.646599%5D%2C%20%5B38.80283%2C%20-77.162758%5D%2C%20%5B37.166817%2C%20-122.026197%5D%2C%20%5B39.794940999999994%2C%20-76.944305%5D%2C%20%5B45.4067%2C%20-122.74421000000001%5D%2C%20%5B42.330090000000006%2C%20-71.08315999999999%5D%2C%20%5B34.155504%2C%20-118.44473899999998%5D%2C%20%5B33.167961%2C%20-87.525398%5D%2C%20%5B40.570797%2C%20-111.89985700000001%5D%2C%20%5B40.851065999999996%2C%20-73.949949%5D%2C%20%5B36.067440000000005%2C%20-86.631248%5D%2C%20%5B34.925114%2C%20-82.36541%5D%2C%20%5B39.064081%2C%20-84.522338%5D%2C%20%5B39.52033%2C%20-76.19893%5D%2C%20%5B41.295906%2C%20-73.933449%5D%2C%20%5B40.712486%2C%20-74.194344%5D%2C%20%5B38.663584%2C%20-121.29234199999999%5D%2C%20%5B42.22361%2C%20-71.17231%5D%2C%20%5B33.718441%2C%20-117.793205%5D%2C%20%5B33.462975%2C%20-112.16905200000001%5D%2C%20%5B39.305481%2C%20-120.66591499999998%5D%2C%20%5B34.030445%2C%20-117.629356%5D%2C%20%5B40.748455%2C%20-75.14698%5D%2C%20%5B28.95952%2C%20-82.63013000000001%5D%2C%20%5B40.637909%2C%20-89.607224%5D%2C%20%5B42.9025%2C%20-78.900612%5D%2C%20%5B29.494156%2C%20-98.554794%5D%2C%20%5B38.716994%2C%20-121.364531%5D%2C%20%5B42.971573%2C%20-73.83099399999999%5D%2C%20%5B33.65797%2C%20-117.77780200000001%5D%2C%20%5B36.307091%2C%20-95.570068%5D%2C%20%5B39.5574%2C%20-119.78974199999999%5D%2C%20%5B32.169441%2C%20-81.386772%5D%2C%20%5B33.957553999999995%2C%20-117.37910600000001%5D%2C%20%5B33.876301%2C%20-118.12883799999999%5D%2C%20%5B33.841011%2C%20-84.309624%5D%2C%20%5B39.745152000000004%2C%20-121.831383%5D%2C%20%5B36.030239%2C%20-86.61261%5D%2C%20%5B33.772038%2C%20-117.90916399999999%5D%2C%20%5B39.12806%2C%20-84.49665%5D%2C%20%5B34.233319%2C%20-119.155077%5D%2C%20%5B28.676728999999998%2C%20-81.509438%5D%2C%20%5B39.652042%2C%20-76.33575400000001%5D%2C%20%5B34.840912%2C%20-82.443733%5D%2C%20%5B35.210331%2C%20-80.810089%5D%2C%20%5B34.72753%2C%20-86.62748%5D%2C%20%5B33.532715%2C%20-86.824211%5D%2C%20%5B32.833771999999996%2C%20-117.118769%5D%2C%20%5B27.388234999999998%2C%20-82.46390500000001%5D%2C%20%5B29.869770000000003%2C%20-95.3256%5D%2C%20%5B29.57074%2C%20-94.39901%5D%2C%20%5B34.78853%2C%20-82.48239000000001%5D%2C%20%5B41.71947%2C%20-71.46966%5D%2C%20%5B34.023251%2C%20-118.473679%5D%2C%20%5B42.55125%2C%20-82.8766%5D%2C%20%5B37.517849%2C%20-77.586807%5D%2C%20%5B34.778034000000005%2C%20-111.928246%5D%2C%20%5B48.891921999999994%2C%20-122.59713%5D%2C%20%5B36.063763%2C%20-94.170913%5D%2C%20%5B35.867519%2C%20-86.45734399999999%5D%2C%20%5B44.840851%2C%20-91.604156%5D%2C%20%5B31.08727%2C%20-87.53011%5D%2C%20%5B33.956655%2C%20-118.300252%5D%2C%20%5B43.369339000000004%2C%20-73.698013%5D%2C%20%5B35.266201%2C%20-80.73162099999999%5D%2C%20%5B43.042861%2C%20-87.92518000000001%5D%2C%20%5B28.486908000000003%2C%20-81.417427%5D%2C%20%5B36.104458%2C%20-95.83318299999999%5D%2C%20%5B40.260925%2C%20-75.249481%5D%2C%20%5B43.02001%2C%20-76.14928%5D%2C%20%5B34.13916%2C%20-118.71529199999999%5D%2C%20%5B29.784610999999998%2C%20-95.484932%5D%2C%20%5B39.68949%2C%20-105.02508%5D%2C%20%5B29.687813000000002%2C%20-95.530792%5D%2C%20%5B30.448859999999996%2C%20-97.65609%5D%2C%20%5B32.888721000000004%2C%20-117.11283%5D%2C%20%5B29.776871000000003%2C%20-95.389473%5D%2C%20%5B36.879139%2C%20-76.851235%5D%2C%20%5B35.214001%2C%20-80.8619%5D%2C%20%5B39.004272%2C%20-76.98106800000001%5D%2C%20%5B40.753559%2C%20-73.744415%5D%2C%20%5B34.138814%2C%20-118.71861499999999%5D%2C%20%5B38.11535%2C%20-104.67316%5D%2C%20%5B33.518532%2C%20-86.861816%5D%2C%20%5B41.557915%2C%20-73.780487%5D%2C%20%5B33.998779%2C%20-81.041588%5D%2C%20%5B45.534290000000006%2C%20-122.56243%5D%2C%20%5B39.934441%2C%20-74.965797%5D%2C%20%5B27.711990000000004%2C%20-82.662849%5D%2C%20%5B35.016762%2C%20-81.960893%5D%2C%20%5B36.817207%2C%20-76.2146%5D%2C%20%5B39.284909000000006%2C%20-77.327474%5D%2C%20%5B39.152946%2C%20-77.54016899999999%5D%2C%20%5B40.650494%2C%20-105.171196%5D%2C%20%5B34.685340999999994%2C%20-82.988945%5D%2C%20%5B36.83334%2C%20-119.78483999999999%5D%2C%20%5B44.138863%2C%20-93.25018299999999%5D%2C%20%5B45.527618%2C%20-122.56601%5D%2C%20%5B35.377182%2C%20-97.519341%5D%2C%20%5B35.884009999999996%2C%20-78.73761%5D%2C%20%5B33.941853%2C%20-118.096954%5D%2C%20%5B32.720329%2C%20-96.827461%5D%2C%20%5B33.849689%2C%20-81.08563199999999%5D%2C%20%5B33.889866%2C%20-84.461586%5D%2C%20%5B36.356642%2C%20-119.428242%5D%2C%20%5B28.538390999999997%2C%20-81.351845%5D%2C%20%5B37.254639000000005%2C%20-121.877701%5D%2C%20%5B42.316140000000004%2C%20-122.981605%5D%2C%20%5B40.443081%2C%20-77.94368%5D%2C%20%5B41.709976%2C%20-87.590378%5D%2C%20%5B37.798632%2C%20-121.033744%5D%2C%20%5B40.778358000000004%2C%20-73.232887%5D%2C%20%5B39.270744%2C%20-104.897125%5D%2C%20%5B33.840801%2C%20-117.291977%5D%2C%20%5B45.08938%2C%20-95.06491%5D%2C%20%5B29.80978%2C%20-95.34205%5D%2C%20%5B38.889722%2C%20-76.947232%5D%2C%20%5B41.04481%2C%20-73.77264%5D%2C%20%5B35.861385%2C%20-78.637227%5D%2C%20%5B42.819809%2C%20-73.515289%5D%2C%20%5B35.440872%2C%20-80.844849%5D%2C%20%5B36.229603000000004%2C%20-86.780861%5D%2C%20%5B26.144707%2C%20-80.441902%5D%2C%20%5B37.688438%2C%20-77.45165300000001%5D%2C%20%5B34.067155%2C%20-117.42961000000001%5D%2C%20%5B37.176287%2C%20-76.471962%5D%2C%20%5B35.6394%2C%20-78.833313%5D%2C%20%5B25.536312%2C%20-80.411163%5D%2C%20%5B32.367832%2C%20-86.13849599999999%5D%2C%20%5B36.883808%2C%20-76.046875%5D%2C%20%5B35.517132000000004%2C%20-78.579346%5D%2C%20%5B45.381737%2C%20-122.75147199999999%5D%2C%20%5B39.798573%2C%20-104.7864%5D%2C%20%5B35.835049%2C%20-78.59948299999999%5D%2C%20%5B34.034046000000004%2C%20-118.02730600000001%5D%2C%20%5B34.271488%2C%20-80.820534%5D%2C%20%5B37.500021999999994%2C%20-122.32051499999999%5D%2C%20%5B39.211889%2C%20-76.678422%5D%2C%20%5B47.83401%2C%20-122.26618%5D%2C%20%5B46.35072%2C%20-92.80802%5D%2C%20%5B39.755089%2C%20-104.98811299999998%5D%2C%20%5B33.880203%2C%20-117.608093%5D%2C%20%5B33.825939%2C%20-118.241557%5D%2C%20%5B40.567612%2C%20-89.653572%5D%2C%20%5B34.136562%2C%20-117.52699299999999%5D%2C%20%5B32.88792%2C%20-96.70506%5D%2C%20%5B34.083220000000004%2C%20-118.22836000000001%5D%2C%20%5B32.90862%2C%20-96.89461999999999%5D%2C%20%5B38.455944%2C%20-121.405571%5D%2C%20%5B35.034915999999996%2C%20-120.48240700000001%5D%2C%20%5B34.89754%2C%20-82.34004%5D%2C%20%5B43.162341999999995%2C%20-75.986023%5D%2C%20%5B42.385242%2C%20-83.276398%5D%2C%20%5B44.55579%2C%20-123.06098999999999%5D%2C%20%5B33.837173%2C%20-117.291992%5D%2C%20%5B30.202988%2C%20-97.806976%5D%2C%20%5B34.241409000000004%2C%20-84.38932%5D%2C%20%5B34.105610999999996%2C%20-118.254352%5D%2C%20%5B37.511781%2C%20-122.349745%5D%2C%20%5B35.215607%2C%20-80.78072399999999%5D%2C%20%5B30.446171000000003%2C%20-91.007584%5D%2C%20%5B29.0155%2C%20-95.39321%5D%2C%20%5B38.882259999999995%2C%20-77.024%5D%2C%20%5B42.52361%2C%20-122.85416000000001%5D%2C%20%5B26.593929%2C%20-81.654841%5D%2C%20%5B43.187321000000004%2C%20-77.546638%5D%2C%20%5B33.6702%2C%20-112.03737%5D%2C%20%5B40.666121999999994%2C%20-74.181442%5D%2C%20%5B41.57427%2C%20-87.5023%5D%2C%20%5B34.068382%2C%20-79.951103%5D%2C%20%5B42.587317999999996%2C%20-71.313988%5D%2C%20%5B40.719929%2C%20-74.384377%5D%2C%20%5B34.77282%2C%20-118.17043999999999%5D%2C%20%5B43.05022%2C%20-76.13202700000001%5D%2C%20%5B41.818588%2C%20-87.91439100000001%5D%2C%20%5B37.656212%2C%20-77.60685699999999%5D%2C%20%5B30.395246999999998%2C%20-91.109673%5D%2C%20%5B26.16659%2C%20-80.14645%5D%2C%20%5B40.55892%2C%20-111.90271000000001%5D%2C%20%5B39.980274%2C%20-82.83625%5D%2C%20%5B30.476940000000003%2C%20-97.80725100000001%5D%2C%20%5B35.736088%2C%20-78.86288499999999%5D%2C%20%5B33.52409%2C%20-80.428543%5D%2C%20%5B32.614017%2C%20-97.321556%5D%2C%20%5B42.30162%2C%20-83.74628%5D%2C%20%5B40.731815000000005%2C%20-73.324104%5D%2C%20%5B39.775290999999996%2C%20-84.200539%5D%2C%20%5B37.605614%2C%20-121.87266499999998%5D%2C%20%5B42.345095%2C%20-88.06974100000001%5D%2C%20%5B45.537411999999996%2C%20-110.55153%5D%2C%20%5B40.198645%2C%20-74.712563%5D%2C%20%5B41.660339%2C%20-87.588982%5D%2C%20%5B39.786114000000005%2C%20-105.081322%5D%2C%20%5B34.037665999999994%2C%20-81.386139%5D%2C%20%5B40.71248%2C%20-111.8205%5D%2C%20%5B32.766921999999994%2C%20-96.89579%5D%2C%20%5B44.951908%2C%20-93.16660300000001%5D%2C%20%5B46.000718%2C%20-118.38735700000001%5D%2C%20%5B39.6894%2C%20-104.992203%5D%2C%20%5B37.66964%2C%20-122.46621699999999%5D%2C%20%5B44.889767%2C%20-93.293518%5D%2C%20%5B39.68395%2C%20-104.94467%5D%2C%20%5B35.315853000000004%2C%20-80.739723%5D%2C%20%5B39.094833%2C%20-76.62673199999999%5D%2C%20%5B34.752223%2C%20-92.341222%5D%2C%20%5B40.738503%2C%20-74.217003%5D%2C%20%5B35.46434%2C%20-97.618881%5D%2C%20%5B33.864422%2C%20-84.288765%5D%2C%20%5B39.09499%2C%20-76.623512%5D%2C%20%5B42.166401%2C%20-70.89173100000001%5D%2C%20%5B33.85103%2C%20-117.83793899999999%5D%2C%20%5B34.9711%2C%20-82.470192%5D%2C%20%5B33.888483%2C%20-118.358108%5D%2C%20%5B38.719198%2C%20-121.466691%5D%2C%20%5B34.019269%2C%20-117.48042199999999%5D%2C%20%5B35.080456%2C%20-81.704353%5D%2C%20%5B37.317062%2C%20-121.97492199999999%5D%2C%20%5B33.958355%2C%20-118.253998%5D%2C%20%5B34.63092%2C%20-86.87431%5D%2C%20%5B29.621088%2C%20-95.36734%5D%2C%20%5B41.98811%2C%20-70.71743000000001%5D%2C%20%5B40.090731%2C%20-76.384388%5D%2C%20%5B40.515999%2C%20-80.051689%5D%2C%20%5B34.638802%2C%20-81.96933%5D%2C%20%5B33.920685%2C%20-117.43175600000001%5D%2C%20%5B34.16098%2C%20-118.46943700000001%5D%2C%20%5B41.224957%2C%20-95.95186600000001%5D%2C%20%5B35.75656%2C%20-78.61758%5D%2C%20%5B32.850792%2C%20-96.84119399999999%5D%2C%20%5B29.703861%2C%20-95.575386%5D%2C%20%5B33.719601000000004%2C%20-78.947151%5D%2C%20%5B34.791351%2C%20-82.417435%5D%2C%20%5B37.964088000000004%2C%20-122.296173%5D%2C%20%5B46.751041%2C%20-92.10206099999999%5D%2C%20%5B38.2529%2C%20-122.63921%5D%2C%20%5B29.676149%2C%20-95.538322%5D%2C%20%5B36.54425%2C%20-119.5928%5D%2C%20%5B42.347164%2C%20-122.875628%5D%2C%20%5B38.141273999999996%2C%20-122.22918100000001%5D%2C%20%5B40.479448%2C%20-74.30061500000001%5D%2C%20%5B25.964184%2C%20-80.165863%5D%2C%20%5B40.255165000000005%2C%20-75.258263%5D%2C%20%5B33.462361%2C%20-117.13621499999999%5D%2C%20%5B37.593723%2C%20-77.54890400000001%5D%2C%20%5B28.201288%2C%20-80.672069%5D%2C%20%5B34.150591%2C%20-118.695444%5D%2C%20%5B35.7355%2C%20-78.650429%5D%2C%20%5B34.13455%2C%20-117.67498%5D%2C%20%5B34.024803000000006%2C%20-117.73395500000001%5D%2C%20%5B33.985584%2C%20-117.34561200000002%5D%2C%20%5B30.23225%2C%20-92.030022%5D%2C%20%5B39.051247%2C%20-94.49781800000001%5D%2C%20%5B41.222282%2C%20-73.078796%5D%2C%20%5B34.07564%2C%20-83.91235%5D%2C%20%5B43.89167%2C%20-92.63436%5D%2C%20%5B37.548061%2C%20-122.29131799999999%5D%2C%20%5B33.995155%2C%20-118.14470700000001%5D%2C%20%5B38.028133000000004%2C%20-87.538841%5D%2C%20%5B39.746912%2C%20-122.14018899999999%5D%2C%20%5B30.20513%2C%20-97.786301%5D%2C%20%5B36.919361%2C%20-76.272293%5D%2C%20%5B42.0546%2C%20-87.83815799999999%5D%2C%20%5B35.459881%2C%20-97.68965899999999%5D%2C%20%5B29.527437%2C%20-81.754272%5D%2C%20%5B45.0439%2C%20-93.284477%5D%2C%20%5B37.69255%2C%20-122.06245%5D%2C%20%5B37.711479%2C%20-122.440109%5D%2C%20%5B39.24765%2C%20-76.67644%5D%2C%20%5B33.952309%2C%20-81.233551%5D%2C%20%5B35.212778%2C%20-119.166944%5D%2C%20%5B32.807163%2C%20-96.793358%5D%2C%20%5B34.66608%2C%20-83.032059%5D%2C%20%5B30.398884000000002%2C%20-97.739311%5D%2C%20%5B41.82056%2C%20-88.20374%5D%2C%20%5B40.658924%2C%20-73.64492800000001%5D%2C%20%5B37.203081%2C%20-121.711774%5D%2C%20%5B33.941074%2C%20-84.504333%5D%2C%20%5B32.821391999999996%2C%20-96.816788%5D%2C%20%5B36.076902000000004%2C%20-87.020658%5D%2C%20%5B35.272919%2C%20-80.836464%5D%2C%20%5B35.819439%2C%20-78.845428%5D%2C%20%5B35.740032%2C%20-78.66879300000001%5D%2C%20%5B33.982659999999996%2C%20-118.39496000000001%5D%2C%20%5B38.839737%2C%20-104.766609%5D%2C%20%5B35.751598%2C%20-78.691978%5D%2C%20%5B29.603448999999998%2C%20-98.533737%5D%2C%20%5B30.450490999999996%2C%20-87.219521%5D%2C%20%5B34.995258%2C%20-90.00241899999999%5D%2C%20%5B32.778503%2C%20-96.917191%5D%2C%20%5B37.711117%2C%20-120.99491100000002%5D%2C%20%5B36.02643%2C%20-78.94211999999999%5D%2C%20%5B41.509865000000005%2C%20-74.074226%5D%2C%20%5B41.648309999999995%2C%20-112.11126000000002%5D%2C%20%5B42.15274%2C%20-87.835442%5D%2C%20%5B44.983252%2C%20-93.400944%5D%2C%20%5B30.45735%2C%20-97.687134%5D%2C%20%5B29.78841%2C%20-95.569862%5D%2C%20%5B42.371601%2C%20-88.066673%5D%2C%20%5B34.226684999999996%2C%20-118.382217%5D%2C%20%5B33.736889%2C%20-84.392349%5D%2C%20%5B35.624786%2C%20-86.24249300000001%5D%2C%20%5B42.577422999999996%2C%20-83.342545%5D%2C%20%5B34.143240000000006%2C%20-117.25646%5D%2C%20%5B29.693407%2C%20-95.552116%5D%2C%20%5B40.00206%2C%20-74.26230600000001%5D%2C%20%5B33.802834000000004%2C%20-118.12519099999999%5D%2C%20%5B34.09816%2C%20-117.98536999999999%5D%2C%20%5B45.58177%2C%20-122.54351000000001%5D%2C%20%5B29.665627%2C%20-95.510414%5D%2C%20%5B38.790924%2C%20-121.21965800000001%5D%2C%20%5B29.850571000000002%2C%20-95.479782%5D%2C%20%5B33.61829%2C%20-111.891479%5D%2C%20%5B34.196953%2C%20-79.79369100000001%5D%2C%20%5B32.77026%2C%20-117.20731699999999%5D%2C%20%5B40.670952%2C%20-73.514618%5D%2C%20%5B43.18846%2C%20-89.49348%5D%2C%20%5B36.32663%2C%20-119.279045%5D%2C%20%5B28.286890000000003%2C%20-81.35525%5D%2C%20%5B34.214451000000004%2C%20-82.180717%5D%2C%20%5B42.199783000000004%2C%20-87.839489%5D%2C%20%5B29.585493%2C%20-95.202805%5D%2C%20%5B33.441320000000005%2C%20-112.1087%5D%2C%20%5B35.79789%2C%20-80.86904100000001%5D%2C%20%5B41.79977%2C%20-71.403061%5D%2C%20%5B33.888897%2C%20-118.188927%5D%2C%20%5B42.97591%2C%20-83.77196500000001%5D%2C%20%5B35.834666999999996%2C%20-78.638649%5D%2C%20%5B39.037022%2C%20-77.14489%5D%2C%20%5B42.302105%2C%20-71.30794499999999%5D%2C%20%5B30.1383%2C%20-91.96515699999999%5D%2C%20%5B35.788052%2C%20-78.632767%5D%2C%20%5B30.430016%2C%20-97.761337%5D%2C%20%5B34.194549%2C%20-117.67809%5D%2C%20%5B41.263259999999995%2C%20-96.076172%5D%2C%20%5B38.69399%2C%20-90.45066%5D%2C%20%5B30.64525%2C%20-88.102303%5D%2C%20%5B42.002695%2C%20-91.666327%5D%2C%20%5B34.796219%2C%20-82.380066%5D%2C%20%5B33.807182%2C%20-117.507469%5D%2C%20%5B44.810798999999996%2C%20-93.09401700000001%5D%2C%20%5B34.455971000000005%2C%20-118.616142%5D%2C%20%5B40.075684%2C%20-83.135773%5D%2C%20%5B41.621006%2C%20-70.459938%5D%2C%20%5B35.225739000000004%2C%20-80.85578199999999%5D%2C%20%5B29.52972%2C%20-98.39460799999999%5D%2C%20%5B37.692806%2C%20-122.140854%5D%2C%20%5B40.677753%2C%20-74.278786%5D%2C%20%5B43.20345%2C%20-77.56187%5D%2C%20%5B42.862331%2C%20-73.775414%5D%2C%20%5B38.56415%2C%20-121.51449%5D%2C%20%5B38.755657%2C%20-90.458588%5D%2C%20%5B37.294567%2C%20-121.93859099999999%5D%2C%20%5B38.043396%2C%20-84.50128199999999%5D%2C%20%5B42.944072999999996%2C%20-83.676445%5D%2C%20%5B32.904339%2C%20-96.72395300000001%5D%2C%20%5B27.886408000000003%2C%20-82.66905200000001%5D%2C%20%5B28.597456%2C%20-81.298988%5D%2C%20%5B38.223011%2C%20-85.75102199999999%5D%2C%20%5B28.421440000000004%2C%20-81.47066%5D%2C%20%5B35.795730999999996%2C%20-78.652878%5D%2C%20%5B30.453962%2C%20-90.960971%5D%2C%20%5B29.70393%2C%20-95.571228%5D%2C%20%5B26.679648999999998%2C%20-80.17321%5D%2C%20%5B37.775314%2C%20-122.406052%5D%2C%20%5B29.869865%2C%20-95.401207%5D%2C%20%5B32.19212%2C%20-86.117462%5D%2C%20%5B38.685241999999995%2C%20-121.48098799999998%5D%2C%20%5B26.672860999999997%2C%20-81.81871%5D%2C%20%5B45.27803%2C%20-116.3456%5D%2C%20%5B32.540028%2C%20-92.65316800000001%5D%2C%20%5B25.59865%2C%20-80.35243299999999%5D%2C%20%5B39.75029%2C%20-75.580589%5D%2C%20%5B42.621396999999995%2C%20-123.38280400000001%5D%2C%20%5B38.671963%2C%20-121.38281699999999%5D%2C%20%5B33.88778%2C%20-84.25438%5D%2C%20%5B40.893593%2C%20-73.883286%5D%2C%20%5B39.71675%2C%20-104.82656%5D%2C%20%5B38.681459999999994%2C%20-120.975587%5D%2C%20%5B34.054108%2C%20-118.237839%5D%2C%20%5B35.009983%2C%20-80.853175%5D%2C%20%5B28.355465999999996%2C%20-81.239637%5D%2C%20%5B38.683121%2C%20-121.387459%5D%2C%20%5B40.542252000000005%2C%20-74.39115100000001%5D%2C%20%5B33.480591%2C%20-112.11321299999999%5D%2C%20%5B33.379837%2C%20-86.80497%5D%2C%20%5B25.883983999999998%2C%20-80.32373%5D%2C%20%5B42.1882%2C%20-83.38826999999999%5D%2C%20%5B36.265557%2C%20-93.76893100000001%5D%2C%20%5B37.215933%2C%20-77.383841%5D%2C%20%5B38.25763%2C%20-122.30287%5D%2C%20%5B33.484337%2C%20-79.126694%5D%2C%20%5B40.73185%2C%20-74.05272%5D%2C%20%5B36.08744%2C%20-86.69218000000001%5D%2C%20%5B38.476147%2C%20-121.424954%5D%2C%20%5B38.679825%2C%20-121.33939099999999%5D%2C%20%5B38.909344%2C%20-77.217361%5D%2C%20%5B47.61953%2C%20-122.32821000000001%5D%2C%20%5B27.448995%2C%20-82.530231%5D%2C%20%5B44.874970000000005%2C%20-93.03397%5D%2C%20%5B29.784470000000002%2C%20-95.58766999999999%5D%2C%20%5B34.08242%2C%20-118.22846200000001%5D%2C%20%5B40.020664000000004%2C%20-76.741837%5D%2C%20%5B34.43311%2C%20-119.91257%5D%2C%20%5B38.901352%2C%20-77.18762199999999%5D%2C%20%5B37.863935%2C%20-122.30281599999999%5D%2C%20%5B34.068115%2C%20-118.02873999999998%5D%2C%20%5B33.970718%2C%20-117.375351%5D%2C%20%5B30.167509999999996%2C%20-81.53939%5D%2C%20%5B35.34383%2C%20-80.824158%5D%2C%20%5B33.663070000000005%2C%20-117.7495%5D%2C%20%5B36.987096%2C%20-121.55856299999999%5D%2C%20%5B47.549995%2C%20-122.315285%5D%2C%20%5B35.234988%2C%20-80.838011%5D%2C%20%5B28.317421000000003%2C%20-82.325266%5D%2C%20%5B34.063564%2C%20-118.000275%5D%2C%20%5B40.642075%2C%20-74.289047%5D%2C%20%5B33.913244%2C%20-118.140574%5D%2C%20%5B40.706059%2C%20-73.372055%5D%2C%20%5B42.171227%2C%20-71.171272%5D%2C%20%5B36.771589%2C%20-76.25745%5D%2C%20%5B27.767559999999996%2C%20-80.551074%5D%2C%20%5B37.504096999999994%2C%20-77.085442%5D%2C%20%5B33.739732000000004%2C%20-117.83089%5D%2C%20%5B46.099990000000005%2C%20-122.996655%5D%2C%20%5B34.510971000000005%2C%20-81.938843%5D%2C%20%5B28.577709000000002%2C%20-81.46775799999999%5D%2C%20%5B30.223359999999996%2C%20-97.84156800000001%5D%2C%20%5B35.226135%2C%20-80.890564%5D%2C%20%5B26.071017%2C%20-80.166667%5D%2C%20%5B37.563629%2C%20-77.443665%5D%2C%20%5B35.158308%2C%20-80.79865799999999%5D%2C%20%5B30.210159%2C%20-97.747292%5D%2C%20%5B39.003170000000004%2C%20-121.662679%5D%2C%20%5B34.940609%2C%20-80.972633%5D%2C%20%5B33.451355%2C%20-111.89034299999999%5D%2C%20%5B27.820971999999998%2C%20-82.7285%5D%2C%20%5B27.91971%2C%20-82.60977%5D%2C%20%5B30.229874%2C%20-97.789024%5D%2C%20%5B34.834831%2C%20-82.982567%5D%2C%20%5B37.993992%2C%20-122.53119699999999%5D%2C%20%5B33.175251%2C%20-87.524559%5D%2C%20%5B33.986118%2C%20-80.472656%5D%2C%20%5B30.509251000000003%2C%20-91.144386%5D%2C%20%5B40.845551%2C%20-73.928314%5D%2C%20%5B36.42759%2C%20-77.63054%5D%2C%20%5B40.52179%2C%20-111.41071299999999%5D%2C%20%5B30.309722999999998%2C%20-97.56444%5D%2C%20%5B35.511337%2C%20-97.565559%5D%2C%20%5B38.553632%2C%20-121.474231%5D%2C%20%5B43.085758%2C%20-75.216476%5D%2C%20%5B36.08984%2C%20-95.940163%5D%2C%20%5B41.168839%2C%20-85.10650600000001%5D%2C%20%5B25.723824%2C%20-80.399373%5D%2C%20%5B34.90147%2C%20-80.966911%5D%2C%20%5B33.877047999999995%2C%20-117.659981%5D%2C%20%5B29.992971%2C%20-90.07911700000001%5D%2C%20%5B30.207085%2C%20-97.778748%5D%2C%20%5B37.500126%2C%20-121.92856599999999%5D%2C%20%5B40.283676%2C%20-74.0821%5D%2C%20%5B30.310064%2C%20-97.845589%5D%2C%20%5B40.608702%2C%20-74.038282%5D%2C%20%5B37.821934000000006%2C%20-121.291641%5D%2C%20%5B33.74334%2C%20-84.37777700000001%5D%2C%20%5B33.171532%2C%20-97.181221%5D%2C%20%5B33.775524%2C%20-117.853043%5D%2C%20%5B29.439058000000003%2C%20-98.450462%5D%2C%20%5B33.975151000000004%2C%20-118.383858%5D%2C%20%5B32.790531%2C%20-96.800285%5D%2C%20%5B45.23787%2C%20-118.01531999999999%5D%2C%20%5B32.323418%2C%20-111.03733100000001%5D%2C%20%5B33.862652000000004%2C%20-117.715347%5D%2C%20%5B35.794456%2C%20-78.48650400000001%5D%2C%20%5B39.234333%2C%20-120.75515%5D%2C%20%5B41.529964%2C%20-73.810356%5D%2C%20%5B36.844963%2C%20-76.196136%5D%2C%20%5B33.87932%2C%20-118.28523999999999%5D%2C%20%5B33.903909999999996%2C%20-117.55982%5D%2C%20%5B40.72538%2C%20-111.904182%5D%2C%20%5B33.111763%2C%20-92.36863100000001%5D%2C%20%5B33.92268%2C%20-117.880058%5D%2C%20%5B34.339039%2C%20-118.506828%5D%2C%20%5B32.861671%2C%20-96.812004%5D%2C%20%5B26.083572%2C%20-80.169914%5D%2C%20%5B33.749043%2C%20-118.29101599999998%5D%2C%20%5B36.508894%2C%20-119.551092%5D%2C%20%5B41.987759000000004%2C%20-88.031212%5D%2C%20%5B43.919979999999995%2C%20-94.99410999999999%5D%2C%20%5B34.236678999999995%2C%20-118.47313700000001%5D%2C%20%5B27.490627000000003%2C%20-82.472099%5D%2C%20%5B29.731754%2C%20-95.384842%5D%2C%20%5B37.784218%2C%20-122.188446%5D%2C%20%5B26.394448999999998%2C%20-80.087967%5D%2C%20%5B36.762459%2C%20-119.77533000000001%5D%2C%20%5B33.91953%2C%20-84.33372%5D%2C%20%5B37.354233%2C%20-121.911446%5D%2C%20%5B29.86778%2C%20-95.40685%5D%2C%20%5B47.620098%2C%20-122.348495%5D%2C%20%5B34.816320000000005%2C%20-117.09581999999999%5D%2C%20%5B33.765568%2C%20-117.97228999999999%5D%2C%20%5B34.073746%2C%20-80.99947399999999%5D%2C%20%5B39.18985%2C%20-104.85064%5D%2C%20%5B34.262221999999994%2C%20-119.230556%5D%2C%20%5B33.646019%2C%20-84.447693%5D%2C%20%5B39.311096%2C%20-94.687904%5D%2C%20%5B34.609359999999995%2C%20-120.19053600000001%5D%2C%20%5B33.607094000000004%2C%20-117.695526%5D%2C%20%5B36.106388%2C%20-86.742884%5D%2C%20%5B35.391459999999995%2C%20-97.529976%5D%2C%20%5B38.960018%2C%20-78.444313%5D%2C%20%5B38.524895%2C%20-121.467789%5D%2C%20%5B42.476501%2C%20-83.11179399999999%5D%2C%20%5B39.02425%2C%20-84.56778%5D%2C%20%5B42.355209%2C%20-83.21625999999999%5D%2C%20%5B34.20126%2C%20-118.47358700000001%5D%2C%20%5B39.872444%2C%20-75.082207%5D%2C%20%5B44.782928999999996%2C%20-93.463226%5D%2C%20%5B35.348766%2C%20-97.52996800000001%5D%2C%20%5B28.461146999999997%2C%20-82.611847%5D%2C%20%5B33.846612%2C%20-118.20558999999999%5D%2C%20%5B38.38714%2C%20-122.74158%5D%2C%20%5B28.539803000000003%2C%20-81.482033%5D%2C%20%5B34.159552000000005%2C%20-118.462557%5D%2C%20%5B25.686262%2C%20-80.393066%5D%2C%20%5B26.365194%2C%20-80.119348%5D%2C%20%5B38.55418%2C%20-121.689552%5D%2C%20%5B29.511259000000003%2C%20-98.55250500000001%5D%2C%20%5B42.950866999999995%2C%20-78.711773%5D%2C%20%5B33.388531%2C%20-82.02671099999999%5D%2C%20%5B35.55966%2C%20-82.63797%5D%2C%20%5B38.022552000000005%2C%20-122.26255%5D%2C%20%5B38.024525%2C%20-122.109894%5D%2C%20%5B37.403893%2C%20-122.04994199999999%5D%2C%20%5B45.126389%2C%20-93.48485600000001%5D%2C%20%5B36.124748%2C%20-86.708481%5D%2C%20%5B47.661037%2C%20-117.357689%5D%2C%20%5B45.69127%2C%20-121.7688%5D%2C%20%5B32.711777000000005%2C%20-117.100853%5D%2C%20%5B33.999321%2C%20-117.87516799999999%5D%2C%20%5B34.088608%2C%20-118.475204%5D%2C%20%5B43.090199%2C%20-83.694191%5D%2C%20%5B30.182821%2C%20-97.793465%5D%2C%20%5B38.328789%2C%20-122.712875%5D%2C%20%5B40.74568%2C%20-73.76843000000001%5D%2C%20%5B45.02394%2C%20-93.28378000000001%5D%2C%20%5B35.725722999999995%2C%20-78.84993%5D%2C%20%5B42.285561%2C%20-71.042885%5D%2C%20%5B37.540051%2C%20-76.801056%5D%2C%20%5B33.939181%2C%20-117.173856%5D%2C%20%5B41.685513%2C%20-88.067291%5D%2C%20%5B40.809006%2C%20-111.92388899999999%5D%2C%20%5B38.903728%2C%20-77.003571%5D%2C%20%5B38.013020000000004%2C%20-122.17456100000001%5D%2C%20%5B30.443347999999997%2C%20-91.18650799999999%5D%2C%20%5B47.068138%2C%20-122.719498%5D%2C%20%5B39.81739%2C%20-85.005287%5D%2C%20%5B39.996159000000006%2C%20-74.86492199999999%5D%2C%20%5B40.13904%2C%20-75.14501%5D%2C%20%5B42.972854999999996%2C%20-83.765694%5D%2C%20%5B33.73914%2C%20-117.189552%5D%2C%20%5B34.072277%2C%20-118.053642%5D%2C%20%5B32.870776%2C%20-96.77034%5D%2C%20%5B41.141788%2C%20-96.239799%5D%2C%20%5B37.739101%2C%20-121.58576200000002%5D%2C%20%5B37.421452%2C%20-119.96626299999998%5D%2C%20%5B42.48045%2C%20-83.207112%5D%2C%20%5B34.216671999999996%2C%20-117.28801100000001%5D%2C%20%5B42.165436%2C%20-93.570564%5D%2C%20%5B37.73825%2C%20-121.602774%5D%2C%20%5B38.912941%2C%20-94.698914%5D%2C%20%5B40.37792%2C%20-74.15316%5D%2C%20%5B37.67337%2C%20-122.468254%5D%2C%20%5B44.04363%2C%20-91.7012%5D%2C%20%5B33.566158%2C%20-112.25736200000001%5D%2C%20%5B44.858998%2C%20-93.531052%5D%2C%20%5B30.352629999999998%2C%20-97.59245%5D%2C%20%5B33.714005%2C%20-84.93735500000001%5D%2C%20%5B38.858159%2C%20-94.533907%5D%2C%20%5B42.477059999999994%2C%20-83.09948%5D%2C%20%5B31.978088%2C%20-81.227531%5D%2C%20%5B33.902397%2C%20-118.062401%5D%2C%20%5B42.61697%2C%20-71.093018%5D%2C%20%5B32.302633%2C%20-85.009653%5D%2C%20%5B38.73975%2C%20-121.82089199999999%5D%2C%20%5B32.743633%2C%20-96.815575%5D%2C%20%5B44.106629999999996%2C%20-93.87866%5D%2C%20%5B35.280769%2C%20-80.793571%5D%2C%20%5B39.21819%2C%20-76.66141%5D%2C%20%5B37.69039%2C%20-122.107468%5D%2C%20%5B34.426314%2C%20-117.57474199999999%5D%2C%20%5B34.202312%2C%20-117.415825%5D%2C%20%5B39.95438%2C%20-82.97551999999999%5D%2C%20%5B33.482414%2C%20-82.089638%5D%2C%20%5B33.79287%2C%20-117.22939%5D%2C%20%5B40.113056%2C%20-75.201012%5D%2C%20%5B39.841205%2C%20-82.568463%5D%2C%20%5B42.173634%2C%20-121.748865%5D%2C%20%5B27.78108%2C%20-82.66055%5D%2C%20%5B46.185884%2C%20-123.752113%5D%2C%20%5B34.753204%2C%20-86.744621%5D%2C%20%5B27.996094%2C%20-82.44294000000001%5D%2C%20%5B34.272805%2C%20-118.556395%5D%2C%20%5B26.057029999999997%2C%20-80.16234%5D%2C%20%5B34.843754%2C%20-82.36267099999999%5D%2C%20%5B28.553134999999997%2C%20-81.358246%5D%2C%20%5B43.032855%2C%20-83.584952%5D%2C%20%5B34.921848%2C%20-82.353157%5D%2C%20%5B40.105206%2C%20-74.186607%5D%2C%20%5B32.255749%2C%20-110.943855%5D%2C%20%5B40.144089%2C%20-76.42002099999999%5D%2C%20%5B41.924919%2C%20-87.683006%5D%2C%20%5B39.926884%2C%20-86.029678%5D%2C%20%5B40.434315000000005%2C%20-74.25125899999999%5D%2C%20%5B37.674972%2C%20-122.10814599999999%5D%2C%20%5B30.527702%2C%20-99.85284399999999%5D%2C%20%5B35.46434%2C%20-97.618881%5D%2C%20%5B33.858414%2C%20-118.096313%5D%2C%20%5B42.027985%2C%20-88.3119%5D%2C%20%5B40.978025%2C%20-111.426194%5D%2C%20%5B40.014815999999996%2C%20-82.994087%5D%2C%20%5B39.133461%2C%20-119.769768%5D%2C%20%5B32.520676%2C%20-96.269745%5D%2C%20%5B37.552141999999996%2C%20-122.294823%5D%2C%20%5B43.022369%2C%20-87.92041800000001%5D%2C%20%5B38.484553000000005%2C%20-122.242787%5D%2C%20%5B34.07011%2C%20-117.961601%5D%2C%20%5B41.212456%2C%20-96.004738%5D%2C%20%5B38.560557%2C%20-121.464091%5D%2C%20%5B37.802792%2C%20-122.291451%5D%2C%20%5B34.143786999999996%2C%20-117.32028999999999%5D%2C%20%5B34.010075%2C%20-84.567451%5D%2C%20%5B34.302997%2C%20-81.644683%5D%2C%20%5B30.164087%2C%20-91.995926%5D%2C%20%5B33.753634999999996%2C%20-84.495628%5D%2C%20%5B38.494198%2C%20-122.753082%5D%2C%20%5B44.951258%2C%20-93.099035%5D%2C%20%5B33.734140000000004%2C%20-84.23092%5D%2C%20%5B33.846927%2C%20-118.32911100000001%5D%2C%20%5B30.51298%2C%20-91.148422%5D%2C%20%5B33.689007000000004%2C%20-117.919357%5D%2C%20%5B26.708772999999997%2C%20-81.61025500000001%5D%2C%20%5B34.149246000000005%2C%20-118.46923999999999%5D%2C%20%5B33.881981%2C%20-117.547211%5D%2C%20%5B43.038277%2C%20-85.826614%5D%2C%20%5B33.103882%2C%20-80.126648%5D%2C%20%5B43.060432%2C%20-83.783752%5D%2C%20%5B36.094051%2C%20-86.654442%5D%2C%20%5B34.041019%2C%20-81.09594%5D%2C%20%5B38.437022999999996%2C%20-123.10448500000001%5D%2C%20%5B39.011177%2C%20-77.456886%5D%2C%20%5B38.901332000000004%2C%20-77.080947%5D%2C%20%5B33.72033%2C%20-117.72032%5D%2C%20%5B47.61634%2C%20-122.18892%5D%2C%20%5B32.327273999999996%2C%20-86.334709%5D%2C%20%5B45.463768%2C%20-122.68033600000001%5D%2C%20%5B33.200825%2C%20-87.52529100000001%5D%2C%20%5B40.988747%2C%20-78.16845699999999%5D%2C%20%5B43.14901%2C%20-124.39549%5D%2C%20%5B40.428582%2C%20-74.229093%5D%2C%20%5B29.379793%2C%20-98.46122700000001%5D%2C%20%5B29.69285%2C%20-98.10784%5D%2C%20%5B26.806061%2C%20-80.131012%5D%2C%20%5B29.784129999999998%2C%20-95.521187%5D%2C%20%5B41.734359999999995%2C%20-84.99472%5D%2C%20%5B34.011383%2C%20-81.148788%5D%2C%20%5B32.768532%2C%20-96.622375%5D%2C%20%5B41.783131%2C%20-87.631676%5D%2C%20%5B35.001903999999996%2C%20-82.006828%5D%2C%20%5B36.211003999999996%2C%20-86.83891899999999%5D%2C%20%5B34.575478000000004%2C%20-82.06536899999999%5D%2C%20%5B33.918831%2C%20-118.17896299999998%5D%2C%20%5B26.017377%2C%20-80.212905%5D%2C%20%5B39.022186%2C%20-84.511887%5D%2C%20%5B35.120090000000005%2C%20-81.121391%5D%2C%20%5B43.03455%2C%20-88.172226%5D%2C%20%5B35.799202%2C%20-78.570144%5D%2C%20%5B47.55341%2C%20-122.329552%5D%2C%20%5B33.480507%2C%20-112.11306%5D%2C%20%5B30.469905999999998%2C%20-97.79304499999999%5D%2C%20%5B27.893883000000002%2C%20-82.679466%5D%2C%20%5B41.939308000000004%2C%20-88.11496%5D%2C%20%5B35.262157%2C%20-89.664963%5D%2C%20%5B35.497409999999995%2C%20-97.59045400000001%5D%2C%20%5B40.033012%2C%20-76.306862%5D%2C%20%5B33.942893%2C%20-117.280029%5D%2C%20%5B41.573952%2C%20-87.508942%5D%2C%20%5B33.67772%2C%20-84.31857%5D%2C%20%5B34.821861%2C%20-82.417343%5D%2C%20%5B31.680165999999996%2C%20-106.31264499999999%5D%2C%20%5B42.679043%2C%20-71.152023%5D%2C%20%5B25.924873%2C%20-80.309303%5D%2C%20%5B32.851181%2C%20-96.81910699999999%5D%2C%20%5B38.55075%2C%20-121.42342%5D%2C%20%5B38.789038%2C%20-120.15425800000001%5D%2C%20%5B28.50842%2C%20-81.39689%5D%2C%20%5B43.191818%2C%20-83.793991%5D%2C%20%5B26.547377%2C%20-81.795242%5D%2C%20%5B34.154179%2C%20-118.468246%5D%2C%20%5B30.461367%2C%20-84.342209%5D%2C%20%5B37.739596999999996%2C%20-122.14293700000002%5D%2C%20%5B43.023037%2C%20-83.726646%5D%2C%20%5B26.012911%2C%20-80.16642%5D%2C%20%5B28.452640000000002%2C%20-80.98483%5D%2C%20%5B34.750854%2C%20-120.52046200000001%5D%2C%20%5B29.971627%2C%20-90.075161%5D%2C%20%5B38.628674%2C%20-121.383051%5D%2C%20%5B39.971714%2C%20-83.08042900000001%5D%2C%20%5B27.298803000000003%2C%20-82.464508%5D%2C%20%5B35.080677%2C%20-82.06210300000001%5D%2C%20%5B42.27588%2C%20-122.80977%5D%2C%20%5B33.88913%2C%20-117.87801999999999%5D%2C%20%5B34.102884%2C%20-118.196304%5D%2C%20%5B38.558904%2C%20-121.473348%5D%2C%20%5B33.58422%2C%20-84.37375%5D%2C%20%5B34.036751%2C%20-118.317757%5D%2C%20%5B34.130031%2C%20-117.925573%5D%2C%20%5B34.004276000000004%2C%20-117.403374%5D%2C%20%5B44.958649%2C%20-93.269424%5D%2C%20%5B35.815208%2C%20-78.605576%5D%2C%20%5B33.166315999999995%2C%20-117.34366299999999%5D%2C%20%5B32.670509%2C%20-96.946877%5D%2C%20%5B32.393387%2C%20-80.669037%5D%2C%20%5B39.64528%2C%20-104.91378%5D%2C%20%5B32.417374%2C%20-93.81501%5D%2C%20%5B41.508175%2C%20-93.570679%5D%2C%20%5B43.99134%2C%20-122.99198%5D%2C%20%5B37.57436%2C%20-121.88523899999998%5D%2C%20%5B33.94423%2C%20-118.0957%5D%2C%20%5B29.403219%2C%20-98.626488%5D%2C%20%5B37.138107%2C%20-93.29630300000001%5D%2C%20%5B41.253574%2C%20-73.807953%5D%2C%20%5B36.203520000000005%2C%20-86.77684%5D%2C%20%5B38.550117%2C%20-121.474057%5D%2C%20%5B34.071758%2C%20-118.099594%5D%2C%20%5B33.51684%2C%20-112.0999%5D%2C%20%5B42.486069%2C%20-83.438911%5D%2C%20%5B37.768646999999994%2C%20-122.424471%5D%2C%20%5B42.59885%2C%20-71.713371%5D%2C%20%5B37.561195%2C%20-121.99517800000001%5D%2C%20%5B29.689341%2C%20-95.55753299999999%5D%2C%20%5B40.558593%2C%20-74.708833%5D%2C%20%5B41.878471000000005%2C%20-88.20111800000001%5D%2C%20%5B37.372219%2C%20-120.678253%5D%2C%20%5B44.628729%2C%20-123.06226000000001%5D%2C%20%5B38.524887%2C%20-121.764847%5D%2C%20%5B39.823311%2C%20-86.27552800000001%5D%2C%20%5B41.01914%2C%20-74.293595%5D%2C%20%5B30.275345%2C%20-97.80162800000001%5D%2C%20%5B37.004819%2C%20-119.95597%5D%2C%20%5B38.801491%2C%20-77.521744%5D%2C%20%5B36.059761%2C%20-79.400269%5D%2C%20%5B41.73148%2C%20-87.62443%5D%2C%20%5B30.236665999999996%2C%20-97.686371%5D%2C%20%5B38.93734%2C%20-94.85254%5D%2C%20%5B30.057003%2C%20-95.919662%5D%2C%20%5B33.960939%2C%20-117.85455800000001%5D%2C%20%5B34.154095%2C%20-118.37898999999999%5D%2C%20%5B33.407467%2C%20-111.89117399999999%5D%2C%20%5B33.91217%2C%20-84.546089%5D%2C%20%5B38.479118%2C%20-123.16346000000001%5D%2C%20%5B29.618896000000003%2C%20-95.563713%5D%2C%20%5B32.871571%2C%20-80.01119200000001%5D%2C%20%5B39.184853000000004%2C%20-78.13700899999999%5D%2C%20%5B32.516715999999995%2C%20-93.750221%5D%2C%20%5B45.238040000000005%2C%20-122.80403000000001%5D%2C%20%5B36.79975%2C%20-76.42867%5D%2C%20%5B35.48238%2C%20-97.52969399999999%5D%2C%20%5B38.541072%2C%20-121.475776%5D%2C%20%5B41.060699%2C%20-85.12825%5D%2C%20%5B45.548248%2C%20-122.650398%5D%2C%20%5B39.323437%2C%20-77.357155%5D%2C%20%5B33.251305%2C%20-87.68507%5D%2C%20%5B34.936240999999995%2C%20-81.996117%5D%2C%20%5B37.49905%2C%20-122.1286%5D%2C%20%5B39.161522%2C%20-121.66233100000001%5D%2C%20%5B40.003235%2C%20-83.138992%5D%2C%20%5B42.55748%2C%20-71.139832%5D%2C%20%5B35.094936%2C%20-81.02996800000001%5D%2C%20%5B37.339059999999996%2C%20-121.85128%5D%2C%20%5B41.236892%2C%20-73.14674699999999%5D%2C%20%5B30.443439%2C%20-91.18373100000001%5D%2C%20%5B30.455149%2C%20-91.081329%5D%2C%20%5B32.785587%2C%20-86.717743%5D%2C%20%5B35.351688%2C%20-119.004631%5D%2C%20%5B39.723457%2C%20-105.011526%5D%2C%20%5B30.392859%2C%20-87.046341%5D%2C%20%5B33.686413%2C%20-117.765831%5D%2C%20%5B42.268394%2C%20-85.178535%5D%2C%20%5B27.432879999999997%2C%20-82.57544%5D%2C%20%5B37.723620000000004%2C%20-122.40133999999999%5D%2C%20%5B32.84345%2C%20-117.13153999999999%5D%2C%20%5B29.938181%2C%20-95.407463%5D%2C%20%5B26.194426999999997%2C%20-80.294586%5D%2C%20%5B33.519676000000004%2C%20-117.61985%5D%2C%20%5B38.001068%2C%20-121.22476999999999%5D%2C%20%5B40.37603%2C%20-74.95931999999999%5D%2C%20%5B38.066238%2C%20-122.537277%5D%2C%20%5B40.10982%2C%20-79.38226%5D%2C%20%5B42.424746999999996%2C%20-82.928658%5D%2C%20%5B34.135467999999996%2C%20-117.96661399999999%5D%2C%20%5B40.693821%2C%20-73.393463%5D%2C%20%5B35.32158%2C%20-80.73425999999999%5D%2C%20%5B39.432671%2C%20-76.33142099999999%5D%2C%20%5B43.010940999999995%2C%20-83.547714%5D%2C%20%5B36.623267%2C%20-121.58126599999999%5D%2C%20%5B33.672737%2C%20-112.02841200000002%5D%2C%20%5B34.2146%2C%20-118.35163999999999%5D%2C%20%5B46.638434000000004%2C%20-111.95003%5D%2C%20%5B41.825987%2C%20-71.420615%5D%2C%20%5B37.701405%2C%20-121.88811499999998%5D%2C%20%5B40.495940999999995%2C%20-79.939667%5D%2C%20%5B33.083763%2C%20-80.652962%5D%2C%20%5B34.02871%2C%20-118.25424%5D%2C%20%5B28.21513%2C%20-82.4375%5D%2C%20%5B39.754696%2C%20-86.10194399999999%5D%2C%20%5B40.262474%2C%20-86.655884%5D%2C%20%5B33.701859000000006%2C%20-117.93692800000001%5D%2C%20%5B33.559345%2C%20-117.67286399999999%5D%2C%20%5B39.041374%2C%20-77.5205%5D%2C%20%5B30.229%2C%20-97.885269%5D%2C%20%5B36.14172%2C%20-86.77869399999999%5D%2C%20%5B37.29893%2C%20-121.87496599999999%5D%2C%20%5B34.912209000000004%2C%20-82.761073%5D%2C%20%5B42.667244000000004%2C%20-73.73311600000001%5D%2C%20%5B32.778634000000004%2C%20-117.105905%5D%2C%20%5B34.06746%2C%20-80.92296%5D%2C%20%5B30.434771%2C%20-91.057281%5D%2C%20%5B29.5198%2C%20-98.39945999999999%5D%2C%20%5B42.363806%2C%20-87.829374%5D%2C%20%5B33.960784999999994%2C%20-117.312996%5D%2C%20%5B40.7276%2C%20-74.02104%5D%2C%20%5B38.910183%2C%20-104.823448%5D%2C%20%5B38.574406%2C%20-121.577354%5D%2C%20%5B26.676284999999996%2C%20-80.069511%5D%2C%20%5B28.317511%2C%20-81.648567%5D%2C%20%5B41.79673%2C%20-87.8075%5D%2C%20%5B36.903048999999996%2C%20-76.239525%5D%2C%20%5B30.835787%2C%20-97.901955%5D%2C%20%5B40.231857%2C%20-76.93265500000001%5D%2C%20%5B37.634094%2C%20-122.415497%5D%2C%20%5B45.205944%2C%20-93.401703%5D%2C%20%5B29.685612%2C%20-95.277824%5D%2C%20%5B32.755959000000004%2C%20-117.235069%5D%2C%20%5B42.315277%2C%20-71.24895500000001%5D%2C%20%5B39.60838%2C%20-119.22137%5D%2C%20%5B25.775867%2C%20-80.369461%5D%2C%20%5B38.850547999999996%2C%20-94.528829%5D%2C%20%5B33.656265000000005%2C%20-117.744545%5D%2C%20%5B34.686721999999996%2C%20-119.355919%5D%2C%20%5B29.785390999999997%2C%20-95.64502%5D%2C%20%5B30.407621000000002%2C%20-91.10170699999999%5D%2C%20%5B38.910229%2C%20-77.217476%5D%2C%20%5B29.1554%2C%20-82.18486999999999%5D%2C%20%5B34.400216%2C%20-119.29973400000002%5D%2C%20%5B25.786510999999997%2C%20-80.212239%5D%2C%20%5B29.74918%2C%20-95.36853%5D%2C%20%5B32.177859999999995%2C%20-110.94707%5D%2C%20%5B29.720352000000002%2C%20-95.535324%5D%2C%20%5B33.751298%2C%20-84.45036999999999%5D%2C%20%5B38.510426%2C%20-90.374504%5D%2C%20%5B36.761902%2C%20-121.75283799999998%5D%2C%20%5B25.949889000000002%2C%20-80.182288%5D%2C%20%5B33.589214%2C%20-111.83623500000002%5D%2C%20%5B42.464529999999996%2C%20-83.43135%5D%2C%20%5B35.883415%2C%20-78.561821%5D%2C%20%5B28.088129%2C%20-82.454727%5D%2C%20%5B41.689678%2C%20-83.665482%5D%2C%20%5B44.279540000000004%2C%20-123.06113%5D%2C%20%5B44.903427%2C%20-93.065659%5D%2C%20%5B38.999223%2C%20-76.983377%5D%2C%20%5B30.004984000000004%2C%20-95.28744499999999%5D%2C%20%5B35.255607%2C%20-111.939369%5D%2C%20%5B37.414955%2C%20-121.91296399999999%5D%2C%20%5B40.64845%2C%20-111.90222%5D%2C%20%5B34.02393%2C%20-118.18267800000001%5D%2C%20%5B37.76197%2C%20-122.40578000000001%5D%2C%20%5B30.283990999999997%2C%20-97.6716%5D%2C%20%5B36.074905%2C%20-86.758965%5D%2C%20%5B37.610640000000004%2C%20-77.51371%5D%2C%20%5B27.490627000000003%2C%20-82.472099%5D%2C%20%5B37.387353000000004%2C%20-77.501327%5D%2C%20%5B25.847885%2C%20-80.207237%5D%2C%20%5B25.579504%2C%20-80.4928%5D%2C%20%5B43.116985%2C%20-88.057564%5D%2C%20%5B35.305222%2C%20-97.54744000000001%5D%2C%20%5B30.223515000000003%2C%20-97.747688%5D%2C%20%5B34.262221999999994%2C%20-119.230556%5D%2C%20%5B38.847008%2C%20-77.432579%5D%2C%20%5B40.649361%2C%20-111.938873%5D%2C%20%5B41.162079%2C%20-112.023224%5D%2C%20%5B35.127009%2C%20-120.598697%5D%2C%20%5B40.740589%2C%20-73.841431%5D%2C%20%5B47.66861%2C%20-117.359444%5D%2C%20%5B40.5664%2C%20-74.25585%5D%2C%20%5B40.430038%2C%20-111.888702%5D%2C%20%5B33.19427%2C%20-117.2591%5D%2C%20%5B37.360336%2C%20-121.84158300000001%5D%2C%20%5B29.70603%2C%20-95.51106%5D%2C%20%5B37.31903%2C%20-121.90189%5D%2C%20%5B41.771854%2C%20-72.599662%5D%2C%20%5B34.787431%2C%20-82.534719%5D%2C%20%5B29.810257%2C%20-95.342857%5D%2C%20%5B32.618728999999995%2C%20-96.840012%5D%2C%20%5B39.351795%2C%20-76.498032%5D%2C%20%5B37.350421999999995%2C%20-121.860992%5D%2C%20%5B39.006840000000004%2C%20-76.98033000000001%5D%2C%20%5B34.120953%2C%20-117.890091%5D%2C%20%5B30.247168%2C%20-97.805%5D%2C%20%5B32.768776%2C%20-96.822845%5D%2C%20%5B33.98635%2C%20-118.28025%5D%2C%20%5B39.524117%2C%20-121.447499%5D%2C%20%5B45.0103%2C%20-93.186256%5D%2C%20%5B25.718018%2C%20-80.36704499999999%5D%2C%20%5B43.185592%2C%20-112.375041%5D%2C%20%5B44.886853%2C%20-93.33173000000001%5D%2C%20%5B39.60622%2C%20-77.74729%5D%2C%20%5B42.754391%2C%20-73.768784%5D%2C%20%5B38.538242%2C%20-121.473648%5D%2C%20%5B32.787701%2C%20-117.113983%5D%2C%20%5B35.406239%2C%20-97.521301%5D%2C%20%5B33.392761%2C%20-112.04736299999999%5D%2C%20%5B33.823391%2C%20-118.19886000000001%5D%2C%20%5B45.105133%2C%20-123.333931%5D%2C%20%5B42.9025%2C%20-78.900612%5D%2C%20%5B34.161826%2C%20-118.46961999999999%5D%2C%20%5B33.98915%2C%20-118.28016299999999%5D%2C%20%5B37.32328%2C%20-121.94056%5D%2C%20%5B41.024246000000005%2C%20-76.48437%5D%2C%20%5B28.596398999999998%2C%20-81.385712%5D%2C%20%5B34.024673%2C%20-117.917503%5D%2C%20%5B39.039515%2C%20-94.673384%5D%2C%20%5B39.855793%2C%20-85.97264100000001%5D%2C%20%5B28.587754999999998%2C%20-81.208267%5D%2C%20%5B33.557057%2C%20-80.57705899999999%5D%2C%20%5B41.251759%2C%20-96.023911%5D%2C%20%5B33.617931%2C%20-85.722824%5D%2C%20%5B36.098881%2C%20-86.871841%5D%2C%20%5B37.759547999999995%2C%20-77.459648%5D%2C%20%5B39.028335999999996%2C%20-84.57701899999999%5D%2C%20%5B34.018902000000004%2C%20-118.17326399999999%5D%2C%20%5B43.119438%2C%20-83.697762%5D%2C%20%5B41.1194%2C%20-73.37941%5D%2C%20%5B34.350307%2C%20-117.94076499999998%5D%2C%20%5B33.754143%2C%20-84.424461%5D%2C%20%5B29.725458000000003%2C%20-95.420647%5D%2C%20%5B40.732578000000004%2C%20-89.51907299999999%5D%2C%20%5B42.385628000000004%2C%20-83.260109%5D%2C%20%5B40.618771%2C%20-75.500969%5D%2C%20%5B35.449921%2C%20-97.760277%5D%2C%20%5B29.785526%2C%20-95.521294%5D%2C%20%5B36.169140000000006%2C%20-86.766502%5D%2C%20%5B40.889168%2C%20-73.88889300000001%5D%2C%20%5B47.067924%2C%20-122.722298%5D%2C%20%5B29.767462%2C%20-95.344437%5D%2C%20%5B32.23597%2C%20-110.948081%5D%2C%20%5B37.354804%2C%20-121.838401%5D%2C%20%5B41.831699%2C%20-88.201103%5D%2C%20%5B37.41766%2C%20-121.97332%5D%2C%20%5B32.727878999999994%2C%20-116.908928%5D%2C%20%5B30.468431%2C%20-97.796776%5D%2C%20%5B37.566798999999996%2C%20-77.546715%5D%2C%20%5B42.2097%2C%20-71.14412%5D%2C%20%5B30.702869%2C%20-88.124077%5D%2C%20%5B29.739758000000002%2C%20-95.26550300000001%5D%2C%20%5B34.483528%2C%20-82.6492%5D%2C%20%5B40.00388%2C%20-75.28486600000001%5D%2C%20%5B35.204395%2C%20-80.792763%5D%2C%20%5B33.039089000000004%2C%20-80.143509%5D%2C%20%5B33.45153%2C%20-112.03710900000002%5D%2C%20%5B30.340009999999996%2C%20-97.591125%5D%2C%20%5B35.31387%2C%20-80.76387%5D%2C%20%5B38.272391999999996%2C%20-104.604523%5D%2C%20%5B25.728491%2C%20-80.335571%5D%2C%20%5B37.835728%2C%20-122.29525%5D%2C%20%5B37.989983%2C%20-122.13385%5D%2C%20%5B42.092587%2C%20-71.224579%5D%2C%20%5B33.057522%2C%20-117.07061000000002%5D%2C%20%5B39.187725%2C%20-104.850479%5D%2C%20%5B40.737491999999996%2C%20-73.593323%5D%2C%20%5B29.728565000000003%2C%20-95.418625%5D%2C%20%5B42.2405%2C%20-87.964519%5D%2C%20%5B25.867542%2C%20-80.208443%5D%2C%20%5B28.465673%2C%20-81.275604%5D%2C%20%5B42.91264%2C%20-85.608162%5D%2C%20%5B40.711617%2C%20-74.092651%5D%2C%20%5B27.806646999999998%2C%20-82.661736%5D%2C%20%5B38.287493%2C%20-77.476322%5D%2C%20%5B30.298149%2C%20-97.687057%5D%2C%20%5B28.052439%2C%20-82.354065%5D%2C%20%5B28.500883%2C%20-81.39681999999999%5D%2C%20%5B28.417669%2C%20-80.706711%5D%2C%20%5B36.300319%2C%20-119.744056%5D%2C%20%5B30.475225%2C%20-97.794037%5D%2C%20%5B38.474239000000004%2C%20-121.427177%5D%2C%20%5B34.121834%2C%20-118.001434%5D%2C%20%5B34.14732%2C%20-118.227646%5D%2C%20%5B33.431717%2C%20-117.144852%5D%2C%20%5B35.87072%2C%20-78.72377%5D%2C%20%5B44.94704%2C%20-93.04054000000001%5D%2C%20%5B36.843582%2C%20-76.210121%5D%2C%20%5B32.743626%2C%20-96.815727%5D%2C%20%5B30.10218%2C%20-97.75990300000001%5D%2C%20%5B35.319775%2C%20-97.515602%5D%2C%20%5B37.680336%2C%20-121.05011699999999%5D%2C%20%5B36.38556%2C%20-119.19778500000001%5D%2C%20%5B33.638069%2C%20-112.28976399999999%5D%2C%20%5B36.612007%2C%20-76.66199499999999%5D%2C%20%5B33.989841%2C%20-79.20210300000001%5D%2C%20%5B29.600215999999996%2C%20-95.286446%5D%2C%20%5B33.81131%2C%20-84.372314%5D%2C%20%5B27.960482%2C%20-82.45121800000001%5D%2C%20%5B34.241089%2C%20-117.276527%5D%2C%20%5B30.636362%2C%20-91.15718100000001%5D%2C%20%5B29.731731%2C%20-95.390984%5D%2C%20%5B45.062243%2C%20-93.449673%5D%2C%20%5B35.594631%2C%20-97.549347%5D%2C%20%5B36.190861%2C%20-86.61528%5D%2C%20%5B41.22224%2C%20-96.06973%5D%2C%20%5B42.238232%2C%20-88.050888%5D%2C%20%5B36.008095000000004%2C%20-121.515945%5D%2C%20%5B42.826481%2C%20-77.736565%5D%2C%20%5B33.610741%2C%20-112.17716200000001%5D%2C%20%5B36.052644%2C%20-79.731523%5D%2C%20%5B33.77158%2C%20-84.390434%5D%2C%20%5B38.224503000000006%2C%20-122.12654099999999%5D%2C%20%5B37.383022%2C%20-122.192857%5D%2C%20%5B34.037243%2C%20-118.438884%5D%2C%20%5B33.90221%2C%20-118.08876000000001%5D%2C%20%5B33.862694%2C%20-117.786201%5D%2C%20%5B39.978539000000005%2C%20-76.661278%5D%2C%20%5B32.7596%2C%20-117.18437%5D%2C%20%5B43.175831%2C%20-77.576149%5D%2C%20%5B37.754331%2C%20-122.403139%5D%2C%20%5B29.674683%2C%20-95.38241%5D%2C%20%5B42.0112%2C%20-70.72646999999999%5D%2C%20%5B25.690883%2C%20-80.307654%5D%2C%20%5B37.501595%2C%20-77.524902%5D%2C%20%5B33.937965000000005%2C%20-118.098175%5D%2C%20%5B33.66275%2C%20-117.75468000000001%5D%2C%20%5B39.997544%2C%20-105.25381999999999%5D%2C%20%5B41.652632000000004%2C%20-93.570489%5D%2C%20%5B40.138996%2C%20-75.244232%5D%2C%20%5B34.046958000000004%2C%20-118.446773%5D%2C%20%5B35.25052%2C%20-80.84486%5D%2C%20%5B41.441666999999995%2C%20-122.435%5D%2C%20%5B39.715709999999994%2C%20-84.219994%5D%2C%20%5B42.927509%2C%20-78.75416%5D%2C%20%5B34.909839%2C%20-82.430082%5D%2C%20%5B32.77767%2C%20-117.12003999999999%5D%2C%20%5B40.2873%2C%20-79.548737%5D%2C%20%5B28.552595%2C%20-81.449669%5D%2C%20%5B34.050101%2C%20-118.263208%5D%2C%20%5B32.159554%2C%20-110.91365800000001%5D%2C%20%5B47.564735%2C%20-122.36335%5D%2C%20%5B45.23837%2C%20-118.01552%5D%2C%20%5B41.257694%2C%20-95.956429%5D%2C%20%5B33.974959999999996%2C%20-118.124802%5D%2C%20%5B28.264803999999998%2C%20-81.53304200000001%5D%2C%20%5B38.678349%2C%20-121.21630900000001%5D%2C%20%5B35.214667999999996%2C%20-80.860046%5D%2C%20%5B33.469357%2C%20-112.06511699999999%5D%2C%20%5B30.439739000000003%2C%20-91.00752299999999%5D%2C%20%5B41.643909%2C%20-93.752174%5D%2C%20%5B30.357670000000002%2C%20-97.700119%5D%2C%20%5B38.815075%2C%20-104.824539%5D%2C%20%5B42.28332%2C%20-88.15619000000001%5D%2C%20%5B33.985199%2C%20-117.549072%5D%2C%20%5B39.203758%2C%20-74.700195%5D%2C%20%5B39.058949%2C%20-84.53828399999999%5D%2C%20%5B33.757103%2C%20-84.468964%5D%2C%20%5B30.26815%2C%20-91.991608%5D%2C%20%5B33.672698%2C%20-112.007213%5D%2C%20%5B33.87611%2C%20-118.16531%5D%2C%20%5B38.877410999999995%2C%20-77.274788%5D%2C%20%5B42.334064%2C%20-87.838509%5D%2C%20%5B41.109790999999994%2C%20-73.80143699999999%5D%2C%20%5B41.56973%2C%20-87.74384%5D%2C%20%5B44.9492%2C%20-93.08061%5D%2C%20%5B38.896839%2C%20-104.830208%5D%2C%20%5B38.549358000000005%2C%20-77.344093%5D%2C%20%5B37.787991999999996%2C%20-122.39360900000001%5D%2C%20%5B36.760371%2C%20-76.27205699999999%5D%2C%20%5B36.2703%2C%20-119.296621%5D%2C%20%5B39.173565999999994%2C%20-122.154476%5D%2C%20%5B38.566695%2C%20-121.50399499999999%5D%2C%20%5B37.553684000000004%2C%20-122.29625700000001%5D%2C%20%5B37.720715000000006%2C%20-122.1782%5D%2C%20%5B35.220562%2C%20-80.831265%5D%2C%20%5B38.358588%2C%20-121.832149%5D%2C%20%5B32.960829%2C%20-96.727441%5D%2C%20%5B34.177177%2C%20-81.322777%5D%2C%20%5B37.15876%2C%20-121.98256699999999%5D%2C%20%5B33.960133%2C%20-118.28051799999999%5D%2C%20%5B42.465485%2C%20-71.322151%5D%2C%20%5B42.734184%2C%20-73.78840600000001%5D%2C%20%5B38.989253999999995%2C%20-77.15735600000001%5D%2C%20%5B34.068031%2C%20-80.911728%5D%2C%20%5B33.197375%2C%20-117.125561%5D%2C%20%5B39.03671%2C%20-76.85049000000001%5D%2C%20%5B30.359165%2C%20-97.79155%5D%2C%20%5B36.894573%2C%20-121.67391599999999%5D%2C%20%5B42.99715%2C%20-83.722183%5D%2C%20%5B37.561943%2C%20-122.03696399999998%5D%2C%20%5B38.241276%2C%20-122.269112%5D%2C%20%5B35.63855%2C%20-97.567146%5D%2C%20%5B41.21973%2C%20-96.02395600000001%5D%2C%20%5B35.080971000000005%2C%20-82.062164%5D%2C%20%5B37.900940000000006%2C%20-122.310699%5D%2C%20%5B34.07245%2C%20-117.94126999999999%5D%2C%20%5B34.016265999999995%2C%20-118.04213700000001%5D%2C%20%5B33.931242%2C%20-118.280074%5D%2C%20%5B34.561237%2C%20-82.69968399999999%5D%2C%20%5B42.891709999999996%2C%20-73.82240999999999%5D%2C%20%5B35.7486%2C%20-80.24305%5D%2C%20%5B40.263034999999995%2C%20-75.319328%5D%2C%20%5B38.609978000000005%2C%20-121.34597099999999%5D%2C%20%5B41.840697999999996%2C%20-71.417969%5D%2C%20%5B33.645317%2C%20-117.73548899999999%5D%2C%20%5B40.128277000000004%2C%20-75.307312%5D%2C%20%5B35.18047%2C%20-80.757591%5D%2C%20%5B32.739738%2C%20-96.82285300000001%5D%2C%20%5B30.399349%2C%20-97.641098%5D%2C%20%5B32.553756%2C%20-86.460879%5D%2C%20%5B35.902145000000004%2C%20-78.814433%5D%2C%20%5B44.861908%2C%20-93.293541%5D%2C%20%5B43.140915%2C%20-71.496298%5D%2C%20%5B35.858238%2C%20-78.821533%5D%2C%20%5B39.270763%2C%20-123.24196699999999%5D%2C%20%5B33.63751%2C%20-112.0656%5D%2C%20%5B47.690189000000004%2C%20-122.285362%5D%2C%20%5B34.129715999999995%2C%20-117.933687%5D%2C%20%5B38.410576%2C%20-122.71595%5D%2C%20%5B33.8511%2C%20-84.24576%5D%2C%20%5B38.86591%2C%20-77.001442%5D%2C%20%5B37.983261%2C%20-122.315987%5D%2C%20%5B38.51469%2C%20-121.46238000000001%5D%2C%20%5B38.115942%2C%20-121.39586499999999%5D%2C%20%5B27.389282%2C%20-82.532059%5D%2C%20%5B33.38998%2C%20-111.71941399999999%5D%2C%20%5B33.922356%2C%20-79.148705%5D%2C%20%5B37.62215%2C%20-77.52663000000001%5D%2C%20%5B38.697746%2C%20-120.834999%5D%2C%20%5B35.231534%2C%20-80.833078%5D%2C%20%5B34.763252%2C%20-118.795227%5D%2C%20%5B44.836971000000005%2C%20-93.3983%5D%2C%20%5B38.360161%2C%20-121.085121%5D%2C%20%5B38.042629%2C%20-84.460213%5D%2C%20%5B41.089329%2C%20-95.928154%5D%2C%20%5B42.994793%2C%20-78.929901%5D%2C%20%5B29.784822%2C%20-95.60650600000001%5D%2C%20%5B30.436953000000003%2C%20-91.08448800000001%5D%2C%20%5B36.17289%2C%20-86.800575%5D%2C%20%5B43.369156%2C%20-71.609993%5D%2C%20%5B39.965379999999996%2C%20-75.59174%5D%2C%20%5B38.188140999999995%2C%20-85.73230699999999%5D%2C%20%5B39.798778999999996%2C%20-86.040817%5D%2C%20%5B31.771795%2C%20-106.377766%5D%2C%20%5B40.539320000000004%2C%20-111.89343999999998%5D%2C%20%5B41.140198%2C%20-95.937477%5D%2C%20%5B28.1389%2C%20-81.9039%5D%2C%20%5B37.717983000000004%2C%20-121.701424%5D%2C%20%5B39.29266%2C%20-76.55295600000001%5D%2C%20%5B41.238232%2C%20-95.94223000000001%5D%2C%20%5B33.864635%2C%20-118.325516%5D%2C%20%5B32.311665000000005%2C%20-86.222656%5D%2C%20%5B42.103424%2C%20-88.335228%5D%2C%20%5B36.05357%2C%20-86.672874%5D%2C%20%5B29.749691%2C%20-95.3694%5D%2C%20%5B35.259918%2C%20-80.776901%5D%2C%20%5B47.61459%2C%20-122.34264399999999%5D%2C%20%5B41.593785%2C%20-83.81134399999999%5D%2C%20%5B33.567631%2C%20-112.146553%5D%2C%20%5B39.770782000000004%2C%20-86.143333%5D%2C%20%5B28.346927%2C%20-81.662075%5D%2C%20%5B30.480159999999998%2C%20-87.26313%5D%2C%20%5B29.875904%2C%20-95.411575%5D%2C%20%5B40.209694%2C%20-74.766212%5D%2C%20%5B42.34939%2C%20-71.06%5D%2C%20%5B45.152164%2C%20-94.54280899999999%5D%2C%20%5B35.036549%2C%20-81.972603%5D%2C%20%5B36.214034999999996%2C%20-79.687675%5D%2C%20%5B28.467373%2C%20-81.439655%5D%2C%20%5B40.757121999999995%2C%20-74.207268%5D%2C%20%5B42.00782%2C%20-123.72672299999999%5D%2C%20%5B33.789885999999996%2C%20-117.830818%5D%2C%20%5B25.806689000000002%2C%20-80.25765799999999%5D%2C%20%5B44.967758%2C%20-93.269676%5D%2C%20%5B39.621216%2C%20-77.78932900000001%5D%2C%20%5B33.89886%2C%20-118.37021999999999%5D%2C%20%5B29.578241%2C%20-98.441826%5D%2C%20%5B33.880993%2C%20-117.599632%5D%2C%20%5B25.778805%2C%20-80.32180799999999%5D%2C%20%5B30.22036%2C%20-97.76553%5D%2C%20%5B39.51133%2C%20-119.65351899999999%5D%2C%20%5B36.04126%2C%20-86.778366%5D%2C%20%5B47.025715000000005%2C%20-122.92326399999999%5D%2C%20%5B35.41082%2C%20-80.84324000000001%5D%2C%20%5B30.457392%2C%20-91.166168%5D%2C%20%5B41.06347%2C%20-81.50372%5D%2C%20%5B38.714378%2C%20-121.487549%5D%2C%20%5B34.98571%2C%20-96.867257%5D%2C%20%5B40.2612%2C%20-74.84498%5D%2C%20%5B40.529431%2C%20-74.264464%5D%2C%20%5B43.051429999999996%2C%20-88.37365%5D%2C%20%5B25.733095000000002%2C%20-80.335831%5D%2C%20%5B42.56366%2C%20-70.924026%5D%2C%20%5B31.752616999999997%2C%20-106.345299%5D%2C%20%5B38.84261%2C%20-76.86494%5D%2C%20%5B25.970782999999997%2C%20-80.29504399999999%5D%2C%20%5B34.74884%2C%20-86.767578%5D%2C%20%5B36.151282%2C%20-85.874495%5D%2C%20%5B37.595268%2C%20-121.872597%5D%2C%20%5B39.947567%2C%20-75.187798%5D%2C%20%5B29.40843%2C%20-98.46125%5D%2C%20%5B39.11842%2C%20-77.10395799999999%5D%2C%20%5B39.928856%2C%20-75.146385%5D%2C%20%5B34.120487%2C%20-117.90753899999999%5D%2C%20%5B33.462315000000004%2C%20-112.23818999999999%5D%2C%20%5B33.066021%2C%20-96.6903%5D%2C%20%5B34.040863%2C%20-81.527412%5D%2C%20%5B41.31813%2C%20-72.89907%5D%2C%20%5B40.16198%2C%20-75.882698%5D%2C%20%5B41.794205%2C%20-87.631538%5D%2C%20%5B33.520756%2C%20-117.665848%5D%2C%20%5B29.627583%2C%20-95.238487%5D%2C%20%5B29.601677000000002%2C%20-95.46446999999999%5D%2C%20%5B30.291227000000003%2C%20-81.521955%5D%2C%20%5B39.366107%2C%20-104.86555800000001%5D%2C%20%5B36.082741%2C%20-86.646828%5D%2C%20%5B25.769287%2C%20-80.344414%5D%2C%20%5B29.736165999999997%2C%20-95.60584300000001%5D%2C%20%5B39.992011%2C%20-83.730343%5D%2C%20%5B32.775738%2C%20-96.836998%5D%2C%20%5B29.795607%2C%20-95.56989300000001%5D%2C%20%5B42.476501%2C%20-83.11179399999999%5D%2C%20%5B38.750084%2C%20-90.33815799999999%5D%2C%20%5B47.91738%2C%20-122.07401000000002%5D%2C%20%5B30.246115000000003%2C%20-93.179276%5D%2C%20%5B40.603577%2C%20-74.067673%5D%2C%20%5B25.778906%2C%20-80.37870799999999%5D%2C%20%5B33.650375%2C%20-112.232101%5D%2C%20%5B41.47162%2C%20-81.90626%5D%2C%20%5B37.9034%2C%20-122.31239%5D%2C%20%5B38.134083000000004%2C%20-122.476372%5D%2C%20%5B35.569503999999995%2C%20-97.656242%5D%2C%20%5B43.376546999999995%2C%20-70.57837099999999%5D%2C%20%5B33.876289%2C%20-118.102577%5D%2C%20%5B39.3073%2C%20-94.65456%5D%2C%20%5B26.545847%2C%20-81.90342700000001%5D%2C%20%5B25.67973%2C%20-80.38875%5D%2C%20%5B39.630035%2C%20-104.90527800000001%5D%2C%20%5B36.812981%2C%20-81.662712%5D%2C%20%5B34.252609%2C%20-119.21086100000001%5D%2C%20%5B28.505484000000003%2C%20-81.422415%5D%2C%20%5B26.308275%2C%20-80.118645%5D%2C%20%5B41.01043%2C%20-111.37513%5D%2C%20%5B42.427815%2C%20-83.094438%5D%2C%20%5B39.931427%2C%20-74.95285%5D%2C%20%5B38.258759999999995%2C%20-85.74599%5D%2C%20%5B25.784585999999997%2C%20-80.288742%5D%2C%20%5B34.038456%2C%20-118.27401%5D%2C%20%5B33.539367999999996%2C%20-112.112251%5D%2C%20%5B30.173821999999998%2C%20-97.812671%5D%2C%20%5B40.1562%2C%20-75.485062%5D%2C%20%5B44.934486%2C%20-93.396759%5D%2C%20%5B30.618069000000002%2C%20-84.82238000000001%5D%2C%20%5B36.782579999999996%2C%20-76.23732%5D%2C%20%5B35.170963%2C%20-80.84120899999999%5D%2C%20%5B42.583999999999996%2C%20-71.15786700000001%5D%2C%20%5B33.876278000000006%2C%20-118.076843%5D%2C%20%5B32.909546%2C%20-96.856071%5D%2C%20%5B36.81879%2C%20-81.551506%5D%2C%20%5B40.147148%2C%20-82.92372900000001%5D%2C%20%5B36.14465%2C%20-86.74405%5D%2C%20%5B38.8741%2C%20-76.97742%5D%2C%20%5B35.202518%2C%20-80.72599%5D%2C%20%5B38.098803000000004%2C%20-84.419595%5D%2C%20%5B34.042507%2C%20-118.190353%5D%2C%20%5B25.663795%2C%20-80.4161%5D%2C%20%5B42.06666%2C%20-88.21624%5D%2C%20%5B34.168869%2C%20-118.588158%5D%2C%20%5B33.92494%2C%20-118.210505%5D%2C%20%5B29.633221000000002%2C%20-95.130577%5D%2C%20%5B39.599232%2C%20-84.34623%5D%2C%20%5B25.76845%2C%20-80.36893%5D%2C%20%5B42.474422%2C%20-83.182594%5D%2C%20%5B32.070953%2C%20-81.209808%5D%2C%20%5B34.878071000000006%2C%20-82.04763%5D%2C%20%5B29.984990000000003%2C%20-90.05815%5D%2C%20%5B27.447458%2C%20-82.53035%5D%2C%20%5B39.919074%2C%20-86.03565400000001%5D%2C%20%5B30.279916999999998%2C%20-97.729416%5D%2C%20%5B33.291672%2C%20-111.83294699999999%5D%2C%20%5B41.05666%2C%20-73.835388%5D%2C%20%5B33.882156%2C%20-118.191635%5D%2C%20%5B34.762089%2C%20-83.039726%5D%2C%20%5B29.791149%2C%20-95.457008%5D%2C%20%5B34.037999%2C%20-118.276449%5D%2C%20%5B33.772011%2C%20-117.250717%5D%2C%20%5B38.560204%2C%20-121.47973600000002%5D%2C%20%5B32.810241999999995%2C%20-96.627579%5D%2C%20%5B41.954654999999995%2C%20-87.644829%5D%2C%20%5B32.014057%2C%20-81.23291%5D%2C%20%5B41.974209%2C%20-88.13700899999999%5D%2C%20%5B48.83333%2C%20-122.48598999999999%5D%2C%20%5B32.723843%2C%20-117.15678500000001%5D%2C%20%5B34.74781%2C%20-82.342812%5D%2C%20%5B47.78001%2C%20-122.31743999999999%5D%2C%20%5B37.635231%2C%20-122.40446499999999%5D%2C%20%5B34.154142%2C%20-118.46794799999999%5D%2C%20%5B34.492081%2C%20-118.17983500000001%5D%2C%20%5B30.519683%2C%20-87.213629%5D%2C%20%5B35.783592%2C%20-78.687096%5D%2C%20%5B32.639533%2C%20-117.099853%5D%2C%20%5B40.515114000000004%2C%20-74.375198%5D%2C%20%5B40.700520000000004%2C%20-73.50350999999999%5D%2C%20%5B35.363232%2C%20-97.580513%5D%2C%20%5B37.82379%2C%20-122.31873999999999%5D%2C%20%5B41.997314%2C%20-87.71171600000001%5D%2C%20%5B42.733449%2C%20-87.95382%5D%2C%20%5B44.781963%2C%20-93.469521%5D%2C%20%5B38.806961%2C%20-76.983529%5D%2C%20%5B41.878658%2C%20-87.681488%5D%2C%20%5B36.081799%2C%20-95.85104399999999%5D%2C%20%5B37.3549%2C%20-122.06176799999999%5D%2C%20%5B34.126408000000005%2C%20-117.91603899999998%5D%2C%20%5B29.697172%2C%20-95.288391%5D%2C%20%5B39.938965%2C%20-75.09291800000001%5D%2C%20%5B38.766059999999996%2C%20-111.34998%5D%2C%20%5B35.29063%2C%20-80.75679000000001%5D%2C%20%5B32.864101%2C%20-96.66571%5D%2C%20%5B34.219032%2C%20-119.06986200000001%5D%2C%20%5B35.186584%2C%20-80.901543%5D%2C%20%5B38.635678999999996%2C%20-90.41561899999999%5D%2C%20%5B35.466469000000004%2C%20-97.53614%5D%2C%20%5B36.139846999999996%2C%20-86.72647099999999%5D%2C%20%5B33.620917999999996%2C%20-79.00406600000001%5D%2C%20%5B34.707912%2C%20-118.796201%5D%2C%20%5B45.070129%2C%20-93.28942099999999%5D%2C%20%5B45.037926%2C%20-93.056269%5D%2C%20%5B35.821949%2C%20-78.35105899999999%5D%2C%20%5B43.011105%2C%20-83.588303%5D%2C%20%5B45.033333%2C%20-93.40080999999999%5D%2C%20%5B33.6043%2C%20-111.87841%5D%2C%20%5B43.017323%2C%20-74.818954%5D%2C%20%5B38.819814%2C%20-76.925164%5D%2C%20%5B35.599384%2C%20-80.531868%5D%2C%20%5B35.683859000000005%2C%20-78.652148%5D%2C%20%5B37.720219%2C%20-122.44793700000001%5D%2C%20%5B44.951626%2C%20-93.126274%5D%2C%20%5B29.77285%2C%20-95.23123000000001%5D%2C%20%5B27.783490999999998%2C%20-82.63851899999999%5D%2C%20%5B42.003586%2C%20-90.657059%5D%2C%20%5B26.368399%2C%20-80.118271%5D%2C%20%5B38.8829%2C%20-94.525498%5D%2C%20%5B40.18007%2C%20-75.36253%5D%2C%20%5B36.206089%2C%20-86.771072%5D%2C%20%5B34.128677%2C%20-80.854996%5D%2C%20%5B28.095961%2C%20-82.523933%5D%2C%20%5B34.26437%2C%20-116.819695%5D%2C%20%5B36.982045%2C%20-86.953709%5D%2C%20%5B34.014472999999995%2C%20-118.16123999999999%5D%2C%20%5B38.934721%2C%20-91.8094%5D%2C%20%5B33.487419%2C%20-112.047661%5D%2C%20%5B41.90443%2C%20-88.03249%5D%2C%20%5B39.821659000000004%2C%20-84.884781%5D%2C%20%5B30.400074%2C%20-97.640724%5D%2C%20%5B35.21779%2C%20-80.83469000000001%5D%2C%20%5B39.667473%2C%20-104.92938999999998%5D%2C%20%5B27.981532%2C%20-82.45450600000001%5D%2C%20%5B26.304363000000002%2C%20-80.129471%5D%2C%20%5B39.784909999999996%2C%20-105.04786100000001%5D%2C%20%5B25.531228%2C%20-80.37701700000001%5D%2C%20%5B34.207895%2C%20-118.218673%5D%2C%20%5B29.409670000000002%2C%20-98.48674%5D%2C%20%5B32.570786%2C%20-102.53875699999999%5D%2C%20%5B33.587003%2C%20-117.595033%5D%2C%20%5B34.107338%2C%20-118.18663799999999%5D%2C%20%5B33.46196%2C%20-112.13976000000001%5D%2C%20%5B37.917862%2C%20-122.06394499999999%5D%2C%20%5B43.020039000000004%2C%20-83.602051%5D%2C%20%5B35.412479%2C%20-119.08825700000001%5D%2C%20%5B41.028313%2C%20-73.683426%5D%2C%20%5B35.269684000000005%2C%20-80.83757%5D%2C%20%5B35.153996%2C%20-80.947502%5D%2C%20%5B40.900681%2C%20-111.892204%5D%2C%20%5B31.76077%2C%20-106.267274%5D%2C%20%5B33.739090000000004%2C%20-117.07607900000001%5D%2C%20%5B37.897403999999995%2C%20-122.071281%5D%2C%20%5B34.516258%2C%20-82.596008%5D%2C%20%5B30.744803000000005%2C%20-86.621135%5D%2C%20%5B36.191998%2C%20-86.78119699999999%5D%2C%20%5B40.712975%2C%20-73.782661%5D%2C%20%5B30.216043%2C%20-81.513786%5D%2C%20%5B45.63138%2C%20-123.09773999999999%5D%2C%20%5B46.82407%2C%20-123.118141%5D%2C%20%5B34.660259%2C%20-86.483971%5D%2C%20%5B44.861596%2C%20-93.524324%5D%2C%20%5B30.695725%2C%20-81.806591%5D%2C%20%5B35.42086%2C%20-97.47697%5D%2C%20%5B32.848507%2C%20-117.17774299999999%5D%2C%20%5B28.193727000000003%2C%20-82.353477%5D%2C%20%5B34.61298%2C%20-83.193123%5D%2C%20%5B34.820091%2C%20-87.00071700000001%5D%2C%20%5B44.51059%2C%20-87.942001%5D%2C%20%5B41.574078%2C%20-87.5093%5D%2C%20%5B34.806808000000004%2C%20-82.222351%5D%2C%20%5B47.43915%2C%20-122.26921000000002%5D%2C%20%5B34.027981%2C%20-81.101669%5D%2C%20%5B29.641706%2C%20-95.44635799999999%5D%2C%20%5B41.80563%2C%20-72.61541700000001%5D%2C%20%5B39.829372%2C%20-75.220413%5D%2C%20%5B31.381765%2C%20-89.323738%5D%2C%20%5B42.992767%2C%20-85.664627%5D%2C%20%5B33.82627%2C%20-118.20558999999999%5D%2C%20%5B36.179326%2C%20-87.33362%5D%2C%20%5B32.681145%2C%20-96.853592%5D%2C%20%5B30.28758%2C%20-81.522102%5D%2C%20%5B37.3854%2C%20-122.06293000000001%5D%2C%20%5B35.478896999999996%2C%20-97.7425%5D%2C%20%5B33.65292%2C%20-84.396118%5D%2C%20%5B33.89542%2C%20-118.187851%5D%2C%20%5B35.273621%2C%20-80.966202%5D%2C%20%5B34.071938%2C%20-118.266922%5D%2C%20%5B43.177689%2C%20-83.71476700000001%5D%2C%20%5B34.244816%2C%20-118.42233300000001%5D%2C%20%5B39.201767%2C%20-77.26726500000001%5D%2C%20%5B33.298752%2C%20-111.86316699999999%5D%2C%20%5B33.862431%2C%20-117.878662%5D%2C%20%5B30.503040000000002%2C%20-90.778639%5D%2C%20%5B43.050302%2C%20-83.673774%5D%2C%20%5B35.24654%2C%20-80.91526800000001%5D%2C%20%5B38.793271000000004%2C%20-77.05017600000001%5D%2C%20%5B29.790699%2C%20-95.37281%5D%2C%20%5B34.066990000000004%2C%20-81.179863%5D%2C%20%5B33.38633%2C%20-111.74463999999999%5D%2C%20%5B32.402149%2C%20-93.831772%5D%2C%20%5B40.168163%2C%20-79.732674%5D%2C%20%5B37.709559999999996%2C%20-89.891724%5D%2C%20%5B30.260240999999997%2C%20-97.733597%5D%2C%20%5B41.56613%2C%20-87.35601%5D%2C%20%5B33.931020000000004%2C%20-118.36383400000001%5D%2C%20%5B42.13629%2C%20-87.7869%5D%2C%20%5B35.372840999999994%2C%20-80.78475999999999%5D%2C%20%5B33.506199%2C%20-81.920502%5D%2C%20%5B37.14435%2C%20-121.98468000000001%5D%2C%20%5B34.065178%2C%20-118.00005800000001%5D%2C%20%5B41.931453999999995%2C%20-87.939651%5D%2C%20%5B34.225059%2C%20-117.409632%5D%2C%20%5B40.769020000000005%2C%20-73.99233000000001%5D%2C%20%5B42.970585%2C%20-85.67896999999999%5D%2C%20%5B37.920879%2C%20-122.317947%5D%2C%20%5B37.555908%2C%20-77.45166800000001%5D%2C%20%5B37.606564%2C%20-77.52298%5D%2C%20%5B36.10125%2C%20-95.88649000000001%5D%2C%20%5B30.028753000000002%2C%20-95.429085%5D%2C%20%5B34.14517%2C%20-118.2178%5D%2C%20%5B39.98594%2C%20-75.09303%5D%2C%20%5B36.633389%2C%20-121.66883899999999%5D%2C%20%5B32.909061%2C%20-96.73221600000001%5D%2C%20%5B34.520598%2C%20-82.00568%5D%2C%20%5B30.355963%2C%20-81.66845699999999%5D%2C%20%5B38.538242%2C%20-121.473648%5D%2C%20%5B41.765285%2C%20-72.626373%5D%2C%20%5B43.079396%2C%20-70.788625%5D%2C%20%5B44.632348%2C%20-121.12957%5D%2C%20%5B34.992352000000004%2C%20-117.541573%5D%2C%20%5B34.023746%2C%20-117.33576200000002%5D%2C%20%5B34.047885%2C%20-118.266682%5D%2C%20%5B47.82994%2C%20-122.26525%5D%2C%20%5B32.837223%2C%20-97.04924%5D%2C%20%5B40.05238%2C%20-76.3949%5D%2C%20%5B39.450016%2C%20-104.875542%5D%2C%20%5B33.8763%2C%20-118.125183%5D%2C%20%5B40.253734%2C%20-75.30419499999999%5D%2C%20%5B33.654682%2C%20-111.90788300000001%5D%2C%20%5B32.601875%2C%20-97.150801%5D%2C%20%5B33.417915%2C%20-81.890991%5D%2C%20%5B36.81406%2C%20-76.348854%5D%2C%20%5B29.504465000000003%2C%20-98.584076%5D%2C%20%5B41.000366%2C%20-74.100952%5D%2C%20%5B33.668552000000005%2C%20-112.08296200000001%5D%2C%20%5B40.153706%2C%20-75.219872%5D%2C%20%5B36.141048%2C%20-86.71929899999999%5D%2C%20%5B33.680616%2C%20-84.061943%5D%2C%20%5B35.202529999999996%2C%20-80.730774%5D%2C%20%5B37.871527%2C%20-122.507126%5D%2C%20%5B34.799872%2C%20-82.424444%5D%2C%20%5B33.46212%2C%20-112.09995%5D%2C%20%5B40.109619%2C%20-77.03535500000001%5D%2C%20%5B35.211571%2C%20-80.690605%5D%2C%20%5B37.738516%2C%20-121.670181%5D%2C%20%5B34.052699%2C%20-118.226207%5D%2C%20%5B33.436844%2C%20-112.160385%5D%2C%20%5B47.49268%2C%20-122.191391%5D%2C%20%5B42.3366%2C%20-88.03181%5D%2C%20%5B32.949944%2C%20-96.618256%5D%2C%20%5B39.214395%2C%20-84.6849%5D%2C%20%5B40.427582%2C%20-79.976372%5D%2C%20%5B33.524840999999995%2C%20-80.887527%5D%2C%20%5B34.968204%2C%20-82.006088%5D%2C%20%5B41.82958%2C%20-71.41801%5D%2C%20%5B38.537131%2C%20-121.47369499999999%5D%2C%20%5B42.806759%2C%20-83.726311%5D%2C%20%5B37.459702%2C%20-122.140198%5D%2C%20%5B42.33181%2C%20-83.14236%5D%2C%20%5B37.759526%2C%20-121.817026%5D%2C%20%5B35.151627000000005%2C%20-80.841667%5D%2C%20%5B39.895508%2C%20-83.85368299999999%5D%2C%20%5B32.499977%2C%20-93.752075%5D%2C%20%5B25.92184%2C%20-80.21123%5D%2C%20%5B35.442669%2C%20-80.869484%5D%2C%20%5B37.408367%2C%20-122.06873700000001%5D%2C%20%5B25.499516%2C%20-80.420505%5D%2C%20%5B34.199042999999996%2C%20-118.33783000000001%5D%2C%20%5B29.517241%2C%20-98.464058%5D%2C%20%5B33.868759999999995%2C%20-118.19536000000001%5D%2C%20%5B37.48422%2C%20-122.18363000000001%5D%2C%20%5B42.54899%2C%20-84.82075999999999%5D%2C%20%5B26.999838%2C%20-82.123207%5D%2C%20%5B33.956158%2C%20-118.24738300000001%5D%2C%20%5B39.286903%2C%20-77.199005%5D%2C%20%5B33.364588%2C%20-117.543264%5D%2C%20%5B33.126422999999996%2C%20-117.104523%5D%2C%20%5B34.025828000000004%2C%20-118.24927199999999%5D%2C%20%5B43.054623%2C%20-83.67394300000001%5D%2C%20%5B32.759972%2C%20-117.187386%5D%2C%20%5B43.179893%2C%20-77.543037%5D%2C%20%5B28.760240999999997%2C%20-81.270035%5D%2C%20%5B33.811%2C%20-84.37305%5D%2C%20%5B39.971709999999995%2C%20-75.12339%5D%2C%20%5B39.531052%2C%20-119.78557099999999%5D%2C%20%5B38.62968%2C%20-90.33391999999999%5D%2C%20%5B41.90957%2C%20-88.03811%5D%2C%20%5B37.401661%2C%20-77.594543%5D%2C%20%5B40.701177%2C%20-111.871425%5D%2C%20%5B37.719157%2C%20-122.448254%5D%2C%20%5B45.14938%2C%20-94.686188%5D%2C%20%5B34.072179999999996%2C%20-117.92173000000001%5D%2C%20%5B39.056540000000005%2C%20-84.54283000000001%5D%2C%20%5B45.521511%2C%20-122.66071299999999%5D%2C%20%5B38.680619%2C%20-77.231408%5D%2C%20%5B25.918732000000002%2C%20-80.210398%5D%2C%20%5B35.77575%2C%20-78.64361%5D%2C%20%5B38.975347%2C%20-77.404762%5D%2C%20%5B42.220123%2C%20-83.440025%5D%2C%20%5B38.817474%2C%20-77.63932%5D%2C%20%5B34.310022%2C%20-117.47252399999999%5D%2C%20%5B33.856121%2C%20-78.75814100000001%5D%2C%20%5B32.967865%2C%20-96.720238%5D%2C%20%5B30.443846%2C%20-97.742393%5D%2C%20%5B38.481682%2C%20-121.397522%5D%2C%20%5B35.248032%2C%20-120.680298%5D%2C%20%5B35.580055%2C%20-97.531387%5D%2C%20%5B39.09519%2C%20-121.563689%5D%2C%20%5B34.235589000000004%2C%20-118.47295700000001%5D%2C%20%5B43.10603%2C%20-77.615822%5D%2C%20%5B45.596222%2C%20-122.68431899999999%5D%2C%20%5B32.766842%2C%20-97.063187%5D%2C%20%5B36.895779%2C%20-119.71569099999999%5D%2C%20%5B28.687640000000002%2C%20-81.38861%5D%2C%20%5B33.869529%2C%20-117.67176%5D%2C%20%5B32.66137%2C%20-97.25814%5D%2C%20%5B44.9711%2C%20-93.46972%5D%2C%20%5B34.544140999999996%2C%20-118.10843100000001%5D%2C%20%5B29.775593%2C%20-95.642387%5D%2C%20%5B38.224940000000004%2C%20-85.58313000000001%5D%2C%20%5B33.971783%2C%20-118.378102%5D%2C%20%5B29.609932%2C%20-95.17002%5D%2C%20%5B40.23516%2C%20-75.23999%5D%2C%20%5B34.047290999999994%2C%20-81.102791%5D%2C%20%5B34.013615%2C%20-112.146202%5D%2C%20%5B30.443813000000002%2C%20-91.16905200000001%5D%2C%20%5B44.912346%2C%20-93.064346%5D%2C%20%5B33.946999%2C%20-117.299232%5D%2C%20%5B33.712508%2C%20-84.22483100000001%5D%2C%20%5B39.738461%2C%20-105.032257%5D%2C%20%5B29.392971000000003%2C%20-98.64936800000001%5D%2C%20%5B37.854628999999996%2C%20-122.217304%5D%2C%20%5B42.350113%2C%20-83.099602%5D%2C%20%5B45.050995%2C%20-93.28523299999999%5D%2C%20%5B42.81692%2C%20-71.49679%5D%2C%20%5B43.680620000000005%2C%20-94.52972%5D%2C%20%5B41.375469%2C%20-73.800201%5D%2C%20%5B43.168362%2C%20-83.524628%5D%2C%20%5B43.40527%2C%20-70.98944%5D%2C%20%5B40.711143%2C%20-74.197266%5D%2C%20%5B29.777590000000004%2C%20-95.34184300000001%5D%2C%20%5B34.105408000000004%2C%20-117.48886100000001%5D%2C%20%5B33.631584000000004%2C%20-117.35412600000001%5D%2C%20%5B26.351255%2C%20-80.11853%5D%2C%20%5B36.306568%2C%20-82.367729%5D%2C%20%5B32.309562%2C%20-95.278949%5D%2C%20%5B34.029968%2C%20-118.192333%5D%2C%20%5B30.566689%2C%20-91.176613%5D%2C%20%5B38.90483%2C%20-77.01593000000001%5D%2C%20%5B32.979641%2C%20-117.25286899999999%5D%2C%20%5B35.898762%2C%20-78.55839499999999%5D%2C%20%5B30.260958000000002%2C%20-97.758202%5D%2C%20%5B36.104416%2C%20-95.899124%5D%2C%20%5B38.787033%2C%20-77.176865%5D%2C%20%5B45.104332%2C%20-93.459938%5D%2C%20%5B29.719685%2C%20-95.538956%5D%2C%20%5B38.395761%2C%20-120.64251100000001%5D%2C%20%5B34.640419%2C%20-82.437424%5D%2C%20%5B41.772507%2C%20-88.031754%5D%2C%20%5B32.804798%2C%20-117.150879%5D%2C%20%5B39.03484%2C%20-76.907394%5D%2C%20%5B45.498059999999995%2C%20-122.51064%5D%2C%20%5B29.452097%2C%20-98.551239%5D%2C%20%5B41.800594%2C%20-71.403076%5D%2C%20%5B28.575490999999996%2C%20-81.28627%5D%2C%20%5B39.766911%2C%20-105.14256999999999%5D%2C%20%5B34.133793%2C%20-117.959801%5D%2C%20%5B40.713512%2C%20-74.14080799999999%5D%2C%20%5B34.365707%2C%20-118.920387%5D%2C%20%5B38.631355%2C%20-75.763737%5D%2C%20%5B27.937837%2C%20-82.20299%5D%2C%20%5B35.174751%2C%20-89.779358%5D%2C%20%5B39.736698%2C%20-84.204895%5D%2C%20%5B37.044167%2C%20-121.578056%5D%2C%20%5B45.007487%2C%20-123.38274399999999%5D%2C%20%5B44.926907%2C%20-93.223701%5D%2C%20%5B30.442533%2C%20-91.007462%5D%2C%20%5B38.633598%2C%20-121.078682%5D%2C%20%5B39.973328%2C%20-83.081062%5D%2C%20%5B41.537056%2C%20-72.762512%5D%2C%20%5B34.096596000000005%2C%20-118.47694399999999%5D%2C%20%5B28.568396999999997%2C%20-81.284258%5D%2C%20%5B39.829151%2C%20-84.920776%5D%2C%20%5B29.710825%2C%20-95.493279%5D%2C%20%5B35.719051%2C%20-78.638481%5D%2C%20%5B40.86097%2C%20-73.828407%5D%2C%20%5B42.501537%2C%20-71.127464%5D%2C%20%5B33.785599%2C%20-117.83119199999999%5D%2C%20%5B43.049198%2C%20-77.657143%5D%2C%20%5B37.509879999999995%2C%20-122.3436%5D%2C%20%5B35.076840000000004%2C%20-85.2006%5D%2C%20%5B32.733734000000005%2C%20-96.713127%5D%2C%20%5B38.884285%2C%20-77.221214%5D%2C%20%5B32.804359999999996%2C%20-96.9216%5D%2C%20%5B33.781532%2C%20-84.390869%5D%2C%20%5B38.265381%2C%20-122.46196699999999%5D%2C%20%5B34.223704999999995%2C%20-79.121483%5D%2C%20%5B40.574003000000005%2C%20-111.89998999999999%5D%2C%20%5B34.931732000000004%2C%20-82.88472%5D%2C%20%5B34.228429999999996%2C%20-117.288182%5D%2C%20%5B36.133337%2C%20-118.774351%5D%2C%20%5B34.362159999999996%2C%20-117.43326599999999%5D%2C%20%5B32.675315999999995%2C%20-97.166664%5D%2C%20%5B42.071018%2C%20-71.01821899999999%5D%2C%20%5B41.42008%2C%20-73.15106999999999%5D%2C%20%5B32.794125%2C%20-96.814728%5D%2C%20%5B34.632496%2C%20-82.599602%5D%2C%20%5B33.382118%2C%20-117.574844%5D%2C%20%5B33.136909%2C%20-117.16883899999999%5D%2C%20%5B25.929263%2C%20-80.2869%5D%2C%20%5B30.106634000000003%2C%20-95.435776%5D%2C%20%5B42.887341%2C%20-83.599113%5D%2C%20%5B36.990737%2C%20-121.95728999999999%5D%2C%20%5B32.346618%2C%20-95.315124%5D%2C%20%5B32.74207%2C%20-96.81918%5D%2C%20%5B35.938305%2C%20-86.903183%5D%2C%20%5B27.71595%2C%20-82.434105%5D%2C%20%5B39.023990999999995%2C%20-122.680168%5D%2C%20%5B38.95428%2C%20-77.07193000000001%5D%2C%20%5B41.859085%2C%20-88.087067%5D%2C%20%5B29.902199%2C%20-95.372536%5D%2C%20%5B29.717018%2C%20-95.571465%5D%2C%20%5B45.6182%2C%20-122.67533%5D%2C%20%5B32.317863%2C%20-111.04729499999999%5D%2C%20%5B29.535982%2C%20-98.393982%5D%2C%20%5B34.689395000000005%2C%20-92.312139%5D%2C%20%5B34.63945%2C%20-111.81449099999999%5D%2C%20%5B37.700714000000005%2C%20-121.773895%5D%2C%20%5B37.317190000000004%2C%20-121.94035%5D%2C%20%5B29.741589%2C%20-95.321533%5D%2C%20%5B41.22258%2C%20-96.04978%5D%2C%20%5B40.485966%2C%20-79.91179699999999%5D%2C%20%5B35.105152000000004%2C%20-80.80794499999999%5D%2C%20%5B42.56208%2C%20-71.291%5D%2C%20%5B34.01741%2C%20-117.34128999999999%5D%2C%20%5B33.148685%2C%20-117.334259%5D%2C%20%5B32.1866%2C%20-110.9683%5D%2C%20%5B37.519981%2C%20-77.40361%5D%2C%20%5B40.730354%2C%20-74.10942800000001%5D%2C%20%5B29.707372999999997%2C%20-95.482567%5D%2C%20%5B26.301140000000004%2C%20-80.178108%5D%2C%20%5B40.778023%2C%20-74.044762%5D%2C%20%5B34.030041%2C%20-117.707321%5D%2C%20%5B34.401058%2C%20-80.794128%5D%2C%20%5B30.248210999999998%2C%20-97.77035500000001%5D%2C%20%5B42.953781%2C%20-85.6493%5D%2C%20%5B33.466324%2C%20-112.110077%5D%2C%20%5B37.198009000000006%2C%20-121.99304199999999%5D%2C%20%5B40.610199%2C%20-111.90563999999999%5D%2C%20%5B33.922523%2C%20-84.505211%5D%2C%20%5B43.135929%2C%20-91.56926700000001%5D%2C%20%5B40.103802%2C%20-75.088623%5D%2C%20%5B34.274409999999996%2C%20-118.54048999999999%5D%2C%20%5B44.73842%2C%20-92.928493%5D%2C%20%5B36.00881%2C%20-83.9698%5D%2C%20%5B39.80883%2C%20-84.13046999999999%5D%2C%20%5B33.87622%2C%20-118.06696000000001%5D%2C%20%5B36.152458%2C%20-86.85759%5D%2C%20%5B27.916664%2C%20-82.77493299999999%5D%2C%20%5B32.781727000000004%2C%20-96.843826%5D%2C%20%5B38.189987%2C%20-85.72476999999999%5D%2C%20%5B44.17142%2C%20-93.89785%5D%2C%20%5B33.929077%2C%20-118.23346000000001%5D%2C%20%5B32.53783%2C%20-93.63812%5D%2C%20%5B45.37475%2C%20-122.2036%5D%2C%20%5B41.422668%2C%20-81.84548199999999%5D%2C%20%5B44.573223%2C%20-93.29856099999999%5D%2C%20%5B41.991901%2C%20-88.101837%5D%2C%20%5B26.714671999999997%2C%20-81.811287%5D%2C%20%5B29.747071000000002%2C%20-95.55787%5D%2C%20%5B40.008965%2C%20-75.290413%5D%2C%20%5B42.942820000000005%2C%20-85.71215%5D%2C%20%5B28.323889%2C%20-81.34639200000001%5D%2C%20%5B38.207497%2C%20-85.750984%5D%2C%20%5B43.11792%2C%20-75.292328%5D%2C%20%5B44.85947%2C%20-93.36245699999999%5D%2C%20%5B34.152809999999995%2C%20-118.33556999999999%5D%2C%20%5B36.287563%2C%20-86.84315500000001%5D%2C%20%5B44.156045%2C%20-121.341904%5D%2C%20%5B36.20661%2C%20-86.77789%5D%2C%20%5B33.87727%2C%20-118.18609%5D%2C%20%5B32.633359999999996%2C%20-117.04626%5D%2C%20%5B42.192177%2C%20-86.167625%5D%2C%20%5B28.54805%2C%20-81.259163%5D%2C%20%5B32.995948999999996%2C%20-117.25676000000001%5D%2C%20%5B34.15565%2C%20-118.44531%5D%2C%20%5B33.971602000000004%2C%20-118.122849%5D%2C%20%5B30.459909999999997%2C%20-84.28101%5D%2C%20%5B34.082783%2C%20-118.227272%5D%2C%20%5B35.865887%2C%20-78.84021800000001%5D%2C%20%5B41.407391%2C%20-81.64676700000001%5D%2C%20%5B29.78408%2C%20-95.55943%5D%2C%20%5B39.573935999999996%2C%20-119.80856299999999%5D%2C%20%5B34.056973%2C%20-80.98996%5D%2C%20%5B38.592333%2C%20-92.174286%5D%2C%20%5B39.94836%2C%20-76.711922%5D%2C%20%5B33.459511%2C%20-112.30610700000001%5D%2C%20%5B32.723878000000006%2C%20-97.225306%5D%2C%20%5B47.08279%2C%20-122.670143%5D%2C%20%5B30.230349%2C%20-97.895685%5D%2C%20%5B41.490029%2C%20-75.530866%5D%2C%20%5B30.40806%2C%20-91.10192099999999%5D%2C%20%5B40.012073%2C%20-75.05972299999999%5D%2C%20%5B36.073631%2C%20-79.792519%5D%2C%20%5B41.262913%2C%20-96.17938199999999%5D%2C%20%5B34.443733%2C%20-118.48485600000001%5D%2C%20%5B29.785190999999998%2C%20-95.751869%5D%2C%20%5B25.686276%2C%20-80.38471700000001%5D%2C%20%5B37.354652%2C%20-77.40451800000001%5D%2C%20%5B29.784540000000003%2C%20-95.60454%5D%2C%20%5B41.248611%2C%20-73.080788%5D%2C%20%5B32.851166%2C%20-96.815361%5D%2C%20%5B32.925289%2C%20-96.803551%5D%2C%20%5B28.036471999999996%2C%20-82.040031%5D%2C%20%5B32.759665999999996%2C%20-97.02937299999999%5D%2C%20%5B34.029755%2C%20-118.036355%5D%2C%20%5B41.2262%2C%20-95.946968%5D%2C%20%5B32.88792%2C%20-96.70506%5D%2C%20%5B34.211674%2C%20-118.228004%5D%2C%20%5B44.95185%2C%20-93.14175%5D%2C%20%5B37.775158000000005%2C%20-122.419266%5D%2C%20%5B40.66637%2C%20-73.79016999999999%5D%2C%20%5B37.315894%2C%20-121.975831%5D%2C%20%5B40.667114%2C%20-73.995918%5D%2C%20%5B33.859909%2C%20-118.29917900000001%5D%2C%20%5B35.183189%2C%20-80.703087%5D%2C%20%5B39.534019%2C%20-119.76561699999999%5D%2C%20%5B42.682536999999996%2C%20-73.786629%5D%2C%20%5B44.77885%2C%20-93.35309000000001%5D%2C%20%5B35.406240000000004%2C%20-97.52128%5D%2C%20%5B35.375842%2C%20-118.949615%5D%2C%20%5B39.957401000000004%2C%20-76.747879%5D%2C%20%5B33.674043%2C%20-84.498828%5D%2C%20%5B32.680977%2C%20-117.086739%5D%2C%20%5B29.803846000000004%2C%20-95.282394%5D%2C%20%5B41.102257%2C%20-74.06938199999999%5D%2C%20%5B38.54266%2C%20-90.46933%5D%2C%20%5B33.892639%2C%20-118.285854%5D%2C%20%5B38.894642%2C%20-77.225075%5D%2C%20%5B38.846703000000005%2C%20-77.43220500000001%5D%2C%20%5B39.755359999999996%2C%20-84.253204%5D%2C%20%5B37.096169%2C%20-80.507149%5D%2C%20%5B33.804148%2C%20-118.207343%5D%2C%20%5B40.043907%2C%20-78.83564399999999%5D%2C%20%5B42.35168%2C%20-87.83037%5D%2C%20%5B38.00058%2C%20-122.282661%5D%2C%20%5B41.307289000000004%2C%20-72.92871099999999%5D%2C%20%5B41.28537%2C%20-73.0435%5D%2C%20%5B35.406181%2C%20-97.565552%5D%2C%20%5B41.767649%2C%20-72.656077%5D%2C%20%5B29.733145%2C%20-95.294083%5D%2C%20%5B33.938992%2C%20-81.459991%5D%2C%20%5B35.512589%2C%20-97.54370899999999%5D%2C%20%5B35.111259999999994%2C%20-80.91545%5D%2C%20%5B36.198345%2C%20-86.620216%5D%2C%20%5B33.414790999999994%2C%20-81.842308%5D%2C%20%5B41.46289%2C%20-81.69369%5D%2C%20%5B36.049381%2C%20-86.731239%5D%2C%20%5B29.738426%2C%20-95.265663%5D%2C%20%5B47.795017%2C%20-122.214256%5D%2C%20%5B40.85683%2C%20-74.01257%5D%2C%20%5B25.727007999999998%2C%20-80.351417%5D%2C%20%5B32.802547%2C%20-81.24011999999999%5D%2C%20%5B40.892368%2C%20-74.666862%5D%2C%20%5B42.119040999999996%2C%20-86.391052%5D%2C%20%5B41.510372%2C%20-124.029335%5D%2C%20%5B31.778236%2C%20-106.461487%5D%2C%20%5B39.174599%2C%20-119.740959%5D%2C%20%5B32.787109%2C%20-96.856491%5D%2C%20%5B33.835201%2C%20-118.287253%5D%2C%20%5B33.690125%2C%20-84.500153%5D%2C%20%5B34.030846000000004%2C%20-118.391144%5D%2C%20%5B27.4603%2C%20-82.55485%5D%2C%20%5B34.0215%2C%20-80.946251%5D%2C%20%5B45.36292%2C%20-122.33856999999999%5D%2C%20%5B25.926455999999998%2C%20-80.24453000000001%5D%2C%20%5B28.310361999999998%2C%20-81.566647%5D%2C%20%5B39.857939%2C%20-84.281945%5D%2C%20%5B43.010345%2C%20-83.67938199999999%5D%2C%20%5B34.19632%2C%20-79.655403%5D%2C%20%5B41.417664%2C%20-73.290764%5D%2C%20%5B31.785603000000002%2C%20-85.964302%5D%2C%20%5B47.463558%2C%20-122.28987099999999%5D%2C%20%5B32.492645%2C%20-93.73098%5D%2C%20%5B36.140598%2C%20-86.792397%5D%2C%20%5B35.094482%2C%20-106.604179%5D%2C%20%5B35.213398%2C%20-80.86346400000001%5D%2C%20%5B42.339439%2C%20-83.06644399999999%5D%2C%20%5B42.913246%2C%20-85.677734%5D%2C%20%5B35.780235%2C%20-78.633797%5D%2C%20%5B34.006187%2C%20-118.413628%5D%2C%20%5B33.873173%2C%20-118.266052%5D%2C%20%5B33.805561%2C%20-117.832004%5D%2C%20%5B45.03748%2C%20-93.04895%5D%2C%20%5B33.86938%2C%20-117.75046%5D%2C%20%5B29.848761%2C%20-95.33416700000001%5D%2C%20%5B36.06081%2C%20-95.873642%5D%2C%20%5B34.030586%2C%20-118.229973%5D%2C%20%5B34.065517%2C%20-117.5448%5D%2C%20%5B29.289403000000004%2C%20-82.528778%5D%2C%20%5B40.76505%2C%20-111.99226000000002%5D%2C%20%5B34.185559999999995%2C%20-118.31755%5D%2C%20%5B37.30369%2C%20-120.50283400000001%5D%2C%20%5B37.066596999999994%2C%20-79.888116%5D%2C%20%5B36.165386%2C%20-86.763954%5D%2C%20%5B38.1847%2C%20-85.69986999999999%5D%2C%20%5B35.394444%2C%20-118.96722199999999%5D%2C%20%5B39.988620000000004%2C%20-76.17989%5D%2C%20%5B39.0988%2C%20-94.60964%5D%2C%20%5B32.395317%2C%20-110.99573500000001%5D%2C%20%5B32.31031%2C%20-80.980499%5D%2C%20%5B37.76083%2C%20-122.39235%5D%2C%20%5B42.475086%2C%20-83.18956800000001%5D%2C%20%5B32.711811%2C%20-96.753067%5D%2C%20%5B28.251745%2C%20-82.44963800000001%5D%2C%20%5B33.880565999999995%2C%20-81.036987%5D%2C%20%5B28.82585%2C%20-81.32866%5D%2C%20%5B33.585564%2C%20-84.378403%5D%2C%20%5B41.601364000000004%2C%20-87.852837%5D%2C%20%5B32.888531%2C%20-86.624321%5D%2C%20%5B41.535472999999996%2C%20-73.898933%5D%2C%20%5B30.443501%2C%20-91.18135799999999%5D%2C%20%5B27.90082%2C%20-82.34234000000001%5D%2C%20%5B35.18945%2C%20-85.48606%5D%2C%20%5B39.745841%2C%20-105.39761000000001%5D%2C%20%5B35.609051%2C%20-97.531708%5D%2C%20%5B35.1645%2C%20-119.11379%5D%2C%20%5B45.533572%2C%20-122.68715800000001%5D%2C%20%5B38.879488%2C%20-77.032495%5D%2C%20%5B33.462795%2C%20-112.166458%5D%2C%20%5B40.68801%2C%20-73.72291%5D%2C%20%5B30.041964%2C%20-95.17801700000001%5D%2C%20%5B42.8265%2C%20-86.098106%5D%2C%20%5B34.032740000000004%2C%20-118.22228%5D%2C%20%5B42.312794%2C%20-71.38501%5D%2C%20%5B25.984698%2C%20-80.17260999999999%5D%2C%20%5B39.782028000000004%2C%20-86.009399%5D%2C%20%5B25.806911%2C%20-80.31311600000001%5D%2C%20%5B40.708508%2C%20-111.90397%5D%2C%20%5B40.206974%2C%20-76.875435%5D%2C%20%5B40.805153000000004%2C%20-74.076874%5D%2C%20%5B38.70564%2C%20-77.22393000000001%5D%2C%20%5B40.585411%2C%20-73.93047299999999%5D%2C%20%5B38.486923%2C%20-78.807373%5D%2C%20%5B38.023104%2C%20-121.928299%5D%2C%20%5B34.155120000000004%2C%20-118.27028999999999%5D%2C%20%5B40.604809%2C%20-89.538071%5D%2C%20%5B36.23388%2C%20-81.26428%5D%2C%20%5B35.086838%2C%20-90.073166%5D%2C%20%5B30.381014%2C%20-87.30839499999999%5D%2C%20%5B34.144631%2C%20-117.25240600000001%5D%2C%20%5B33.897553%2C%20-117.47853300000001%5D%2C%20%5B34.151340000000005%2C%20-80.91169000000001%5D%2C%20%5B34.03089%2C%20-118.19426000000001%5D%2C%20%5B37.647888%2C%20-77.59365799999999%5D%2C%20%5B33.280243%2C%20-86.800102%5D%2C%20%5B30.185093%2C%20-81.558167%5D%2C%20%5B30.261206%2C%20-97.73653399999999%5D%2C%20%5B34.049931%2C%20-80.495361%5D%2C%20%5B36.105183000000004%2C%20-86.717209%5D%2C%20%5B39.018684%2C%20-77.145448%5D%2C%20%5B25.774243%2C%20-80.198927%5D%2C%20%5B29.669062%2C%20-95.262276%5D%2C%20%5B34.553181%2C%20-82.005257%5D%2C%20%5B39.438235999999996%2C%20-76.344627%5D%2C%20%5B33.965931%2C%20-80.34030200000001%5D%2C%20%5B45.38563%2C%20-122.57885%5D%2C%20%5B28.093578000000004%2C%20-82.739586%5D%2C%20%5B42.749226%2C%20-73.712662%5D%2C%20%5B43.613667%2C%20-71.642746%5D%2C%20%5B32.716393%2C%20-117.11784399999999%5D%2C%20%5B34.48938%2C%20-83.022385%5D%2C%20%5B40.064896000000005%2C%20-75.32122%5D%2C%20%5B25.68429%2C%20-80.35422%5D%2C%20%5B32.880527%2C%20-96.856201%5D%2C%20%5B34.615749%2C%20-117.171799%5D%2C%20%5B36.004436%2C%20-115.180653%5D%2C%20%5B40.012501%2C%20-76.613609%5D%2C%20%5B41.208009999999994%2C%20-73.094583%5D%2C%20%5B34.063894%2C%20-117.815421%5D%2C%20%5B30.438108000000003%2C%20-91.024231%5D%2C%20%5B33.768978000000004%2C%20-84.390587%5D%2C%20%5B34.531884999999996%2C%20-117.31408200000001%5D%2C%20%5B29.78442%2C%20-95.513664%5D%2C%20%5B25.871810999999997%2C%20-80.208702%5D%2C%20%5B29.995786%2C%20-90.113988%5D%2C%20%5B34.070259%2C%20-117.86423500000001%5D%2C%20%5B37.766461%2C%20-122.40526000000001%5D%2C%20%5B35.39542%2C%20-82.50535%5D%2C%20%5B37.063625%2C%20-81.747047%5D%2C%20%5B33.936291%2C%20-98.518959%5D%2C%20%5B32.688004%2C%20-117.15490700000001%5D%2C%20%5B37.764022%2C%20-122.216843%5D%2C%20%5B38.193034999999995%2C%20-78.996811%5D%2C%20%5B44.833889%2C%20-93.08649399999999%5D%2C%20%5B28.151831%2C%20-81.85659%5D%2C%20%5B38.347881%2C%20-81.628291%5D%2C%20%5B43.118958%2C%20-83.76329%5D%2C%20%5B33.014462%2C%20-80.138184%5D%2C%20%5B46.660061999999996%2C%20-117.010585%5D%2C%20%5B37.844582%2C%20-122.297729%5D%2C%20%5B40.780975%2C%20-73.41771700000001%5D%2C%20%5B42.115131%2C%20-70.866089%5D%2C%20%5B43.006954%2C%20-83.685822%5D%2C%20%5B30.648939000000002%2C%20-91.10524699999999%5D%2C%20%5B39.041396999999996%2C%20-94.78894%5D%2C%20%5B34.101669%2C%20-118.31799299999999%5D%2C%20%5B32.85113%2C%20-96.56788%5D%2C%20%5B33.483897999999996%2C%20-82.19928%5D%2C%20%5B33.6872%2C%20-117.87895%5D%2C%20%5B39.492081%2C%20-76.39409599999999%5D%2C%20%5B34.44638%2C%20-118.6109%5D%2C%20%5B32.761070000000004%2C%20-117.16301999999999%5D%2C%20%5B33.84861%2C%20-118.35385%5D%2C%20%5B41.122223%2C%20-73.331772%5D%2C%20%5B34.113094%2C%20-80.951714%5D%2C%20%5B33.91126%2C%20-84.4266%5D%2C%20%5B39.837357%2C%20-84.54023000000001%5D%2C%20%5B33.960685%2C%20-118.28053500000001%5D%2C%20%5B33.914021000000005%2C%20-118.10469099999999%5D%2C%20%5B44.893724%2C%20-93.182108%5D%2C%20%5B36.688703000000004%2C%20-121.655699%5D%2C%20%5B38.743946%2C%20-90.392433%5D%2C%20%5B42.95557%2C%20-85.644432%5D%2C%20%5B37.428416999999996%2C%20-122.10138700000002%5D%2C%20%5B34.442623%2C%20-79.372833%5D%2C%20%5B30.407705%2C%20-81.65753199999999%5D%2C%20%5B25.871225%2C%20-80.254125%5D%2C%20%5B38.498909000000005%2C%20-122.649048%5D%2C%20%5B35.146828%2C%20-80.825447%5D%2C%20%5B35.820021000000004%2C%20-78.711135%5D%2C%20%5B34.018826000000004%2C%20-118.17795600000001%5D%2C%20%5B33.703472%2C%20-84.173974%5D%2C%20%5B31.797696999999996%2C%20-106.22961399999998%5D%2C%20%5B44.0971%2C%20-123.12823999999999%5D%2C%20%5B35.328159%2C%20-80.727051%5D%2C%20%5B45.094691999999995%2C%20-93.29013%5D%2C%20%5B34.310404999999996%2C%20-83.638082%5D%2C%20%5B33.480472999999996%2C%20-80.898186%5D%2C%20%5B38.967659000000005%2C%20-119.936371%5D%2C%20%5B40.21151%2C%20-75.13941%5D%2C%20%5B44.809259999999995%2C%20-93.29133%5D%2C%20%5B32.658226%2C%20-117.074547%5D%2C%20%5B33.562746000000004%2C%20-117.672794%5D%2C%20%5B32.744648%2C%20-97.32997900000001%5D%2C%20%5B35.414623%2C%20-97.318161%5D%2C%20%5B40.075726%2C%20-83.135971%5D%2C%20%5B25.812397%2C%20-80.24029499999999%5D%2C%20%5B41.93803%2C%20-88.150337%5D%2C%20%5B40.039066%2C%20-75.27934300000001%5D%2C%20%5B33.885856%2C%20-117.880677%5D%2C%20%5B34.184405%2C%20-118.17624199999999%5D%2C%20%5B36.721027%2C%20-119.862404%5D%2C%20%5B32.696121000000005%2C%20-96.742897%5D%2C%20%5B33.989197%2C%20-118.24115%5D%2C%20%5B39.797859%2C%20-84.263542%5D%2C%20%5B37.366951%2C%20-121.901169%5D%2C%20%5B32.92297%2C%20-96.718018%5D%2C%20%5B33.881718%2C%20-117.58106200000002%5D%2C%20%5B42.727852%2C%20-84.456544%5D%2C%20%5B30.476101%2C%20-91.08744%5D%2C%20%5B41.543715999999996%2C%20-96.12665600000001%5D%2C%20%5B38.649162%2C%20-121.29550800000001%5D%2C%20%5B34.095024%2C%20-80.856071%5D%2C%20%5B40.158428%2C%20-76.83609%5D%2C%20%5B38.700348999999996%2C%20-121.234752%5D%2C%20%5B25.90498%2C%20-80.32467%5D%2C%20%5B41.2995%2C%20-96.004677%5D%2C%20%5B32.955158000000004%2C%20-97.04467%5D%2C%20%5B30.484796000000003%2C%20-88.375107%5D%2C%20%5B41.633656%2C%20-90.98620600000001%5D%2C%20%5B32.924746999999996%2C%20-96.786232%5D%2C%20%5B38.551829999999995%2C%20-89.807129%5D%2C%20%5B30.395246999999998%2C%20-91.109673%5D%2C%20%5B37.903862%2C%20-122.31291200000001%5D%2C%20%5B30.282709999999998%2C%20-97.727214%5D%2C%20%5B40.193611%2C%20-75.48951%5D%2C%20%5B34.138082%2C%20-118.72776200000001%5D%2C%20%5B38.565992%2C%20-121.336001%5D%2C%20%5B39.33075%2C%20-120.247002%5D%2C%20%5B39.241135%2C%20-76.584625%5D%2C%20%5B37.451283000000004%2C%20-121.892601%5D%2C%20%5B35.911564%2C%20-78.980598%5D%2C%20%5B33.84779%2C%20-117.85568%5D%2C%20%5B35.108728%2C%20-118.31995900000001%5D%2C%20%5B39.899204%2C%20-75.175499%5D%2C%20%5B38.937881%2C%20-76.966881%5D%2C%20%5B38.995773%2C%20-77.414673%5D%2C%20%5B28.522878000000002%2C%20-81.31029699999999%5D%2C%20%5B44.85221%2C%20-122.86561%5D%2C%20%5B40.281017%2C%20-83.067543%5D%2C%20%5B35.050406%2C%20-80.76936500000001%5D%2C%20%5B34.340115000000004%2C%20-118.51946299999999%5D%2C%20%5B41.234623%2C%20-74.034065%5D%2C%20%5B32.272156%2C%20-110.99605600000001%5D%2C%20%5B41.23294%2C%20-95.95464%5D%2C%20%5B35.09962%2C%20-80.77858%5D%2C%20%5B26.546622999999997%2C%20-81.843132%5D%2C%20%5B38.65214%2C%20-90.55566999999999%5D%2C%20%5B30.4748%2C%20-90.64676%5D%2C%20%5B33.462975%2C%20-112.168617%5D%2C%20%5B40.976921000000004%2C%20-73.698959%5D%2C%20%5B33.776168%2C%20-117.843948%5D%2C%20%5B27.97135%2C%20-82.34431500000001%5D%2C%20%5B43.601315%2C%20-73.72956500000001%5D%2C%20%5B38.700089%2C%20-120.833008%5D%2C%20%5B41.725181%2C%20-84.965981%5D%2C%20%5B29.432128999999996%2C%20-98.499886%5D%2C%20%5B34.428108%2C%20-119.73555%5D%2C%20%5B36.097939000000004%2C%20-95.859589%5D%2C%20%5B43.170165999999995%2C%20-77.61174799999999%5D%2C%20%5B34.297579999999996%2C%20-118.24345%5D%2C%20%5B47.468208000000004%2C%20-122.136559%5D%2C%20%5B32.846081%2C%20-96.773125%5D%2C%20%5B36.14369%2C%20-86.68871999999999%5D%2C%20%5B45.503277000000004%2C%20-94.309504%5D%2C%20%5B28.260971%2C%20-81.613251%5D%2C%20%5B40.241074%2C%20-75.528503%5D%2C%20%5B40.505795%2C%20-122.257527%5D%2C%20%5B44.861633000000005%2C%20-93.27828199999999%5D%2C%20%5B41.593224%2C%20-93.65939300000001%5D%2C%20%5B35.492249%2C%20-97.521057%5D%2C%20%5B34.858795%2C%20-82.2603%5D%2C%20%5B26.093339999999998%2C%20-80.16806%5D%2C%20%5B37.343796000000005%2C%20-121.84558899999999%5D%2C%20%5B38.18156%2C%20-120.66820700000001%5D%2C%20%5B26.690610999999997%2C%20-80.075035%5D%2C%20%5B28.6059%2C%20-81.386383%5D%2C%20%5B38.955197%2C%20-76.980836%5D%2C%20%5B36.758185%2C%20-76.299566%5D%2C%20%5B33.194256%2C%20-117.25778999999999%5D%2C%20%5B25.728245%2C%20-80.383675%5D%2C%20%5B44.913043%2C%20-74.21235300000001%5D%2C%20%5B29.499266%2C%20-98.366844%5D%2C%20%5B35.231312%2C%20-80.72976700000001%5D%2C%20%5B45.044796000000005%2C%20-93.1063%5D%2C%20%5B28.660401%2C%20-80.86719599999999%5D%2C%20%5B36.610622%2C%20-121.85723899999999%5D%2C%20%5B40.03252%2C%20-82.903469%5D%2C%20%5B38.692371%2C%20-121.83023100000001%5D%2C%20%5B41.83242%2C%20-87.94880699999999%5D%2C%20%5B34.165192%2C%20-118.474915%5D%2C%20%5B39.906673%2C%20-76.671646%5D%2C%20%5B42.944171999999995%2C%20-83.681404%5D%2C%20%5B33.61076%2C%20-112.13377%5D%2C%20%5B34.039414%2C%20-117.15355600000001%5D%2C%20%5B39.84901%2C%20-86.145798%5D%2C%20%5B33.935268%2C%20-118.015625%5D%2C%20%5B28.753722999999997%2C%20-82.060249%5D%2C%20%5B32.334076%2C%20-90.150826%5D%2C%20%5B42.863033%2C%20-83.739975%5D%2C%20%5B34.072967999999996%2C%20-117.77828999999998%5D%2C%20%5B26.81532%2C%20-81.937483%5D%2C%20%5B41.257988%2C%20-96.023888%5D%2C%20%5B30.167209999999997%2C%20-97.790939%5D%2C%20%5B38.574345%2C%20-121.40151200000001%5D%2C%20%5B34.032552%2C%20-118.219946%5D%2C%20%5B33.777029%2C%20-117.83088799999999%5D%2C%20%5B45.029736%2C%20-92.96186800000001%5D%2C%20%5B37.731358%2C%20-122.423927%5D%2C%20%5B40.743256%2C%20-73.776741%5D%2C%20%5B34.168777%2C%20-118.46817%5D%2C%20%5B44.205233%2C%20-121.225328%5D%2C%20%5B34.13637%2C%20-118.36072%5D%2C%20%5B29.757748%2C%20-95.374611%5D%2C%20%5B48.042545000000004%2C%20-122.18034399999999%5D%2C%20%5B30.39835%2C%20-91.155663%5D%2C%20%5B34.067425%2C%20-117.578224%5D%2C%20%5B27.260111%2C%20-80.874832%5D%2C%20%5B47.651768%2C%20-122.93243400000001%5D%2C%20%5B38.5506%2C%20-121.42273899999999%5D%2C%20%5B34.134102%2C%20-117.95713%5D%2C%20%5B27.872473%2C%20-82.762245%5D%2C%20%5B37.631914%2C%20-77.539794%5D%2C%20%5B26.432213%2C%20-81.77793100000001%5D%2C%20%5B35.794537%2C%20-78.582642%5D%2C%20%5B34.346405%2C%20-119.421826%5D%2C%20%5B41.63281%2C%20-81.21874%5D%2C%20%5B39.987514000000004%2C%20-76.66459%5D%2C%20%5B38.938755%2C%20-94.53179200000001%5D%2C%20%5B34.994411%2C%20-82.463364%5D%2C%20%5B40.64992%2C%20-73.68975%5D%2C%20%5B37.667557%2C%20-77.589111%5D%2C%20%5B41.019844%2C%20-73.625801%5D%2C%20%5B26.052843%2C%20-80.215011%5D%2C%20%5B41.540352%2C%20-72.793633%5D%2C%20%5B45.022822999999995%2C%20-93.089577%5D%2C%20%5B30.46681%2C%20-90.99603%5D%2C%20%5B35.03653%2C%20-89.95474%5D%2C%20%5B38.0335%2C%20-122.11671000000001%5D%2C%20%5B40.019605%2C%20-75.144097%5D%2C%20%5B34.268688%2C%20-86.075867%5D%2C%20%5B38.661013%2C%20-121.36435%5D%2C%20%5B39.15283%2C%20-84.53883%5D%2C%20%5B34.243944%2C%20-118.421319%5D%2C%20%5B34.072421999999996%2C%20-117.926685%5D%2C%20%5B39.075520000000004%2C%20-76.92101%5D%2C%20%5B48.23877%2C%20-122.240784%5D%2C%20%5B35.515888000000004%2C%20-78.55366500000001%5D%2C%20%5B30.462538000000002%2C%20-91.15454100000001%5D%2C%20%5B42.312149%2C%20-87.90460999999999%5D%2C%20%5B39.818560999999995%2C%20-84.291611%5D%2C%20%5B41.517941%2C%20-73.973724%5D%2C%20%5B47.234154%2C%20-122.42757399999999%5D%2C%20%5B38.97685%2C%20-77.44747%5D%2C%20%5B41.266903000000006%2C%20-95.96646899999999%5D%2C%20%5B41.219319%2C%20-122.27483799999999%5D%2C%20%5B40.269182%2C%20-74.001841%5D%2C%20%5B39.397926%2C%20-77.4244%5D%2C%20%5B39.895233000000005%2C%20-83.853157%5D%2C%20%5B34.087454%2C%20-117.65506599999999%5D%2C%20%5B36.813084%2C%20-76.281662%5D%2C%20%5B25.880661%2C%20-80.32330999999999%5D%2C%20%5B32.481144%2C%20-93.72470899999999%5D%2C%20%5B34.083832%2C%20-117.69306999999999%5D%2C%20%5B32.79163%2C%20-84.02288%5D%2C%20%5B34.107784%2C%20-118.18505900000001%5D%2C%20%5B27.8749%2C%20-82.725151%5D%2C%20%5B37.410472999999996%2C%20-122.199265%5D%2C%20%5B35.865898%2C%20-78.634819%5D%2C%20%5B33.889671%2C%20-117.879807%5D%2C%20%5B35.419703000000005%2C%20-119.01284799999999%5D%2C%20%5B38.852129999999995%2C%20-77.4007%5D%2C%20%5B28.0413%2C%20-82.738373%5D%2C%20%5B41.820479999999996%2C%20-88.203812%5D%2C%20%5B33.875389%2C%20-118.19304699999999%5D%2C%20%5B33.768570000000004%2C%20-117.920464%5D%2C%20%5B38.798185%2C%20-77.06951%5D%2C%20%5B36.882019%2C%20-76.431156%5D%2C%20%5B30.379490000000004%2C%20-97.738052%5D%2C%20%5B26.612734000000003%2C%20-81.803375%5D%2C%20%5B29.811737%2C%20-95.382097%5D%2C%20%5B44.432869000000004%2C%20-71.950902%5D%2C%20%5B40.864810999999996%2C%20-73.91935699999999%5D%2C%20%5B33.854095%2C%20-78.78331800000001%5D%2C%20%5B28.217226%2C%20-82.692614%5D%2C%20%5B39.048258000000004%2C%20-103.346464%5D%2C%20%5B29.414236%2C%20-98.504509%5D%2C%20%5B42.257751%2C%20-123.163036%5D%2C%20%5B30.44231%2C%20-85.058746%5D%2C%20%5B47.239227%2C%20-122.41055300000001%5D%2C%20%5B35.538136%2C%20-97.462975%5D%2C%20%5B32.665279999999996%2C%20-97.32525%5D%2C%20%5B34.22674%2C%20-118.38768999999999%5D%2C%20%5B42.37802%2C%20-83.21289%5D%2C%20%5B28.78673%2C%20-81.35013000000001%5D%2C%20%5B36.086901%2C%20-86.730223%5D%2C%20%5B41.222879999999996%2C%20-111.98098%5D%2C%20%5B25.874556%2C%20-80.323112%5D%2C%20%5B39.711529999999996%2C%20-104.94689%5D%2C%20%5B30.4452%2C%20-89.02718%5D%2C%20%5B40.288097%2C%20-111.725792%5D%2C%20%5B30.349348%2C%20-97.538589%5D%2C%20%5B36.825844000000004%2C%20-119.71419499999999%5D%2C%20%5B34.86227%2C%20-82.282944%5D%2C%20%5B34.79084%2C%20-82.376701%5D%2C%20%5B39.711372%2C%20-104.826752%5D%2C%20%5B32.789139%2C%20-96.76320600000001%5D%2C%20%5B27.932707%2C%20-82.73028000000001%5D%2C%20%5B40.67709%2C%20-75.109657%5D%2C%20%5B29.75181%2C%20-95.45576%5D%2C%20%5B30.216043%2C%20-81.513786%5D%2C%20%5B28.54454%2C%20-81.41651999999999%5D%2C%20%5B34.939632%2C%20-82.28054%5D%2C%20%5B37.986849%2C%20-122.31693100000001%5D%2C%20%5B39.816952%2C%20-75.192978%5D%2C%20%5B33.19025%2C%20-117.36243%5D%2C%20%5B40.866779%2C%20-74.04245%5D%2C%20%5B45.009471999999995%2C%20-93.090836%5D%2C%20%5B35.43084%2C%20-97.369331%5D%2C%20%5B33.805248%2C%20-118.14492%5D%2C%20%5B29.721739000000003%2C%20-95.32695%5D%2C%20%5B42.255486%2C%20-71.039642%5D%2C%20%5B41.031878999999996%2C%20-111.947746%5D%2C%20%5B35.52227%2C%20-97.58345%5D%2C%20%5B43.92947%2C%20-92.3809%5D%2C%20%5B37.5513%2C%20-120.957047%5D%2C%20%5B27.80302%2C%20-82.66237%5D%2C%20%5B42.502056%2C%20-71.11837%5D%2C%20%5B33.888973%2C%20-118.189003%5D%2C%20%5B40.062359%2C%20-76.353073%5D%2C%20%5B29.648822999999997%2C%20-95.57122%5D%2C%20%5B28.857591999999997%2C%20-82.423172%5D%2C%20%5B30.412561%2C%20-84.29409%5D%2C%20%5B42.977188%2C%20-85.625153%5D%2C%20%5B38.041481%2C%20-84.473122%5D%2C%20%5B37.353975%2C%20-121.83781699999999%5D%2C%20%5B43.638329999999996%2C%20-95.01554%5D%2C%20%5B39.957081%2C%20-75.148987%5D%2C%20%5B41.25666%2C%20-95.95787%5D%2C%20%5B30.504773999999998%2C%20-87.266973%5D%2C%20%5B44.99069%2C%20-93.20478%5D%2C%20%5B40.43148%2C%20-74.49047%5D%2C%20%5B47.54805%2C%20-122.32615700000001%5D%2C%20%5B37.511082%2C%20-77.770737%5D%2C%20%5B29.575259999999997%2C%20-95.38595%5D%2C%20%5B35.561211%2C%20-97.620689%5D%2C%20%5B25.897717999999998%2C%20-80.22538%5D%2C%20%5B34.000702000000004%2C%20-117.84483300000001%5D%2C%20%5B42.858501000000004%2C%20-83.72917199999999%5D%2C%20%5B35.120602000000005%2C%20-82.038155%5D%2C%20%5B33.968841999999995%2C%20-117.32829299999999%5D%2C%20%5B39.731781%2C%20-121.827357%5D%2C%20%5B37.701729%2C%20-121.88956499999999%5D%2C%20%5B40.746658000000004%2C%20-73.96934499999999%5D%2C%20%5B30.190981%2C%20-97.77158399999999%5D%2C%20%5B34.210696999999996%2C%20-118.34659599999999%5D%2C%20%5B32.496288%2C%20-93.720299%5D%2C%20%5B32.836914%2C%20-96.914864%5D%2C%20%5B35.363129%2C%20-97.56546%5D%2C%20%5B30.4478%2C%20-81.614021%5D%2C%20%5B39.896177%2C%20-122.578695%5D%2C%20%5B41.08785%2C%20-73.45718000000001%5D%2C%20%5B33.90497%2C%20-117.45936%5D%2C%20%5B34.04133%2C%20-118.06008%5D%2C%20%5B30.248978%2C%20-81.593239%5D%2C%20%5B36.23127%2C%20-86.770599%5D%2C%20%5B33.91272%2C%20-118.28639%5D%2C%20%5B32.789982%2C%20-96.769028%5D%2C%20%5B31.744219%2C%20-106.331902%5D%2C%20%5B35.020759999999996%2C%20-89.95459%5D%2C%20%5B42.138809%2C%20-83.241661%5D%2C%20%5B37.740676%2C%20-121.504185%5D%2C%20%5B38.21669%2C%20-122.13818%5D%2C%20%5B33.46253%2C%20-112.20976999999999%5D%2C%20%5B33.503462%2C%20-112.26863200000001%5D%2C%20%5B30.313177000000003%2C%20-97.737053%5D%2C%20%5B48.073679999999996%2C%20-112.33335%5D%2C%20%5B33.739364%2C%20-117.998654%5D%2C%20%5B27.410277%2C%20-80.38864699999999%5D%2C%20%5B39.963509%2C%20-77.577988%5D%2C%20%5B38.93549%2C%20-94.53097%5D%2C%20%5B42.443245000000005%2C%20-93.216507%5D%2C%20%5B40.84616%2C%20-111.91491%5D%2C%20%5B37.977917%2C%20-121.260429%5D%2C%20%5B44.95115%2C%20-93.11610999999999%5D%2C%20%5B37.64087%2C%20-122.40601000000001%5D%2C%20%5B44.38857%2C%20-121.18808%5D%2C%20%5B38.241278%2C%20-122.269108%5D%2C%20%5B43.01656%2C%20-83.78298199999999%5D%2C%20%5B34.12225%2C%20-79.779984%5D%2C%20%5B45.603120000000004%2C%20-109.199532%5D%2C%20%5B33.973839%2C%20-118.079971%5D%2C%20%5B41.999004%2C%20-70.80201%5D%2C%20%5B35.807117%2C%20-78.812012%5D%2C%20%5B30.503969%2C%20-87.226639%5D%2C%20%5B33.257765%2C%20-117.237303%5D%2C%20%5B33.778531%2C%20-117.89586000000001%5D%2C%20%5B34.527405%2C%20-82.843735%5D%2C%20%5B35.50782%2C%20-97.590057%5D%2C%20%5B41.670833%2C%20-72.843936%5D%2C%20%5B30.191544%2C%20-81.7043%5D%2C%20%5B42.14553%2C%20-87.83301%5D%2C%20%5B33.93119%2C%20-117.993233%5D%2C%20%5B40.735405%2C%20-73.974777%5D%2C%20%5B33.997066%2C%20-117.93118%5D%2C%20%5B39.691606%2C%20-76.643511%5D%2C%20%5B41.184818%2C%20-73.807404%5D%2C%20%5B35.794491%2C%20-78.380562%5D%2C%20%5B40.08145%2C%20-75.38797%5D%2C%20%5B39.872574%2C%20-75.08221400000001%5D%2C%20%5B35.828869%2C%20-78.585297%5D%2C%20%5B34.064095%2C%20-117.296501%5D%5D%2C%0A%20%20%20%20%20%20%20%20%20%20%20%20%20%20%20%20%7B%0A%20%20%20%20%20%20%20%20%20%20%20%20%20%20%20%20%20%20%20%20minOpacity%3A%200.5%2C%0A%20%20%20%20%20%20%20%20%20%20%20%20%20%20%20%20%20%20%20%20maxZoom%3A%2018%2C%0A%20%20%20%20%20%20%20%20%20%20%20%20%20%20%20%20%20%20%20%20max%3A%201.0%2C%0A%20%20%20%20%20%20%20%20%20%20%20%20%20%20%20%20%20%20%20%20radius%3A%2025%2C%0A%20%20%20%20%20%20%20%20%20%20%20%20%20%20%20%20%20%20%20%20blur%3A%2015%2C%0A%20%20%20%20%20%20%20%20%20%20%20%20%20%20%20%20%20%20%20%20gradient%3A%20null%0A%20%20%20%20%20%20%20%20%20%20%20%20%20%20%20%20%20%20%20%20%7D%29%0A%20%20%20%20%20%20%20%20%20%20%20%20%20%20%20%20.addTo%28map_b8ca2085ca674aba8707a0ae6fe9740f%29%3B%0A%20%20%20%20%20%20%20%20%0A%3C/script%3E onload=\"this.contentDocument.open();this.contentDocument.write(    decodeURIComponent(this.getAttribute('data-html')));this.contentDocument.close();\" allowfullscreen webkitallowfullscreen mozallowfullscreen></iframe></div></div>"
            ],
            "text/plain": [
              "<folium.folium.Map at 0x7fc3a0b9db10>"
            ]
          },
          "metadata": {
            "tags": []
          },
          "execution_count": 76
        }
      ]
    },
    {
      "cell_type": "markdown",
      "metadata": {
        "id": "dP9qvCGjumfG"
      },
      "source": [
        ""
      ]
    },
    {
      "cell_type": "code",
      "metadata": {
        "id": "K0eNp_XIjoP3"
      },
      "source": [
        ""
      ],
      "execution_count": null,
      "outputs": []
    },
    {
      "cell_type": "code",
      "metadata": {
        "id": "hUGhImamvF-l"
      },
      "source": [
        ""
      ],
      "execution_count": null,
      "outputs": []
    },
    {
      "cell_type": "code",
      "metadata": {
        "id": "5ferL2jTvGBR"
      },
      "source": [
        ""
      ],
      "execution_count": null,
      "outputs": []
    },
    {
      "cell_type": "code",
      "metadata": {
        "id": "XratqVJyvGEr"
      },
      "source": [
        ""
      ],
      "execution_count": null,
      "outputs": []
    },
    {
      "cell_type": "code",
      "metadata": {
        "id": "PR2S5hUxvGHi"
      },
      "source": [
        ""
      ],
      "execution_count": null,
      "outputs": []
    },
    {
      "cell_type": "code",
      "metadata": {
        "id": "p57vJvTkvGK3"
      },
      "source": [
        ""
      ],
      "execution_count": null,
      "outputs": []
    },
    {
      "cell_type": "code",
      "metadata": {
        "id": "71QnUHM7vGNx"
      },
      "source": [
        ""
      ],
      "execution_count": null,
      "outputs": []
    },
    {
      "cell_type": "code",
      "metadata": {
        "id": "UWPB8yGzvGTO"
      },
      "source": [
        ""
      ],
      "execution_count": null,
      "outputs": []
    },
    {
      "cell_type": "code",
      "metadata": {
        "id": "P379z17IjoSb"
      },
      "source": [
        ""
      ],
      "execution_count": null,
      "outputs": []
    },
    {
      "cell_type": "code",
      "metadata": {
        "id": "Qc2uR2aNjoVS"
      },
      "source": [
        ""
      ],
      "execution_count": null,
      "outputs": []
    },
    {
      "cell_type": "markdown",
      "metadata": {
        "id": "kcyhfquuFBPP"
      },
      "source": [
        "Ask and answer Question\n",
        "\n",
        "\n",
        "\n",
        "\n",
        "\n",
        "\n",
        "\n",
        "\n",
        "\n",
        "\n"
      ]
    },
    {
      "cell_type": "markdown",
      "metadata": {
        "id": "Hh7OazgRRRjK"
      },
      "source": [
        "# US accident Explorataory data analysis\n",
        "\n",
        "To Do- talk about EDA\n",
        "To Do- talk about dataset(source, when it contains, how it will be useful)\n",
        "\n",
        "\n",
        "*   kaggle\n",
        "*   Linformation about accident\n",
        "*   can useful to  prevent accidents \n",
        "*   Among  the top 100 cities in number of accidents which states do they belongs to most frequently.\n",
        "*    what time of the day accidents are more frequently\n",
        "*    which day of the week have most     accidents?\n",
        "*    what is the trend of accidents year over year (decresing/increasing?)\n",
        "*    when is the accidents is high per signal?\n",
        "\n",
        "\n",
        "\n",
        "\n",
        "\n",
        "\n"
      ]
    },
    {
      "cell_type": "code",
      "metadata": {
        "id": "gfNkgBHzEkqO"
      },
      "source": [
        ""
      ],
      "execution_count": null,
      "outputs": []
    }
  ]
}