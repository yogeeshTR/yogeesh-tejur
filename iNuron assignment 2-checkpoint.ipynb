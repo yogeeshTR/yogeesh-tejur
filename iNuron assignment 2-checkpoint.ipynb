{
 "cells": [
  {
   "cell_type": "markdown",
   "metadata": {},
   "source": [
    "# Task 1\n"
   ]
  },
  {
   "cell_type": "code",
   "execution_count": 12,
   "metadata": {},
   "outputs": [
    {
     "name": "stdout",
     "output_type": "stream",
     "text": [
      "a,s,d,f,f,g,l\n"
     ]
    },
    {
     "data": {
      "text/plain": [
       "['A', 'S', 'D', 'F', 'F', 'G', 'L']"
      ]
     },
     "execution_count": 12,
     "metadata": {},
     "output_type": "execute_result"
    }
   ],
   "source": [
    "\"\"\"2.aImplement List comprehensions to produce the following lists.\n",
    "Write List comprehensions to produce the following Lists\n",
    "['A', 'C', 'A', 'D', 'G', 'I', ’L’, ‘ D’]\"\"\"\n",
    "\n",
    "#taking te input from user\n",
    "a=str(input())\n",
    "\n",
    "\n",
    "#'a.split()'  is iused to remove the \",\" seperater from the oigiven input value \n",
    "[i.upper() for i in a.split(\",\")]"
   ]
  },
  {
   "cell_type": "code",
   "execution_count": 23,
   "metadata": {},
   "outputs": [
    {
     "name": "stdout",
     "output_type": "stream",
     "text": [
      "x,y,z\n",
      "['x', 'xx', 'xxx', 'xxxx', 'y', 'yy', 'yyy', 'yyyy', 'z', 'zz', 'zzz', 'zzzz']\n"
     ]
    }
   ],
   "source": [
    "\"\"\"2.b['x', 'xx', 'xxx', 'xxxx', 'y', 'yy', 'yyy', 'yyyy', 'z', 'zz', 'zzz', 'zzzz']\"\"\"\n",
    "b=str(input())\n",
    "\n",
    "#by using nested loop, each element of giveninput itrating through given range   \n",
    "b=[i*num for i in b.split(\",\") for num in range(1,5)]  \n",
    "print(b)    \n",
    "\n",
    "\n"
   ]
  },
  {
   "cell_type": "code",
   "execution_count": 55,
   "metadata": {},
   "outputs": [
    {
     "name": "stdout",
     "output_type": "stream",
     "text": [
      "x,y,z\n"
     ]
    },
    {
     "data": {
      "text/plain": [
       "['x', 'y', 'z', 'xx', 'yy', 'zz', 'xxx', 'yyy', 'zzz', 'xxxx', 'yyyy', 'zzzz']"
      ]
     },
     "execution_count": 55,
     "metadata": {},
     "output_type": "execute_result"
    }
   ],
   "source": [
    "\"\"\"2.c['x', 'y', 'z', 'xx', 'yy', 'zz', 'xx', 'yy', 'zz', 'xxxx', 'yyyy', 'zzzz']\"\"\"\n",
    "\n",
    "b=str(input())\n",
    "b=[i*num for num in range(1,5)  for i in b.split(\",\")] \n",
    "b"
   ]
  },
  {
   "cell_type": "code",
   "execution_count": 104,
   "metadata": {},
   "outputs": [
    {
     "data": {
      "text/plain": [
       "[[2], [3], [4], [3], [4], [5], [4], [5], [6]]"
      ]
     },
     "execution_count": 104,
     "metadata": {},
     "output_type": "execute_result"
    }
   ],
   "source": [
    "\"\"\"2.d [[2], [3], [4], [3], [4], [5], [4], [5], [6]]\"\"\"\n",
    "\n",
    "b =[2,3,4]\n",
    "a=[0,1,2]\n",
    "b = [ [i+num] for i in b for num in a]\n",
    "b"
   ]
  },
  {
   "cell_type": "code",
   "execution_count": 103,
   "metadata": {},
   "outputs": [
    {
     "data": {
      "text/plain": [
       "[[2, 3, 4, 5], [3, 4, 5, 6], [4, 5, 6, 7], [5, 6, 7, 8]]"
      ]
     },
     "execution_count": 103,
     "metadata": {},
     "output_type": "execute_result"
    }
   ],
   "source": [
    "\"\"\"2.e[[2, 3, 4, 5], [3, 4, 5, 6], [4, 5, 6, 7], [5, 6, 7, 8]]\"\"\"\n",
    "\n",
    "\n",
    "b =[2,3,4,5]\n",
    "a=[0,1,2,3]\n",
    "b = [ [i+num for i in b] for num in a]\n",
    "b\n",
    "\n"
   ]
  },
  {
   "cell_type": "code",
   "execution_count": 2,
   "metadata": {},
   "outputs": [
    {
     "data": {
      "text/plain": [
       "[(1, 1), (2, 1), (3, 1), (1, 2), (2, 2), (3, 2), (1, 3), (2, 3), (3, 3)]"
      ]
     },
     "execution_count": 2,
     "metadata": {},
     "output_type": "execute_result"
    }
   ],
   "source": [
    "\"\"\"2.f[(1, 1), (2, 1), (3, 1), (1, 2), (2, 2), (3, 2), (1, 3), (2, 3), (3, 3)]\"\"\"\n",
    "\n",
    "b=[1,2,3]\n",
    "a=[1,2,3]\n",
    "\n",
    "#Here by using  list comprehension ,loop and we  created the list of combination of two numbers in new list.. \n",
    "c=[(num,i) for i in b for num in a]  \n",
    "c\n",
    "\n"
   ]
  },
  {
   "cell_type": "code",
   "execution_count": 16,
   "metadata": {},
   "outputs": [],
   "source": [
    "\"\"\"1.2 Implement a function longestWord() that takes a list of words and returns the longest one.\"\"\"\n",
    "\n",
    "\n",
    "def longestword(word): # creating owen longestword function \n",
    "\n",
    "#creating an empty list to append each result obtained in for loop \n",
    "    c=[]                                 \n",
    "    for i in word:\n",
    "        \n",
    "#apeending each word and its length as tupels\n",
    "        c.append((i,len(i)))\n",
    "    \n",
    "# sorting the obatin values with respect to word length value, lambda x:x[1] indictes secend position value in its tupel \n",
    "        c.sort( key=lambda x:x[1],reverse=True) \n",
    "    \n",
    "    \n",
    "#return only first index value \n",
    "    return c[0]"
   ]
  },
  {
   "cell_type": "code",
   "execution_count": 17,
   "metadata": {},
   "outputs": [
    {
     "data": {
      "text/plain": [
       "('considered', 10)"
      ]
     },
     "execution_count": 17,
     "metadata": {},
     "output_type": "execute_result"
    }
   ],
   "source": [
    "#To check long_word function\n",
    "\n",
    "word=[\"Mutable\", \"objects\",\"are\",\"considered\",\"not\", \"hashable\" ,\"because\" ,\"the\" ,\"objects\"]\n",
    "longestword(word)\n",
    "        "
   ]
  },
  {
   "cell_type": "code",
   "execution_count": 15,
   "metadata": {},
   "outputs": [
    {
     "name": "stdout",
     "output_type": "stream",
     "text": [
      "False\n",
      "True\n"
     ]
    }
   ],
   "source": [
    "\"\"\"2.2 Write a Python function which takes a character (i.e. a string of length 1) and returns True if it is\n",
    "a vowel, False otherwise.\"\"\"\n",
    "\n",
    "def check_vowel(char):\n",
    "    vowel=['a','e','i','o','u']\n",
    "    if char in vowel:\n",
    "        return True\n",
    "    else:\n",
    "        return False\n",
    "    \n",
    "#test check_vowel function\n",
    "\n",
    "a=check_vowel(\"r\")\n",
    "print(a)\n",
    "\n",
    "b=check_vowel('a')\n",
    "print(b)"
   ]
  },
  {
   "cell_type": "code",
   "execution_count": 11,
   "metadata": {},
   "outputs": [
    {
     "data": {
      "text/plain": [
       "[2, 5, 5]"
      ]
     },
     "execution_count": 11,
     "metadata": {},
     "output_type": "execute_result"
    }
   ],
   "source": [
    "\"\"\"2.1 Write a Python program using function concept that maps list of words into a list of integers\n",
    "representing the lengths of the corresponding words.\n",
    "Hint: If a list [ ab,cde,erty] is passed on to the python function output should come as [2,3,4]\"\"\"\n",
    "\n",
    "\n",
    "def word_len(word):\n",
    "    result=[]\n",
    "    for i in word:\n",
    "        result.append(len(i))\n",
    "    return result\n",
    "\n",
    "#test the function word_len()\n",
    "\n",
    "word_len([\"ab\",\"nsjws\",\"entry\"])"
   ]
  },
  {
   "cell_type": "code",
   "execution_count": 21,
   "metadata": {},
   "outputs": [
    {
     "name": "stdout",
     "output_type": "stream",
     "text": [
      "[292, 200, 20, 212]\n"
     ]
    }
   ],
   "source": [
    "\"\"\"1.2 Write a Python program to implement your own myfilter() function which works exactly like\n",
    "Python's built-in function filter()\"\"\"\n",
    "\n",
    "# creating own function myfilter\n",
    "def myfilter(function,lst):\n",
    "\n",
    "#creating an empty list to append new list if it satisfy the conditions prasent in function\n",
    "    result=[]\n",
    "\n",
    "#itrating each elements in a given list\n",
    "    for i in lst:\n",
    "        \n",
    "#here giving itarating elements to function\n",
    "        if function(i):\n",
    "\n",
    "#uppend the result if it satisfy the functio condition\n",
    "            result.append(i)\n",
    "    \n",
    "# return the result if the condition satisfy\n",
    "    return result\n",
    "    \n",
    "    \n",
    "        \n",
    "#testing the myfilter function \n",
    "\n",
    "def even(lst):\n",
    "    return lst%2==0\n",
    "\n",
    "\n",
    "print(myfilter(even,[1,292,200,20,212,11,19,13]))\n"
   ]
  },
  {
   "cell_type": "code",
   "execution_count": 1,
   "metadata": {},
   "outputs": [
    {
     "data": {
      "text/plain": [
       "['beautifull', 'longest_word']"
      ]
     },
     "execution_count": 1,
     "metadata": {},
     "output_type": "execute_result"
    }
   ],
   "source": [
    " \"\"\"1.2 Write a function filter_long_words() that takes a list of words and an integer n and returns the list\n",
    "of words that are longer than n.\"\"\"\n",
    "\n",
    "def filter_long_words(word,n): # creating a function with two inputs\n",
    "\n",
    "   \n",
    "    n=int(n)                    # given value of n should be an integer\n",
    "    \n",
    "    res=[]                      #creating an empty list to uppend the values\n",
    "    \n",
    "    for i in word:              # itrating each values in a list \n",
    "        \n",
    "        if len(i)>n:             #if the length of word idf grater then given integer value            \n",
    "            \n",
    "            res.append(i)        # uppend the emplty list res\n",
    "            \n",
    "    return res                     # return thr result\n",
    "\n",
    "#test the result filter_long_word() function\n",
    "\n",
    "filter_long_words(['ramesh','suresh','beautifull','longest_word'],7)\n"
   ]
  },
  {
   "cell_type": "markdown",
   "metadata": {},
   "source": [
    "Task 2:\n",
    "\n",
    "1.1\n",
    "Write a Python Program(with class concepts) to find the area of the triangle using the below\n",
    "formula.\n",
    "area = (s*(s-a)*(s-b)*(s-c)) ** 0.5\n",
    "\n",
    "Function to take the length of the sides of triangle from user should be defined in the parent\n",
    "class and function to calculate the area should be defined in subclass."
   ]
  },
  {
   "cell_type": "code",
   "execution_count": 9,
   "metadata": {},
   "outputs": [
    {
     "name": "stdout",
     "output_type": "stream",
     "text": [
      "enter the value of A : 2\n",
      "enter the value of B : 3\n",
      "enter the value of C : 4\n",
      "The Area of Triangle is : 11.932427\n"
     ]
    }
   ],
   "source": [
    "# creating the owen class function as values\n",
    "\n",
    "class values:\n",
    "    def __init__(self,A=None,B=None,C=None):  \n",
    "        \n",
    "#taking input from the user and it should be an integer of floating point\n",
    "        self.A=float(input(\"enter the value of A : \"))\n",
    "        self.B=float(input(\"enter the value of B : \"))\n",
    "        self.C=float(input(\"enter the value of C : \"))\n",
    "        \n",
    "# area calculation was doing in subclass as tri_area\n",
    "        \n",
    "class tri_area(values):\n",
    "    def __init(self,*arg,**kwarg):\n",
    "        super(tri_area,self).__init(*arg,**kwarg)\n",
    "        \n",
    "    def __str__(self):\n",
    "        s=(self.A+ self.B +self.C)/2\n",
    "        area=(s*(s-self.A)*(s-self.B)*(s-self.C)**0.5)\n",
    "        return \"The Area of Triangle is : %f\"%(area)\n",
    "    \n",
    "    \n",
    "    \n",
    "#testing the class\n",
    "a=tri_area()\n",
    "print(a)\n"
   ]
  },
  {
   "cell_type": "markdown",
   "metadata": {},
   "source": [
    "1.1\n",
    "Write a Python Program to implement your own myreduce() function which works exactly like\n",
    "Python's built-in function reduce()"
   ]
  },
  {
   "cell_type": "code",
   "execution_count": 11,
   "metadata": {},
   "outputs": [
    {
     "data": {
      "text/plain": [
       "45"
      ]
     },
     "execution_count": 11,
     "metadata": {},
     "output_type": "execute_result"
    }
   ],
   "source": [
    "# creating owen reduce function\n",
    "\n",
    "def myreduce(func,lst):\n",
    "    result=lst[0]\n",
    "    for i in lst[1: ]:\n",
    "        result=func(result,i)\n",
    "    return result\n",
    "\n",
    "\n",
    "#testing myreduce function\n",
    "\n",
    "def add(a,b):\n",
    "    return a+b\n",
    "\n",
    "lst=[1,2,3,4,5,6,7,8,9]\n",
    "myreduce(add,lst)\n",
    "    "
   ]
  },
  {
   "cell_type": "code",
   "execution_count": null,
   "metadata": {},
   "outputs": [],
   "source": []
  }
 ],
 "metadata": {
  "kernelspec": {
   "display_name": "Python 3",
   "language": "python",
   "name": "python3"
  },
  "language_info": {
   "codemirror_mode": {
    "name": "ipython",
    "version": 3
   },
   "file_extension": ".py",
   "mimetype": "text/x-python",
   "name": "python",
   "nbconvert_exporter": "python",
   "pygments_lexer": "ipython3",
   "version": "3.7.4"
  }
 },
 "nbformat": 4,
 "nbformat_minor": 2
}
